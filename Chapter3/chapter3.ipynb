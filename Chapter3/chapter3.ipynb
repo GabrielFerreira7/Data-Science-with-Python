{
  "nbformat": 4,
  "nbformat_minor": 0,
  "metadata": {
    "colab": {
      "provenance": []
    },
    "kernelspec": {
      "name": "python3",
      "display_name": "Python 3"
    },
    "language_info": {
      "name": "python"
    }
  },
  "cells": [
    {
      "cell_type": "code",
      "execution_count": 148,
      "metadata": {
        "id": "8S0-dN7YV98k"
      },
      "outputs": [],
      "source": []
    },
    {
      "cell_type": "markdown",
      "source": [
        "# Manipulação de Dados com Pandas"
      ],
      "metadata": {
        "id": "XrWBCr6uWTVe"
      }
    },
    {
      "cell_type": "markdown",
      "source": [
        "O Pandas é um pacote mais recente construído sobre o NumPy e fornece uma implementação eficiente de um arquivo DataFrame. DataFrames são essencialmente matrizes multidimensionais com rótulos de linha e coluna anexados e geralmente com tipos heterogêneos e/ou dados ausentes. Além de oferecer uma interface de armazenamento conveniente para dados rotulados, o Pandas implementa várias operações de dados poderosas, familiares aos usuários de estruturas de banco de dados e programas de planilhas.\n",
        "\n",
        "Como vimos, ndarraya estrutura de dados do NumPy fornece recursos essenciais para o tipo de dados limpos e bem organizados normalmente vistos em tarefas de computação numérica. Embora sirva muito bem a esse propósito, suas limitações ficam claras quando precisamos de mais flexibilidade (por exemplo, anexar rótulos aos dados, trabalhar com dados ausentes etc.) agrupamentos, pivôs, etc.), cada um dos quais é uma parte importante da análise dos dados menos estruturados disponíveis em muitas formas no mundo ao nosso redor. O Pandas, e em particular seus Seriese DataFrameobjetos, baseia-se na estrutura de matriz NumPy e fornece acesso eficiente a esses tipos de tarefas de \"mudança de dados\" que ocupam muito do tempo de um cientista de dados."
      ],
      "metadata": {
        "id": "_iy5wjkTWSDr"
      }
    },
    {
      "cell_type": "code",
      "source": [
        "import pandas as pd\n",
        "pd.__version__"
      ],
      "metadata": {
        "colab": {
          "base_uri": "https://localhost:8080/",
          "height": 36
        },
        "id": "0rii3SNOXdsz",
        "outputId": "9c30747c-ab81-48c0-a02b-94856a93c393"
      },
      "execution_count": 149,
      "outputs": [
        {
          "output_type": "execute_result",
          "data": {
            "text/plain": [
              "'1.5.3'"
            ],
            "application/vnd.google.colaboratory.intrinsic+json": {
              "type": "string"
            }
          },
          "metadata": {},
          "execution_count": 149
        }
      ]
    },
    {
      "cell_type": "markdown",
      "source": [
        "# Apresentando os objetos Pandas\n",
        "\n",
        "Além de estruturas simples \n",
        "existem três estruturas de dados fundamentais do Pandas: o `Series`, `DataFramee` e o `Index`."
      ],
      "metadata": {
        "id": "Vf5eglLxX3-J"
      }
    },
    {
      "cell_type": "code",
      "source": [
        "import numpy as np\n",
        "import pandas as pd"
      ],
      "metadata": {
        "id": "j8rFZeqJZRAw"
      },
      "execution_count": 150,
      "outputs": []
    },
    {
      "cell_type": "markdown",
      "source": [
        "#Objeto da serie Pandas\n",
        "Um Pandas Seriesé uma matriz unidimensional de dados indexados. Ele pode ser criado a partir de uma lista ou array da seguinte forma"
      ],
      "metadata": {
        "id": "zkosW6jmX6gh"
      }
    },
    {
      "cell_type": "code",
      "source": [
        "data = pd.Series([0.25, 0.5, 0.75, 1.0])\n",
        "data"
      ],
      "metadata": {
        "colab": {
          "base_uri": "https://localhost:8080/"
        },
        "id": "MViDoJz4ZduN",
        "outputId": "120eca3d-ab3b-4730-e440-987012648358"
      },
      "execution_count": 151,
      "outputs": [
        {
          "output_type": "execute_result",
          "data": {
            "text/plain": [
              "0    0.25\n",
              "1    0.50\n",
              "2    0.75\n",
              "3    1.00\n",
              "dtype: float64"
            ]
          },
          "metadata": {},
          "execution_count": 151
        }
      ]
    },
    {
      "cell_type": "markdown",
      "source": [
        "Como vemos na saída, o Seriesenvolve uma sequência de valores e uma sequência de índices, que podemos acessar com os atributos `values` e `index`"
      ],
      "metadata": {
        "id": "fQiZwlHKZw-x"
      }
    },
    {
      "cell_type": "code",
      "source": [
        "print(data.values)\n",
        "print(data.index)"
      ],
      "metadata": {
        "colab": {
          "base_uri": "https://localhost:8080/"
        },
        "id": "xj6JQz8JaCtB",
        "outputId": "e0aa9b76-2b8b-4847-aace-14c83365d4ea"
      },
      "execution_count": 152,
      "outputs": [
        {
          "output_type": "stream",
          "name": "stdout",
          "text": [
            "[0.25 0.5  0.75 1.  ]\n",
            "RangeIndex(start=0, stop=4, step=1)\n"
          ]
        }
      ]
    },
    {
      "cell_type": "markdown",
      "source": [
        "Como em uma matriz NumPy, os dados podem ser acessados ​​pelo índice associado por meio da conhecida notação de colchetes do Python:"
      ],
      "metadata": {
        "id": "VWZqJXCkaLAs"
      }
    },
    {
      "cell_type": "code",
      "source": [
        "data[2]"
      ],
      "metadata": {
        "colab": {
          "base_uri": "https://localhost:8080/"
        },
        "id": "ddf-w38Xbm_e",
        "outputId": "e119a713-3978-440e-bc89-7668f1ca009a"
      },
      "execution_count": 153,
      "outputs": [
        {
          "output_type": "execute_result",
          "data": {
            "text/plain": [
              "0.75"
            ]
          },
          "metadata": {},
          "execution_count": 153
        }
      ]
    },
    {
      "cell_type": "markdown",
      "source": [
        "Essa definição de índice explícita fornece Seriesrecursos adicionais ao objeto. Por exemplo, o índice não precisa ser um número inteiro, mas pode consistir em valores de qualquer tipo desejado. Por exemplo, se quisermos, podemos usar strings como índice:"
      ],
      "metadata": {
        "id": "Ni4q37cvb2zQ"
      }
    },
    {
      "cell_type": "code",
      "source": [
        "data = pd.Series([0.25, 0.5, 0.75, 1.0],\n",
        "                 index=['a', 'b', 'c', 'd'])\n",
        "data"
      ],
      "metadata": {
        "colab": {
          "base_uri": "https://localhost:8080/"
        },
        "id": "S5Djw8HEb3pk",
        "outputId": "7cdfbcef-11e4-4354-df28-1dc32945788d"
      },
      "execution_count": 154,
      "outputs": [
        {
          "output_type": "execute_result",
          "data": {
            "text/plain": [
              "a    0.25\n",
              "b    0.50\n",
              "c    0.75\n",
              "d    1.00\n",
              "dtype: float64"
            ]
          },
          "metadata": {},
          "execution_count": 154
        }
      ]
    },
    {
      "cell_type": "markdown",
      "source": [
        "# O objeto Pandas DataFrame\n",
        "o DataFramepode ser considerado uma generalização de um array NumPy ou uma especialização de um dicionário Python. Vamos agora dar uma olhada em cada uma dessas perspectivas.\n",
        "\n",
        "`DataFrame` é um análogo de uma matriz bidimensional com índices de linha flexíveis e nomes de coluna flexíveis. Assim como você pode pensar em uma matriz bidimensional como uma sequência ordenada de colunas unidimensionais alinhadas, você pode pensar em a como uma sequência de objetos `DataFrame` alinhados "
      ],
      "metadata": {
        "id": "VxY60VHrgSvc"
      }
    },
    {
      "cell_type": "code",
      "source": [
        "area_dict = {'California': 423967, 'Texas': 695662, 'New York': 141297,\n",
        "             'Florida': 170312, 'Illinois': 149995}\n",
        "area = pd.Series(area_dict)\n",
        "area"
      ],
      "metadata": {
        "colab": {
          "base_uri": "https://localhost:8080/"
        },
        "id": "QUfitHGgxhyC",
        "outputId": "ac8fa90d-6388-4b6c-b12d-3850d1010621"
      },
      "execution_count": 155,
      "outputs": [
        {
          "output_type": "execute_result",
          "data": {
            "text/plain": [
              "California    423967\n",
              "Texas         695662\n",
              "New York      141297\n",
              "Florida       170312\n",
              "Illinois      149995\n",
              "dtype: int64"
            ]
          },
          "metadata": {},
          "execution_count": 155
        }
      ]
    },
    {
      "cell_type": "code",
      "source": [
        "population_dict = {'California': 38332521,\n",
        "                   'Texas': 26448193,\n",
        "                   'New York': 19651127,\n",
        "                   'Florida': 19552860,\n",
        "                   'Illinois': 12882135}\n",
        "population = pd.Series(population_dict)\n",
        "population"
      ],
      "metadata": {
        "colab": {
          "base_uri": "https://localhost:8080/"
        },
        "id": "uDONVGKRxzCU",
        "outputId": "29f40570-f6f0-491b-b123-fe0ee27ba606"
      },
      "execution_count": 156,
      "outputs": [
        {
          "output_type": "execute_result",
          "data": {
            "text/plain": [
              "California    38332521\n",
              "Texas         26448193\n",
              "New York      19651127\n",
              "Florida       19552860\n",
              "Illinois      12882135\n",
              "dtype: int64"
            ]
          },
          "metadata": {},
          "execution_count": 156
        }
      ]
    },
    {
      "cell_type": "markdown",
      "source": [
        "Para demonstrar como o dataframe funciona, vamos unir duas series que são estuturas unidimensionais e vamos formar uma estrutura multidimensional "
      ],
      "metadata": {
        "id": "1OlQ7z4Lx5tA"
      }
    },
    {
      "cell_type": "markdown",
      "source": [],
      "metadata": {
        "id": "v3fC3d1qxkyp"
      }
    },
    {
      "cell_type": "code",
      "source": [
        "states = pd.DataFrame({'population': population,\n",
        "                       'area': area})\n",
        "states"
      ],
      "metadata": {
        "colab": {
          "base_uri": "https://localhost:8080/",
          "height": 206
        },
        "id": "Z5CP5pVHxiU5",
        "outputId": "d1b546bd-47a1-43dc-a0ec-aa21555836d0"
      },
      "execution_count": 157,
      "outputs": [
        {
          "output_type": "execute_result",
          "data": {
            "text/plain": [
              "            population    area\n",
              "California    38332521  423967\n",
              "Texas         26448193  695662\n",
              "New York      19651127  141297\n",
              "Florida       19552860  170312\n",
              "Illinois      12882135  149995"
            ],
            "text/html": [
              "\n",
              "  <div id=\"df-743aa03a-0d8c-468f-b746-94bf0b6e0b29\">\n",
              "    <div class=\"colab-df-container\">\n",
              "      <div>\n",
              "<style scoped>\n",
              "    .dataframe tbody tr th:only-of-type {\n",
              "        vertical-align: middle;\n",
              "    }\n",
              "\n",
              "    .dataframe tbody tr th {\n",
              "        vertical-align: top;\n",
              "    }\n",
              "\n",
              "    .dataframe thead th {\n",
              "        text-align: right;\n",
              "    }\n",
              "</style>\n",
              "<table border=\"1\" class=\"dataframe\">\n",
              "  <thead>\n",
              "    <tr style=\"text-align: right;\">\n",
              "      <th></th>\n",
              "      <th>population</th>\n",
              "      <th>area</th>\n",
              "    </tr>\n",
              "  </thead>\n",
              "  <tbody>\n",
              "    <tr>\n",
              "      <th>California</th>\n",
              "      <td>38332521</td>\n",
              "      <td>423967</td>\n",
              "    </tr>\n",
              "    <tr>\n",
              "      <th>Texas</th>\n",
              "      <td>26448193</td>\n",
              "      <td>695662</td>\n",
              "    </tr>\n",
              "    <tr>\n",
              "      <th>New York</th>\n",
              "      <td>19651127</td>\n",
              "      <td>141297</td>\n",
              "    </tr>\n",
              "    <tr>\n",
              "      <th>Florida</th>\n",
              "      <td>19552860</td>\n",
              "      <td>170312</td>\n",
              "    </tr>\n",
              "    <tr>\n",
              "      <th>Illinois</th>\n",
              "      <td>12882135</td>\n",
              "      <td>149995</td>\n",
              "    </tr>\n",
              "  </tbody>\n",
              "</table>\n",
              "</div>\n",
              "      <button class=\"colab-df-convert\" onclick=\"convertToInteractive('df-743aa03a-0d8c-468f-b746-94bf0b6e0b29')\"\n",
              "              title=\"Convert this dataframe to an interactive table.\"\n",
              "              style=\"display:none;\">\n",
              "        \n",
              "  <svg xmlns=\"http://www.w3.org/2000/svg\" height=\"24px\"viewBox=\"0 0 24 24\"\n",
              "       width=\"24px\">\n",
              "    <path d=\"M0 0h24v24H0V0z\" fill=\"none\"/>\n",
              "    <path d=\"M18.56 5.44l.94 2.06.94-2.06 2.06-.94-2.06-.94-.94-2.06-.94 2.06-2.06.94zm-11 1L8.5 8.5l.94-2.06 2.06-.94-2.06-.94L8.5 2.5l-.94 2.06-2.06.94zm10 10l.94 2.06.94-2.06 2.06-.94-2.06-.94-.94-2.06-.94 2.06-2.06.94z\"/><path d=\"M17.41 7.96l-1.37-1.37c-.4-.4-.92-.59-1.43-.59-.52 0-1.04.2-1.43.59L10.3 9.45l-7.72 7.72c-.78.78-.78 2.05 0 2.83L4 21.41c.39.39.9.59 1.41.59.51 0 1.02-.2 1.41-.59l7.78-7.78 2.81-2.81c.8-.78.8-2.07 0-2.86zM5.41 20L4 18.59l7.72-7.72 1.47 1.35L5.41 20z\"/>\n",
              "  </svg>\n",
              "      </button>\n",
              "      \n",
              "  <style>\n",
              "    .colab-df-container {\n",
              "      display:flex;\n",
              "      flex-wrap:wrap;\n",
              "      gap: 12px;\n",
              "    }\n",
              "\n",
              "    .colab-df-convert {\n",
              "      background-color: #E8F0FE;\n",
              "      border: none;\n",
              "      border-radius: 50%;\n",
              "      cursor: pointer;\n",
              "      display: none;\n",
              "      fill: #1967D2;\n",
              "      height: 32px;\n",
              "      padding: 0 0 0 0;\n",
              "      width: 32px;\n",
              "    }\n",
              "\n",
              "    .colab-df-convert:hover {\n",
              "      background-color: #E2EBFA;\n",
              "      box-shadow: 0px 1px 2px rgba(60, 64, 67, 0.3), 0px 1px 3px 1px rgba(60, 64, 67, 0.15);\n",
              "      fill: #174EA6;\n",
              "    }\n",
              "\n",
              "    [theme=dark] .colab-df-convert {\n",
              "      background-color: #3B4455;\n",
              "      fill: #D2E3FC;\n",
              "    }\n",
              "\n",
              "    [theme=dark] .colab-df-convert:hover {\n",
              "      background-color: #434B5C;\n",
              "      box-shadow: 0px 1px 3px 1px rgba(0, 0, 0, 0.15);\n",
              "      filter: drop-shadow(0px 1px 2px rgba(0, 0, 0, 0.3));\n",
              "      fill: #FFFFFF;\n",
              "    }\n",
              "  </style>\n",
              "\n",
              "      <script>\n",
              "        const buttonEl =\n",
              "          document.querySelector('#df-743aa03a-0d8c-468f-b746-94bf0b6e0b29 button.colab-df-convert');\n",
              "        buttonEl.style.display =\n",
              "          google.colab.kernel.accessAllowed ? 'block' : 'none';\n",
              "\n",
              "        async function convertToInteractive(key) {\n",
              "          const element = document.querySelector('#df-743aa03a-0d8c-468f-b746-94bf0b6e0b29');\n",
              "          const dataTable =\n",
              "            await google.colab.kernel.invokeFunction('convertToInteractive',\n",
              "                                                     [key], {});\n",
              "          if (!dataTable) return;\n",
              "\n",
              "          const docLinkHtml = 'Like what you see? Visit the ' +\n",
              "            '<a target=\"_blank\" href=https://colab.research.google.com/notebooks/data_table.ipynb>data table notebook</a>'\n",
              "            + ' to learn more about interactive tables.';\n",
              "          element.innerHTML = '';\n",
              "          dataTable['output_type'] = 'display_data';\n",
              "          await google.colab.output.renderOutput(dataTable, element);\n",
              "          const docLink = document.createElement('div');\n",
              "          docLink.innerHTML = docLinkHtml;\n",
              "          element.appendChild(docLink);\n",
              "        }\n",
              "      </script>\n",
              "    </div>\n",
              "  </div>\n",
              "  "
            ]
          },
          "metadata": {},
          "execution_count": 157
        }
      ]
    },
    {
      "cell_type": "code",
      "source": [
        "states.index"
      ],
      "metadata": {
        "colab": {
          "base_uri": "https://localhost:8080/"
        },
        "id": "zp7CIreqznn1",
        "outputId": "f8d8fab6-fa00-4d66-c85c-9611dd3c894c"
      },
      "execution_count": 158,
      "outputs": [
        {
          "output_type": "execute_result",
          "data": {
            "text/plain": [
              "Index(['California', 'Texas', 'New York', 'Florida', 'Illinois'], dtype='object')"
            ]
          },
          "metadata": {},
          "execution_count": 158
        }
      ]
    },
    {
      "cell_type": "markdown",
      "source": [
        "Da mesma forma, também podemos pensar em a DataFramecomo uma especialização de um dicionário. Onde um dicionário mapeia uma chave para um valor, um DataFramemapeia um nome de coluna para um Seriesdos dados da coluna. Por exemplo, pedir o 'area'atributo retorna o Seriesobjeto contendo as áreas que vimos anteriormente:"
      ],
      "metadata": {
        "id": "AN9jbkhPCj3i"
      }
    },
    {
      "cell_type": "code",
      "source": [
        "states['area']"
      ],
      "metadata": {
        "colab": {
          "base_uri": "https://localhost:8080/"
        },
        "id": "R52ShaVhCn1x",
        "outputId": "6b5e4f6e-b9d5-4d0e-d2be-0a6194864ba3"
      },
      "execution_count": 159,
      "outputs": [
        {
          "output_type": "execute_result",
          "data": {
            "text/plain": [
              "California    423967\n",
              "Texas         695662\n",
              "New York      141297\n",
              "Florida       170312\n",
              "Illinois      149995\n",
              "Name: area, dtype: int64"
            ]
          },
          "metadata": {},
          "execution_count": 159
        }
      ]
    },
    {
      "cell_type": "markdown",
      "source": [
        "**O objeto de índice Pandas **\n",
        "\n",
        "Vimos aqui que ambos os objetos `Series` e `DataFrame` contêm um índice explícito que permite referenciar e modificar dados. Esse Indexobjeto é uma estrutura interessante em si e pode ser pensado como uma matriz imutável ou como um conjunto ordenado (tecnicamente um conjunto múltiplo, pois Indexos objetos podem conter valores repetidos). Essas visualizações têm algumas consequências interessantes nas operações disponíveis nos Indexobjetos. Como um exemplo simples, vamos construir um Indexa partir de uma lista de inteiros"
      ],
      "metadata": {
        "id": "7og4rYnkGxdN"
      }
    },
    {
      "cell_type": "code",
      "source": [
        "ind = pd.Index([2, 3, 5, 7, 11])\n",
        "ind\n"
      ],
      "metadata": {
        "colab": {
          "base_uri": "https://localhost:8080/"
        },
        "id": "qxKlgkliG79p",
        "outputId": "6abd70aa-c238-4a94-a70e-b95f423adc8d"
      },
      "execution_count": 160,
      "outputs": [
        {
          "output_type": "execute_result",
          "data": {
            "text/plain": [
              "Int64Index([2, 3, 5, 7, 11], dtype='int64')"
            ]
          },
          "metadata": {},
          "execution_count": 160
        }
      ]
    },
    {
      "cell_type": "markdown",
      "source": [
        "# Indexação e Seleção de Dados\n",
        "A indexação no pandas é muito parecida com a utilizada no numpy, veremos algumas formas"
      ],
      "metadata": {
        "id": "HN7Nv3qUHwTB"
      }
    },
    {
      "cell_type": "markdown",
      "source": [
        "##**Seleção de Dados em Série**\n"
      ],
      "metadata": {
        "id": "p82vc-IxQSkQ"
      }
    },
    {
      "cell_type": "markdown",
      "source": [
        "Como um dicionário, o Seriesobjeto fornece um mapeamento de uma coleção de chaves para uma coleção de valores:"
      ],
      "metadata": {
        "id": "5Ll00wRtTxyf"
      }
    },
    {
      "cell_type": "code",
      "source": [
        "import pandas as pd\n",
        "data = pd.Series([0.25, 0.5, 0.75, 1.0],\n",
        "                 index=['a', 'b', 'c', 'd'])\n",
        "data"
      ],
      "metadata": {
        "colab": {
          "base_uri": "https://localhost:8080/"
        },
        "id": "eB9gohpLT_Dt",
        "outputId": "9571739d-2411-45d3-a5ea-426a20c7b137"
      },
      "execution_count": 161,
      "outputs": [
        {
          "output_type": "execute_result",
          "data": {
            "text/plain": [
              "a    0.25\n",
              "b    0.50\n",
              "c    0.75\n",
              "d    1.00\n",
              "dtype: float64"
            ]
          },
          "metadata": {},
          "execution_count": 161
        }
      ]
    },
    {
      "cell_type": "code",
      "source": [
        "data['b']"
      ],
      "metadata": {
        "colab": {
          "base_uri": "https://localhost:8080/"
        },
        "id": "dz4n4c86WUT2",
        "outputId": "e6cc54df-2b1a-4598-aab0-360adc6b32db"
      },
      "execution_count": 162,
      "outputs": [
        {
          "output_type": "execute_result",
          "data": {
            "text/plain": [
              "0.5"
            ]
          },
          "metadata": {},
          "execution_count": 162
        }
      ]
    },
    {
      "cell_type": "code",
      "source": [
        "'a' in data"
      ],
      "metadata": {
        "colab": {
          "base_uri": "https://localhost:8080/"
        },
        "id": "lS5uNoRCWVxR",
        "outputId": "ae8548f9-7b22-4d7d-e612-5a85baf09a5b"
      },
      "execution_count": 163,
      "outputs": [
        {
          "output_type": "execute_result",
          "data": {
            "text/plain": [
              "True"
            ]
          },
          "metadata": {},
          "execution_count": 163
        }
      ]
    },
    {
      "cell_type": "code",
      "source": [
        "data.keys()"
      ],
      "metadata": {
        "colab": {
          "base_uri": "https://localhost:8080/"
        },
        "id": "Mu-LctsgWZZx",
        "outputId": "ab7e4c08-5064-44a8-88e9-2cd68a4764eb"
      },
      "execution_count": 164,
      "outputs": [
        {
          "output_type": "execute_result",
          "data": {
            "text/plain": [
              "Index(['a', 'b', 'c', 'd'], dtype='object')"
            ]
          },
          "metadata": {},
          "execution_count": 164
        }
      ]
    },
    {
      "cell_type": "markdown",
      "source": [
        "`Serie` sos objetos podem até ser modificados com uma sintaxe semelhante a um dicionário. Assim como você pode estender um dicionário atribuindo a uma nova chave, você pode estender a `Series` atribuindo a um novo valor de índice:"
      ],
      "metadata": {
        "id": "2X9HQaPbXBoW"
      }
    },
    {
      "cell_type": "code",
      "source": [
        "data['e'] = 1.25\n",
        "data"
      ],
      "metadata": {
        "colab": {
          "base_uri": "https://localhost:8080/"
        },
        "id": "xOvHgXWAXKEC",
        "outputId": "a462f2f2-f214-49c4-e09d-48213b09659e"
      },
      "execution_count": 165,
      "outputs": [
        {
          "output_type": "execute_result",
          "data": {
            "text/plain": [
              "a    0.25\n",
              "b    0.50\n",
              "c    0.75\n",
              "d    1.00\n",
              "e    1.25\n",
              "dtype: float64"
            ]
          },
          "metadata": {},
          "execution_count": 165
        }
      ]
    },
    {
      "cell_type": "markdown",
      "source": [
        "## Indexadores: loc e iloc\n",
        "\n",
        "\n",
        "No pandas, tanto o loc quanto o iloc são utilizados para acessar e manipular dados em um DataFrame, mas existem diferenças importantes entre eles:\n",
        "\n",
        "loc: O loc é usado para acessar e manipular dados com base em rótulos (labels). Ele permite que você faça referência a linhas e colunas usando rótulos específicos, como nomes de colunas ou valores de índices definidos pelo usuário. Por exemplo, df.loc[3, 'coluna_A'] retornaria o valor da coluna 'coluna_A' na linha com índice 3.\n",
        "\n",
        "iloc: O iloc é usado para acessar e manipular dados com base em índices inteiros. Ele permite que você faça referência a linhas e colunas usando índices numéricos, começando do zero. Por exemplo, df.iloc[3, 0] retornaria o valor da primeira coluna na quarta linha (índice 3).\n",
        "\n",
        "Em resumo, a diferença fundamental entre loc e iloc é o tipo de referência usado para acessar os dados. O loc usa rótulos, enquanto o iloc usa índices inteiros."
      ],
      "metadata": {
        "id": "mygO5mWzZJ2S"
      }
    },
    {
      "cell_type": "markdown",
      "source": [
        "Essas convenções de divisão e indexação podem ser uma fonte de confusão. Por exemplo, se você `Series` tiver um índice inteiro explícito, uma operação de indexação como `data[1]` usará os índices explícitos, enquanto uma operação de divisão como data`[1:3]` usará o índice implícito no estilo Python."
      ],
      "metadata": {
        "id": "bzcy1K4fZNcu"
      }
    },
    {
      "cell_type": "code",
      "source": [
        "data = pd.Series(['a', 'b', 'c'], index=[1, 3, 5])\n",
        "data"
      ],
      "metadata": {
        "colab": {
          "base_uri": "https://localhost:8080/"
        },
        "id": "4WHnOkf0aHs_",
        "outputId": "e2a3bfcc-2010-4235-a915-6267ee585d6c"
      },
      "execution_count": 166,
      "outputs": [
        {
          "output_type": "execute_result",
          "data": {
            "text/plain": [
              "1    a\n",
              "3    b\n",
              "5    c\n",
              "dtype: object"
            ]
          },
          "metadata": {},
          "execution_count": 166
        }
      ]
    },
    {
      "cell_type": "code",
      "source": [
        "# explicit index when indexing\n",
        "data[1]"
      ],
      "metadata": {
        "colab": {
          "base_uri": "https://localhost:8080/",
          "height": 36
        },
        "id": "lxZ_Vn89asPO",
        "outputId": "a1c732f9-e563-42b8-9758-b1fe0586e5ba"
      },
      "execution_count": 167,
      "outputs": [
        {
          "output_type": "execute_result",
          "data": {
            "text/plain": [
              "'a'"
            ],
            "application/vnd.google.colaboratory.intrinsic+json": {
              "type": "string"
            }
          },
          "metadata": {},
          "execution_count": 167
        }
      ]
    },
    {
      "cell_type": "code",
      "source": [
        "# implicit index when slicing\n",
        "data[1:3]"
      ],
      "metadata": {
        "colab": {
          "base_uri": "https://localhost:8080/"
        },
        "id": "vWR8l3wvaupO",
        "outputId": "9da576b8-1e90-456c-e98d-464f2cc54851"
      },
      "execution_count": 168,
      "outputs": [
        {
          "output_type": "execute_result",
          "data": {
            "text/plain": [
              "3    b\n",
              "5    c\n",
              "dtype: object"
            ]
          },
          "metadata": {},
          "execution_count": 168
        }
      ]
    },
    {
      "cell_type": "markdown",
      "source": [
        "Devido a essa confusão potencial no caso de índices inteiros, o Pandas fornece alguns atributos de indexador especiais que expõem explicitamente certos esquemas de indexação. Esses não são métodos funcionais, mas atributos que expõem uma interface de divisão específica aos dados no arquivo Series.\n",
        "\n",
        "Primeiro, o locatributo permite a indexação e divisão que sempre faz referência ao índice explícito:"
      ],
      "metadata": {
        "id": "mkg97Z43a05z"
      }
    },
    {
      "cell_type": "code",
      "source": [
        "data.loc[1]"
      ],
      "metadata": {
        "colab": {
          "base_uri": "https://localhost:8080/",
          "height": 36
        },
        "id": "5Np7cSUga2Ab",
        "outputId": "483e6471-4d40-49c2-de0b-5f4a366f8601"
      },
      "execution_count": 169,
      "outputs": [
        {
          "output_type": "execute_result",
          "data": {
            "text/plain": [
              "'a'"
            ],
            "application/vnd.google.colaboratory.intrinsic+json": {
              "type": "string"
            }
          },
          "metadata": {},
          "execution_count": 169
        }
      ]
    },
    {
      "cell_type": "code",
      "source": [
        "data.loc[1:3] #equivalente ao que ocorre no array numpy"
      ],
      "metadata": {
        "colab": {
          "base_uri": "https://localhost:8080/"
        },
        "id": "FNGSXSiJa416",
        "outputId": "061d0c65-685f-449f-ffbc-de50d981ad8f"
      },
      "execution_count": 170,
      "outputs": [
        {
          "output_type": "execute_result",
          "data": {
            "text/plain": [
              "1    a\n",
              "3    b\n",
              "dtype: object"
            ]
          },
          "metadata": {},
          "execution_count": 170
        }
      ]
    },
    {
      "cell_type": "markdown",
      "source": [
        "O `iloc` atributo permite a indexação e divisão que sempre faz referência ao índice implícito no estilo Python:"
      ],
      "metadata": {
        "id": "6pi8xrsbbhKa"
      }
    },
    {
      "cell_type": "code",
      "source": [
        "data.iloc[1]"
      ],
      "metadata": {
        "colab": {
          "base_uri": "https://localhost:8080/",
          "height": 36
        },
        "id": "1XufLWSEbVSe",
        "outputId": "f8a903b8-cccd-495a-b520-7b313b5b2910"
      },
      "execution_count": 171,
      "outputs": [
        {
          "output_type": "execute_result",
          "data": {
            "text/plain": [
              "'b'"
            ],
            "application/vnd.google.colaboratory.intrinsic+json": {
              "type": "string"
            }
          },
          "metadata": {},
          "execution_count": 171
        }
      ]
    },
    {
      "cell_type": "code",
      "source": [
        "data.iloc[1:3]"
      ],
      "metadata": {
        "colab": {
          "base_uri": "https://localhost:8080/"
        },
        "id": "lCWQ1nxrbl5_",
        "outputId": "1cf220f1-e0fd-4f46-94df-631a056f88d9"
      },
      "execution_count": 172,
      "outputs": [
        {
          "output_type": "execute_result",
          "data": {
            "text/plain": [
              "3    b\n",
              "5    c\n",
              "dtype: object"
            ]
          },
          "metadata": {},
          "execution_count": 172
        }
      ]
    },
    {
      "cell_type": "markdown",
      "source": [
        "## DataFrame como um dicionário"
      ],
      "metadata": {
        "id": "fV26uxGUdIJZ"
      }
    },
    {
      "cell_type": "code",
      "source": [
        "area = pd.Series({'California': 423967, 'Texas': 695662,\n",
        "                  'New York': 141297, 'Florida': 170312,\n",
        "                  'Illinois': 149995})\n",
        "pop = pd.Series({'California': 38332521, 'Texas': 26448193,\n",
        "                 'New York': 19651127, 'Florida': 19552860,\n",
        "                 'Illinois': 12882135})\n",
        "data = pd.DataFrame({'area':area, 'pop':pop})\n",
        "data"
      ],
      "metadata": {
        "colab": {
          "base_uri": "https://localhost:8080/",
          "height": 206
        },
        "id": "hD71xyj6fkcU",
        "outputId": "1bae5b71-6a60-4bba-9296-f30dcc598396"
      },
      "execution_count": 173,
      "outputs": [
        {
          "output_type": "execute_result",
          "data": {
            "text/plain": [
              "              area       pop\n",
              "California  423967  38332521\n",
              "Texas       695662  26448193\n",
              "New York    141297  19651127\n",
              "Florida     170312  19552860\n",
              "Illinois    149995  12882135"
            ],
            "text/html": [
              "\n",
              "  <div id=\"df-16b12bff-6a1c-4126-a93b-d188bce285a6\">\n",
              "    <div class=\"colab-df-container\">\n",
              "      <div>\n",
              "<style scoped>\n",
              "    .dataframe tbody tr th:only-of-type {\n",
              "        vertical-align: middle;\n",
              "    }\n",
              "\n",
              "    .dataframe tbody tr th {\n",
              "        vertical-align: top;\n",
              "    }\n",
              "\n",
              "    .dataframe thead th {\n",
              "        text-align: right;\n",
              "    }\n",
              "</style>\n",
              "<table border=\"1\" class=\"dataframe\">\n",
              "  <thead>\n",
              "    <tr style=\"text-align: right;\">\n",
              "      <th></th>\n",
              "      <th>area</th>\n",
              "      <th>pop</th>\n",
              "    </tr>\n",
              "  </thead>\n",
              "  <tbody>\n",
              "    <tr>\n",
              "      <th>California</th>\n",
              "      <td>423967</td>\n",
              "      <td>38332521</td>\n",
              "    </tr>\n",
              "    <tr>\n",
              "      <th>Texas</th>\n",
              "      <td>695662</td>\n",
              "      <td>26448193</td>\n",
              "    </tr>\n",
              "    <tr>\n",
              "      <th>New York</th>\n",
              "      <td>141297</td>\n",
              "      <td>19651127</td>\n",
              "    </tr>\n",
              "    <tr>\n",
              "      <th>Florida</th>\n",
              "      <td>170312</td>\n",
              "      <td>19552860</td>\n",
              "    </tr>\n",
              "    <tr>\n",
              "      <th>Illinois</th>\n",
              "      <td>149995</td>\n",
              "      <td>12882135</td>\n",
              "    </tr>\n",
              "  </tbody>\n",
              "</table>\n",
              "</div>\n",
              "      <button class=\"colab-df-convert\" onclick=\"convertToInteractive('df-16b12bff-6a1c-4126-a93b-d188bce285a6')\"\n",
              "              title=\"Convert this dataframe to an interactive table.\"\n",
              "              style=\"display:none;\">\n",
              "        \n",
              "  <svg xmlns=\"http://www.w3.org/2000/svg\" height=\"24px\"viewBox=\"0 0 24 24\"\n",
              "       width=\"24px\">\n",
              "    <path d=\"M0 0h24v24H0V0z\" fill=\"none\"/>\n",
              "    <path d=\"M18.56 5.44l.94 2.06.94-2.06 2.06-.94-2.06-.94-.94-2.06-.94 2.06-2.06.94zm-11 1L8.5 8.5l.94-2.06 2.06-.94-2.06-.94L8.5 2.5l-.94 2.06-2.06.94zm10 10l.94 2.06.94-2.06 2.06-.94-2.06-.94-.94-2.06-.94 2.06-2.06.94z\"/><path d=\"M17.41 7.96l-1.37-1.37c-.4-.4-.92-.59-1.43-.59-.52 0-1.04.2-1.43.59L10.3 9.45l-7.72 7.72c-.78.78-.78 2.05 0 2.83L4 21.41c.39.39.9.59 1.41.59.51 0 1.02-.2 1.41-.59l7.78-7.78 2.81-2.81c.8-.78.8-2.07 0-2.86zM5.41 20L4 18.59l7.72-7.72 1.47 1.35L5.41 20z\"/>\n",
              "  </svg>\n",
              "      </button>\n",
              "      \n",
              "  <style>\n",
              "    .colab-df-container {\n",
              "      display:flex;\n",
              "      flex-wrap:wrap;\n",
              "      gap: 12px;\n",
              "    }\n",
              "\n",
              "    .colab-df-convert {\n",
              "      background-color: #E8F0FE;\n",
              "      border: none;\n",
              "      border-radius: 50%;\n",
              "      cursor: pointer;\n",
              "      display: none;\n",
              "      fill: #1967D2;\n",
              "      height: 32px;\n",
              "      padding: 0 0 0 0;\n",
              "      width: 32px;\n",
              "    }\n",
              "\n",
              "    .colab-df-convert:hover {\n",
              "      background-color: #E2EBFA;\n",
              "      box-shadow: 0px 1px 2px rgba(60, 64, 67, 0.3), 0px 1px 3px 1px rgba(60, 64, 67, 0.15);\n",
              "      fill: #174EA6;\n",
              "    }\n",
              "\n",
              "    [theme=dark] .colab-df-convert {\n",
              "      background-color: #3B4455;\n",
              "      fill: #D2E3FC;\n",
              "    }\n",
              "\n",
              "    [theme=dark] .colab-df-convert:hover {\n",
              "      background-color: #434B5C;\n",
              "      box-shadow: 0px 1px 3px 1px rgba(0, 0, 0, 0.15);\n",
              "      filter: drop-shadow(0px 1px 2px rgba(0, 0, 0, 0.3));\n",
              "      fill: #FFFFFF;\n",
              "    }\n",
              "  </style>\n",
              "\n",
              "      <script>\n",
              "        const buttonEl =\n",
              "          document.querySelector('#df-16b12bff-6a1c-4126-a93b-d188bce285a6 button.colab-df-convert');\n",
              "        buttonEl.style.display =\n",
              "          google.colab.kernel.accessAllowed ? 'block' : 'none';\n",
              "\n",
              "        async function convertToInteractive(key) {\n",
              "          const element = document.querySelector('#df-16b12bff-6a1c-4126-a93b-d188bce285a6');\n",
              "          const dataTable =\n",
              "            await google.colab.kernel.invokeFunction('convertToInteractive',\n",
              "                                                     [key], {});\n",
              "          if (!dataTable) return;\n",
              "\n",
              "          const docLinkHtml = 'Like what you see? Visit the ' +\n",
              "            '<a target=\"_blank\" href=https://colab.research.google.com/notebooks/data_table.ipynb>data table notebook</a>'\n",
              "            + ' to learn more about interactive tables.';\n",
              "          element.innerHTML = '';\n",
              "          dataTable['output_type'] = 'display_data';\n",
              "          await google.colab.output.renderOutput(dataTable, element);\n",
              "          const docLink = document.createElement('div');\n",
              "          docLink.innerHTML = docLinkHtml;\n",
              "          element.appendChild(docLink);\n",
              "        }\n",
              "      </script>\n",
              "    </div>\n",
              "  </div>\n",
              "  "
            ]
          },
          "metadata": {},
          "execution_count": 173
        }
      ]
    },
    {
      "cell_type": "markdown",
      "source": [
        "O indivíduo `Series` que compõe as colunas do `DataFrame` pode ser acessado por meio de indexação no estilo de dicionário do nome da coluna:"
      ],
      "metadata": {
        "id": "1v7NePzqdMfR"
      }
    },
    {
      "cell_type": "code",
      "source": [
        "data['area']"
      ],
      "metadata": {
        "colab": {
          "base_uri": "https://localhost:8080/"
        },
        "id": "qiYpEdZVgOi1",
        "outputId": "9d50c826-77eb-4d47-8d5c-188794159247"
      },
      "execution_count": 174,
      "outputs": [
        {
          "output_type": "execute_result",
          "data": {
            "text/plain": [
              "California    423967\n",
              "Texas         695662\n",
              "New York      141297\n",
              "Florida       170312\n",
              "Illinois      149995\n",
              "Name: area, dtype: int64"
            ]
          },
          "metadata": {},
          "execution_count": 174
        }
      ]
    },
    {
      "cell_type": "markdown",
      "source": [
        "É possível adicionar novas colunas, por exemplo"
      ],
      "metadata": {
        "id": "RhTdyjzYhGTI"
      }
    },
    {
      "cell_type": "code",
      "source": [
        "data['density'] = data['pop'] / data['area']\n",
        "data"
      ],
      "metadata": {
        "colab": {
          "base_uri": "https://localhost:8080/",
          "height": 206
        },
        "id": "Eff6SqHVhFNe",
        "outputId": "7cb9c104-62db-4ee6-ac4c-546c39185367"
      },
      "execution_count": 175,
      "outputs": [
        {
          "output_type": "execute_result",
          "data": {
            "text/plain": [
              "              area       pop     density\n",
              "California  423967  38332521   90.413926\n",
              "Texas       695662  26448193   38.018740\n",
              "New York    141297  19651127  139.076746\n",
              "Florida     170312  19552860  114.806121\n",
              "Illinois    149995  12882135   85.883763"
            ],
            "text/html": [
              "\n",
              "  <div id=\"df-58489993-4f35-48b4-9e72-ae0fd6227ce7\">\n",
              "    <div class=\"colab-df-container\">\n",
              "      <div>\n",
              "<style scoped>\n",
              "    .dataframe tbody tr th:only-of-type {\n",
              "        vertical-align: middle;\n",
              "    }\n",
              "\n",
              "    .dataframe tbody tr th {\n",
              "        vertical-align: top;\n",
              "    }\n",
              "\n",
              "    .dataframe thead th {\n",
              "        text-align: right;\n",
              "    }\n",
              "</style>\n",
              "<table border=\"1\" class=\"dataframe\">\n",
              "  <thead>\n",
              "    <tr style=\"text-align: right;\">\n",
              "      <th></th>\n",
              "      <th>area</th>\n",
              "      <th>pop</th>\n",
              "      <th>density</th>\n",
              "    </tr>\n",
              "  </thead>\n",
              "  <tbody>\n",
              "    <tr>\n",
              "      <th>California</th>\n",
              "      <td>423967</td>\n",
              "      <td>38332521</td>\n",
              "      <td>90.413926</td>\n",
              "    </tr>\n",
              "    <tr>\n",
              "      <th>Texas</th>\n",
              "      <td>695662</td>\n",
              "      <td>26448193</td>\n",
              "      <td>38.018740</td>\n",
              "    </tr>\n",
              "    <tr>\n",
              "      <th>New York</th>\n",
              "      <td>141297</td>\n",
              "      <td>19651127</td>\n",
              "      <td>139.076746</td>\n",
              "    </tr>\n",
              "    <tr>\n",
              "      <th>Florida</th>\n",
              "      <td>170312</td>\n",
              "      <td>19552860</td>\n",
              "      <td>114.806121</td>\n",
              "    </tr>\n",
              "    <tr>\n",
              "      <th>Illinois</th>\n",
              "      <td>149995</td>\n",
              "      <td>12882135</td>\n",
              "      <td>85.883763</td>\n",
              "    </tr>\n",
              "  </tbody>\n",
              "</table>\n",
              "</div>\n",
              "      <button class=\"colab-df-convert\" onclick=\"convertToInteractive('df-58489993-4f35-48b4-9e72-ae0fd6227ce7')\"\n",
              "              title=\"Convert this dataframe to an interactive table.\"\n",
              "              style=\"display:none;\">\n",
              "        \n",
              "  <svg xmlns=\"http://www.w3.org/2000/svg\" height=\"24px\"viewBox=\"0 0 24 24\"\n",
              "       width=\"24px\">\n",
              "    <path d=\"M0 0h24v24H0V0z\" fill=\"none\"/>\n",
              "    <path d=\"M18.56 5.44l.94 2.06.94-2.06 2.06-.94-2.06-.94-.94-2.06-.94 2.06-2.06.94zm-11 1L8.5 8.5l.94-2.06 2.06-.94-2.06-.94L8.5 2.5l-.94 2.06-2.06.94zm10 10l.94 2.06.94-2.06 2.06-.94-2.06-.94-.94-2.06-.94 2.06-2.06.94z\"/><path d=\"M17.41 7.96l-1.37-1.37c-.4-.4-.92-.59-1.43-.59-.52 0-1.04.2-1.43.59L10.3 9.45l-7.72 7.72c-.78.78-.78 2.05 0 2.83L4 21.41c.39.39.9.59 1.41.59.51 0 1.02-.2 1.41-.59l7.78-7.78 2.81-2.81c.8-.78.8-2.07 0-2.86zM5.41 20L4 18.59l7.72-7.72 1.47 1.35L5.41 20z\"/>\n",
              "  </svg>\n",
              "      </button>\n",
              "      \n",
              "  <style>\n",
              "    .colab-df-container {\n",
              "      display:flex;\n",
              "      flex-wrap:wrap;\n",
              "      gap: 12px;\n",
              "    }\n",
              "\n",
              "    .colab-df-convert {\n",
              "      background-color: #E8F0FE;\n",
              "      border: none;\n",
              "      border-radius: 50%;\n",
              "      cursor: pointer;\n",
              "      display: none;\n",
              "      fill: #1967D2;\n",
              "      height: 32px;\n",
              "      padding: 0 0 0 0;\n",
              "      width: 32px;\n",
              "    }\n",
              "\n",
              "    .colab-df-convert:hover {\n",
              "      background-color: #E2EBFA;\n",
              "      box-shadow: 0px 1px 2px rgba(60, 64, 67, 0.3), 0px 1px 3px 1px rgba(60, 64, 67, 0.15);\n",
              "      fill: #174EA6;\n",
              "    }\n",
              "\n",
              "    [theme=dark] .colab-df-convert {\n",
              "      background-color: #3B4455;\n",
              "      fill: #D2E3FC;\n",
              "    }\n",
              "\n",
              "    [theme=dark] .colab-df-convert:hover {\n",
              "      background-color: #434B5C;\n",
              "      box-shadow: 0px 1px 3px 1px rgba(0, 0, 0, 0.15);\n",
              "      filter: drop-shadow(0px 1px 2px rgba(0, 0, 0, 0.3));\n",
              "      fill: #FFFFFF;\n",
              "    }\n",
              "  </style>\n",
              "\n",
              "      <script>\n",
              "        const buttonEl =\n",
              "          document.querySelector('#df-58489993-4f35-48b4-9e72-ae0fd6227ce7 button.colab-df-convert');\n",
              "        buttonEl.style.display =\n",
              "          google.colab.kernel.accessAllowed ? 'block' : 'none';\n",
              "\n",
              "        async function convertToInteractive(key) {\n",
              "          const element = document.querySelector('#df-58489993-4f35-48b4-9e72-ae0fd6227ce7');\n",
              "          const dataTable =\n",
              "            await google.colab.kernel.invokeFunction('convertToInteractive',\n",
              "                                                     [key], {});\n",
              "          if (!dataTable) return;\n",
              "\n",
              "          const docLinkHtml = 'Like what you see? Visit the ' +\n",
              "            '<a target=\"_blank\" href=https://colab.research.google.com/notebooks/data_table.ipynb>data table notebook</a>'\n",
              "            + ' to learn more about interactive tables.';\n",
              "          element.innerHTML = '';\n",
              "          dataTable['output_type'] = 'display_data';\n",
              "          await google.colab.output.renderOutput(dataTable, element);\n",
              "          const docLink = document.createElement('div');\n",
              "          docLink.innerHTML = docLinkHtml;\n",
              "          element.appendChild(docLink);\n",
              "        }\n",
              "      </script>\n",
              "    </div>\n",
              "  </div>\n",
              "  "
            ]
          },
          "metadata": {},
          "execution_count": 175
        }
      ]
    },
    {
      "cell_type": "code",
      "source": [
        "# como um array multdimensional \n",
        "data.values"
      ],
      "metadata": {
        "colab": {
          "base_uri": "https://localhost:8080/"
        },
        "id": "A4fNGU0rhcnA",
        "outputId": "97061147-db88-4845-f2d0-9570a0cac1af"
      },
      "execution_count": 176,
      "outputs": [
        {
          "output_type": "execute_result",
          "data": {
            "text/plain": [
              "array([[4.23967000e+05, 3.83325210e+07, 9.04139261e+01],\n",
              "       [6.95662000e+05, 2.64481930e+07, 3.80187404e+01],\n",
              "       [1.41297000e+05, 1.96511270e+07, 1.39076746e+02],\n",
              "       [1.70312000e+05, 1.95528600e+07, 1.14806121e+02],\n",
              "       [1.49995000e+05, 1.28821350e+07, 8.58837628e+01]])"
            ]
          },
          "metadata": {},
          "execution_count": 176
        }
      ]
    },
    {
      "cell_type": "markdown",
      "source": [
        "Algumas operação podem ser feitas no dataframe, por exemplo, trocar linhas por colunas da se seguinte forma\n"
      ],
      "metadata": {
        "id": "b3cr9ZycimVA"
      }
    },
    {
      "cell_type": "code",
      "source": [
        "data.T\n"
      ],
      "metadata": {
        "colab": {
          "base_uri": "https://localhost:8080/",
          "height": 143
        },
        "id": "rMHnx40aiu4G",
        "outputId": "4e63bf95-6b50-4f54-8647-43c95085de58"
      },
      "execution_count": 177,
      "outputs": [
        {
          "output_type": "execute_result",
          "data": {
            "text/plain": [
              "           California         Texas      New York       Florida      Illinois\n",
              "area     4.239670e+05  6.956620e+05  1.412970e+05  1.703120e+05  1.499950e+05\n",
              "pop      3.833252e+07  2.644819e+07  1.965113e+07  1.955286e+07  1.288214e+07\n",
              "density  9.041393e+01  3.801874e+01  1.390767e+02  1.148061e+02  8.588376e+01"
            ],
            "text/html": [
              "\n",
              "  <div id=\"df-d30878e2-0329-46d8-8cfc-9dad8114396e\">\n",
              "    <div class=\"colab-df-container\">\n",
              "      <div>\n",
              "<style scoped>\n",
              "    .dataframe tbody tr th:only-of-type {\n",
              "        vertical-align: middle;\n",
              "    }\n",
              "\n",
              "    .dataframe tbody tr th {\n",
              "        vertical-align: top;\n",
              "    }\n",
              "\n",
              "    .dataframe thead th {\n",
              "        text-align: right;\n",
              "    }\n",
              "</style>\n",
              "<table border=\"1\" class=\"dataframe\">\n",
              "  <thead>\n",
              "    <tr style=\"text-align: right;\">\n",
              "      <th></th>\n",
              "      <th>California</th>\n",
              "      <th>Texas</th>\n",
              "      <th>New York</th>\n",
              "      <th>Florida</th>\n",
              "      <th>Illinois</th>\n",
              "    </tr>\n",
              "  </thead>\n",
              "  <tbody>\n",
              "    <tr>\n",
              "      <th>area</th>\n",
              "      <td>4.239670e+05</td>\n",
              "      <td>6.956620e+05</td>\n",
              "      <td>1.412970e+05</td>\n",
              "      <td>1.703120e+05</td>\n",
              "      <td>1.499950e+05</td>\n",
              "    </tr>\n",
              "    <tr>\n",
              "      <th>pop</th>\n",
              "      <td>3.833252e+07</td>\n",
              "      <td>2.644819e+07</td>\n",
              "      <td>1.965113e+07</td>\n",
              "      <td>1.955286e+07</td>\n",
              "      <td>1.288214e+07</td>\n",
              "    </tr>\n",
              "    <tr>\n",
              "      <th>density</th>\n",
              "      <td>9.041393e+01</td>\n",
              "      <td>3.801874e+01</td>\n",
              "      <td>1.390767e+02</td>\n",
              "      <td>1.148061e+02</td>\n",
              "      <td>8.588376e+01</td>\n",
              "    </tr>\n",
              "  </tbody>\n",
              "</table>\n",
              "</div>\n",
              "      <button class=\"colab-df-convert\" onclick=\"convertToInteractive('df-d30878e2-0329-46d8-8cfc-9dad8114396e')\"\n",
              "              title=\"Convert this dataframe to an interactive table.\"\n",
              "              style=\"display:none;\">\n",
              "        \n",
              "  <svg xmlns=\"http://www.w3.org/2000/svg\" height=\"24px\"viewBox=\"0 0 24 24\"\n",
              "       width=\"24px\">\n",
              "    <path d=\"M0 0h24v24H0V0z\" fill=\"none\"/>\n",
              "    <path d=\"M18.56 5.44l.94 2.06.94-2.06 2.06-.94-2.06-.94-.94-2.06-.94 2.06-2.06.94zm-11 1L8.5 8.5l.94-2.06 2.06-.94-2.06-.94L8.5 2.5l-.94 2.06-2.06.94zm10 10l.94 2.06.94-2.06 2.06-.94-2.06-.94-.94-2.06-.94 2.06-2.06.94z\"/><path d=\"M17.41 7.96l-1.37-1.37c-.4-.4-.92-.59-1.43-.59-.52 0-1.04.2-1.43.59L10.3 9.45l-7.72 7.72c-.78.78-.78 2.05 0 2.83L4 21.41c.39.39.9.59 1.41.59.51 0 1.02-.2 1.41-.59l7.78-7.78 2.81-2.81c.8-.78.8-2.07 0-2.86zM5.41 20L4 18.59l7.72-7.72 1.47 1.35L5.41 20z\"/>\n",
              "  </svg>\n",
              "      </button>\n",
              "      \n",
              "  <style>\n",
              "    .colab-df-container {\n",
              "      display:flex;\n",
              "      flex-wrap:wrap;\n",
              "      gap: 12px;\n",
              "    }\n",
              "\n",
              "    .colab-df-convert {\n",
              "      background-color: #E8F0FE;\n",
              "      border: none;\n",
              "      border-radius: 50%;\n",
              "      cursor: pointer;\n",
              "      display: none;\n",
              "      fill: #1967D2;\n",
              "      height: 32px;\n",
              "      padding: 0 0 0 0;\n",
              "      width: 32px;\n",
              "    }\n",
              "\n",
              "    .colab-df-convert:hover {\n",
              "      background-color: #E2EBFA;\n",
              "      box-shadow: 0px 1px 2px rgba(60, 64, 67, 0.3), 0px 1px 3px 1px rgba(60, 64, 67, 0.15);\n",
              "      fill: #174EA6;\n",
              "    }\n",
              "\n",
              "    [theme=dark] .colab-df-convert {\n",
              "      background-color: #3B4455;\n",
              "      fill: #D2E3FC;\n",
              "    }\n",
              "\n",
              "    [theme=dark] .colab-df-convert:hover {\n",
              "      background-color: #434B5C;\n",
              "      box-shadow: 0px 1px 3px 1px rgba(0, 0, 0, 0.15);\n",
              "      filter: drop-shadow(0px 1px 2px rgba(0, 0, 0, 0.3));\n",
              "      fill: #FFFFFF;\n",
              "    }\n",
              "  </style>\n",
              "\n",
              "      <script>\n",
              "        const buttonEl =\n",
              "          document.querySelector('#df-d30878e2-0329-46d8-8cfc-9dad8114396e button.colab-df-convert');\n",
              "        buttonEl.style.display =\n",
              "          google.colab.kernel.accessAllowed ? 'block' : 'none';\n",
              "\n",
              "        async function convertToInteractive(key) {\n",
              "          const element = document.querySelector('#df-d30878e2-0329-46d8-8cfc-9dad8114396e');\n",
              "          const dataTable =\n",
              "            await google.colab.kernel.invokeFunction('convertToInteractive',\n",
              "                                                     [key], {});\n",
              "          if (!dataTable) return;\n",
              "\n",
              "          const docLinkHtml = 'Like what you see? Visit the ' +\n",
              "            '<a target=\"_blank\" href=https://colab.research.google.com/notebooks/data_table.ipynb>data table notebook</a>'\n",
              "            + ' to learn more about interactive tables.';\n",
              "          element.innerHTML = '';\n",
              "          dataTable['output_type'] = 'display_data';\n",
              "          await google.colab.output.renderOutput(dataTable, element);\n",
              "          const docLink = document.createElement('div');\n",
              "          docLink.innerHTML = docLinkHtml;\n",
              "          element.appendChild(docLink);\n",
              "        }\n",
              "      </script>\n",
              "    </div>\n",
              "  </div>\n",
              "  "
            ]
          },
          "metadata": {},
          "execution_count": 177
        }
      ]
    },
    {
      "cell_type": "markdown",
      "source": [
        "No entanto, quando se trata de indexação de DataFrameobjetos, fica claro que a indexação de colunas no estilo de dicionário impede nossa capacidade de simplesmente tratá-la como uma matriz NumPy. Em particular, passar um único índice para um array acessa uma linha.\n",
        "\n",
        "Dessa forma, podemos utilizar os operadores `iloc` e `loc` para operações com mais de um indice "
      ],
      "metadata": {
        "id": "nh3PKSSNjzfE"
      }
    },
    {
      "cell_type": "code",
      "source": [
        "data"
      ],
      "metadata": {
        "colab": {
          "base_uri": "https://localhost:8080/",
          "height": 206
        },
        "id": "7kLAY0GUk7iB",
        "outputId": "20c84e92-b308-4da3-ccfd-7230abb6389e"
      },
      "execution_count": 178,
      "outputs": [
        {
          "output_type": "execute_result",
          "data": {
            "text/plain": [
              "              area       pop     density\n",
              "California  423967  38332521   90.413926\n",
              "Texas       695662  26448193   38.018740\n",
              "New York    141297  19651127  139.076746\n",
              "Florida     170312  19552860  114.806121\n",
              "Illinois    149995  12882135   85.883763"
            ],
            "text/html": [
              "\n",
              "  <div id=\"df-8cbc5f70-4a34-4dec-8ffb-0740c8da4557\">\n",
              "    <div class=\"colab-df-container\">\n",
              "      <div>\n",
              "<style scoped>\n",
              "    .dataframe tbody tr th:only-of-type {\n",
              "        vertical-align: middle;\n",
              "    }\n",
              "\n",
              "    .dataframe tbody tr th {\n",
              "        vertical-align: top;\n",
              "    }\n",
              "\n",
              "    .dataframe thead th {\n",
              "        text-align: right;\n",
              "    }\n",
              "</style>\n",
              "<table border=\"1\" class=\"dataframe\">\n",
              "  <thead>\n",
              "    <tr style=\"text-align: right;\">\n",
              "      <th></th>\n",
              "      <th>area</th>\n",
              "      <th>pop</th>\n",
              "      <th>density</th>\n",
              "    </tr>\n",
              "  </thead>\n",
              "  <tbody>\n",
              "    <tr>\n",
              "      <th>California</th>\n",
              "      <td>423967</td>\n",
              "      <td>38332521</td>\n",
              "      <td>90.413926</td>\n",
              "    </tr>\n",
              "    <tr>\n",
              "      <th>Texas</th>\n",
              "      <td>695662</td>\n",
              "      <td>26448193</td>\n",
              "      <td>38.018740</td>\n",
              "    </tr>\n",
              "    <tr>\n",
              "      <th>New York</th>\n",
              "      <td>141297</td>\n",
              "      <td>19651127</td>\n",
              "      <td>139.076746</td>\n",
              "    </tr>\n",
              "    <tr>\n",
              "      <th>Florida</th>\n",
              "      <td>170312</td>\n",
              "      <td>19552860</td>\n",
              "      <td>114.806121</td>\n",
              "    </tr>\n",
              "    <tr>\n",
              "      <th>Illinois</th>\n",
              "      <td>149995</td>\n",
              "      <td>12882135</td>\n",
              "      <td>85.883763</td>\n",
              "    </tr>\n",
              "  </tbody>\n",
              "</table>\n",
              "</div>\n",
              "      <button class=\"colab-df-convert\" onclick=\"convertToInteractive('df-8cbc5f70-4a34-4dec-8ffb-0740c8da4557')\"\n",
              "              title=\"Convert this dataframe to an interactive table.\"\n",
              "              style=\"display:none;\">\n",
              "        \n",
              "  <svg xmlns=\"http://www.w3.org/2000/svg\" height=\"24px\"viewBox=\"0 0 24 24\"\n",
              "       width=\"24px\">\n",
              "    <path d=\"M0 0h24v24H0V0z\" fill=\"none\"/>\n",
              "    <path d=\"M18.56 5.44l.94 2.06.94-2.06 2.06-.94-2.06-.94-.94-2.06-.94 2.06-2.06.94zm-11 1L8.5 8.5l.94-2.06 2.06-.94-2.06-.94L8.5 2.5l-.94 2.06-2.06.94zm10 10l.94 2.06.94-2.06 2.06-.94-2.06-.94-.94-2.06-.94 2.06-2.06.94z\"/><path d=\"M17.41 7.96l-1.37-1.37c-.4-.4-.92-.59-1.43-.59-.52 0-1.04.2-1.43.59L10.3 9.45l-7.72 7.72c-.78.78-.78 2.05 0 2.83L4 21.41c.39.39.9.59 1.41.59.51 0 1.02-.2 1.41-.59l7.78-7.78 2.81-2.81c.8-.78.8-2.07 0-2.86zM5.41 20L4 18.59l7.72-7.72 1.47 1.35L5.41 20z\"/>\n",
              "  </svg>\n",
              "      </button>\n",
              "      \n",
              "  <style>\n",
              "    .colab-df-container {\n",
              "      display:flex;\n",
              "      flex-wrap:wrap;\n",
              "      gap: 12px;\n",
              "    }\n",
              "\n",
              "    .colab-df-convert {\n",
              "      background-color: #E8F0FE;\n",
              "      border: none;\n",
              "      border-radius: 50%;\n",
              "      cursor: pointer;\n",
              "      display: none;\n",
              "      fill: #1967D2;\n",
              "      height: 32px;\n",
              "      padding: 0 0 0 0;\n",
              "      width: 32px;\n",
              "    }\n",
              "\n",
              "    .colab-df-convert:hover {\n",
              "      background-color: #E2EBFA;\n",
              "      box-shadow: 0px 1px 2px rgba(60, 64, 67, 0.3), 0px 1px 3px 1px rgba(60, 64, 67, 0.15);\n",
              "      fill: #174EA6;\n",
              "    }\n",
              "\n",
              "    [theme=dark] .colab-df-convert {\n",
              "      background-color: #3B4455;\n",
              "      fill: #D2E3FC;\n",
              "    }\n",
              "\n",
              "    [theme=dark] .colab-df-convert:hover {\n",
              "      background-color: #434B5C;\n",
              "      box-shadow: 0px 1px 3px 1px rgba(0, 0, 0, 0.15);\n",
              "      filter: drop-shadow(0px 1px 2px rgba(0, 0, 0, 0.3));\n",
              "      fill: #FFFFFF;\n",
              "    }\n",
              "  </style>\n",
              "\n",
              "      <script>\n",
              "        const buttonEl =\n",
              "          document.querySelector('#df-8cbc5f70-4a34-4dec-8ffb-0740c8da4557 button.colab-df-convert');\n",
              "        buttonEl.style.display =\n",
              "          google.colab.kernel.accessAllowed ? 'block' : 'none';\n",
              "\n",
              "        async function convertToInteractive(key) {\n",
              "          const element = document.querySelector('#df-8cbc5f70-4a34-4dec-8ffb-0740c8da4557');\n",
              "          const dataTable =\n",
              "            await google.colab.kernel.invokeFunction('convertToInteractive',\n",
              "                                                     [key], {});\n",
              "          if (!dataTable) return;\n",
              "\n",
              "          const docLinkHtml = 'Like what you see? Visit the ' +\n",
              "            '<a target=\"_blank\" href=https://colab.research.google.com/notebooks/data_table.ipynb>data table notebook</a>'\n",
              "            + ' to learn more about interactive tables.';\n",
              "          element.innerHTML = '';\n",
              "          dataTable['output_type'] = 'display_data';\n",
              "          await google.colab.output.renderOutput(dataTable, element);\n",
              "          const docLink = document.createElement('div');\n",
              "          docLink.innerHTML = docLinkHtml;\n",
              "          element.appendChild(docLink);\n",
              "        }\n",
              "      </script>\n",
              "    </div>\n",
              "  </div>\n",
              "  "
            ]
          },
          "metadata": {},
          "execution_count": 178
        }
      ]
    },
    {
      "cell_type": "code",
      "source": [],
      "metadata": {
        "id": "FGw1HoJWk7Ql"
      },
      "execution_count": 178,
      "outputs": []
    },
    {
      "cell_type": "code",
      "source": [
        "data.iloc[:3, :2]"
      ],
      "metadata": {
        "colab": {
          "base_uri": "https://localhost:8080/",
          "height": 143
        },
        "id": "o9dZ4k-rkHVd",
        "outputId": "3e5e76c1-289c-4f8b-9efc-319ea9b9a6ff"
      },
      "execution_count": 179,
      "outputs": [
        {
          "output_type": "execute_result",
          "data": {
            "text/plain": [
              "              area       pop\n",
              "California  423967  38332521\n",
              "Texas       695662  26448193\n",
              "New York    141297  19651127"
            ],
            "text/html": [
              "\n",
              "  <div id=\"df-bf299846-6370-405a-a305-2dcc20d7031f\">\n",
              "    <div class=\"colab-df-container\">\n",
              "      <div>\n",
              "<style scoped>\n",
              "    .dataframe tbody tr th:only-of-type {\n",
              "        vertical-align: middle;\n",
              "    }\n",
              "\n",
              "    .dataframe tbody tr th {\n",
              "        vertical-align: top;\n",
              "    }\n",
              "\n",
              "    .dataframe thead th {\n",
              "        text-align: right;\n",
              "    }\n",
              "</style>\n",
              "<table border=\"1\" class=\"dataframe\">\n",
              "  <thead>\n",
              "    <tr style=\"text-align: right;\">\n",
              "      <th></th>\n",
              "      <th>area</th>\n",
              "      <th>pop</th>\n",
              "    </tr>\n",
              "  </thead>\n",
              "  <tbody>\n",
              "    <tr>\n",
              "      <th>California</th>\n",
              "      <td>423967</td>\n",
              "      <td>38332521</td>\n",
              "    </tr>\n",
              "    <tr>\n",
              "      <th>Texas</th>\n",
              "      <td>695662</td>\n",
              "      <td>26448193</td>\n",
              "    </tr>\n",
              "    <tr>\n",
              "      <th>New York</th>\n",
              "      <td>141297</td>\n",
              "      <td>19651127</td>\n",
              "    </tr>\n",
              "  </tbody>\n",
              "</table>\n",
              "</div>\n",
              "      <button class=\"colab-df-convert\" onclick=\"convertToInteractive('df-bf299846-6370-405a-a305-2dcc20d7031f')\"\n",
              "              title=\"Convert this dataframe to an interactive table.\"\n",
              "              style=\"display:none;\">\n",
              "        \n",
              "  <svg xmlns=\"http://www.w3.org/2000/svg\" height=\"24px\"viewBox=\"0 0 24 24\"\n",
              "       width=\"24px\">\n",
              "    <path d=\"M0 0h24v24H0V0z\" fill=\"none\"/>\n",
              "    <path d=\"M18.56 5.44l.94 2.06.94-2.06 2.06-.94-2.06-.94-.94-2.06-.94 2.06-2.06.94zm-11 1L8.5 8.5l.94-2.06 2.06-.94-2.06-.94L8.5 2.5l-.94 2.06-2.06.94zm10 10l.94 2.06.94-2.06 2.06-.94-2.06-.94-.94-2.06-.94 2.06-2.06.94z\"/><path d=\"M17.41 7.96l-1.37-1.37c-.4-.4-.92-.59-1.43-.59-.52 0-1.04.2-1.43.59L10.3 9.45l-7.72 7.72c-.78.78-.78 2.05 0 2.83L4 21.41c.39.39.9.59 1.41.59.51 0 1.02-.2 1.41-.59l7.78-7.78 2.81-2.81c.8-.78.8-2.07 0-2.86zM5.41 20L4 18.59l7.72-7.72 1.47 1.35L5.41 20z\"/>\n",
              "  </svg>\n",
              "      </button>\n",
              "      \n",
              "  <style>\n",
              "    .colab-df-container {\n",
              "      display:flex;\n",
              "      flex-wrap:wrap;\n",
              "      gap: 12px;\n",
              "    }\n",
              "\n",
              "    .colab-df-convert {\n",
              "      background-color: #E8F0FE;\n",
              "      border: none;\n",
              "      border-radius: 50%;\n",
              "      cursor: pointer;\n",
              "      display: none;\n",
              "      fill: #1967D2;\n",
              "      height: 32px;\n",
              "      padding: 0 0 0 0;\n",
              "      width: 32px;\n",
              "    }\n",
              "\n",
              "    .colab-df-convert:hover {\n",
              "      background-color: #E2EBFA;\n",
              "      box-shadow: 0px 1px 2px rgba(60, 64, 67, 0.3), 0px 1px 3px 1px rgba(60, 64, 67, 0.15);\n",
              "      fill: #174EA6;\n",
              "    }\n",
              "\n",
              "    [theme=dark] .colab-df-convert {\n",
              "      background-color: #3B4455;\n",
              "      fill: #D2E3FC;\n",
              "    }\n",
              "\n",
              "    [theme=dark] .colab-df-convert:hover {\n",
              "      background-color: #434B5C;\n",
              "      box-shadow: 0px 1px 3px 1px rgba(0, 0, 0, 0.15);\n",
              "      filter: drop-shadow(0px 1px 2px rgba(0, 0, 0, 0.3));\n",
              "      fill: #FFFFFF;\n",
              "    }\n",
              "  </style>\n",
              "\n",
              "      <script>\n",
              "        const buttonEl =\n",
              "          document.querySelector('#df-bf299846-6370-405a-a305-2dcc20d7031f button.colab-df-convert');\n",
              "        buttonEl.style.display =\n",
              "          google.colab.kernel.accessAllowed ? 'block' : 'none';\n",
              "\n",
              "        async function convertToInteractive(key) {\n",
              "          const element = document.querySelector('#df-bf299846-6370-405a-a305-2dcc20d7031f');\n",
              "          const dataTable =\n",
              "            await google.colab.kernel.invokeFunction('convertToInteractive',\n",
              "                                                     [key], {});\n",
              "          if (!dataTable) return;\n",
              "\n",
              "          const docLinkHtml = 'Like what you see? Visit the ' +\n",
              "            '<a target=\"_blank\" href=https://colab.research.google.com/notebooks/data_table.ipynb>data table notebook</a>'\n",
              "            + ' to learn more about interactive tables.';\n",
              "          element.innerHTML = '';\n",
              "          dataTable['output_type'] = 'display_data';\n",
              "          await google.colab.output.renderOutput(dataTable, element);\n",
              "          const docLink = document.createElement('div');\n",
              "          docLink.innerHTML = docLinkHtml;\n",
              "          element.appendChild(docLink);\n",
              "        }\n",
              "      </script>\n",
              "    </div>\n",
              "  </div>\n",
              "  "
            ]
          },
          "metadata": {},
          "execution_count": 179
        }
      ]
    },
    {
      "cell_type": "code",
      "source": [
        "data.loc[:'Illinois', :'pop']"
      ],
      "metadata": {
        "colab": {
          "base_uri": "https://localhost:8080/",
          "height": 206
        },
        "id": "lJBKlwvfj0XU",
        "outputId": "ce6450e5-93a5-4201-e3a5-2ed6860b550e"
      },
      "execution_count": 180,
      "outputs": [
        {
          "output_type": "execute_result",
          "data": {
            "text/plain": [
              "              area       pop\n",
              "California  423967  38332521\n",
              "Texas       695662  26448193\n",
              "New York    141297  19651127\n",
              "Florida     170312  19552860\n",
              "Illinois    149995  12882135"
            ],
            "text/html": [
              "\n",
              "  <div id=\"df-06d47aa1-1137-4804-94da-682958ed6ef1\">\n",
              "    <div class=\"colab-df-container\">\n",
              "      <div>\n",
              "<style scoped>\n",
              "    .dataframe tbody tr th:only-of-type {\n",
              "        vertical-align: middle;\n",
              "    }\n",
              "\n",
              "    .dataframe tbody tr th {\n",
              "        vertical-align: top;\n",
              "    }\n",
              "\n",
              "    .dataframe thead th {\n",
              "        text-align: right;\n",
              "    }\n",
              "</style>\n",
              "<table border=\"1\" class=\"dataframe\">\n",
              "  <thead>\n",
              "    <tr style=\"text-align: right;\">\n",
              "      <th></th>\n",
              "      <th>area</th>\n",
              "      <th>pop</th>\n",
              "    </tr>\n",
              "  </thead>\n",
              "  <tbody>\n",
              "    <tr>\n",
              "      <th>California</th>\n",
              "      <td>423967</td>\n",
              "      <td>38332521</td>\n",
              "    </tr>\n",
              "    <tr>\n",
              "      <th>Texas</th>\n",
              "      <td>695662</td>\n",
              "      <td>26448193</td>\n",
              "    </tr>\n",
              "    <tr>\n",
              "      <th>New York</th>\n",
              "      <td>141297</td>\n",
              "      <td>19651127</td>\n",
              "    </tr>\n",
              "    <tr>\n",
              "      <th>Florida</th>\n",
              "      <td>170312</td>\n",
              "      <td>19552860</td>\n",
              "    </tr>\n",
              "    <tr>\n",
              "      <th>Illinois</th>\n",
              "      <td>149995</td>\n",
              "      <td>12882135</td>\n",
              "    </tr>\n",
              "  </tbody>\n",
              "</table>\n",
              "</div>\n",
              "      <button class=\"colab-df-convert\" onclick=\"convertToInteractive('df-06d47aa1-1137-4804-94da-682958ed6ef1')\"\n",
              "              title=\"Convert this dataframe to an interactive table.\"\n",
              "              style=\"display:none;\">\n",
              "        \n",
              "  <svg xmlns=\"http://www.w3.org/2000/svg\" height=\"24px\"viewBox=\"0 0 24 24\"\n",
              "       width=\"24px\">\n",
              "    <path d=\"M0 0h24v24H0V0z\" fill=\"none\"/>\n",
              "    <path d=\"M18.56 5.44l.94 2.06.94-2.06 2.06-.94-2.06-.94-.94-2.06-.94 2.06-2.06.94zm-11 1L8.5 8.5l.94-2.06 2.06-.94-2.06-.94L8.5 2.5l-.94 2.06-2.06.94zm10 10l.94 2.06.94-2.06 2.06-.94-2.06-.94-.94-2.06-.94 2.06-2.06.94z\"/><path d=\"M17.41 7.96l-1.37-1.37c-.4-.4-.92-.59-1.43-.59-.52 0-1.04.2-1.43.59L10.3 9.45l-7.72 7.72c-.78.78-.78 2.05 0 2.83L4 21.41c.39.39.9.59 1.41.59.51 0 1.02-.2 1.41-.59l7.78-7.78 2.81-2.81c.8-.78.8-2.07 0-2.86zM5.41 20L4 18.59l7.72-7.72 1.47 1.35L5.41 20z\"/>\n",
              "  </svg>\n",
              "      </button>\n",
              "      \n",
              "  <style>\n",
              "    .colab-df-container {\n",
              "      display:flex;\n",
              "      flex-wrap:wrap;\n",
              "      gap: 12px;\n",
              "    }\n",
              "\n",
              "    .colab-df-convert {\n",
              "      background-color: #E8F0FE;\n",
              "      border: none;\n",
              "      border-radius: 50%;\n",
              "      cursor: pointer;\n",
              "      display: none;\n",
              "      fill: #1967D2;\n",
              "      height: 32px;\n",
              "      padding: 0 0 0 0;\n",
              "      width: 32px;\n",
              "    }\n",
              "\n",
              "    .colab-df-convert:hover {\n",
              "      background-color: #E2EBFA;\n",
              "      box-shadow: 0px 1px 2px rgba(60, 64, 67, 0.3), 0px 1px 3px 1px rgba(60, 64, 67, 0.15);\n",
              "      fill: #174EA6;\n",
              "    }\n",
              "\n",
              "    [theme=dark] .colab-df-convert {\n",
              "      background-color: #3B4455;\n",
              "      fill: #D2E3FC;\n",
              "    }\n",
              "\n",
              "    [theme=dark] .colab-df-convert:hover {\n",
              "      background-color: #434B5C;\n",
              "      box-shadow: 0px 1px 3px 1px rgba(0, 0, 0, 0.15);\n",
              "      filter: drop-shadow(0px 1px 2px rgba(0, 0, 0, 0.3));\n",
              "      fill: #FFFFFF;\n",
              "    }\n",
              "  </style>\n",
              "\n",
              "      <script>\n",
              "        const buttonEl =\n",
              "          document.querySelector('#df-06d47aa1-1137-4804-94da-682958ed6ef1 button.colab-df-convert');\n",
              "        buttonEl.style.display =\n",
              "          google.colab.kernel.accessAllowed ? 'block' : 'none';\n",
              "\n",
              "        async function convertToInteractive(key) {\n",
              "          const element = document.querySelector('#df-06d47aa1-1137-4804-94da-682958ed6ef1');\n",
              "          const dataTable =\n",
              "            await google.colab.kernel.invokeFunction('convertToInteractive',\n",
              "                                                     [key], {});\n",
              "          if (!dataTable) return;\n",
              "\n",
              "          const docLinkHtml = 'Like what you see? Visit the ' +\n",
              "            '<a target=\"_blank\" href=https://colab.research.google.com/notebooks/data_table.ipynb>data table notebook</a>'\n",
              "            + ' to learn more about interactive tables.';\n",
              "          element.innerHTML = '';\n",
              "          dataTable['output_type'] = 'display_data';\n",
              "          await google.colab.output.renderOutput(dataTable, element);\n",
              "          const docLink = document.createElement('div');\n",
              "          docLink.innerHTML = docLinkHtml;\n",
              "          element.appendChild(docLink);\n",
              "        }\n",
              "      </script>\n",
              "    </div>\n",
              "  </div>\n",
              "  "
            ]
          },
          "metadata": {},
          "execution_count": 180
        }
      ]
    },
    {
      "cell_type": "markdown",
      "source": [
        "Acesso de forma convencional é diferente dos arrays numpy "
      ],
      "metadata": {
        "id": "Xr5U8wdXxiLy"
      }
    },
    {
      "cell_type": "code",
      "source": [
        "data"
      ],
      "metadata": {
        "colab": {
          "base_uri": "https://localhost:8080/",
          "height": 206
        },
        "id": "FgJtXn7dxvAO",
        "outputId": "ea300eb8-4329-4db4-fcd1-f21038ee65d8"
      },
      "execution_count": 181,
      "outputs": [
        {
          "output_type": "execute_result",
          "data": {
            "text/plain": [
              "              area       pop     density\n",
              "California  423967  38332521   90.413926\n",
              "Texas       695662  26448193   38.018740\n",
              "New York    141297  19651127  139.076746\n",
              "Florida     170312  19552860  114.806121\n",
              "Illinois    149995  12882135   85.883763"
            ],
            "text/html": [
              "\n",
              "  <div id=\"df-14a658fb-5a6e-454e-b328-6ca29a11f32a\">\n",
              "    <div class=\"colab-df-container\">\n",
              "      <div>\n",
              "<style scoped>\n",
              "    .dataframe tbody tr th:only-of-type {\n",
              "        vertical-align: middle;\n",
              "    }\n",
              "\n",
              "    .dataframe tbody tr th {\n",
              "        vertical-align: top;\n",
              "    }\n",
              "\n",
              "    .dataframe thead th {\n",
              "        text-align: right;\n",
              "    }\n",
              "</style>\n",
              "<table border=\"1\" class=\"dataframe\">\n",
              "  <thead>\n",
              "    <tr style=\"text-align: right;\">\n",
              "      <th></th>\n",
              "      <th>area</th>\n",
              "      <th>pop</th>\n",
              "      <th>density</th>\n",
              "    </tr>\n",
              "  </thead>\n",
              "  <tbody>\n",
              "    <tr>\n",
              "      <th>California</th>\n",
              "      <td>423967</td>\n",
              "      <td>38332521</td>\n",
              "      <td>90.413926</td>\n",
              "    </tr>\n",
              "    <tr>\n",
              "      <th>Texas</th>\n",
              "      <td>695662</td>\n",
              "      <td>26448193</td>\n",
              "      <td>38.018740</td>\n",
              "    </tr>\n",
              "    <tr>\n",
              "      <th>New York</th>\n",
              "      <td>141297</td>\n",
              "      <td>19651127</td>\n",
              "      <td>139.076746</td>\n",
              "    </tr>\n",
              "    <tr>\n",
              "      <th>Florida</th>\n",
              "      <td>170312</td>\n",
              "      <td>19552860</td>\n",
              "      <td>114.806121</td>\n",
              "    </tr>\n",
              "    <tr>\n",
              "      <th>Illinois</th>\n",
              "      <td>149995</td>\n",
              "      <td>12882135</td>\n",
              "      <td>85.883763</td>\n",
              "    </tr>\n",
              "  </tbody>\n",
              "</table>\n",
              "</div>\n",
              "      <button class=\"colab-df-convert\" onclick=\"convertToInteractive('df-14a658fb-5a6e-454e-b328-6ca29a11f32a')\"\n",
              "              title=\"Convert this dataframe to an interactive table.\"\n",
              "              style=\"display:none;\">\n",
              "        \n",
              "  <svg xmlns=\"http://www.w3.org/2000/svg\" height=\"24px\"viewBox=\"0 0 24 24\"\n",
              "       width=\"24px\">\n",
              "    <path d=\"M0 0h24v24H0V0z\" fill=\"none\"/>\n",
              "    <path d=\"M18.56 5.44l.94 2.06.94-2.06 2.06-.94-2.06-.94-.94-2.06-.94 2.06-2.06.94zm-11 1L8.5 8.5l.94-2.06 2.06-.94-2.06-.94L8.5 2.5l-.94 2.06-2.06.94zm10 10l.94 2.06.94-2.06 2.06-.94-2.06-.94-.94-2.06-.94 2.06-2.06.94z\"/><path d=\"M17.41 7.96l-1.37-1.37c-.4-.4-.92-.59-1.43-.59-.52 0-1.04.2-1.43.59L10.3 9.45l-7.72 7.72c-.78.78-.78 2.05 0 2.83L4 21.41c.39.39.9.59 1.41.59.51 0 1.02-.2 1.41-.59l7.78-7.78 2.81-2.81c.8-.78.8-2.07 0-2.86zM5.41 20L4 18.59l7.72-7.72 1.47 1.35L5.41 20z\"/>\n",
              "  </svg>\n",
              "      </button>\n",
              "      \n",
              "  <style>\n",
              "    .colab-df-container {\n",
              "      display:flex;\n",
              "      flex-wrap:wrap;\n",
              "      gap: 12px;\n",
              "    }\n",
              "\n",
              "    .colab-df-convert {\n",
              "      background-color: #E8F0FE;\n",
              "      border: none;\n",
              "      border-radius: 50%;\n",
              "      cursor: pointer;\n",
              "      display: none;\n",
              "      fill: #1967D2;\n",
              "      height: 32px;\n",
              "      padding: 0 0 0 0;\n",
              "      width: 32px;\n",
              "    }\n",
              "\n",
              "    .colab-df-convert:hover {\n",
              "      background-color: #E2EBFA;\n",
              "      box-shadow: 0px 1px 2px rgba(60, 64, 67, 0.3), 0px 1px 3px 1px rgba(60, 64, 67, 0.15);\n",
              "      fill: #174EA6;\n",
              "    }\n",
              "\n",
              "    [theme=dark] .colab-df-convert {\n",
              "      background-color: #3B4455;\n",
              "      fill: #D2E3FC;\n",
              "    }\n",
              "\n",
              "    [theme=dark] .colab-df-convert:hover {\n",
              "      background-color: #434B5C;\n",
              "      box-shadow: 0px 1px 3px 1px rgba(0, 0, 0, 0.15);\n",
              "      filter: drop-shadow(0px 1px 2px rgba(0, 0, 0, 0.3));\n",
              "      fill: #FFFFFF;\n",
              "    }\n",
              "  </style>\n",
              "\n",
              "      <script>\n",
              "        const buttonEl =\n",
              "          document.querySelector('#df-14a658fb-5a6e-454e-b328-6ca29a11f32a button.colab-df-convert');\n",
              "        buttonEl.style.display =\n",
              "          google.colab.kernel.accessAllowed ? 'block' : 'none';\n",
              "\n",
              "        async function convertToInteractive(key) {\n",
              "          const element = document.querySelector('#df-14a658fb-5a6e-454e-b328-6ca29a11f32a');\n",
              "          const dataTable =\n",
              "            await google.colab.kernel.invokeFunction('convertToInteractive',\n",
              "                                                     [key], {});\n",
              "          if (!dataTable) return;\n",
              "\n",
              "          const docLinkHtml = 'Like what you see? Visit the ' +\n",
              "            '<a target=\"_blank\" href=https://colab.research.google.com/notebooks/data_table.ipynb>data table notebook</a>'\n",
              "            + ' to learn more about interactive tables.';\n",
              "          element.innerHTML = '';\n",
              "          dataTable['output_type'] = 'display_data';\n",
              "          await google.colab.output.renderOutput(dataTable, element);\n",
              "          const docLink = document.createElement('div');\n",
              "          docLink.innerHTML = docLinkHtml;\n",
              "          element.appendChild(docLink);\n",
              "        }\n",
              "      </script>\n",
              "    </div>\n",
              "  </div>\n",
              "  "
            ]
          },
          "metadata": {},
          "execution_count": 181
        }
      ]
    },
    {
      "cell_type": "code",
      "source": [
        "data.iloc[0:3,1:3]"
      ],
      "metadata": {
        "colab": {
          "base_uri": "https://localhost:8080/",
          "height": 143
        },
        "id": "02ok5GK4xw8_",
        "outputId": "2d13a3b1-b8dc-420f-f906-6e51b7215520"
      },
      "execution_count": 182,
      "outputs": [
        {
          "output_type": "execute_result",
          "data": {
            "text/plain": [
              "                 pop     density\n",
              "California  38332521   90.413926\n",
              "Texas       26448193   38.018740\n",
              "New York    19651127  139.076746"
            ],
            "text/html": [
              "\n",
              "  <div id=\"df-5ffba8dd-a79a-4b57-860e-b04b226d8a64\">\n",
              "    <div class=\"colab-df-container\">\n",
              "      <div>\n",
              "<style scoped>\n",
              "    .dataframe tbody tr th:only-of-type {\n",
              "        vertical-align: middle;\n",
              "    }\n",
              "\n",
              "    .dataframe tbody tr th {\n",
              "        vertical-align: top;\n",
              "    }\n",
              "\n",
              "    .dataframe thead th {\n",
              "        text-align: right;\n",
              "    }\n",
              "</style>\n",
              "<table border=\"1\" class=\"dataframe\">\n",
              "  <thead>\n",
              "    <tr style=\"text-align: right;\">\n",
              "      <th></th>\n",
              "      <th>pop</th>\n",
              "      <th>density</th>\n",
              "    </tr>\n",
              "  </thead>\n",
              "  <tbody>\n",
              "    <tr>\n",
              "      <th>California</th>\n",
              "      <td>38332521</td>\n",
              "      <td>90.413926</td>\n",
              "    </tr>\n",
              "    <tr>\n",
              "      <th>Texas</th>\n",
              "      <td>26448193</td>\n",
              "      <td>38.018740</td>\n",
              "    </tr>\n",
              "    <tr>\n",
              "      <th>New York</th>\n",
              "      <td>19651127</td>\n",
              "      <td>139.076746</td>\n",
              "    </tr>\n",
              "  </tbody>\n",
              "</table>\n",
              "</div>\n",
              "      <button class=\"colab-df-convert\" onclick=\"convertToInteractive('df-5ffba8dd-a79a-4b57-860e-b04b226d8a64')\"\n",
              "              title=\"Convert this dataframe to an interactive table.\"\n",
              "              style=\"display:none;\">\n",
              "        \n",
              "  <svg xmlns=\"http://www.w3.org/2000/svg\" height=\"24px\"viewBox=\"0 0 24 24\"\n",
              "       width=\"24px\">\n",
              "    <path d=\"M0 0h24v24H0V0z\" fill=\"none\"/>\n",
              "    <path d=\"M18.56 5.44l.94 2.06.94-2.06 2.06-.94-2.06-.94-.94-2.06-.94 2.06-2.06.94zm-11 1L8.5 8.5l.94-2.06 2.06-.94-2.06-.94L8.5 2.5l-.94 2.06-2.06.94zm10 10l.94 2.06.94-2.06 2.06-.94-2.06-.94-.94-2.06-.94 2.06-2.06.94z\"/><path d=\"M17.41 7.96l-1.37-1.37c-.4-.4-.92-.59-1.43-.59-.52 0-1.04.2-1.43.59L10.3 9.45l-7.72 7.72c-.78.78-.78 2.05 0 2.83L4 21.41c.39.39.9.59 1.41.59.51 0 1.02-.2 1.41-.59l7.78-7.78 2.81-2.81c.8-.78.8-2.07 0-2.86zM5.41 20L4 18.59l7.72-7.72 1.47 1.35L5.41 20z\"/>\n",
              "  </svg>\n",
              "      </button>\n",
              "      \n",
              "  <style>\n",
              "    .colab-df-container {\n",
              "      display:flex;\n",
              "      flex-wrap:wrap;\n",
              "      gap: 12px;\n",
              "    }\n",
              "\n",
              "    .colab-df-convert {\n",
              "      background-color: #E8F0FE;\n",
              "      border: none;\n",
              "      border-radius: 50%;\n",
              "      cursor: pointer;\n",
              "      display: none;\n",
              "      fill: #1967D2;\n",
              "      height: 32px;\n",
              "      padding: 0 0 0 0;\n",
              "      width: 32px;\n",
              "    }\n",
              "\n",
              "    .colab-df-convert:hover {\n",
              "      background-color: #E2EBFA;\n",
              "      box-shadow: 0px 1px 2px rgba(60, 64, 67, 0.3), 0px 1px 3px 1px rgba(60, 64, 67, 0.15);\n",
              "      fill: #174EA6;\n",
              "    }\n",
              "\n",
              "    [theme=dark] .colab-df-convert {\n",
              "      background-color: #3B4455;\n",
              "      fill: #D2E3FC;\n",
              "    }\n",
              "\n",
              "    [theme=dark] .colab-df-convert:hover {\n",
              "      background-color: #434B5C;\n",
              "      box-shadow: 0px 1px 3px 1px rgba(0, 0, 0, 0.15);\n",
              "      filter: drop-shadow(0px 1px 2px rgba(0, 0, 0, 0.3));\n",
              "      fill: #FFFFFF;\n",
              "    }\n",
              "  </style>\n",
              "\n",
              "      <script>\n",
              "        const buttonEl =\n",
              "          document.querySelector('#df-5ffba8dd-a79a-4b57-860e-b04b226d8a64 button.colab-df-convert');\n",
              "        buttonEl.style.display =\n",
              "          google.colab.kernel.accessAllowed ? 'block' : 'none';\n",
              "\n",
              "        async function convertToInteractive(key) {\n",
              "          const element = document.querySelector('#df-5ffba8dd-a79a-4b57-860e-b04b226d8a64');\n",
              "          const dataTable =\n",
              "            await google.colab.kernel.invokeFunction('convertToInteractive',\n",
              "                                                     [key], {});\n",
              "          if (!dataTable) return;\n",
              "\n",
              "          const docLinkHtml = 'Like what you see? Visit the ' +\n",
              "            '<a target=\"_blank\" href=https://colab.research.google.com/notebooks/data_table.ipynb>data table notebook</a>'\n",
              "            + ' to learn more about interactive tables.';\n",
              "          element.innerHTML = '';\n",
              "          dataTable['output_type'] = 'display_data';\n",
              "          await google.colab.output.renderOutput(dataTable, element);\n",
              "          const docLink = document.createElement('div');\n",
              "          docLink.innerHTML = docLinkHtml;\n",
              "          element.appendChild(docLink);\n",
              "        }\n",
              "      </script>\n",
              "    </div>\n",
              "  </div>\n",
              "  "
            ]
          },
          "metadata": {},
          "execution_count": 182
        }
      ]
    },
    {
      "cell_type": "code",
      "source": [
        "data.loc['California':'Florida','pop':'density']"
      ],
      "metadata": {
        "colab": {
          "base_uri": "https://localhost:8080/",
          "height": 175
        },
        "id": "l1Uqe1L84AhJ",
        "outputId": "1be2c098-358e-4d36-847a-94afb9b10b3f"
      },
      "execution_count": 183,
      "outputs": [
        {
          "output_type": "execute_result",
          "data": {
            "text/plain": [
              "                 pop     density\n",
              "California  38332521   90.413926\n",
              "Texas       26448193   38.018740\n",
              "New York    19651127  139.076746\n",
              "Florida     19552860  114.806121"
            ],
            "text/html": [
              "\n",
              "  <div id=\"df-18f5906b-8a01-4f2e-864e-8e532a1566ef\">\n",
              "    <div class=\"colab-df-container\">\n",
              "      <div>\n",
              "<style scoped>\n",
              "    .dataframe tbody tr th:only-of-type {\n",
              "        vertical-align: middle;\n",
              "    }\n",
              "\n",
              "    .dataframe tbody tr th {\n",
              "        vertical-align: top;\n",
              "    }\n",
              "\n",
              "    .dataframe thead th {\n",
              "        text-align: right;\n",
              "    }\n",
              "</style>\n",
              "<table border=\"1\" class=\"dataframe\">\n",
              "  <thead>\n",
              "    <tr style=\"text-align: right;\">\n",
              "      <th></th>\n",
              "      <th>pop</th>\n",
              "      <th>density</th>\n",
              "    </tr>\n",
              "  </thead>\n",
              "  <tbody>\n",
              "    <tr>\n",
              "      <th>California</th>\n",
              "      <td>38332521</td>\n",
              "      <td>90.413926</td>\n",
              "    </tr>\n",
              "    <tr>\n",
              "      <th>Texas</th>\n",
              "      <td>26448193</td>\n",
              "      <td>38.018740</td>\n",
              "    </tr>\n",
              "    <tr>\n",
              "      <th>New York</th>\n",
              "      <td>19651127</td>\n",
              "      <td>139.076746</td>\n",
              "    </tr>\n",
              "    <tr>\n",
              "      <th>Florida</th>\n",
              "      <td>19552860</td>\n",
              "      <td>114.806121</td>\n",
              "    </tr>\n",
              "  </tbody>\n",
              "</table>\n",
              "</div>\n",
              "      <button class=\"colab-df-convert\" onclick=\"convertToInteractive('df-18f5906b-8a01-4f2e-864e-8e532a1566ef')\"\n",
              "              title=\"Convert this dataframe to an interactive table.\"\n",
              "              style=\"display:none;\">\n",
              "        \n",
              "  <svg xmlns=\"http://www.w3.org/2000/svg\" height=\"24px\"viewBox=\"0 0 24 24\"\n",
              "       width=\"24px\">\n",
              "    <path d=\"M0 0h24v24H0V0z\" fill=\"none\"/>\n",
              "    <path d=\"M18.56 5.44l.94 2.06.94-2.06 2.06-.94-2.06-.94-.94-2.06-.94 2.06-2.06.94zm-11 1L8.5 8.5l.94-2.06 2.06-.94-2.06-.94L8.5 2.5l-.94 2.06-2.06.94zm10 10l.94 2.06.94-2.06 2.06-.94-2.06-.94-.94-2.06-.94 2.06-2.06.94z\"/><path d=\"M17.41 7.96l-1.37-1.37c-.4-.4-.92-.59-1.43-.59-.52 0-1.04.2-1.43.59L10.3 9.45l-7.72 7.72c-.78.78-.78 2.05 0 2.83L4 21.41c.39.39.9.59 1.41.59.51 0 1.02-.2 1.41-.59l7.78-7.78 2.81-2.81c.8-.78.8-2.07 0-2.86zM5.41 20L4 18.59l7.72-7.72 1.47 1.35L5.41 20z\"/>\n",
              "  </svg>\n",
              "      </button>\n",
              "      \n",
              "  <style>\n",
              "    .colab-df-container {\n",
              "      display:flex;\n",
              "      flex-wrap:wrap;\n",
              "      gap: 12px;\n",
              "    }\n",
              "\n",
              "    .colab-df-convert {\n",
              "      background-color: #E8F0FE;\n",
              "      border: none;\n",
              "      border-radius: 50%;\n",
              "      cursor: pointer;\n",
              "      display: none;\n",
              "      fill: #1967D2;\n",
              "      height: 32px;\n",
              "      padding: 0 0 0 0;\n",
              "      width: 32px;\n",
              "    }\n",
              "\n",
              "    .colab-df-convert:hover {\n",
              "      background-color: #E2EBFA;\n",
              "      box-shadow: 0px 1px 2px rgba(60, 64, 67, 0.3), 0px 1px 3px 1px rgba(60, 64, 67, 0.15);\n",
              "      fill: #174EA6;\n",
              "    }\n",
              "\n",
              "    [theme=dark] .colab-df-convert {\n",
              "      background-color: #3B4455;\n",
              "      fill: #D2E3FC;\n",
              "    }\n",
              "\n",
              "    [theme=dark] .colab-df-convert:hover {\n",
              "      background-color: #434B5C;\n",
              "      box-shadow: 0px 1px 3px 1px rgba(0, 0, 0, 0.15);\n",
              "      filter: drop-shadow(0px 1px 2px rgba(0, 0, 0, 0.3));\n",
              "      fill: #FFFFFF;\n",
              "    }\n",
              "  </style>\n",
              "\n",
              "      <script>\n",
              "        const buttonEl =\n",
              "          document.querySelector('#df-18f5906b-8a01-4f2e-864e-8e532a1566ef button.colab-df-convert');\n",
              "        buttonEl.style.display =\n",
              "          google.colab.kernel.accessAllowed ? 'block' : 'none';\n",
              "\n",
              "        async function convertToInteractive(key) {\n",
              "          const element = document.querySelector('#df-18f5906b-8a01-4f2e-864e-8e532a1566ef');\n",
              "          const dataTable =\n",
              "            await google.colab.kernel.invokeFunction('convertToInteractive',\n",
              "                                                     [key], {});\n",
              "          if (!dataTable) return;\n",
              "\n",
              "          const docLinkHtml = 'Like what you see? Visit the ' +\n",
              "            '<a target=\"_blank\" href=https://colab.research.google.com/notebooks/data_table.ipynb>data table notebook</a>'\n",
              "            + ' to learn more about interactive tables.';\n",
              "          element.innerHTML = '';\n",
              "          dataTable['output_type'] = 'display_data';\n",
              "          await google.colab.output.renderOutput(dataTable, element);\n",
              "          const docLink = document.createElement('div');\n",
              "          docLink.innerHTML = docLinkHtml;\n",
              "          element.appendChild(docLink);\n",
              "        }\n",
              "      </script>\n",
              "    </div>\n",
              "  </div>\n",
              "  "
            ]
          },
          "metadata": {},
          "execution_count": 183
        }
      ]
    },
    {
      "cell_type": "markdown",
      "source": [
        "#Operando com dados em Pandas\n",
        "\n",
        "O pandas foi feito para operar com o numpy, logo qualquer unfuc do numy pode ser usados com as estruturas do pandas"
      ],
      "metadata": {
        "id": "At90gs456fbm"
      }
    },
    {
      "cell_type": "code",
      "source": [
        "rng = np.random.RandomState(42)\n",
        "ser = pd.Series(rng.randint(0, 10, 4))\n",
        "ser"
      ],
      "metadata": {
        "colab": {
          "base_uri": "https://localhost:8080/"
        },
        "id": "v-nlENv-7mqZ",
        "outputId": "06c92539-c663-4b3f-cec8-0d32f60bab19"
      },
      "execution_count": 184,
      "outputs": [
        {
          "output_type": "execute_result",
          "data": {
            "text/plain": [
              "0    6\n",
              "1    3\n",
              "2    7\n",
              "3    4\n",
              "dtype: int64"
            ]
          },
          "metadata": {},
          "execution_count": 184
        }
      ]
    },
    {
      "cell_type": "code",
      "source": [
        "df = pd.DataFrame(rng.randint(0, 10, (3, 4)),\n",
        "                  columns=['A', 'B', 'C', 'D'])\n",
        "df"
      ],
      "metadata": {
        "colab": {
          "base_uri": "https://localhost:8080/",
          "height": 143
        },
        "id": "TEf2oizx7oIy",
        "outputId": "febd2256-1a9b-4667-d176-2980b050e51e"
      },
      "execution_count": 185,
      "outputs": [
        {
          "output_type": "execute_result",
          "data": {
            "text/plain": [
              "   A  B  C  D\n",
              "0  6  9  2  6\n",
              "1  7  4  3  7\n",
              "2  7  2  5  4"
            ],
            "text/html": [
              "\n",
              "  <div id=\"df-ade50d09-008d-4e27-b8e1-a795fb4e3be8\">\n",
              "    <div class=\"colab-df-container\">\n",
              "      <div>\n",
              "<style scoped>\n",
              "    .dataframe tbody tr th:only-of-type {\n",
              "        vertical-align: middle;\n",
              "    }\n",
              "\n",
              "    .dataframe tbody tr th {\n",
              "        vertical-align: top;\n",
              "    }\n",
              "\n",
              "    .dataframe thead th {\n",
              "        text-align: right;\n",
              "    }\n",
              "</style>\n",
              "<table border=\"1\" class=\"dataframe\">\n",
              "  <thead>\n",
              "    <tr style=\"text-align: right;\">\n",
              "      <th></th>\n",
              "      <th>A</th>\n",
              "      <th>B</th>\n",
              "      <th>C</th>\n",
              "      <th>D</th>\n",
              "    </tr>\n",
              "  </thead>\n",
              "  <tbody>\n",
              "    <tr>\n",
              "      <th>0</th>\n",
              "      <td>6</td>\n",
              "      <td>9</td>\n",
              "      <td>2</td>\n",
              "      <td>6</td>\n",
              "    </tr>\n",
              "    <tr>\n",
              "      <th>1</th>\n",
              "      <td>7</td>\n",
              "      <td>4</td>\n",
              "      <td>3</td>\n",
              "      <td>7</td>\n",
              "    </tr>\n",
              "    <tr>\n",
              "      <th>2</th>\n",
              "      <td>7</td>\n",
              "      <td>2</td>\n",
              "      <td>5</td>\n",
              "      <td>4</td>\n",
              "    </tr>\n",
              "  </tbody>\n",
              "</table>\n",
              "</div>\n",
              "      <button class=\"colab-df-convert\" onclick=\"convertToInteractive('df-ade50d09-008d-4e27-b8e1-a795fb4e3be8')\"\n",
              "              title=\"Convert this dataframe to an interactive table.\"\n",
              "              style=\"display:none;\">\n",
              "        \n",
              "  <svg xmlns=\"http://www.w3.org/2000/svg\" height=\"24px\"viewBox=\"0 0 24 24\"\n",
              "       width=\"24px\">\n",
              "    <path d=\"M0 0h24v24H0V0z\" fill=\"none\"/>\n",
              "    <path d=\"M18.56 5.44l.94 2.06.94-2.06 2.06-.94-2.06-.94-.94-2.06-.94 2.06-2.06.94zm-11 1L8.5 8.5l.94-2.06 2.06-.94-2.06-.94L8.5 2.5l-.94 2.06-2.06.94zm10 10l.94 2.06.94-2.06 2.06-.94-2.06-.94-.94-2.06-.94 2.06-2.06.94z\"/><path d=\"M17.41 7.96l-1.37-1.37c-.4-.4-.92-.59-1.43-.59-.52 0-1.04.2-1.43.59L10.3 9.45l-7.72 7.72c-.78.78-.78 2.05 0 2.83L4 21.41c.39.39.9.59 1.41.59.51 0 1.02-.2 1.41-.59l7.78-7.78 2.81-2.81c.8-.78.8-2.07 0-2.86zM5.41 20L4 18.59l7.72-7.72 1.47 1.35L5.41 20z\"/>\n",
              "  </svg>\n",
              "      </button>\n",
              "      \n",
              "  <style>\n",
              "    .colab-df-container {\n",
              "      display:flex;\n",
              "      flex-wrap:wrap;\n",
              "      gap: 12px;\n",
              "    }\n",
              "\n",
              "    .colab-df-convert {\n",
              "      background-color: #E8F0FE;\n",
              "      border: none;\n",
              "      border-radius: 50%;\n",
              "      cursor: pointer;\n",
              "      display: none;\n",
              "      fill: #1967D2;\n",
              "      height: 32px;\n",
              "      padding: 0 0 0 0;\n",
              "      width: 32px;\n",
              "    }\n",
              "\n",
              "    .colab-df-convert:hover {\n",
              "      background-color: #E2EBFA;\n",
              "      box-shadow: 0px 1px 2px rgba(60, 64, 67, 0.3), 0px 1px 3px 1px rgba(60, 64, 67, 0.15);\n",
              "      fill: #174EA6;\n",
              "    }\n",
              "\n",
              "    [theme=dark] .colab-df-convert {\n",
              "      background-color: #3B4455;\n",
              "      fill: #D2E3FC;\n",
              "    }\n",
              "\n",
              "    [theme=dark] .colab-df-convert:hover {\n",
              "      background-color: #434B5C;\n",
              "      box-shadow: 0px 1px 3px 1px rgba(0, 0, 0, 0.15);\n",
              "      filter: drop-shadow(0px 1px 2px rgba(0, 0, 0, 0.3));\n",
              "      fill: #FFFFFF;\n",
              "    }\n",
              "  </style>\n",
              "\n",
              "      <script>\n",
              "        const buttonEl =\n",
              "          document.querySelector('#df-ade50d09-008d-4e27-b8e1-a795fb4e3be8 button.colab-df-convert');\n",
              "        buttonEl.style.display =\n",
              "          google.colab.kernel.accessAllowed ? 'block' : 'none';\n",
              "\n",
              "        async function convertToInteractive(key) {\n",
              "          const element = document.querySelector('#df-ade50d09-008d-4e27-b8e1-a795fb4e3be8');\n",
              "          const dataTable =\n",
              "            await google.colab.kernel.invokeFunction('convertToInteractive',\n",
              "                                                     [key], {});\n",
              "          if (!dataTable) return;\n",
              "\n",
              "          const docLinkHtml = 'Like what you see? Visit the ' +\n",
              "            '<a target=\"_blank\" href=https://colab.research.google.com/notebooks/data_table.ipynb>data table notebook</a>'\n",
              "            + ' to learn more about interactive tables.';\n",
              "          element.innerHTML = '';\n",
              "          dataTable['output_type'] = 'display_data';\n",
              "          await google.colab.output.renderOutput(dataTable, element);\n",
              "          const docLink = document.createElement('div');\n",
              "          docLink.innerHTML = docLinkHtml;\n",
              "          element.appendChild(docLink);\n",
              "        }\n",
              "      </script>\n",
              "    </div>\n",
              "  </div>\n",
              "  "
            ]
          },
          "metadata": {},
          "execution_count": 185
        }
      ]
    },
    {
      "cell_type": "code",
      "source": [
        "np.exp(df)"
      ],
      "metadata": {
        "colab": {
          "base_uri": "https://localhost:8080/",
          "height": 143
        },
        "id": "uPIst3yf8I76",
        "outputId": "9b18c61a-585a-4874-db69-495bf17b10fe"
      },
      "execution_count": 186,
      "outputs": [
        {
          "output_type": "execute_result",
          "data": {
            "text/plain": [
              "             A            B           C            D\n",
              "0   403.428793  8103.083928    7.389056   403.428793\n",
              "1  1096.633158    54.598150   20.085537  1096.633158\n",
              "2  1096.633158     7.389056  148.413159    54.598150"
            ],
            "text/html": [
              "\n",
              "  <div id=\"df-884ce56f-98ce-4dfa-be41-70f67e744bb1\">\n",
              "    <div class=\"colab-df-container\">\n",
              "      <div>\n",
              "<style scoped>\n",
              "    .dataframe tbody tr th:only-of-type {\n",
              "        vertical-align: middle;\n",
              "    }\n",
              "\n",
              "    .dataframe tbody tr th {\n",
              "        vertical-align: top;\n",
              "    }\n",
              "\n",
              "    .dataframe thead th {\n",
              "        text-align: right;\n",
              "    }\n",
              "</style>\n",
              "<table border=\"1\" class=\"dataframe\">\n",
              "  <thead>\n",
              "    <tr style=\"text-align: right;\">\n",
              "      <th></th>\n",
              "      <th>A</th>\n",
              "      <th>B</th>\n",
              "      <th>C</th>\n",
              "      <th>D</th>\n",
              "    </tr>\n",
              "  </thead>\n",
              "  <tbody>\n",
              "    <tr>\n",
              "      <th>0</th>\n",
              "      <td>403.428793</td>\n",
              "      <td>8103.083928</td>\n",
              "      <td>7.389056</td>\n",
              "      <td>403.428793</td>\n",
              "    </tr>\n",
              "    <tr>\n",
              "      <th>1</th>\n",
              "      <td>1096.633158</td>\n",
              "      <td>54.598150</td>\n",
              "      <td>20.085537</td>\n",
              "      <td>1096.633158</td>\n",
              "    </tr>\n",
              "    <tr>\n",
              "      <th>2</th>\n",
              "      <td>1096.633158</td>\n",
              "      <td>7.389056</td>\n",
              "      <td>148.413159</td>\n",
              "      <td>54.598150</td>\n",
              "    </tr>\n",
              "  </tbody>\n",
              "</table>\n",
              "</div>\n",
              "      <button class=\"colab-df-convert\" onclick=\"convertToInteractive('df-884ce56f-98ce-4dfa-be41-70f67e744bb1')\"\n",
              "              title=\"Convert this dataframe to an interactive table.\"\n",
              "              style=\"display:none;\">\n",
              "        \n",
              "  <svg xmlns=\"http://www.w3.org/2000/svg\" height=\"24px\"viewBox=\"0 0 24 24\"\n",
              "       width=\"24px\">\n",
              "    <path d=\"M0 0h24v24H0V0z\" fill=\"none\"/>\n",
              "    <path d=\"M18.56 5.44l.94 2.06.94-2.06 2.06-.94-2.06-.94-.94-2.06-.94 2.06-2.06.94zm-11 1L8.5 8.5l.94-2.06 2.06-.94-2.06-.94L8.5 2.5l-.94 2.06-2.06.94zm10 10l.94 2.06.94-2.06 2.06-.94-2.06-.94-.94-2.06-.94 2.06-2.06.94z\"/><path d=\"M17.41 7.96l-1.37-1.37c-.4-.4-.92-.59-1.43-.59-.52 0-1.04.2-1.43.59L10.3 9.45l-7.72 7.72c-.78.78-.78 2.05 0 2.83L4 21.41c.39.39.9.59 1.41.59.51 0 1.02-.2 1.41-.59l7.78-7.78 2.81-2.81c.8-.78.8-2.07 0-2.86zM5.41 20L4 18.59l7.72-7.72 1.47 1.35L5.41 20z\"/>\n",
              "  </svg>\n",
              "      </button>\n",
              "      \n",
              "  <style>\n",
              "    .colab-df-container {\n",
              "      display:flex;\n",
              "      flex-wrap:wrap;\n",
              "      gap: 12px;\n",
              "    }\n",
              "\n",
              "    .colab-df-convert {\n",
              "      background-color: #E8F0FE;\n",
              "      border: none;\n",
              "      border-radius: 50%;\n",
              "      cursor: pointer;\n",
              "      display: none;\n",
              "      fill: #1967D2;\n",
              "      height: 32px;\n",
              "      padding: 0 0 0 0;\n",
              "      width: 32px;\n",
              "    }\n",
              "\n",
              "    .colab-df-convert:hover {\n",
              "      background-color: #E2EBFA;\n",
              "      box-shadow: 0px 1px 2px rgba(60, 64, 67, 0.3), 0px 1px 3px 1px rgba(60, 64, 67, 0.15);\n",
              "      fill: #174EA6;\n",
              "    }\n",
              "\n",
              "    [theme=dark] .colab-df-convert {\n",
              "      background-color: #3B4455;\n",
              "      fill: #D2E3FC;\n",
              "    }\n",
              "\n",
              "    [theme=dark] .colab-df-convert:hover {\n",
              "      background-color: #434B5C;\n",
              "      box-shadow: 0px 1px 3px 1px rgba(0, 0, 0, 0.15);\n",
              "      filter: drop-shadow(0px 1px 2px rgba(0, 0, 0, 0.3));\n",
              "      fill: #FFFFFF;\n",
              "    }\n",
              "  </style>\n",
              "\n",
              "      <script>\n",
              "        const buttonEl =\n",
              "          document.querySelector('#df-884ce56f-98ce-4dfa-be41-70f67e744bb1 button.colab-df-convert');\n",
              "        buttonEl.style.display =\n",
              "          google.colab.kernel.accessAllowed ? 'block' : 'none';\n",
              "\n",
              "        async function convertToInteractive(key) {\n",
              "          const element = document.querySelector('#df-884ce56f-98ce-4dfa-be41-70f67e744bb1');\n",
              "          const dataTable =\n",
              "            await google.colab.kernel.invokeFunction('convertToInteractive',\n",
              "                                                     [key], {});\n",
              "          if (!dataTable) return;\n",
              "\n",
              "          const docLinkHtml = 'Like what you see? Visit the ' +\n",
              "            '<a target=\"_blank\" href=https://colab.research.google.com/notebooks/data_table.ipynb>data table notebook</a>'\n",
              "            + ' to learn more about interactive tables.';\n",
              "          element.innerHTML = '';\n",
              "          dataTable['output_type'] = 'display_data';\n",
              "          await google.colab.output.renderOutput(dataTable, element);\n",
              "          const docLink = document.createElement('div');\n",
              "          docLink.innerHTML = docLinkHtml;\n",
              "          element.appendChild(docLink);\n",
              "        }\n",
              "      </script>\n",
              "    </div>\n",
              "  </div>\n",
              "  "
            ]
          },
          "metadata": {},
          "execution_count": 186
        }
      ]
    },
    {
      "cell_type": "markdown",
      "source": [
        "##UFuncs: Alinhamento de índice \n",
        "Para operações binárias em dois Seriesou DataFrameobjetos, o Pandas alinhará os índices no processo de execução da operação. Isso é muito conveniente quando se trabalha com dados incompletos, como veremos em alguns dos exemplos a seguir."
      ],
      "metadata": {
        "id": "JNf0MfvN9Zq6"
      }
    },
    {
      "cell_type": "markdown",
      "source": [
        "Como exemplo, suponha que estamos combinando duas fontes de dados diferentes e encontramos apenas os três principais estados dos EUA por área e os três principais estados dos EUA por população :"
      ],
      "metadata": {
        "id": "2s0CeVV_9caD"
      }
    },
    {
      "cell_type": "code",
      "source": [
        "area = pd.Series({'Alaska': 1723337, 'Texas': 695662,\n",
        "                  'California': 423967}, name='area')\n",
        "population = pd.Series({'California': 38332521, 'Texas': 26448193,\n",
        "                        'New York': 19651127}, name='population')"
      ],
      "metadata": {
        "id": "rEJ5_J0X9ex6"
      },
      "execution_count": 187,
      "outputs": []
    },
    {
      "cell_type": "markdown",
      "source": [
        "Se tentarmos dividir teremos:"
      ],
      "metadata": {
        "id": "lzWO6Fhc9tI2"
      }
    },
    {
      "cell_type": "code",
      "source": [
        "population / area"
      ],
      "metadata": {
        "colab": {
          "base_uri": "https://localhost:8080/"
        },
        "id": "dXf8jAVM9odY",
        "outputId": "a44f3d0f-3aed-4a3e-9af9-cc435103cd3e"
      },
      "execution_count": 188,
      "outputs": [
        {
          "output_type": "execute_result",
          "data": {
            "text/plain": [
              "Alaska              NaN\n",
              "California    90.413926\n",
              "New York            NaN\n",
              "Texas         38.018740\n",
              "dtype: float64"
            ]
          },
          "metadata": {},
          "execution_count": 188
        }
      ]
    },
    {
      "cell_type": "markdown",
      "source": [
        "O mesmo pode ser visto para os DataFrames"
      ],
      "metadata": {
        "id": "zijECXik6g20"
      }
    },
    {
      "cell_type": "code",
      "source": [
        "A = pd.DataFrame(rng.randint(0, 20, (2, 2)),\n",
        "                 columns=list('AB'))\n",
        "A"
      ],
      "metadata": {
        "colab": {
          "base_uri": "https://localhost:8080/",
          "height": 112
        },
        "id": "2mtkT4HCAG51",
        "outputId": "1c938539-ba27-4143-c097-c942675871be"
      },
      "execution_count": 189,
      "outputs": [
        {
          "output_type": "execute_result",
          "data": {
            "text/plain": [
              "   A   B\n",
              "0  1  11\n",
              "1  5   1"
            ],
            "text/html": [
              "\n",
              "  <div id=\"df-fd3e998f-e01a-4b93-9c16-a24d4bc52f25\">\n",
              "    <div class=\"colab-df-container\">\n",
              "      <div>\n",
              "<style scoped>\n",
              "    .dataframe tbody tr th:only-of-type {\n",
              "        vertical-align: middle;\n",
              "    }\n",
              "\n",
              "    .dataframe tbody tr th {\n",
              "        vertical-align: top;\n",
              "    }\n",
              "\n",
              "    .dataframe thead th {\n",
              "        text-align: right;\n",
              "    }\n",
              "</style>\n",
              "<table border=\"1\" class=\"dataframe\">\n",
              "  <thead>\n",
              "    <tr style=\"text-align: right;\">\n",
              "      <th></th>\n",
              "      <th>A</th>\n",
              "      <th>B</th>\n",
              "    </tr>\n",
              "  </thead>\n",
              "  <tbody>\n",
              "    <tr>\n",
              "      <th>0</th>\n",
              "      <td>1</td>\n",
              "      <td>11</td>\n",
              "    </tr>\n",
              "    <tr>\n",
              "      <th>1</th>\n",
              "      <td>5</td>\n",
              "      <td>1</td>\n",
              "    </tr>\n",
              "  </tbody>\n",
              "</table>\n",
              "</div>\n",
              "      <button class=\"colab-df-convert\" onclick=\"convertToInteractive('df-fd3e998f-e01a-4b93-9c16-a24d4bc52f25')\"\n",
              "              title=\"Convert this dataframe to an interactive table.\"\n",
              "              style=\"display:none;\">\n",
              "        \n",
              "  <svg xmlns=\"http://www.w3.org/2000/svg\" height=\"24px\"viewBox=\"0 0 24 24\"\n",
              "       width=\"24px\">\n",
              "    <path d=\"M0 0h24v24H0V0z\" fill=\"none\"/>\n",
              "    <path d=\"M18.56 5.44l.94 2.06.94-2.06 2.06-.94-2.06-.94-.94-2.06-.94 2.06-2.06.94zm-11 1L8.5 8.5l.94-2.06 2.06-.94-2.06-.94L8.5 2.5l-.94 2.06-2.06.94zm10 10l.94 2.06.94-2.06 2.06-.94-2.06-.94-.94-2.06-.94 2.06-2.06.94z\"/><path d=\"M17.41 7.96l-1.37-1.37c-.4-.4-.92-.59-1.43-.59-.52 0-1.04.2-1.43.59L10.3 9.45l-7.72 7.72c-.78.78-.78 2.05 0 2.83L4 21.41c.39.39.9.59 1.41.59.51 0 1.02-.2 1.41-.59l7.78-7.78 2.81-2.81c.8-.78.8-2.07 0-2.86zM5.41 20L4 18.59l7.72-7.72 1.47 1.35L5.41 20z\"/>\n",
              "  </svg>\n",
              "      </button>\n",
              "      \n",
              "  <style>\n",
              "    .colab-df-container {\n",
              "      display:flex;\n",
              "      flex-wrap:wrap;\n",
              "      gap: 12px;\n",
              "    }\n",
              "\n",
              "    .colab-df-convert {\n",
              "      background-color: #E8F0FE;\n",
              "      border: none;\n",
              "      border-radius: 50%;\n",
              "      cursor: pointer;\n",
              "      display: none;\n",
              "      fill: #1967D2;\n",
              "      height: 32px;\n",
              "      padding: 0 0 0 0;\n",
              "      width: 32px;\n",
              "    }\n",
              "\n",
              "    .colab-df-convert:hover {\n",
              "      background-color: #E2EBFA;\n",
              "      box-shadow: 0px 1px 2px rgba(60, 64, 67, 0.3), 0px 1px 3px 1px rgba(60, 64, 67, 0.15);\n",
              "      fill: #174EA6;\n",
              "    }\n",
              "\n",
              "    [theme=dark] .colab-df-convert {\n",
              "      background-color: #3B4455;\n",
              "      fill: #D2E3FC;\n",
              "    }\n",
              "\n",
              "    [theme=dark] .colab-df-convert:hover {\n",
              "      background-color: #434B5C;\n",
              "      box-shadow: 0px 1px 3px 1px rgba(0, 0, 0, 0.15);\n",
              "      filter: drop-shadow(0px 1px 2px rgba(0, 0, 0, 0.3));\n",
              "      fill: #FFFFFF;\n",
              "    }\n",
              "  </style>\n",
              "\n",
              "      <script>\n",
              "        const buttonEl =\n",
              "          document.querySelector('#df-fd3e998f-e01a-4b93-9c16-a24d4bc52f25 button.colab-df-convert');\n",
              "        buttonEl.style.display =\n",
              "          google.colab.kernel.accessAllowed ? 'block' : 'none';\n",
              "\n",
              "        async function convertToInteractive(key) {\n",
              "          const element = document.querySelector('#df-fd3e998f-e01a-4b93-9c16-a24d4bc52f25');\n",
              "          const dataTable =\n",
              "            await google.colab.kernel.invokeFunction('convertToInteractive',\n",
              "                                                     [key], {});\n",
              "          if (!dataTable) return;\n",
              "\n",
              "          const docLinkHtml = 'Like what you see? Visit the ' +\n",
              "            '<a target=\"_blank\" href=https://colab.research.google.com/notebooks/data_table.ipynb>data table notebook</a>'\n",
              "            + ' to learn more about interactive tables.';\n",
              "          element.innerHTML = '';\n",
              "          dataTable['output_type'] = 'display_data';\n",
              "          await google.colab.output.renderOutput(dataTable, element);\n",
              "          const docLink = document.createElement('div');\n",
              "          docLink.innerHTML = docLinkHtml;\n",
              "          element.appendChild(docLink);\n",
              "        }\n",
              "      </script>\n",
              "    </div>\n",
              "  </div>\n",
              "  "
            ]
          },
          "metadata": {},
          "execution_count": 189
        }
      ]
    },
    {
      "cell_type": "code",
      "source": [
        "B = pd.DataFrame(rng.randint(0, 10, (3, 3)),\n",
        "                 columns=list('BAC'))\n",
        "B"
      ],
      "metadata": {
        "colab": {
          "base_uri": "https://localhost:8080/",
          "height": 143
        },
        "id": "iIC8m-FtAHt6",
        "outputId": "4b2ee03e-c5de-4ed7-8ece-f904532b8f3d"
      },
      "execution_count": 190,
      "outputs": [
        {
          "output_type": "execute_result",
          "data": {
            "text/plain": [
              "   B  A  C\n",
              "0  4  0  9\n",
              "1  5  8  0\n",
              "2  9  2  6"
            ],
            "text/html": [
              "\n",
              "  <div id=\"df-4877c1af-d37d-42b3-9cf8-b818f4fac32e\">\n",
              "    <div class=\"colab-df-container\">\n",
              "      <div>\n",
              "<style scoped>\n",
              "    .dataframe tbody tr th:only-of-type {\n",
              "        vertical-align: middle;\n",
              "    }\n",
              "\n",
              "    .dataframe tbody tr th {\n",
              "        vertical-align: top;\n",
              "    }\n",
              "\n",
              "    .dataframe thead th {\n",
              "        text-align: right;\n",
              "    }\n",
              "</style>\n",
              "<table border=\"1\" class=\"dataframe\">\n",
              "  <thead>\n",
              "    <tr style=\"text-align: right;\">\n",
              "      <th></th>\n",
              "      <th>B</th>\n",
              "      <th>A</th>\n",
              "      <th>C</th>\n",
              "    </tr>\n",
              "  </thead>\n",
              "  <tbody>\n",
              "    <tr>\n",
              "      <th>0</th>\n",
              "      <td>4</td>\n",
              "      <td>0</td>\n",
              "      <td>9</td>\n",
              "    </tr>\n",
              "    <tr>\n",
              "      <th>1</th>\n",
              "      <td>5</td>\n",
              "      <td>8</td>\n",
              "      <td>0</td>\n",
              "    </tr>\n",
              "    <tr>\n",
              "      <th>2</th>\n",
              "      <td>9</td>\n",
              "      <td>2</td>\n",
              "      <td>6</td>\n",
              "    </tr>\n",
              "  </tbody>\n",
              "</table>\n",
              "</div>\n",
              "      <button class=\"colab-df-convert\" onclick=\"convertToInteractive('df-4877c1af-d37d-42b3-9cf8-b818f4fac32e')\"\n",
              "              title=\"Convert this dataframe to an interactive table.\"\n",
              "              style=\"display:none;\">\n",
              "        \n",
              "  <svg xmlns=\"http://www.w3.org/2000/svg\" height=\"24px\"viewBox=\"0 0 24 24\"\n",
              "       width=\"24px\">\n",
              "    <path d=\"M0 0h24v24H0V0z\" fill=\"none\"/>\n",
              "    <path d=\"M18.56 5.44l.94 2.06.94-2.06 2.06-.94-2.06-.94-.94-2.06-.94 2.06-2.06.94zm-11 1L8.5 8.5l.94-2.06 2.06-.94-2.06-.94L8.5 2.5l-.94 2.06-2.06.94zm10 10l.94 2.06.94-2.06 2.06-.94-2.06-.94-.94-2.06-.94 2.06-2.06.94z\"/><path d=\"M17.41 7.96l-1.37-1.37c-.4-.4-.92-.59-1.43-.59-.52 0-1.04.2-1.43.59L10.3 9.45l-7.72 7.72c-.78.78-.78 2.05 0 2.83L4 21.41c.39.39.9.59 1.41.59.51 0 1.02-.2 1.41-.59l7.78-7.78 2.81-2.81c.8-.78.8-2.07 0-2.86zM5.41 20L4 18.59l7.72-7.72 1.47 1.35L5.41 20z\"/>\n",
              "  </svg>\n",
              "      </button>\n",
              "      \n",
              "  <style>\n",
              "    .colab-df-container {\n",
              "      display:flex;\n",
              "      flex-wrap:wrap;\n",
              "      gap: 12px;\n",
              "    }\n",
              "\n",
              "    .colab-df-convert {\n",
              "      background-color: #E8F0FE;\n",
              "      border: none;\n",
              "      border-radius: 50%;\n",
              "      cursor: pointer;\n",
              "      display: none;\n",
              "      fill: #1967D2;\n",
              "      height: 32px;\n",
              "      padding: 0 0 0 0;\n",
              "      width: 32px;\n",
              "    }\n",
              "\n",
              "    .colab-df-convert:hover {\n",
              "      background-color: #E2EBFA;\n",
              "      box-shadow: 0px 1px 2px rgba(60, 64, 67, 0.3), 0px 1px 3px 1px rgba(60, 64, 67, 0.15);\n",
              "      fill: #174EA6;\n",
              "    }\n",
              "\n",
              "    [theme=dark] .colab-df-convert {\n",
              "      background-color: #3B4455;\n",
              "      fill: #D2E3FC;\n",
              "    }\n",
              "\n",
              "    [theme=dark] .colab-df-convert:hover {\n",
              "      background-color: #434B5C;\n",
              "      box-shadow: 0px 1px 3px 1px rgba(0, 0, 0, 0.15);\n",
              "      filter: drop-shadow(0px 1px 2px rgba(0, 0, 0, 0.3));\n",
              "      fill: #FFFFFF;\n",
              "    }\n",
              "  </style>\n",
              "\n",
              "      <script>\n",
              "        const buttonEl =\n",
              "          document.querySelector('#df-4877c1af-d37d-42b3-9cf8-b818f4fac32e button.colab-df-convert');\n",
              "        buttonEl.style.display =\n",
              "          google.colab.kernel.accessAllowed ? 'block' : 'none';\n",
              "\n",
              "        async function convertToInteractive(key) {\n",
              "          const element = document.querySelector('#df-4877c1af-d37d-42b3-9cf8-b818f4fac32e');\n",
              "          const dataTable =\n",
              "            await google.colab.kernel.invokeFunction('convertToInteractive',\n",
              "                                                     [key], {});\n",
              "          if (!dataTable) return;\n",
              "\n",
              "          const docLinkHtml = 'Like what you see? Visit the ' +\n",
              "            '<a target=\"_blank\" href=https://colab.research.google.com/notebooks/data_table.ipynb>data table notebook</a>'\n",
              "            + ' to learn more about interactive tables.';\n",
              "          element.innerHTML = '';\n",
              "          dataTable['output_type'] = 'display_data';\n",
              "          await google.colab.output.renderOutput(dataTable, element);\n",
              "          const docLink = document.createElement('div');\n",
              "          docLink.innerHTML = docLinkHtml;\n",
              "          element.appendChild(docLink);\n",
              "        }\n",
              "      </script>\n",
              "    </div>\n",
              "  </div>\n",
              "  "
            ]
          },
          "metadata": {},
          "execution_count": 190
        }
      ]
    },
    {
      "cell_type": "code",
      "source": [
        "A + B"
      ],
      "metadata": {
        "colab": {
          "base_uri": "https://localhost:8080/",
          "height": 143
        },
        "id": "Mwoiiw2lALyM",
        "outputId": "d8e22495-2a85-4950-a68b-74442c00a79f"
      },
      "execution_count": 191,
      "outputs": [
        {
          "output_type": "execute_result",
          "data": {
            "text/plain": [
              "      A     B   C\n",
              "0   1.0  15.0 NaN\n",
              "1  13.0   6.0 NaN\n",
              "2   NaN   NaN NaN"
            ],
            "text/html": [
              "\n",
              "  <div id=\"df-ac92d7af-044a-4936-bbec-4b76dec8dfcc\">\n",
              "    <div class=\"colab-df-container\">\n",
              "      <div>\n",
              "<style scoped>\n",
              "    .dataframe tbody tr th:only-of-type {\n",
              "        vertical-align: middle;\n",
              "    }\n",
              "\n",
              "    .dataframe tbody tr th {\n",
              "        vertical-align: top;\n",
              "    }\n",
              "\n",
              "    .dataframe thead th {\n",
              "        text-align: right;\n",
              "    }\n",
              "</style>\n",
              "<table border=\"1\" class=\"dataframe\">\n",
              "  <thead>\n",
              "    <tr style=\"text-align: right;\">\n",
              "      <th></th>\n",
              "      <th>A</th>\n",
              "      <th>B</th>\n",
              "      <th>C</th>\n",
              "    </tr>\n",
              "  </thead>\n",
              "  <tbody>\n",
              "    <tr>\n",
              "      <th>0</th>\n",
              "      <td>1.0</td>\n",
              "      <td>15.0</td>\n",
              "      <td>NaN</td>\n",
              "    </tr>\n",
              "    <tr>\n",
              "      <th>1</th>\n",
              "      <td>13.0</td>\n",
              "      <td>6.0</td>\n",
              "      <td>NaN</td>\n",
              "    </tr>\n",
              "    <tr>\n",
              "      <th>2</th>\n",
              "      <td>NaN</td>\n",
              "      <td>NaN</td>\n",
              "      <td>NaN</td>\n",
              "    </tr>\n",
              "  </tbody>\n",
              "</table>\n",
              "</div>\n",
              "      <button class=\"colab-df-convert\" onclick=\"convertToInteractive('df-ac92d7af-044a-4936-bbec-4b76dec8dfcc')\"\n",
              "              title=\"Convert this dataframe to an interactive table.\"\n",
              "              style=\"display:none;\">\n",
              "        \n",
              "  <svg xmlns=\"http://www.w3.org/2000/svg\" height=\"24px\"viewBox=\"0 0 24 24\"\n",
              "       width=\"24px\">\n",
              "    <path d=\"M0 0h24v24H0V0z\" fill=\"none\"/>\n",
              "    <path d=\"M18.56 5.44l.94 2.06.94-2.06 2.06-.94-2.06-.94-.94-2.06-.94 2.06-2.06.94zm-11 1L8.5 8.5l.94-2.06 2.06-.94-2.06-.94L8.5 2.5l-.94 2.06-2.06.94zm10 10l.94 2.06.94-2.06 2.06-.94-2.06-.94-.94-2.06-.94 2.06-2.06.94z\"/><path d=\"M17.41 7.96l-1.37-1.37c-.4-.4-.92-.59-1.43-.59-.52 0-1.04.2-1.43.59L10.3 9.45l-7.72 7.72c-.78.78-.78 2.05 0 2.83L4 21.41c.39.39.9.59 1.41.59.51 0 1.02-.2 1.41-.59l7.78-7.78 2.81-2.81c.8-.78.8-2.07 0-2.86zM5.41 20L4 18.59l7.72-7.72 1.47 1.35L5.41 20z\"/>\n",
              "  </svg>\n",
              "      </button>\n",
              "      \n",
              "  <style>\n",
              "    .colab-df-container {\n",
              "      display:flex;\n",
              "      flex-wrap:wrap;\n",
              "      gap: 12px;\n",
              "    }\n",
              "\n",
              "    .colab-df-convert {\n",
              "      background-color: #E8F0FE;\n",
              "      border: none;\n",
              "      border-radius: 50%;\n",
              "      cursor: pointer;\n",
              "      display: none;\n",
              "      fill: #1967D2;\n",
              "      height: 32px;\n",
              "      padding: 0 0 0 0;\n",
              "      width: 32px;\n",
              "    }\n",
              "\n",
              "    .colab-df-convert:hover {\n",
              "      background-color: #E2EBFA;\n",
              "      box-shadow: 0px 1px 2px rgba(60, 64, 67, 0.3), 0px 1px 3px 1px rgba(60, 64, 67, 0.15);\n",
              "      fill: #174EA6;\n",
              "    }\n",
              "\n",
              "    [theme=dark] .colab-df-convert {\n",
              "      background-color: #3B4455;\n",
              "      fill: #D2E3FC;\n",
              "    }\n",
              "\n",
              "    [theme=dark] .colab-df-convert:hover {\n",
              "      background-color: #434B5C;\n",
              "      box-shadow: 0px 1px 3px 1px rgba(0, 0, 0, 0.15);\n",
              "      filter: drop-shadow(0px 1px 2px rgba(0, 0, 0, 0.3));\n",
              "      fill: #FFFFFF;\n",
              "    }\n",
              "  </style>\n",
              "\n",
              "      <script>\n",
              "        const buttonEl =\n",
              "          document.querySelector('#df-ac92d7af-044a-4936-bbec-4b76dec8dfcc button.colab-df-convert');\n",
              "        buttonEl.style.display =\n",
              "          google.colab.kernel.accessAllowed ? 'block' : 'none';\n",
              "\n",
              "        async function convertToInteractive(key) {\n",
              "          const element = document.querySelector('#df-ac92d7af-044a-4936-bbec-4b76dec8dfcc');\n",
              "          const dataTable =\n",
              "            await google.colab.kernel.invokeFunction('convertToInteractive',\n",
              "                                                     [key], {});\n",
              "          if (!dataTable) return;\n",
              "\n",
              "          const docLinkHtml = 'Like what you see? Visit the ' +\n",
              "            '<a target=\"_blank\" href=https://colab.research.google.com/notebooks/data_table.ipynb>data table notebook</a>'\n",
              "            + ' to learn more about interactive tables.';\n",
              "          element.innerHTML = '';\n",
              "          dataTable['output_type'] = 'display_data';\n",
              "          await google.colab.output.renderOutput(dataTable, element);\n",
              "          const docLink = document.createElement('div');\n",
              "          docLink.innerHTML = docLinkHtml;\n",
              "          element.appendChild(docLink);\n",
              "        }\n",
              "      </script>\n",
              "    </div>\n",
              "  </div>\n",
              "  "
            ]
          },
          "metadata": {},
          "execution_count": 191
        }
      ]
    },
    {
      "cell_type": "markdown",
      "source": [
        "É possível mudar o valor padrão para esses dados inexistentes como "
      ],
      "metadata": {
        "id": "84VrIe5jBTGn"
      }
    },
    {
      "cell_type": "code",
      "source": [
        "fill = A.stack().mean() # media dos elementos de A\n",
        "fill"
      ],
      "metadata": {
        "colab": {
          "base_uri": "https://localhost:8080/"
        },
        "id": "e3rdXHhYA6fI",
        "outputId": "fc0b6d0e-2d36-4d51-fda4-eef7775cb735"
      },
      "execution_count": 192,
      "outputs": [
        {
          "output_type": "execute_result",
          "data": {
            "text/plain": [
              "4.5"
            ]
          },
          "metadata": {},
          "execution_count": 192
        }
      ]
    },
    {
      "cell_type": "code",
      "source": [
        "A.add(B, fill_value=fill) # o valor de fill será adicionado aos outros valores na adição de forma a completar as posições"
      ],
      "metadata": {
        "colab": {
          "base_uri": "https://localhost:8080/",
          "height": 143
        },
        "id": "qXD5BJhLBBZ-",
        "outputId": "b7c8f83d-4651-43be-b57f-1608bad10522"
      },
      "execution_count": 193,
      "outputs": [
        {
          "output_type": "execute_result",
          "data": {
            "text/plain": [
              "      A     B     C\n",
              "0   1.0  15.0  13.5\n",
              "1  13.0   6.0   4.5\n",
              "2   6.5  13.5  10.5"
            ],
            "text/html": [
              "\n",
              "  <div id=\"df-8e7e8645-25a1-42a4-8fbc-b14701da21c7\">\n",
              "    <div class=\"colab-df-container\">\n",
              "      <div>\n",
              "<style scoped>\n",
              "    .dataframe tbody tr th:only-of-type {\n",
              "        vertical-align: middle;\n",
              "    }\n",
              "\n",
              "    .dataframe tbody tr th {\n",
              "        vertical-align: top;\n",
              "    }\n",
              "\n",
              "    .dataframe thead th {\n",
              "        text-align: right;\n",
              "    }\n",
              "</style>\n",
              "<table border=\"1\" class=\"dataframe\">\n",
              "  <thead>\n",
              "    <tr style=\"text-align: right;\">\n",
              "      <th></th>\n",
              "      <th>A</th>\n",
              "      <th>B</th>\n",
              "      <th>C</th>\n",
              "    </tr>\n",
              "  </thead>\n",
              "  <tbody>\n",
              "    <tr>\n",
              "      <th>0</th>\n",
              "      <td>1.0</td>\n",
              "      <td>15.0</td>\n",
              "      <td>13.5</td>\n",
              "    </tr>\n",
              "    <tr>\n",
              "      <th>1</th>\n",
              "      <td>13.0</td>\n",
              "      <td>6.0</td>\n",
              "      <td>4.5</td>\n",
              "    </tr>\n",
              "    <tr>\n",
              "      <th>2</th>\n",
              "      <td>6.5</td>\n",
              "      <td>13.5</td>\n",
              "      <td>10.5</td>\n",
              "    </tr>\n",
              "  </tbody>\n",
              "</table>\n",
              "</div>\n",
              "      <button class=\"colab-df-convert\" onclick=\"convertToInteractive('df-8e7e8645-25a1-42a4-8fbc-b14701da21c7')\"\n",
              "              title=\"Convert this dataframe to an interactive table.\"\n",
              "              style=\"display:none;\">\n",
              "        \n",
              "  <svg xmlns=\"http://www.w3.org/2000/svg\" height=\"24px\"viewBox=\"0 0 24 24\"\n",
              "       width=\"24px\">\n",
              "    <path d=\"M0 0h24v24H0V0z\" fill=\"none\"/>\n",
              "    <path d=\"M18.56 5.44l.94 2.06.94-2.06 2.06-.94-2.06-.94-.94-2.06-.94 2.06-2.06.94zm-11 1L8.5 8.5l.94-2.06 2.06-.94-2.06-.94L8.5 2.5l-.94 2.06-2.06.94zm10 10l.94 2.06.94-2.06 2.06-.94-2.06-.94-.94-2.06-.94 2.06-2.06.94z\"/><path d=\"M17.41 7.96l-1.37-1.37c-.4-.4-.92-.59-1.43-.59-.52 0-1.04.2-1.43.59L10.3 9.45l-7.72 7.72c-.78.78-.78 2.05 0 2.83L4 21.41c.39.39.9.59 1.41.59.51 0 1.02-.2 1.41-.59l7.78-7.78 2.81-2.81c.8-.78.8-2.07 0-2.86zM5.41 20L4 18.59l7.72-7.72 1.47 1.35L5.41 20z\"/>\n",
              "  </svg>\n",
              "      </button>\n",
              "      \n",
              "  <style>\n",
              "    .colab-df-container {\n",
              "      display:flex;\n",
              "      flex-wrap:wrap;\n",
              "      gap: 12px;\n",
              "    }\n",
              "\n",
              "    .colab-df-convert {\n",
              "      background-color: #E8F0FE;\n",
              "      border: none;\n",
              "      border-radius: 50%;\n",
              "      cursor: pointer;\n",
              "      display: none;\n",
              "      fill: #1967D2;\n",
              "      height: 32px;\n",
              "      padding: 0 0 0 0;\n",
              "      width: 32px;\n",
              "    }\n",
              "\n",
              "    .colab-df-convert:hover {\n",
              "      background-color: #E2EBFA;\n",
              "      box-shadow: 0px 1px 2px rgba(60, 64, 67, 0.3), 0px 1px 3px 1px rgba(60, 64, 67, 0.15);\n",
              "      fill: #174EA6;\n",
              "    }\n",
              "\n",
              "    [theme=dark] .colab-df-convert {\n",
              "      background-color: #3B4455;\n",
              "      fill: #D2E3FC;\n",
              "    }\n",
              "\n",
              "    [theme=dark] .colab-df-convert:hover {\n",
              "      background-color: #434B5C;\n",
              "      box-shadow: 0px 1px 3px 1px rgba(0, 0, 0, 0.15);\n",
              "      filter: drop-shadow(0px 1px 2px rgba(0, 0, 0, 0.3));\n",
              "      fill: #FFFFFF;\n",
              "    }\n",
              "  </style>\n",
              "\n",
              "      <script>\n",
              "        const buttonEl =\n",
              "          document.querySelector('#df-8e7e8645-25a1-42a4-8fbc-b14701da21c7 button.colab-df-convert');\n",
              "        buttonEl.style.display =\n",
              "          google.colab.kernel.accessAllowed ? 'block' : 'none';\n",
              "\n",
              "        async function convertToInteractive(key) {\n",
              "          const element = document.querySelector('#df-8e7e8645-25a1-42a4-8fbc-b14701da21c7');\n",
              "          const dataTable =\n",
              "            await google.colab.kernel.invokeFunction('convertToInteractive',\n",
              "                                                     [key], {});\n",
              "          if (!dataTable) return;\n",
              "\n",
              "          const docLinkHtml = 'Like what you see? Visit the ' +\n",
              "            '<a target=\"_blank\" href=https://colab.research.google.com/notebooks/data_table.ipynb>data table notebook</a>'\n",
              "            + ' to learn more about interactive tables.';\n",
              "          element.innerHTML = '';\n",
              "          dataTable['output_type'] = 'display_data';\n",
              "          await google.colab.output.renderOutput(dataTable, element);\n",
              "          const docLink = document.createElement('div');\n",
              "          docLink.innerHTML = docLinkHtml;\n",
              "          element.appendChild(docLink);\n",
              "        }\n",
              "      </script>\n",
              "    </div>\n",
              "  </div>\n",
              "  "
            ]
          },
          "metadata": {},
          "execution_count": 193
        }
      ]
    },
    {
      "cell_type": "markdown",
      "source": [
        "# Lidando com dados ausentes"
      ],
      "metadata": {
        "id": "0_Brax8Vawbr"
      }
    },
    {
      "cell_type": "markdown",
      "source": [
        "A maneira como o Pandas lida com valores ausentes é limitada por sua dependência do pacote NumPy, que não possui uma noção interna de valores NA para tipos de dados de ponto não flutuante."
      ],
      "metadata": {
        "id": "IDoUF7oyaxz2"
      }
    },
    {
      "cell_type": "markdown",
      "source": [
        "O Pandas utiliza dois valores para identificar a ausência de dados. O`NaN` valor especial de ponto flutuante e o `Noneo` bjeto Python."
      ],
      "metadata": {
        "id": "mWeKi7B9cQa0"
      }
    },
    {
      "cell_type": "markdown",
      "source": [
        "## Tipo None\n",
        "\n",
        "O python reconhece esse tipo como um `object`"
      ],
      "metadata": {
        "id": "yzVTmoRYdyTN"
      }
    },
    {
      "cell_type": "code",
      "source": [
        "vals1 = np.array([1, None, 3, 4])\n",
        "vals1"
      ],
      "metadata": {
        "colab": {
          "base_uri": "https://localhost:8080/"
        },
        "id": "2794Tv1EeHtl",
        "outputId": "9419dae9-2e58-417c-b0e6-b22f13f949fb"
      },
      "execution_count": 194,
      "outputs": [
        {
          "output_type": "execute_result",
          "data": {
            "text/plain": [
              "array([1, None, 3, 4], dtype=object)"
            ]
          },
          "metadata": {},
          "execution_count": 194
        }
      ]
    },
    {
      "cell_type": "markdown",
      "source": [
        "Isso `dtype=object` significa que a melhor representação de tipo comum que o NumPy poderia inferir para o conteúdo da matriz é que eles são objetos Python. Embora esse tipo de array de objeto seja útil para alguns propósitos, quaisquer operações nos dados serão feitas no nível do Python, com muito mais sobrecarga do que as operações tipicamente rápidas vistas para arrays com tipos nativos:"
      ],
      "metadata": {
        "id": "cm2Tqmy_eKDG"
      }
    },
    {
      "cell_type": "markdown",
      "source": [
        "O uso de objetos Python em uma matriz também significa que, se você executar agregações como `sum()`ou `min()` em uma matriz com um Nonevalor, geralmente receberá um erro:\n",
        "![image.png](data:image/png;base64,iVBORw0KGgoAAAANSUhEUgAABTQAAAFcCAYAAAD2/zEqAAAAAXNSR0IArs4c6QAAAARnQU1BAACxjwv8YQUAAAAJcEhZcwAADsMAAA7DAcdvqGQAAIWHSURBVHhe7f0PfBT3fe//fmSwsSF27BgScQ2pURZykh63WJffxahpKrum0XVykgYU/Wq5fwwGkmuT09wcB+tgoK0xVFD//Et/xTxiUIjbc5BbWeAmJ/FRaherSSqg5ci0/l0ngbVIAy5KwLFjBxvZknXn853vd/c7q/0zK63Erng9/RhrZ2Znd+Y7Myvtm893pmo4IJ7jx4/L/Pnz7RjG12vyjbUL5cBtR+XLt11lp3mGgmFK+FANdP+RfOivflkO72mSWXYaAAAAAAAAcDG5xP7EhXDmoPRMaZX/8rEsYaackW/84X+SP/r7kzKgweYrB+X/2PLfpP62mwkzAQAAAAAAcNGiQrOcnTkoj2z6I9n97aS8dk1CPvbZVtl2V61c5VVtAgAAAAAAABcTAk0AAAAAAAAAFYMu5wAAAAAAAAAqBoEmAAAAAAAAgIpBoAkAAAAAAACgYhBoAgAAAAAAAKgYBJoAAAAAAAAAKgaBJgAAAAAAAICKUTUcsI+N48ePy/z58+0YAAAAAAAASikjigEuClVVVfbR2BFoAgAAAAAAjDM/fiHQxMXIDzTHGm4SaAIAAAAAAIwjF73oT/8xcLFwAab+9B+PFoEmAAAAAADAOHGxyzvvvJMKNP0BmOxciOkPl1wS3tZHH48GgSYAAAAAAMA40djFhZn6c8qUKWYALjZDQ0Nm0DDThZqjDTS5yzkAAAAAAMA40BDTDRpmaoBDmImLlR77eg5kViuPBhWaAAAAAAAA40AjFw1vdHjrrbdkxowZdg4uZj/4wQ8KViZ+8IMftI8mn3Pnzslll11mws3RVmkSaAIAAAAAAIwDF2gODg7Km2++KVdffbWdg2K88cYb8vjjj8vLL79sp+R37bXXyu233y7Tp0+3U4r39NNPy3PPPWce33jjjbJ06VLzeKz0dXVbCtH1L9V7lptXX31VrrjiCpk6dWplBpoZbw0AAAAAADApaObhB5q/+MUvZNasWXZuYRriqbGEcvnotQz1PfT1y70b/Ne//nUzFONTn/qUGUZr27Zt8sMf/tA81mrJ++67zzweK90OrdDM93r63mo073n27FkT/Oq+/epXvxo5ju666y7zUwPfmTNnmulj9eMf/9j8fP/7329+xqHr+K53vSsSaBYbao77NTTdCZxtAAAAAAAAuBgUk4NoCLV9+3YzuECq1PR1tahtvF6/0mg7aOWkBnQaOPrVoPpYp+k8fU45t9k//uM/mkD0L/7iLyLrqY91ms7T55SCtscf//Efm0FDyrgyr6HpD3GNW4Vm3JUoZmUBAAAAAAAqgeYdOmh48/bbb8trr70ms2fPtnNz0+BJg0y/8m3dunUlr9R8/fXXUxnQlVdeaaeOjX9tSO1SrOuu26Hd7Z3RXBvSr9Dcs2eP+ZnLypUrzc9iKzSLqQIt9rV1n548edJs+3hXaCp/P2RTqutzukBT6TEbt+qzv79frrrqKrn00ktzVmgWqtgseaCZLaDMNg0AAAAAAGCy0ixEh2ICTRdmnjlzJhVg6jTtql7qULOUgaYGWzt27IhU6blu2n7XbaWh19q1a4vqouyHjf/hP/wH8zMXDfNUMaGjrre2byYX/Pnr7xQT4Ok66fM1jJ2IQNOFurkUCoWL4QfvcZ0+fTproJktxMwVbJY00MwMLv3xzHm+fPMAAAAAAAAqjWYdOviB5nXXXWfnZqddgl3Y5W4cozeH0YCrtrbWXAOxVEoZaH7pS18yQWOhG/FoOKvbpQGhBnxx+YHmeFRo6nppG2sVpaOhq7a50i7aej1KZ+7cuWYfxQ2YCTSj/v3f/31EoKk/HT/EzBVoTvljVxtq/exnPzMXBy1WZijpxjN/OjruBgAAAAAAgMnEzz30BjwDAwMmxMlFA7Pnn3/ehFgaDrnrHH784x+XG264QTo7O01XXReyFUuvA6ldv10I99Zbb6UyoGnTpplpmc+JQ8O5Z555JhXwacD16KOPmvX3Bw0BtaJRg0/dFq1+jFvhqAGoq5LUn5mv7Q+uSlTfp1A1p6PB2s033yy9vb0meNZ1bW5utnPDsM6f9yd/8idmmbh0nXTdNGB1bfDud7/bzh1Jn6s+8pGPmJ/FcuFvLnGD3kJcl/Pu7m75tV/7tdjHzc9//nNzzLkwUxX6makkNwXyQ0n/hM026L9MuIt/uscMDAwMDAwMDAwMDAwMDAwMk3nQHCQfDYNcmJlJp7nAcCz+7d/+LXKzG59O1/ml4OdAbigV7RqebyiFXCGayjcvLg2NXUhbzM10JhP/vMg35FKSLuf+S/hv6B7rCvrjjv8YAAAAAABgsvAzEe1yrl28r7/+eju3sLF2O87GhZbvfe97TYWgy4C0Yu6nP/2p/NIv/dKoeu0W2+Vcqzr/7M/+zE4tzO9yXqjqUl9bFdvlXLuEu+7TKl+Xcw2YNTyNGzBndjn3Kyizredk73Kux6Be5kCrXKdMmRLpdq4/XWjspmUz5kDTX9ydrO6xllT7iav76eZnyjYNAAAAAACg0mjG4bKQwcFBE2guWLDAzi1sPAJN5UJNvQu5Vgq6n6MNM5WGWnr9T7/6M9dNgfQ9Pv/5zxcVgGWGgHEUE2jmuimQC09dSOrTgHI0NwVSfkB6MQaax44dM4H61KlTTaDpQk036LgLNfVxNiULNP2fOmiYqYPemaucvO9977OPAAAAAAAAxofLR/wKzWJCn/EKNFVm9/KxhJk+P/jT6kXdXg28tALSiXtdS5++hraHBq9xFRNoqmJC02Jf2w80XZip15zUIFXb48Ybb5S//uu/ts8Ot1enjfYmUBMVaOp6ulvzFBPw6nKuQjOzKlPPFxdy6rRcgeaYrqHpQkwnM8zUC8wCAAAAAACgfGh4qSGmKlWYqTScc4MLb/WnP3009DUeeeQRE8QVGjQoHI2lS5eaQQM6rdb020Qf6zSd5543Ghrstre3m3XUsFK3y4WALlPTQcPMYgLTTFp1m0u+eeVAs0SXK2pb5DKmCk1/UX2sgyapLszU5Pz8+fP2GeWBCk0AAAAAADDe/JxkNBWaWsWmilmmWHrndXeH88lEKyA1KBxLKOh3lXfd50fLr9DUqsy4lYyjpdcpffrpp+1YlIaxeq3TUhnNcZqvQlOv56qh62WXXWaqM3PdTb4kgab7qSepDnptCA0y9WQtNwSaAAAAAABgvGlWooPLSTQjmTt3rp2L8aah2VjCYA0Ee3t7zWO9OdBoqzJVrmt0ZlNsd/ZKdPLkSRNo6jU0MwPNn/zkJ2be5ZdfbuZrsJlNyQJNd5LqT034tYxWU9VyS/oJNAEAAAAAwHjzsxINNH/xi1/InDlz7FxcbDTU1KEQrd4c7wrOC+3UqVPyrne9K2ugqUG03jBIr8GqmeKEBZp6kmop9blz5+SVV16RGTNmmOeUCwJNAAAAAAAwEfysRHMSDXGuuuoqOxe4+Lz22msm3Ne80A80nb6+PrnmmmvMfO1unuuan2O6KVAu/gkLAAAAAABwsXLVZ3o9QO1Oq8VfrkAMuFjoMa/Hvp4D7g7mfpDpaJboeoDnU9IKTf/u5pq2vvzyy6ZMtJxQoQkAAAAAACaCn5fo5fk0K3n11VflxIkT5lJ9LlcBJjMNLrUL+bx58+Tqq682lcranTxbsHns2DFzV3l9jnY3z1WhOS6BpjtJNdDUFR2L4ddek+Hvf988rvrQh6RqjKXZBJoAAAAAAGCiuMxEK8/0BsoaZOrgerW6bAWYjFxYqd3LNdTUwd3wJzPMVHpneRdoaug5YYGmnpAaaOq1IfRip9rvvVjDp07JW1/+sgwdOmQe+6rmzJEpv/VbctnKleZxsQg0AQAAAADARPGzE9erVX+6LAWYrC751rdkSjBoaKnXvJwS/LzskkvMz7cfe8w8JzPQ/MEPfmBuiqTX0NRAUwPQbIoONF//27+Vn/35n8u57m4zPqO+Xq7dtEmu+OhHSxJoDu7ZIwMPPGDH8rvsj/5ILl2xwo7FQ6AJAAAAAAAmkoteXIjpjwOT1ZRvfEOmfP3rqdBS/2+GYPytr31tRJipxiXQ/Pc775RX//Iv7VjUzE2b5Or77x9ToDnwX/6LDO7bZ8fimdrYKNMeesiOFUagCQAAAAAALoTMAJNAE5OZhplT/vZvRwSXOvaWrdDMFDfQjH2Xc63M9MPM6b/xG2Zwzj7wgLz5ne/YseK9/eUvFx1mqsHOTrMsAAAAAABAOdNgh4HhohncMa8/vaEUYgeaL2eEhtrVXAffzzZvto+K466ZmdWVV9oHuemymdfanAhvvvmmfP7znzcXKF28eLG5E1Ml++GPRBrvvURe/nl4eL1xXuT/+9AlZjoAAAAAACitEQEQA8NkG+yxXmqxA803/uEf7KPcRluh+faePfbRSJfv3i2XfeELdiy3fK8xXjTI/Iu/+At56aWX5IMf/KCdGs/PfvYz+eQnP2le4+DBg3bqhaMh5ucevES+cMewXPvusOR9+uUin2t8R+7fkQ45AQAAAAAAgAspdqCZSQPOOCFnHIPf/rZ9lN2lX/iCXP7Xfy1V111np4w0+Hd/Zx+VP63k/IM/+AP5r//1v8rSpUvt1Avrz/eKrPztYfnIjdHrd3zwepFP1Q+b+QAAAAAAAMCFFjvQ9K+XqfTCtZkXr53xn/6TfVSc4Zdeso9ym3LTTXLF//yfMiVHADiWLud//dd/bbqOaxdy50//9E/NdKU/tZLSDW56IVp5mW25BQsWyP/4H/+j6KpO9VT7Fnngs79qhof+y29I/8kfmumHD+w18xw3fu61l+XxHWvlmf3/p1nmX3q+Ljv/6LfNoPOUdil/oa9Kbvt1MzqCTtf5dD0HAAAAAADAhRY70Lw2o9u36wvvu/o//2f7KL6hQ4fso8KqrrrKdEGfuny5nRI12lDzt37rt+TnP/+5nDx50oxrd/Dvf//7Ultba8Z/53d+x4SdOmj38n/8x380z8lHn6uh5b/8y7+kltXXGQsNL8+/8bq0/F+HZNOj/yL3/h//INVzC4eir5w5JW+df0M+9r+vk6f3PSwfa1onl8+4Sl7/+Vkz/8wrVfLhmnRX80w6Xef/0/9Nt3MAAAAAAABcWLEDzSt/+7flPX/4h3ZM5Fx3txmcmZs2yRUf/agdi08rL+Mafu01Ob9mTc67oVfNmWMfFec973mP3HbbbdLb22vGf/jDH8qHPvQhU0mp/ErL6667Tv7pn/5Jzp4Nw8Bc9LlXXnml/Oqv/mrsis5Crnz3TOk/+QP5v9Y3pCoz49DwsvbXG83jD/8/f2tECHriJZH577cjORSaDwAAAAAAAEyEoq6hWf3lL8svPftspPu5Pn7/gQNy7aZNdkrx8l0b09FKzjdvu02GclwrM85r5KPVmP/6r/9qKim7u7ul3t7BXSsxtfv5gWAbXYVm3K7ieo1MXUZpwKmvMxYzrrpW7v6Tv5X/vLVLnv36X5gu5C/+/3rsXAAAAAAAAGDyK/qmQDPq6+X67m758PCwfOidd0yYmXl9zWJN/djH7KPs3v7yl+X87/xO3i7lhV6jEK3GnD17thw9etSML1y40PzUSky9Vui1115rxv/u7/7OVHAWQ7uaa9fz119/PRVwFuKu25ntDuiXTbtCbl+7w3QhP/uTE3aqyM9/dlreGnjTVG9+91u77NTC5l0ncvzHdiQHna/PAwAAAAAAAC6kogPN8XDpypX20UgDa9bIW1/+sh3LLd9rxLVo0SK55ZZbTHWmholKg866ujrTdVynaRXnb/7mb5p5Wr35yU9+0nRDf+KJJ8xzFi9ebO5i7ubpMjr83u/9ntx5553msb/c008/bd7TLZePVmO6GwLp0PfCQbnx15aZef9xUYO5Vmbrf75J9rfdJ0uXf9FMj2PWNcPmpj8v/zz7NTJ1us7X5wEAAAAAAAAXUtVwxq3Kjx8/LvPnz7dj+fl3OtefQ0NDMjg4KAMDA3Lu3DlT3XjNNdeY+YVoFWac4DKby77wBbk046ZFubzvfe+zj+DbtLPKXCfz9z4xMrT8b9+sMhWaD9xNoAkAAAAAAIDCpvzt35ohm7cee8w+ivrBD34gM2fOlBkzZsi0adNk+vTpdk5U7ArNV155Rb70pS/JPffcI319fXZq6Wggmevu5fnoMnHDzDje+p9fl9c+fYsdC+m0n829IjI92zRV7HMn6r0KLf+Hd4js+dsqefYr/xh57g9/JPL17ir5/7zvf5rpAAAAAAAAwIU05Y8D9rGh3aHd9SJ93/ve9+S3fuu35OMf/7h5/Mu//Mt2TppWab7zzjumUvPtt9+WN954I9V1Ow69DuYlV10lQ//wD3ZKftM2bZLLWlrsWDzvete77KO0n/3SDJnywV+WNx64T+SVl+Xytevk1cXzI9Ou+tY/ypQP/cfU9MHv/v2IaZnPHez9p5zLT/R7Xf3d/zvv8m99NCGL3/vv8viLN8j/u/tRufyG/yinb/pV+T9f/t/l86fvlzlvHjfPdW01Zf5/sK0HAAAAAAAARF3ygx+YIZuh3/5t+yhKe3trVeZll10mU6dOlUsvvdTOiYrd5byjo0OWLl0ql19+uXzjG9+Qj370o/Lwww/Lyy+/bJ7/+c9/3rzZaLuc+/TmP2/v2SOD3/62DL/0kp0a0ruZa/Cp18ysmjPHTo0vW5fzgfY9cu6+e8zj95wMb9qTbZpy07NNU/50V9FY6LmV9F7ZngcAAAAAAAD4xrPL+agDzV/5lV+RHTt2yIoVK2TevHnmTUoVaPqGX3tN3nnhBfP4kg9/WKquuso8Hi2uoQkAAAAAAACUn5JfQzPT9ddfbwLNf/7nf5bW1lY5f/68nVNaGmBOuekmM4w1zAQAAAAAAABQ2WIHmosWLZINGzaYmwIlEgl54YUX5K677jKB5nve8x5TuQkAAAAAAAAA4yl2l/NsdFG3uP7UmwGVust5qdHlHAAAAAAAACg/497lHAAAAAAAAAAmGoEmAAAAAAAAgIpBoAkAAAAAAACgYhBoAgAAAAAAAKgYBJoAAAAAAAAAKsa43+V84cKFZj4AAAAAAAAA5HL06FHucg4AAAAAAABgciHQBAAAAAAAAFAxCDQBAAAAAAAAVAwCTQAAAAAAAAAVg0ATAAAAAAAAQMUg0AQAAAAAAABQMQg0AQAAAAAAAFQMAk0AAAAAAAAAFYNAEwAAAAAAAEDFINAEAAAAAAAAUDGqhgP2sXH8+HGZP3++HctPF3WL68+hoSEZHByUgYEBOXfunJw9e1YWLlxo5hfj9ttvl6qqKjs20oYNG+TDH/6wHQMAAAAAAABQ6Y4ePSozZ86UGTNmyLRp02T69Ol2TlRZVmgePnzYBKSLFy+ODNddd50cOnRIXnvtNftMAAAAAAAAABeTsu1yftNNN8kf/uEfRoYVK1aYYPOqq66yzwIAAAAAAABwMamoa2hqN/PHH3/c/HzhhRfk1KlTdg4AAAAAAACAi0FF3xRIr7WpwebY9cvfN1XJQ1Vu2CLP2zn55x2UjtT0YGhql5/aOeMy79CW9PRg2P14v50RGOW8nz6+PDKv45CdESj9vNG28wTvg3Fo54ndB+PRzuyD4uaxD4qdVxn7YBzaeYL3QenbeZLvAwAAAABlqSxvClRTU5PqZp6ps7NTXnrpJfP4+9//vrmmZnt7OzcJAgAAAAAAACpYRd8UKC4/UAUAAAAAAAAw+VVcoNnY2GgqN5cuXWq6m7tragIAAAAAAACY/Cq6QpMwEwAAAAAAALi4VFSgqRWZzc3N5qcGmXPmzLFzAAAAAAAAAFwMyjbQPHz4sPz5n/95ZHjsscfMTYBee+01+ywAAAAAAAAAF5OyDDQXL15sbvaj4aU/nDx50sy76qqr7DMBAAAAAAAAXEyqhjNuE378+HGZP3++HcvPv8u4/hwaGpLBwUEZGBiQc+fOydmzZ2XhwoVmPgAAAAAAAADkcvToUZk5c6bMmDFDpk2bJtOnT7dzoir6pkAAAAAAAAAALi4EmgAAAAAAAAAqBoEmAAAAAAAAgIpBoAkAyNArW2tWSke/HS2JM9Kxska2HrGjo1KK10BphfukpkaHjGOmv0NWmunBsLIjeGZMo11u1HQbSn28AwAAABhPBJpyUDqqquShEcMWed4+o+QObRnxfh2H7DwAFykNEW2IExm2BnOgelsXS8uCTlm/yE4YL0e2TlCQNl4mMvidJU17+qSvr1NW2Skp1U2ypy+Y1zFiTn6jXa6AM50rpaY129kUbMPWBumq41wDAAAAKgWBpiyRpuFhuTcYfr99mcgDPebxvcP3yw32GePiM3vl9+376tB0k50O4CJVK+s1xAmGw9vrRdZ0msd9feuDOdCQsfFYqxxuoTUwDqqbZNv2pDRmDTwBAAAAlBsCzbzC6s1I9aSprgyrN5/frPP8Cs9oVafOT1VhNrXLT+30vPT1Nx+MLOveP+/7nWqX3anpVbL78XTfuULrCaACaDfclR3Sq1VmtnpzZaetIfS76OqQWV2oFYfefL9yr7c113IJSZzylvOCHlPp5qYHQ2o9rMhr5qgwda+RuWx2Z6RjZ5usurtJZtkpSt9na6fd9mD93Pu67cu3HtF5rruxrZJtahPpbpHFbn6ckEvb2FsHHeK1cyDn/olW7abbSqdvlY4sx0LYroulpVukrcktG7c7td99PBi89Yy2V3TbJlTeYz1j/d0+t8ssXhc0yq7G1PzMY29W41pZtWsHXc8BAACASjCc4dixY/ZRYe+8887w0NCQGQYHB4cHBgaGz507N/yzn/1s+OTJk8PPPfecfWZl+En7suE/e6DHjoUyp/3rAzK8q/106vGfybLhZ06a0cg8Xc49VpHxgw8Gy+my6eFvDoaz3LzI+Gf2Dv8keBi+34PD/xrOSb/fyb3Du7z1GB7uGf4b7zVyLgegLP30iRXD8/70f9kx6/TfDK+YN294xRM/9ca3DGc8y/hffzpveMs/25F/3jI8b96K4b/Jcsrr+6ReL5Ae/1/DW4L3mrfib4bDuTqe/TXCeen10PdOL+f76fDfrAjXy2xf1ufkEn0Px7yXTvfaRqe5n34bRt5Tn5/v/bXNilq/gGnnjHa3r5G7nQM594+2lz/dH8/YPyOOhXRbxxcuM+K4yyZr++U5RkbTnirGciOO9Tzrb46BAtvnjh8AAAAAF4ZmiZoparaoGWMuVGgW8N7b75X3bzpgKxoPyvc3PSg33V5txtS72x+R35wTPr5h6YPy8+SJ4FG/PP/kfvl58+xUxeRfNQfjZp6Vr8t5MK/ejd90v9zb0SzvtaPvbr8r1RX+ho3DslrX5dQJ+fkD96bWQ7vRf+gBkZ+fSJeZZF0OQIVZJWsbbY2iuc6g644ereRr3CWS/FFYfdb7TJvUb98mTSNO+TPy7FPd0r1ucWo5rWDrTp608+uldauriKyVhjXdkjxlRjIqChulTZKStBWOXbv85UbSqsHFybXStyf3c0boD16/PiFz7aivfvtq2wZe28jLkjwWrMed6e7psz7SIPXdSTFbV52QhKnALPGNYOpbZbW7vuei9XYb87dzzv3T/6x0dXdLS51rZ6269PaBv390e1L7YJTM+62Szhxd+iNVuXUt0u3acsLlPtZlTkLqTQXm6K+FOTdRbx8BAAAAKGcEmgVpOLhBDmkX7kMH5McP3BLz2prL5MaT6cDSDBuX2HkAUDq9rY3SlrrmZp90rrEzCqqX1p5wmdRQ8BqVvbK1qU1WdbhlstwMJo9VHYel9VhjzK7m48Vdr3SbyPowGBvfLtSjaedAfasc9pcJhnG/IVI2/R1y3zpJb0NPa7BFF0beY93dTKivQbpM4MmdywEAAIDJikAzhhtW7BV58qvS8XCv3LgiVyjZL3//8AZ5/1KdXy3vvWG/PPfFmNfNHKs58+Tdmx6Sv3eVO6fa5dCmZVLz61RhApPfGUkeE6lP2PrF/g7ZsSt8qGpvXSXd63ZnqVibJYkF3dKyPuN6jtmY11wlDRqmabWk1EvCVoSf6dwhbeHDQFjJ2fJYvvo4vSt2pyTWLY4fIpqKymIqAq8Nt81bj97HWqR7TYOt5nTCO3TrTZhSVX5KK/1KVoGYv51z7h9bRXrfqIJffU+vcjGO6pulob5NdmR7v1NJ6dZrqtpfKaYtw4cTLP+xnhYG1p1+VXFg1vUJkWPJvMf7yWSwpdfHrh0GAAAAcIEQaMYx5xapkQ3yY1kuN6S6dYfS3cpnS9+nT6e6jt+w8bTcKHfIX6VuxJNxc6En8swr1pxmWX2wVp6ba19v7h3y7oP7vC7oACavWdJ0t4ZitktzXVIa9C7pzqL1cljv3my76PrViLUth6VVvJvfePNEvO7OdV3S0GO7t1c3yVoNLe28xckGafXezrzmsfSNV7J3/62V9T2tktSb1sS6q/RcSdS3SVcRVZSZ6xG5Q3rGTXgWP9Ug21Ld1QNmG9vSbRZrHXPL284590/YRuJ1VS+mK3Xtnf6ycSoV00Fz6v3cDXcWrQ72cbo9diRavapc1wVcLz3gjgv7fq6d/ZssZd4QKZucy+U/1jNvVtUondGKVt0Obz+MrBIOL5ngwnoAAAAA5atKL6RpHxvHjx+X+fPn27H8dFG3uP4cGhqSwcFBGRgYkHPnzsnZs2dl4cKFZn5l65e/bwoDS//ak3r38EOJ6DQAwDjQkGtnQg4Xc+1NoAgaiJrru8a5HAAAAACAcXH06FGZOXOmzJgxQ6ZNmybTp0+3c6Ko0Izj0FfluSeiNwMCAEygReulc0GLLB5jtSSQlblOaCLnTZEAAAAAlBcCzXxOtctu7cK9pFduPHl/zJsBAQDGQ9iNfAc3ekGJnZGO9d5lFQAAAACUPbqcAwAAAAAAALjg6HIOAAAAAAAAYNIh0AQAAAAAAABQMQg0AQAAAAAAAFQMAk0AAAAAAAAAFYNAM6aDm1+RqqrX5KAdHy/6PssfP2/HJsih14Jte0W2HLLjuADOS3uTHmPhMOHHQDnq75CVNTWysvOMnVBuXpZv/MW35GObdXhGvnHaTlann5MvmOnB8BfPSeybcsdY7uhend8jR+14pRrxWaefQ5vfsCMAAAAAAORGoHmB9D/+6sX55V1Di6bX4wc8jg1dM0Nl0442BAyHV6X9lJ2ZWsYOMds7DK/TQzTofUO25JyXW/7X1O04L3fcME2Gh68xw77bL7dzcsvc9vghaDQ8DdclOi01ePsqsg0j2tJvF28fTGrXyic//3H59sYPyiftlJTZN8qXNwbzPn6NnRDTaJebcOkw9wtdL9tp8emxW/f8VHnEP85vukp6ZIAwHwAAAABQEIHmCBrMjAxklmzUoOkqWWLHJ5WbrjIh2v032fEyY4K7h6vk9MEpdkqGB9JB4PDw1dI8x0632xUO0+TBTW/FCtrCfW2H4D03POxCPQ39BkQOpl9TlsQL73K/ZuhEcliWJYo4HU+9Lvc8OUVOu9cM1qW2+a0YFcR6fL8p+z59RWp9wv1+uTR3uNcKh9PtVSI3TJFqnX3oNakT187algPpUDZYl+VVfrt4+8DMG2Vlc3WT7Onrkz2Ns+yE0unvekY+tjdpxyrLwjs0RK2ThXZ84iXlkc2H5OSv3ST3XG0neQq2rR67zZdIT8eV4bHlWbJRj+PgPLsoAnEAAAAAwGgRaPpSwUxmIGMrzzIqC7VibcshvzLNBjdmmWjQZUI5Xd6+3uzmYZFNA3a5zOq6t9Ov6b+nvy6RZXQdXpN2r2IvXpWTX5WXEczpewXv3e5V5UUCrGDewWzvZ9bRC7BS47adlgyJPDEos+1ycaomq2+/WoazhB9FOTUkvcHhPs/t15j6T7zjhXpvyR0yVe5ywe+hQdkgw7Lvu+G2x62Y9F/TVT3WbRLZ3/ymXdYPADMqJ93xMGeK1AbteI99j/7H35INn6mSeWYskOtY0XV+YFqMCtA35KvNIntXTA9HNRzeaB/LdLnlAZHeE/a9vxvs0/Yrsgfic66UfcHG1BVZtdnbWiM1NeGw9YidaPTK1pqt0tG5MjW/2C7p2mX7D45fK395R8JOUX738Yzu3n438GB4pNdOn2h5uqPrNj3SlX++W/+RXdk1oAymxw54E3LPxo/LPbV2NEN1w62yTX6Ys8v8wa8NBsfLZTn+cWi63NUucsfX6HoOAAAAAMiNQNPR7slzh2T5yYxKRQ1ktOosR3XghiVvybxgGa1M63lgSB7S4ChY5t4H0kGXhlIHnhyWB794pVTb1zPVb15loR8w7W8esq95heyVQfmqBokaUNn1c1Vytc1vel2Xh+QOV7F3cqpIrGo9V5U3TR60UyKeGJQ7XFVeZlVhMK8ueVk4L9b7TZf77evIZ6amKwtTIdkYeMFwZkCa6iY9d1BqD8atsE2H1LO1ksyuox9EuqrRnmA/7k8G0wMmeHXbNaJiMvtrusrNngdElrW7qkm3nhpmvhnpip4OdrU9r5DlT4Yh6GzdF26eOVZ0e+0yweCOr4NPD8myxFA6MM8RNJqA9IHL0sF+xBtyYFOVLP91fc3w2K6Vt70ANaMiU8PQk1Nk39z4XfRrW/qkr++wtNbbCRFt0vJUgxzuC57T0yqybrfEyxjD0PI++aB8+/M32nZUOv2QPPKeYLp299YhNT8pj7S9KXe66Rs/KPKtC3T9ygLd0b/xzy/LLat0HW+Se+TfZZ9tFK2YfOzam1Lb9pfzX5bWUXQTL4ZWker7/MGIa32elxPPu2Mnu+pfnyLLNg3G+PwCAAAAAFysCDQDJvRaItLjd5WNaVn75allliydkgq3lqyYKvLk22EAeOpt2edX9hWQfs3LZd4NthLu1LDsjwRM0So5kSrZ+7ANtLR6T96REy6oyriWZLzqTTUlFbzJnCpZ9sSwnAjHAv68S2X5Z7z3G5WMSsTMUCyHzBBRu0L725fu6q3dw/1Aza+sDQa/EtaFrzoEK1GXsS56vLgAMVURqSLtPCAb/H1Q4DWz0uPmCa+dI3T9XdfxK2Tv8wOpbdCKyf0PTMt5CYH9zcNyS2pdLpE7vuhvu8qozozQ/TQgvd5xrzY8KfKIfc3T7e9IXWblrQnyw30w9mvH1kvr1iYxHdGrE5KQpCSjGzCSqW48JAfm3yTfjlRmBk7/WA68eo1sy5yuen8q35BX5D5X3bj5h8H4G/Jj/wZAZeJD/9uN8snZ+uhaef97RI7/VEPLl+Wfjg/I9//5UKpC8w/+ORh/+RV9ohVWXI5olzHSSs1vf1xM26WrWoNz4okCldLm8wsAAAAAgNwINAMm9DIhU3HdYvPSkM9WV5ouuZ++1KsIm2CRa0nGu+HMxMu8huNorlcahrzZaVfWKi8A9gJGHXJ1ab/pMtlrw9rqecHpsmlAHkpckaosTV/78g3ZsmRIHvSur5m16lV5rzlq2nX8M+6mKtp2wfs9MSQHYrzmMr+774igWgPbgRzVmWHFqIaomceQqT62j007PT8UDUlNF3h7nc2sAe04M9WNN8ktxw8Vf+3MGq9y0wy32uCwUkyTe0zlpjeUOLzMxlxL81si24L3y9U9HQAAAACA0SDQdEbRLTbqvLQ/PCQPLnVhzeXS/MUpsuHp1+SrzZfIvRkBUNbQJx8Nnvyb2px6XR5Kdfu9wMy1JafILakAzIV1QZt8cVD2m2lWlgCtZPK2iVYdDkvtvCLbS7fNVZTdNFUeFO/1/fcz1+isSlWemS7b4cOR/NfMx1S+2ssYZOO3o3n/UNhlN/sNkEwVsascDoTVnFPTAafdppHVmemK0GiYebnc8umq4DhPV12abu1+gJ/rcg4TLrwr+YjrO85+v9xy9SvyWLZu2LOvkA/1/fDCXTdzzLRac0Ae6cx+PctQsdfQLCx1ndIRNy8KjvtCYb4ey/71YAEAAAAAyECg6Ut1i/UqNV03Yv9mNl735PSNXMKwJxLYaAC2aUg2+IGRo1V6kr45TsFu4Lpu2j14bvj88JqQxXeRj3LdrrV79LB97bhVqkNSZ9fddNd3FY72+qHha70pJ76YUalo5nvLxul+7O8D976ue7V/Ix4TmqXbJHX9TDOE1zotHKhldEXXu6unqkWny/029B7xfpHt1i7pU2TvZ8xCgXyvmU9YeanXSk0t6469m64Ku3a76f7xkHmsBEPq+AqW67khfdzN1uuuehWTesOW6KUNQi6gTR/vOoTd5qtvvzzs8m6n693QU6GnVmbq8VHU5RzOSMdKveHPYmnpFmlrynZzoNFLXd8xFeBp0PlBme91y04FnlrZ+fFr5BvfstP9eS4INN3QB+SRNn38jHxDu6P39oTP/dYrIq/+u/xBZLk88i03ytdceEd4TU3zfDuMLaB1N1A6JI+8Kqnu7O41tTJz5HVKHb2Mhn994ZFMyO5uxAUAAAAAQBZVwwH72Dh+/LjMnz/fjuWni7rF9efQ0JAMDg7KwMCAnDt3Ts6ePSsLF0brcyYTDcy0+3HuLtwaZIXdbC9sZVqJaUg1d1juHVW3cAAXtbyfH/qZqf/4MNZ/rAEAAAAAVKKjR4/KzJkzZcaMGTJt2jSZPj37Zesu+kDzT/7kvPzxH79px+LT6yT6gaZWpvl0vlYPmgq4jitNRdxkoNvlBxJaIQgU67nnrgo+G6bYMVxs/M9GvxKz8D8SAQAAAAAmMwLNCZDzy7d2kTbdo6dIz2SsYqRCE8AY6efngaVe9bp+bj499cLcNAoAAAAAUBYINAEAAAAAAABUjLiBJjcFAgAAAAAAAFAxCDQBAAAAAAAAVAwCTQAAAAAAAAAVg0ATOZyRjpU1UlOjw0rp6LeTK5XecKTpdUlvxnlpb3pV2k/ZUQAAAAAAAFQEAs2K0i/tG6ukanWVLP/meCeMs6RpT5/09XXKKjslvl7ZaoLQGtl6xE66kPSu7Evekb0PXynVdpLI5dL88BTZN/c1OWinAAAAAAAAoPwRaF4I/e2yfPWWIoO0g7Jl9Ww5sey07E2ncuWnv0NW1uyQRM9ogtDxcF7avzgotQevluY5dpIz50p5pP0dqdv8hp0AAAAAAACAckegeSFUN8u+u0XqVi+X9tiFlkvk/t3Dcv+NdjSmM50rpWZlh5yx46q3tUZWdoZT9HHYrbzIisojWyPLudeT6ibZ07dHmkYRukbXJd3N3WxDa284EkiNa3gabFuHWS54/hENU4PH/vYeekvukKly1012PEP17ZfJg5veous5AAAAAABAhSDQvFBuvF+GNy+XfRurZMtzdto4mNW4VlZ1d8mzqeC0V7p21UvDR2aZsdoW7VZuh55WSe6Mhp/ZnZGOnUlp7Ukvu6cxfL1R6++QHcda5bBbl7ihaHeLdCUOS+eabmlpSsraYBvqu5Ny0s7uP/GOLPv0pV5X80zT5ZYHhmXfd8/bcQAAAAAAAJQzAk0jfW3KcPC7g+ebp93AvXkb272bzuSbZ2ml5u4ekZ3B/EfH60qOtbJ6u0jX92xMeaRL2tasTYWFptrRVUXWtUi3FwbmNksSC7qlpc6rzByr6oQkultkcdE3IFola22YWr99dbC1USeSw1I773I7lt28RJV9BAAAAAAAgHJHoGlUS/PmYRne7Yb7ZYmdk39e2A08NW9zs1cJmG+eZa6lWSdydzD/s+lXLbVZH2kQeepZU3nZ+0ybrLrVxn79HXLfOklXWmp1YzinIFfZuU3uC8NQr0v46NTKelOZuU1kfRiwlsUNhQAAAAAAAFBWCDQvlOe2SNXGfbJ8c/HXxSxadZOsXaDdznul61irrF5kp59KSrckJGGT1t7HWoLx4sxq3BMGoceSMbqqq/PS3vSKVFXlurt4eHf1w9vrJfkj7xXd65sQNv5aavVl74n83cnjVHECAAAAAACgPBBoXghamblTpGf3PmnOfXHHDK7r+2y5o19k/9dnm67sca+/WXtrQlrqGkXubpLU1S4XrZbW+jZptF3OdyRavTuT98pWM71R2iTsXp6+UY+bZ4e6LmnY6l7XX06krclfLo+MmwwtfqpBttmu5OF1QLU7ur5XUtZ2xL9/evW8S2T/k2+P7O6f8oYc2FQl8zLvgA4AAAAAAICyVDUcsI+N48ePy/z58+1YfrqoW1x/Dg0NyeDgoAwMDMi5c+fk7NmzsnDhQjMfuDC0IvRNOfHFa+T+LHc673/8VZmdvEyGN063UwAAAAAAAHAhHD16VGbOnCkzZsyQadOmyfTp2fMaKjQxyV0uzQ9Pld4lr0r7KTvJOfW63NN8ifQQZgIAAAAAAFQMAk1MfnOulH0HL5E7vvaGnaDOS/sXh2T5yau8mzwBAAAAAACg3BFo4uJw01UZ3covl+aOq6WZa2cCAAAAAABUFAJNAAAAAAAAABWDQBMAAAAAAABAxSDQBAAAAAAAAFAxCDQBAAAAAAAAVAwCTQAAAAAAAAAVg0ATAAAAAAAAQMUg0AQAAAAAAABQMQg0AQAAAAAAAFQMAk0AAAAAAAAAFYNAEwAAAAAAAEDFINAEAAAAAAAAUDEINAEAAAAAAABUDAJNAAAAAAAAABWDQBMAAAAAAABAxSDQBAAAAAAAAFAxCDQBAAAAAAAAVAwCTQAAAAAAAAAVg0ATAAAAAAAAQMUg0AQAAAAAAABQMQg0AQAAAAAAAFQMAs0sDm5+RZY/ft6Ojbfz0t70imw5ZEcPvSZVVa+Ew+Y37MTxEr53+H6vSvspOzkbXa+m16XfjMRYzm5HarsC/Y+/GnubxnsfTOw+ngCR/ROVrd11+6uqXpODdrxyZJwv5STPPigfZdR+p16X5RfoGCzmsyifsv4c6e+QlTU1srLzjJ1QoS7gcRKLWb8LcByUe7uUtTdkS6G/ecZRef9Otn/fFfu7bLTnQZa/FfMr4u/WEijV74rYtB3L/u8IAADKB4HmCG/IgU1T5N7bL7fj4+zU27JPpspdN9nxm66S4eFr5HR7lZ0wni6X5o5rgvebJg/aKbkcfHpIHvzilVJtxuIvNzql2wcT+cdo+IUkPcT/A12/XOVYxn5JKPTHe3T/jJOKCOwunAnZB2OV+XlzAfV/d0ik/TJZYsfHBcdshQs+G+cOSu3Bq8b3OJkULmxIN77K+B+yUECp9914//15gc25Uh759JDMnsgQFQCACkagmaH/8bdkwwNTJ+zL08GvDYp8+tIyD0Fel4c2TZFbiglBbDB7/yiCk4neB6WyZKP+kW2Hg1Nkw8MxghQTWL4l805m++Ncv8wPyfKT9jVPTpF9c7NUcIxi/4TrSkhQMqM5Ry6A8vm8eUO+2iyy/Ncn6B+OLkbVTbKnr0/2NM6yEyrPwc0D0tt+xah+j0yYOVfKvuDzed9E/SMoJqXy+Z1sA8OOIv9xbrTnwRj+VpysqoM23Pv8AAE+AAAxEGhGnJcDT4rsXTHdjo+s8IuO+11fdPDCJq0MCp7nV+2N/OOkyErESLXeyK490QrB9LqYdc6zXCHFVVLl7w60LBG8VN7uQtn3wfLH3xi5nGmP6GuYbdWKLNtWs5uHRTYN2OUyt/3tVGVkpIorZztrBcxr0u61Z6627D/xjsgNUwp/ITBfAq6W5jl23BMGu5el5ul+2C9DciDjOMq2f/x9btrA8bctS+Va9BhybWsrSJcE7/PEoMx282NUEOjrbTlklzeDd45ktHPm+uQ6nn1uO91+yHusZ76fDm4bMuZFzlXbJc4N2fZ55j4Ij9nXs263WcesnynR4yvdbuGy4WsWeR7Y8VCOz5uM7Utte0ab+Nudd7+64yXLcimHBiPHdj7mvYK2NOvifabmWs9wul2HvMfskNeW0eMr37Hnz6vbZCcaeX4f5JGrLUfuw/D1s7Znht7WGqmpCYetR+xEpd3QV3ZIR675o9XbIx/b/K3U8IWul83k/q5n5GN7k+axSo8n5ZHNPfINHQ+e/0ivjuuyPXI0fKrZr/qPBCN/P0aPr7jtnFfGMZRqd3tupD8Pwvd2+8A/FiKfGSrzNSPH3ij5rzl3MPh9EArXY0A2yLDcMdfON+0Srm9k3cw2pY+xrJ8pljkG3fuVop0zzxHv+NZtyPyM0fFwHd6UO54Q2bDELRtdz7Fy+zH/Z4qVa55OD7bnoNdm/vb4bRnvd7Luu9y/D0b7eZOX/7sgcrxG10WHzH3lpvttlX/f5f9b0X/NzNctKbvfor8rw/dPv2fM3xX+62hber+vMrch53LG5dL8xZj/KA4AwEWOQNN36C2544Z4X7IN8/xpYfWcGTL+dX3TgBxYaudlqdjTwKo3blCof3T51XrD06S2+c3UH0j6x1Hd81PldJZ1qb79ajvNLfdWEX/4aiXVJUV0/87fHWh/84Cc+GK4LqfbRe74WsaXvBz7IOtyc66Uex8Yln3fdX9Yaxg6HHb7tdUCpuv+A+l95FcP7G8eknmmPa+QvTIoX9W2LNDO+oftHU9OCdv55FSRSFu6Lxz6heUS6dmYDmVH40RyWJYlwlNU9+/s5GXS84BI74n0F4ls+0e/RMx26xgMkcsX2HbR43GEYNsfihxDLmidLve7ZT7jzY+5fRuWaAVquEzPA0PykPsi5NbFDj032H0QyHc8O/52uv2a+1gP9o3pumrnuW0x26DzhuVebzlZ4n1pfPgd2Zs6HrJVoGQ/R/Y3DwYbEi4T2e68guMr2M+6z8J20/PoHTlhv+wVfR7YKSrr541+6VoS3T5TKVPwPND9Oii32GXS26dfUtP7W8+t5U8G0yJfVm2bev9oUciG5mD/BOfbsuAz9aHEFd55kGvfxThmNw2m2tLfP+bYk/Rnxun2d6TOfuHMnKfrkVLo90Ee2c6R6tsvkwefGJIDru30cgFPxPsHsNqWPunrOyyt9XaCr7tFWqQzmB88p2OVtO3skLFdZfNl+cY/viH3rPq4fHtjOHy54Vo7L59X5JGXr5e//N+myTe+9SOZu+qD8slgf/74tJ19alj2Z63Ut/vWDrp/4p1beeT6LNLqMf3dbT8PXMWo+wwIq+qC3x+fMaMRWg2d+rzRYYy/D0ack3o+2FnheuhnRZV3LuvxN13u0s+Sp9O/Z/XSGMu8z4Gcv5ODzwb9nZNa/6AB6sYUyupnw5uy79NXpF5T27lQ19rwMz1s4wdT7Zn9HwFHwz+nwyrBfL8P8s0LPDEoda7NvL8PRv07Od/vgzF83uSU95JHuf/2yXUe5N93+f9WDF/TDsH79Y5XuDdnitQ+MSwngoe6n8Kg9ryceL5K5rljLMfvCn2+/j5y63n600Nyj/9ZlOM7QMHl1E1To5//AAAgKwLNFP2SPSQPLi3iS8ecKvMFO+e/jAdfpCPXxox04Smyy6X5cucHfdPlFu9L/YFNwReZh3N0EfL/1d1UcaQDkkJK3v37gWmprkXVvz5Flj0/5P2Rmmcf5FhuyYrgD+sn3w5fo8jrAy5rD/6gtn9Yz7vBtmXedlZeO+sfwpG29L5oBwdEXSkqJoLX18oA88dvli/EI/dP9jArFvOHvVazFVv9EnzJSx1fwZBRbZBu52B/LZ0i+5PvhCMZy2m1W6zjOaDVHubLdma3uGKOdfslxlQLBl/W6rIup8dGWPXkV6T4cp4j3jE7L1HlbXc+wXa7oC9bBeOoz4PsnzdhuJHePykFzwPdr+lQRL98mpDHhG5+lZhW5wTt7O8D/SIuU+SWzPfMI/1eGYFe3n1XQNb9E36R9cNW087mWLHHZa4gttDvgzyynyMaRkkqqC7dNUdXSWdLbfhwTkLqu5NyMhwbpWvl/e8ZkEfa0pWZ8UyTe25JhA9rrpdPzg4fOlrl7v5BJ0qDMbe/w2q3eOdWPrk+iwLB724Tauv0YJ1H/oNGdnpMmaq0UlRmBkyFfsyqZp8JxjcN2mMyS5V2js8U/WzwezeYaufI7+tiBedlRiCvx/rYXnMsws+pEb9b832mFPy8mZL+h8w5l8ryz+i8MfxOzvf7YAyfN6Pj/U4e8bdP6Wnolzr2tBrZ/b4uuUtkntlPErz+JVKb1N+jwfgTwXTX3jl+V+h+3d/8Zmo9R3wWZf0OEGM5Q9fLPgQAADkRaDqjuVlGqqpjqhwwf5gUEQQV0eVybIIvasEXkfS/jmf/1/Ds9A+vaPfvcTWqfRB8abDVleYLf7lcj/Smy2Sv/SN5tMwfzrZ6JvwSrWGLSO0894Ww1PvHBbLB638x/EPbr8jLLVoxFffaW1rttCH4ouCWi1S7FfDgwSvMNaaiIWO+Yz0M5FLd3kxVolfR4q1HOKQrgFylyCNBe5tlIwHFBJ8juRQ6Dybs8ybgV0TawX0ZVCW/eVKefTehxvL7IAcNmMJKqPA4K9drji68I6zMbJHnwm7nXjfzUusPzvk7gt8TWavdRinOZ9GyzwTvU0T4lqoWXzoYfm6M6FY6UfSzz1aVmc+B+P9Amf4stUOx11Usa1XB74CRledGvs+USfx5UzZOvS73NAe/V7NUI5de+A/aJuxPBn9/JoblwKEh6Q3O93lmfj56DLnjwA6xKrFHuxwAAMhEoGmZ7mG5vmS7LzHmjyzv2kcpYaDT80BGJVJOxXe5DP81/q30H6zaPXhTlf2Cq19Yhkd231angj/Mgj+e3L80m2qy8GFhObp/l0rmDUry7gNPdLnLw2sNPf1a1m6/1fOCQ7yYCpC87VwEbTv/X/iVrR7MVemXyVTLaCWbC4PMa2aMj9g/4R/nqS6G2m0w6zGbT9CmHWFQ4FfkmbYZU5WEX4EbhrOpCizTzuHDvMdziq5jxpfRfMe6vn7W7vQBW+lSKLw1AYV+sfKPp9GeIwU/UwqLfx7k/rwx1YCRyyZYoz0PbJXviO5zjt0PRf2jRT6F9l3Rx6ytyPWOPW3nsOuzVsyku/ZrBVH0GppOrt8Htgowb7CVUaU+Ry8nMCQHNo/vZ3GpVDfcKt9e9f+QD/3M20b3+PRz0vrPA2ZSHPrZna3yUi/Fkb4+sVYeZ54/cdrZl++zKKCfoU9OkUc6rjZdpHMe27mYbrzT5MGM49BVoMX7RyP7u8yrtNRLaLhraIbC4zPb3yBhBfdbsqXA3x3+Z0pYYZqv+q/Ydtb1S3fXdcf6Mu9vgNT+Dto8em55vSiyKfJ3a1pwrmp35iVeGJjvMyXm7wpDfzeYSvRS/E7OZyyfNxOhwL7LRnsI6PFiP+/MZ3D4MJZiz615ieBzRY/94HO3ep7Ivqf9z5hc7O+KLxbbvnGXy6gSBQAAWRFoKvMFJvsdisPrmNmbSui1k7zrHEW6xASDdkfzK5FySv2ha8c97jXNH7ymO1Hw2loRpv8af/CSdFdOcz1Av4osrFhz65LqhmS+EAd/PNnlZieneNc5sn/wmm5T7jnuD/uML9YR+ZbLNy/gtikYIt338uwDI9dySq81tGkoe+WJVkpK+qYgBb/wFGjn3Nx22+HhKjkd65pWfnu5CkLbXmZdtOu6fc3gxXpSr5l7/yzZGHx5du2l6+Ffm8t+8YvcLMV94XHz7GC+xPvtbMOV1PrE7EqZ7loVXj8tPEfCAC41Lzi3lnuVVjmP5wj3ZdSuS75jXefp9dpSr6eD3856nTxvXupLYMZ+1WvYpbrC5ztHcsv3mVLQaM6DPJ83fnda97rmS6Bpk9GcB+E+Ea87nb/voiFsCeTddwFzTBR3zGYee+ZarqZ6JjhmH05vm17ywK8OHPXvg0D2cySkofOGYL/GP87OSMdKveHPYmnpFmlrKuHNf7JyN/SxQ9vLckvjjWYfVzdcL5989d/lD8z0N+XOj18TLhKHCY9cgJem4VzY1Vbb6y2Z1555/mhwFvyIHWTn+SzSz0St5rbnvH626j+ihMdRcP6bru/Rm56EIYqb54aB4OCP/j4wAWUgdtATnKt6/b7wWHbXU/TZf9RInQveZ6ap4A4+G7J9DuT4TNF/wEm/XzhEf3+Oop3tP0KFrxe02w3p94vs1+D3Vk9G5a0JZVPLen9TKD1Wgh/ZAvCCvM86s335PlMKfd743dH197WtaB317+Q8Cn/eFLt/8vz9mVe+8yCUfd/l+VvR9HBJt+VDieB3my5iFPgbM1D0uRXYsOmdMDwMfo/WBp+3kvVyF1Hmd4X392XmducSazmtpo5VJQoAwMWtajhgHxvHjx+X+fPn27H8dFG3uP4cGhqSwcFBGRgYkHPnzsnZs2dl4cKFZn4504vC63WUIuHAuNE//t403Yjjftm9IPSPbP3De4K6mOXbB/pHtrleYs4uOfoHrn5hLPM2LaUJ3j+jNbHnVh6n9IYaejOHdKiQuhnEaLt6TfA+GN15UEafN1n2AWKcIyZU8/8x4+Ix2s8Pc67oDUzK+vNxIn9vhZ8DGpb7bVn4MyW/8mnn7Ns3ocrw860yzoPxUOl/E1bI9wQAAMbR0aNHZebMmTJjxgyZNm2aTJ+e/e/Viz7Q/JM/OS9//Mdv2jGUG+0e7H/p0n/JdtMd90e7VjegfOg+8gMJt+8uBL3D6IgKV/sFWCuzyh3nweTknyP+cZjer9mP07ffvkamTrUjk1qRwYQJlQZlv17HtYxDHPOPKZvCa1ROSGCRIxT3P1OKUkbtbLaheViWeXefvyDKKdCskPNgPEz4uTUORn1eAgAwiRBoYtLI+ced+ZI2FDyYclFWL1WC0VZYjQf3RSdFb+5QQV8YJu154L5829GoyX9u5zpHUsfrhT5OTz8nX2j7d/m+HY26RrZtrJNx/S2vx8cXRR656KrMSiB1bulNSEZeMoLgpITKKdBE5eLzDgAAg0ATAAAAAAAAQMWIG2hyUyAAAAAAAAAAFYNAEwAAAAAAAEDFINAEAAAAAAAAUDEINAEAAAAAAABUDALNi06vbK1ZKR39drSgM9KxskZqasJhZecZO70MHdkqNSs7gjUuU/0dsrLc23Cc9bZe3NuPUiv286y0znSulJrWXjum7Odl2X4O+Z/nF67dAAAAAGCsCDTLVX+7LF9dJVWPHrQTrOe2SJVO12Fju4z399EznfdJy4JO6evrM8Oexll2TpnRsLApKa1bm6RM17CkTJBSUyNbj9gJNqhIj1eGkYHQxJssbZlP0e2s/ziQEb4TRpcX3R9hMOmGrVJ4D8+Spj36Wd4pq+wUAAAAAKhEBJpl6aBs2bhPahcts+Oh/m8ul6qdIj27h2VYh83NUm3njZeTyW6pT8y1Y+XqjHSsb5FExx5pGu8GGYvqJtlTylC4vl6SO8u4IrWS0JYjBW0i63bHCMmQZgPDPRPzDyv12w+n/rGpr2+91NrpAAAAADDZEWiWoYOP1knvpx6Ru66zE4x+OXBYZO/m+2WJnRKfdst0VTyN0manGrYbtKvycVVprvqncZdI97rFdn6cCqD8olVF6S6PmRVk6XFd963Skaqic9vircuR3dIirbJ6kR13MratFN1AXTWfG1IVa7aiLV3VF66nm+9v94jKP7usG2JXwS1YK2sXdMmzWcp0o+2cbitd/5WdHd7xEN2n0e0b+/5W/rro8WTYfbN4XbfIrsbUfN12sw6RfRVWTIbtEh4PvX6bRSoP/WO9NG2ZuX9S+0+3IVjPjhz7drzb0n9Nne5va2o8TzsX1iBrtyelK/N4VRnnVvr1oufryPca5f6JybWP2w/59kGueTp9ZWdvzq7Z/nKmXZ1cx2TkOAle64htu9Qx7ncD12Hsx0p024po53yfRRn7fMTnGAAAAABMIALNcvPcFqk7tVce+URGqWH/AdnXXxt84Vye7nKe2R09Kw0QGkU6XBWP39UwmFeXlLWpCp9Okabwy3RtSzitc41fBTTGCqDgC/GOY61yOPV+cSsq26QluVYOb6+XtqYdkujRbUhK0oWhP0pK/W03j6yIshWR4XsF27KgRXaP8Uv4rMY9qdfT9kq4CrZF66WvY1WwfmH79bY2SjJoN1eNGbbnYWmtN6OeM9KxMymtPen1TFVwZoQL4RANV2pvTUjLY9H4Q0OdRklfJuDw9qQ0egFh97qW1PHQuaZNdrjQIni/xUE7u+X6OkQai+mmnEXmuujxZNh9o/tU1kQvaTCrca2s6vbCxf5npat7laxNVba2SePOhD2OgmNh1w7bJhoM6fFh1z9o74an7gvnZYQxbvBDmWxtafZBk0inXb++nlZJNnn7oLtFWtz26f53VZ4T0JaZ+zWrPO08Mkizg7eecz/SMLJyVduyrksaUu2s58Firy2D8/WphnD/BO2VrvLMs39KwG+f9fqPG/n2QYH9070uOH/vDucd3i6p40KDwsVu28w874TWz4DMaU5wnHQlDgfHf7e0NAWfuUG71Hcn5aTO03+Q8S7rkfqcjXHMpv+xKRi8YyHn51ReeT6LgqVz/a4AAAAAgAuBQLOsHJQt2qU8Z1fyDbJPHgm7m+8+LXtP1cmW5+ysXI50SVt9lupFpfM0HEp9WdbqzXRQWHLVCUkEX+wXZ4RyhdVL6502Sl2zdkQIqt3iE9e7L96+aDWYVgcmf5Q3/ilMA65c7bVofRgy6XtJpxcG5DNLEgu6paUuSxWVDUiiQ0YIvGi1tB5zgZ46I8ljXnsFZn2kIR2eqDWdYeATmJuol+5kOKf3mbZIFV9NUzB+LBkNs4rSK127ousST62s3i7S9b3wnc98r0tk+2ovTA9eM3Wt1FppWNMtyVPBQxN8hm0ZbsNiaQnGzbyMcNsNrh2MEW0ZvLeG5f57V98sDfX2NY1V0tli585JpNq59G0ZY78WzV1PMWNw26OCdlub+Q8Bp5LSHTkPdR/455a3f/Scd+dIvv0zJuFr7kgcjqx7vn1QcP9454hpZzPvjDz7VLesuns03cnTgXzkeFJ63Jh1yQgIYxyzkS7nfjf3fJ9TOeX5LJro3xUAAAAAUACBZhnp/+ZDsiH4r85WYM7++v7gi2Rd8Hi5tJvvlw/KvanKzWqZNyf4Yv7SGL9RelVb4TCe16GslfXmPbaJrA+/GI9nt0Wtkmzzti9VHThqvbK1qU1WZa12TavXaw8WEV65athtcl8YFnhVZOlQwg2ZYfAsabo7IV3fG32s5Utvmx0m6FqAmTRECiv7NEQSafhIzLWo9yuAw8EEQDGq3SZrW+ZWuEJT1d7ZKslnSlSLl2v/jEm9tPZkVomG8u2Dstk/qeCyQbrMPrDneKxjNpt4n1PZ5PwsUhP6uwIAAAAA8iPQLCPVn9hnqy/D4fSnloks6gke75PmG26R5dUb5ECqIvOgHDiyTJYvKvCN0lSNue67GmBoZY1lK4PGM1TMLqwM066ZkYpJFwIGX+TvW+ddm64ArTIcWXmpFW2SvqFR8Jo73PUbU2wFZ6Fuu05/UpJSL4k54eiZzh3ptlTajfWpBtm2Z4/p3n5f3OvWWaabqHZFde0Qp0JTLWqQxLod0mVGbJWV13W697EW6V7TEK0Ky0Lb0XWZz84FYHG7ms6VRH13utKyc2X6GprWrOsT2cNfrQxc0yZdrdodd2RVborZr6ukQUMxWwGctd3jVGiqSFuG69ftd9fV7sHd9v3yKH1bFt6vrtJWj8N47RyjQlNpVeqxHbIjOJ8M87nhVbKafVBfOHTOt38sd+3H4j+TamV9xuUA8u2DwvsnTdtZzCUtdB+ItLlwV8/3Ij6nCgv/wUe7pceuKs6m0OdUDCM+i2L8rhj9vgMAAACA4hFoVoxqab5nr/TutNfPXF0ncvc+aS5UIRN8Kd6m14Az3TwXS/Ju7zqO+oXZXPdR59khbrg3GhkVhyb8s90ww+smanf0YJ5eqy1Yr7hM6PTUsyPDmrtXpa8xF7xmw4hr22ngFvyI223XhGzpLrOLkw3pttRta0qmutrWtoQVY2GFkwuvtIutpNo7/OIf7RZfo9cmTHWnjivsot1ts5XalmAfH0t3p23U65ZmhlRZaIih19RMdyvN7HoaBjoSu6tpsA+26jUUw32g1ywccX1B7eYtdr9nvF/trcGxuatNVt2aue7pfWDaq8dd2zUMtdz7hUPcwNCJtqV/GQHzerqPU++XW+nbMv9+1SrKsNtyMG9nQjqLaOfCwsrVVJuYz42Etw9aJNERp1qv8P4xwWtgVJeG8NZLty/fPii4f7zu6P7lI/S8XuW182Hvc8oFepEbMGVUu2bjlnODvt+YqlbzfU6lPm/0H7bcc1wInOezKMbvijHtOwAAAAAoUtVwwD42jh8/LvPnz7dj+emibnH9OTQ0JIODgzIwMCDnzp2Ts2fPysKFC818YPxoYKhhbfHdVzVMMDf5KLvuwGXKBLd6k5wx3iAqjqzvpaGL3lhmEnR3nci2rBi6f8ObmI29K/romM8EvWFQjH8EgO/C7zsAAAAAle/o0aMyc+ZMmTFjhkybNk2mT59u50RRoYlJIKwEjNx9uhB7fTrCzLhs9daEBXBnpGNn28gbqEwKE92WlUHvUq6VgwRilYd9BwAAAGCiUaGJ0tGQsK5FXM/UqFXjH95oxdszDVRWVTgNR8w1IPUmJCP25SSq0ERZokITAAAAAC6cuBWaBJoAAAAAAAAALji6nAMAAAAAAACYdAg0AQAAAAAAAFQMAk0AAAAAAAAAFYNAEwAAAAAAAEDFINDEJHdGOlbWSM3KjuBRMUa5nN7pvaZGVnbGXcq+T7BMTc1K6ei3kyuJ3l3erH8wtPbaieVG745eoe07ZnqMXazbDgAAAACYjAg0y1V/uyxfXSVVjx4Mx5/bIlU6njFseS6cjYkSBpBbj9jRMZslTXv6pK+vU1bZKWPjAtKtkooWTcjqjWdjQsnM54SvVTCcXbQ+WP8+Oby93k5AbhqsugDbHwrsnzEJjrGtDdJVN57vAQAAAADAxCHQLEsHZcvGfVK7aJkdD9x4vwzvHvaGHnlQlsm82XY+crCB4Z6m4FExRrlcdZPs6euTPY3FvVup1dcnZUfsKtHAogZZJW3S5Qe1/c9KV/cqWXuBt2VyqZX1wfGRCoDXdJrHfX3rgznjKDgut21PSmPZVtACAAAAABAfgWYZOvhonfR+6hG56zo7IYv+bz4kGxbdK83VdgJGytMVure1RrZ2ht3DzXy/a3mO5c50rgymLZaWbpG2Jjvf68asr+mWy6zgDJdNz4/fJX10EnevlcRTz6a3yeOvZ7oysFYa1gTb9Yy3vd/rku41DTZoy6wsjFftp+/lb2u28dRrFn1ZgCh9rRGVs1qd6r/u99L7NrIP7KUC3Lz069ju2kdyHCs5lxslu7693vHi1tMcQ5nHozdeqC1nNa6VVbt2ZOl6bvctYScAAAAAoEIQaJab57ZI3am98sgn8iWVB+WrXxfZ+6kldhxZFegK3bauSxp6tDrusLRKi+x2YVSO5WY17gmfG0xe1RFW2fX17ZEmu6tqW+xrZXm7cFm3TKck1u0uHAj6wWpqiHstxFppWOBtk6WhV6O4qkDdxqQ02vCr9tZVIru67HqdkWef6pZVt7q6wXRloVuuqArQLDSQ25E4nH7N27rkvjG85txEvSR/pMtrQGcD11NJ6V6QsFW23dLyVEIO6/v1tIqk9kHw/LqkrLXroftHmvzANlhup8g2M88/VnIvFwkX3ZAlZMyqu0V2yLbwNSPrmVu8ttTQulu6vje2/QYAAAAAwIVGoFlWDsqWnSI9m5slX5xJdWZp1G/fZsPIWZJYIDYMGyeRcLJR2iQpyULBpA1Wo0M6QC2k9s5WSe70Q7QzkjxWL613pjs3z/pIg9R3J+Wkjvjdzm1384ZFOkO5a3OGw+J13dKdNEuNUhiYdq9bXLLXnHV9Ily+PymJNWK248yPklKfmGufEWz7VnsJgeqEJNw+ONIVbHWbNNr1yLZ/Vt3tLj0QXopgvbZLnuXCcDtjiH35Aq+bv7mEQaHu6PHbUkPfkWxY3TKund4BAAAAACgZAs0yYoLK4L86e8Of2V/fL3KkLni8XNpduNLfLvdQnVlhemVrU5tX1RnzBkBjqtAMVDfJ2gVd8uwpO15QrazeXm+6nUe7m4uc6bxPWqQ1rG4MhtLcAKheWk2FrDeMJVSbkwheMVjX7yVF7mwQCbbjZLJbEtfHiBFT17J0Q8zgOMdyY6rQHJUStyUAAAAAAGWMQLOMVH9iX+TGP6c/tUxkUU/weF+qGvPg1++Q/VRnXkCjqObsT0pS6iUxJxw907lD2sKH+Y2xQlPV3pqQlp1ddkzXvVtaHkt3YO59rCUSXJqKzV075L5Id3MxwaCkum73yu51wXhMqUrBI1ulcVf4MLUu6/OEfDbQjX29Ua26PNYlu5MJubl6rnnc5bV7ThqE7mos/vqXeZYbW4VmHseSYXv1d8h9qX0Qoy2t7AEv19AEAAAAAFQWAs1K0t8uDx1ZRnVmTO5GPNr9VnY1hlVyMUKbQstpV25Jde91FZOuS3b0pkEm7NJKyTXd0lIXTlucbPCus2nDJNNd2T2niCrMQhatltbgdV30VdtyWFqP2W0KhsZjrXLYr+Srvlka6oPnR7qbh9us4V243A5JbE/XmOZrr8hyOxPS6VV2mnWRFllsXjMcIuGgrbgsqht6t3YC1+B1ltx8W1LadiUkUSgA1m7dHau8Gz0FQ5xqytEuN0rmpj7dtr302p3BezsF29Lola5dMQJeAAAAAADKXNVwwD42jh8/LvPnz7dj+emibnH9OTQ0JIODgzIwMCDnzp2Ts2fPysKFC818ACiOhsSLpeu2w7LHXVMSo6bB8+LkWrqiAwAAAADK1tGjR2XmzJkyY8YMmTZtmkyfPt3OiaJCE0DZCas+CTNLxnRRT0gnYSYAAAAAYBIg0AQqTX+HrPS6FkeHrTIZroQ4q3GPue4kYWYpnJGO9V3S0FPobukAAAAAAFQGupwDAAAAAAAAuODocg4AAAAAAABg0iHQBAAAAAAAAFAxCDQBAAAAAAAAVAwCTWBSOy/tTa/IlkN2tOyckY6VNVKzsiN4NJF6ZWvNSunot6MoirkLfeuFuv1Uln13ZKu5KdbWI3b8AuptHc3NuUZ7HhS/XLh+4TDu7WVuYDaxNyo7uLmcP+8AAAAAlAqBZrnqb5flq6uk6tGDdkLguS1SpdPc4M+bDHT7NrYLGVPpHNz8ptxxwzS5/yY7ATmEwVA5BGLj4cIGkBiLUu+72pY+6es7LK31dsIks2TjtOB/r0r7KTsBAAAAwKREoDleTCC5RUYXOR6ULRv3Se2iZXZcBdN2ivTsHpZhM5yWvaceknbSP+Ry6DWpe36qnN6Y/Y5g5WGWNO3pk749TcEjYJQWrZe+vj5Zv8iOX0BhYLheau14PKM9Dzh/Rpou9x+8RO744uv84xgAAAAwiRFojpfqZtl3t0jd6uVFh44HH62T3k89InddZycY82Re9Qapc1WZz31V7uivDaaFo+WjX9o3Btv8nK0w1cGruuz/5nKvytQFvgdli47v3BA84Q6Z7ebbbTXLeNWokXGt6gweH3zUvWaVbHkunKXTtnwz+3rko10yV3amO3C6ca2UWtnZIVu1u+bKDunVyqngsXuuPm/rEe0O67p0xuxqabvLuiH13pndNb1x817BuqzUZVp7U91I0xWG56X94SF58ItXSvQQ8ddPh1J0B831mna6V11m1tN1j/W3e0QFmu1KO+I1x8Jfz0Zps1NNBVzNYmnpFmlrcvPDLs1mfSPrFr6GaWfdH95xoIN/3IT7y71eaao/3X4Oh3SbZFbxpcbtOixeF2zcrsbUspH1HCu3naluz9HjIfpeuebp9GB7ch4T2fdd9DiJdkMveI7kOu9Gy9/fGV3AI58dZvCO51zbXGjf5Tl/wmPazvOXKTlt/yyXbtB189Yp6a1P5DzIeY7Y1z2SvU2j25fls+Gmy2SvDMpX6XoOAAAATFoEmuPpxvtlePNy2bcxHbIV9NwWqTu1Vx75RGZSWS3Nm4elR+rCcG7/PDm9+35ZYueWl/1yx36RR1wlqdwhX9XtD7Zt9kv32grTYNDA1wSTS+R+M/5gsJl7g+2y8z8bc+uO1MmB/5d7zQdlw/50cLnh6/tkedBukfUYg+51XZLo6ZRV3S3SmFwrh7fXS3fypJ2rgViXNPRphVafdK5pkx0Fg4Tgi/vOpLT2hMvosKcxXq1V27qkrO1plfpdjbIjcTh4P5Hkj9z7vSMnnpgit4zoal4r6+376HB4ezLGOhaS6zV1etBWwfqZoOLIVmk81iqHXTWZrarTNhzhyG5pWdCZes3iK94yaSDWKNLhXi9YLztnVuOeYDzsgrsqNX+PNAWnYO2d2r5dXvjUJW31rbLaVQLa48AsE+wLWbfbPjd4v7pg/6TWv1OkaWyhrAZyjZJuE23nxozgbITqJtljnhts3Jr0snGPsYI0kKoLjnk9fs1+1SBqR3COuO0+LA1P3WcDr3zzVJs07kzIYTNPj5sddl7ufZeqUIxMS8t9joz+vMvJtnVfR7Y10c+OltQ2RD4bcp0HhfZdnvMnPKbdtnVKInVcltosSSzolqR279ZjwR6PZ36UlPrEXPMM3a8t7hwJ2qZtpxd85z1HuqVlp8g2My84P6VFdtvPkcXu9cxrijRmBLoil8stn66SDU+/YccBAAAATDYEmoZWFaYr/NKVgyrfPFtZ6IZsFYBaqbm7R2RnMN+rMszOdivf3JxRVafC9aiTHhPc9czRSsbRdmkffw8uc9sQBrH33xhs3T9tMOFjqr20IvPUiZFtVqzqvXJX8PqGCZHT7bfsU49Isxmplnlzgq/QL43x3dasNUGXSL203jkyYqvfvjoVvGnX08IhSRgItNQVX0WVfq9VsjbzfU4NSe9nqmSeHU3TUMlVNoXVX34gOzr5XrNW1ve0SlIrH5tEOuN2jZ2TMCFUaSozA5lBZFzVTbJ2TZt02cqx3mfaZNXd/jasks4Wu8erb5aG+qQk9RDT99OAzrZJWFVo543KGUkeix5zsz7SIPXdSRnr3hs13T8mkArDX6P/WenqDo/ncLu18tUFXnnmGcH2bXVtWysNa+y80e67QO5zZPTn3ait6Ux1iZ+biP5DSMn51ZtjPvby020xIXGwrxILkvJs8D4nk92SuN61t3eO6HntjtkY50j6XAuDa20/PQf9itWapmD8WNKGpGnV8/jzBgAAAJjM+IvfCEO3VOVgpPIx3zxbWeiGbEGkuZZmncjdwfwCFYf933xINgT/1dnAb/bX9wdf+jQAXC7tzx+Qff0PSo99jSWfPS17qzfIgTFWHE60B7UdCrXZRSa85l6fbJP7wi/oI6qNSudM533SIq22Ci57dVexYr1mfb3UFxOquGq3vgbpMsFFlm6tE6T2VldV1itdu1ZJQ9xgzauqCwcv+JsMgu3LWiVanz4W3JC6tmW+eRNsIs+7idUrW5vavGrj7NWrpTLr+oT52ftMUhruTEjye70mfE/MMZPzG+U5kt42O3ANUQAAAOCiQ6A5nsxdu8Muz1qhWEj1J/ZFwr7Tn1omskgrMvdJs/m21isnUqHOCe9xZZh33TLZsDNPVensebKsP9guOxrhKjn72+UeDXrHWap6SrtJ7wofjjfTTVS7x0aqjVwIeEY61rdIt5kWw5wpUvvE8Ii21MopWZCwX/57Zbdeny/ivLQ3vSJVVa/Frv7N/5rarbRLGrbukT0dCWlZX6CL9Ahhd/ZOV62X8oZsqQrWsynmjT9MZViXqR4LK0r96zAqrdjzu+x7Fq2WVumS3a07JOlV4I6g3eSlQW7WQMZWmOa7bmb/468G7fyKbIl1nT9bUfhYOnTrfSw4HtY0pNfHHTf9HXJfxn41oVOWKrZQkW3p0WO2c0GLLHZhYHVCEt0tcl+2qsd88zIF27DDhccF993YZD/vij8Pxkv+fZdFf/CZIelA8UznjuLa69Br5rhc/vh5O6GAYP9IcndwhgTHYrCP5amu4P2DfV0omIxxjmSjFaFtMS7f0H/iHVmW4E8cAAAAYLLir/3xopWZ5q7k+2yX5zEyNxmqlTtS3d/1xkGnYwWl5UID255F6QpUHZZ/04tQgm28159vu+hXf+JeedDdLGjjCblXr7U5jsLrJtoujTsT0lmCKsbc9PqAWoFoBxP+2Woj093ZddFdLMm7i6m0ukTmfWZIDmSEZZFtq9khie2Zr3i5zLtBf74jJyIBYm65XzO89mFy+7aw6mrR+jD8st3I3Y09Ijc9scFY5k1N9NqR0Uo+3b7gR5bQNqugLbdtF68tw2tm+nQ7ZN1i+55+Regsufk2kbZdIg0fyawD87rM+l3qtcJUrxeYuslQMGRUMrousb0n4gVHtS3BOh9Ld7U11yO1XXlnNa4113VdrPO0G3jmdRxNKGvnB0O0m3WRbZkhvV66X8NLDKTbUQcXPuWbp7zu6Oa6nPa6qXn3nTt/NOR0y8ep5s1z3hnFnwepbt5NbebaqqatC13jNJDvPDBy7Lucy0U+N4L5yQavvdzlIaI3wYqEinOqZFnwY3/ynXA8jl1tkjTXzKyVhgXakTwh7gqaOcU4R7IxIfoav6t6tssGnJcDTw5L7bzL7TgAAACAyaZqOGAfG8ePH5f58+fbsfx0Ube4/hwaGpLBwUEZGBiQc+fOydmzZ2XhwoVmPoAJppVWD1fJ6Y7MO50XoMstEekZvsq7vEL50QrH2U9OKX77RkHDo8VPNaRvaKTMDXH0GpKjvWGRVkYOiBy8Ru4fcfOmiTWRbZmdBox6w6Ay6pZfIedB6Wl16puy79NXyL7bKzQQHO1nHwAAAIAL7ujRozJz5kyZMWOGTJs2TaZPn27nRFGhCUxWN10lPTcMyuzNce/0a7sel3uIc+p1WR6s58QFcGE3+ujNgMbm4GbtzlwGYeaEt2UlqJDzYByEl0Go8DBT99+Sd2TvwxzPAAAAwGRGoAmMq4yurZFh/G90s2TjFbL3+bekPVa32ely//A1MlzuIc6cK2Wfrue4B3Cue652mz9c0pvXLNmo7XzhKzMnri0rSYWcB+Og+varzXFZuWGm/mOB/kPB1dIc56ZEAAAAACoWXc4BAAAAAAAAXHB0OQcAAAAAAAAw6RBoAgAAAAAAAKgYBJoAAAAAAAAAKgaBJgAAAAAAAICKQaAJAAAAAAAAoGIQaJar/nZZvrpKqh49aCcEntsiVTrNDMulvd9OBwAAAAAAAC4SBJpl6aBs2bhPahcts+MBDTh39srezcMyvDsYNi+XfRu3BM8EAAAAAAAALh4EmmXo4KN10vupR+Su6+wEdfqE7F90rzRX2/HqW2R5da+coEoTAAAAAAAAFxECzXLz3BapO7VXHvmESy6t2fNk2ZED6YrM574qd/TvlxOn7TgAAAAAAABwESDQLCsHZctOkZ7NzZIRZ4pUN8sjn+qVOncNzX+aJ3url8m82XY+AAAAAAAAcBEg0Cwj/d98SDYE/7nQcvbX94scqUvdAKj6E/vC62fq8Nl5cqK/VuaNSD4BAAAAAACAyYtAs4xEAstgOP2pZSKLeoLH+9LXzjT6pX2jXmfzLllipwAAAAAAAAAXAwLNiqEhpu1uvnq2nFg2LPsyr7MJAAAAAAAATHJVwwH72Dh+/LjMnz/fjuWni7rF9efQ0JAMDg7KwMCAnDt3Ts6ePSsLFy408wEAAAAAAAAgl6NHj8rMmTNlxowZMm3aNJk+fbqdE0WFJgAAAAAAAICKQaAJAAAAAAAAoGIQaAIAAAAAAACoGASaAAAAAAAAACoGgSYAAAAAAACAikGgCQAAAAAAAKBiEGhedHpla81K6ei3owWdkY6VNVJTEw4rO8/Y6eWptzXHOh7ZKjUrO4KtKVO6fkH7bj1ixy9COfcdMBoX+JwfeTzbz9Ky/RzyP+uL+R0BAAAAABOPQLPM9H9zuVStrvKG5dKe+mJ5ULZ487Y8ZyePozOd90nLgk7p6+szw57GWXZOBenvkJVNSWnd2iQVuPZFcqHEVum1U8z2++MVIdyOCx3wnulcmRE0l8d6lZLZxtYijg4bvvthHWF0edH9EQaTbohz/s+Spj36Od8pq+wUAAAAAChXBJrlaFGPDO8etsM+aa7Wif3SvrFO5G43vUdkpx92jo+TyW6pT8y1Y5XojHSsb5FExx5pMu1YphatN4Hx+kV2fIzq65Oyg4CpNOrrJbmzjKt7L4SgTWTd7goLyS80GxjumZh/WKnffjj1D1F9feul1k4HAAAAgMmAQLNSPPdVuUP2yl03uvEDskH2y74jcRJN7WbuKnUapc1ONUz1XrqSx1WeuQqfxl0i3esW2/ljq/LTSrCVnb3ZuzXqeqzskF5bEadDZgWYm565Hv48Xd+II7ulRVpldWZQmLHdpegG6qr53JBa/xHdycP9Ec4v0M3TLjviNQtI3L1WEk89m3WbcrVluH86vGMl2s7R7RvbseBk23fh+yyWlm6RtiY3P2wbMy+yr8L2C9tF2zVYL7/NIpWH/nkQvy1lwVpZu6BLns12qmXsH7ePJ74t/eMoGLw20jb2tzU1bs+BxeuCht7VmFo2Xrs0yNrtSenKVqmacW6lXy/cPx3etkfeK8dnUWm4fZ9u63z7INe8cL/m+AwL5PwsynVM2s+9DrNc8FpHbBu4/Zf5OVVMJW0O0fO/iHbO91k0rvsOAAAAAEYi0CxHR+rSXc4fPWgm9b8UfJGdM0+0yNB0S98/T3o+tUz2v3TCzM9Nv8g3inS4Sh2/O2Ewry4pa1NVPJ0iTeGX99qWcFrnGr/SZ+xVPt3rGiV5d/jah7eLtDzmfUHvbpEdsi18r57WVAWYfgFvlHS398Pbk9Jov/BnztP19Z35UVLqb7t5ZEVUdZPsscuY5Ra0yO4xfgmf1bgn9XralglXwabVlx2rpM22bW9r0AZBm4bd9/N18zwjHTuT0tqTXs9Ul/+McCEc/HClVhqybFO+tlTd61pSx0rnmrZ0lWfwfouTa1PL9XWINI4xXMm178J2PCyt9SKrUsdtWGE7q3GtrOr2wsX+Z6Wre5WsTV0KoU0adybksFkmaNNdO2ybaOC3QxKptjwsDU/dF84r2JZBa96aiB6rSpdrEum066/HbLIpvdzEtaVu22Lpui1dkafH8+JCr2nPgcPbg4Zek3FZicwgzQ5+UDX3Iw0jK1d1ubouaUi1s54Hi73l2qTlqYZw/3jneHA05PwsGjv/M9B+huXbBwX2T67PsLyfRbYC27R1puBzrytxOHh+t7Q0BW0QtEt9d1JOBrN6H9PqcrseOrTYT+AY+yf9D1HB4J3j7rPdDHrMxqo+zvNZNK77DgAAAACyI9AsM9Wf2Od1N++RB4/UyfJvppOVg49WyeyX7pXhzc0yz07L60iXtNVnqVBUOk8DoNQXYq3eTErSC3JKbk1nqlv1rI80SP2xpPdl2gumTNii4cMZSR6rl9Y701GqWc584e+Vrl3ReZm0y3zievfF26chh9vuGlNNlfxR4a/1eUWCsYy2XLQ+DA/1vaQz5rVIZ0liQbe01GWpmrMBSXSIdquvvTMzrMjXlpa3f+Ym6qU7Gc7pfaYtUsVX0xSMR/ZdsQrvu+xqZfV2ka7vhe985ntdIttXe0F78Jqpa6XWSsOabkmeCh6a4DNsy3AbtALUzovRlrJotbQec+FoyITl/ntX3ywN9fY11YS15UlJRkJdDWBXje01MwJ/N0QuiRA8Z21maH4qKd1r1nptp/vAP7e8/VOdkIQ7R8brs6i7RRbXhEG2v+759kHB/ZP1M2y0x7NK77vI8RTQ48ZUKWeG0zH2T6TLudfNPVJ9Wtci3f75n1Oez6IL8XsEAAAAwEWPQLOsLZFb7BfU6uuCr7lH6uSh607L8GeXmGknXtovy66LFWvm5lVmhUOZX2uyRLRKss3b9szKzuL1ytamNq+iMPuNNer12oNFBE2ummqb3BeGBV4VWSqUSA3RqsIwcOqSZ13ANkbpbbPDBF0LMJOGSGFl3xl59imRho/EXIv6Vlu5mR5MABSnLYMtbbo7IV3fKxz9xFEubZlTjApAZULzZ0pUizcen0W6zzsS0lI3smIw3z4om2PdVX3f2hXug1xd0e1QsKt3sNx96yRdaanVoHZWITk/i9RF+nsEAAAAwIVDoFnO+tvloSPLZPmi4JvhjbfIg2IfZ87LZ05C6lNddLVrqlbPWDpvV2PhL8HjRLtTSrbu4BG2Msjr7qvLda9pkFqZK4n67nS1XufKEdfQ1AqnkZWXWqko6ZsdBV/yd2Ree1MDSv3S7nXVzKs/KUmpl8SccPRM5450OyvtxvpUg2zbs8d0B74vs8qpABNsaPjgwtA4VYUB01V6Z5cdy9eW+YWVYvm6kRbZXgX3na5rjqpZDWrXtElX625pWeBXA2Yw+3WVNGhoqdWA3TnaPWZbyqIGSazbIanWvD4h3f6NcfR6rd32/fIo3JZ6nmpAFbfbrral16Vdl9/ZFrnUgqsO1eMw8xzR7RgRssep0FRalXpsh+wIzifDfKZ4laxmH9QXDp1jfBa5ysKiP69cdbR3bObbB4X3T1r6M6zwZ9GYmGO0U1a5asq4+yeTVtBKcC7YY9uc/+HD2EZ8FhXcd8UezwAAAABQGIFmmTHXx3TXz9y4T5Zvdnc5XyL3b14u+zZmm5dH8MV3m17nzXS1XSzJu8NrE7p5e8y1HXWeHWIHUqPkdeWM2/W6tiVY52Pecsda5bC5ltwsadqq1+ELrxWn173LvEadCZ1G3BxHq+1Wpa8xV5eUhhHXttOAIvgRqztmwIRs6S7Ni5MN6XbWCsCmZKqrbW1LeF3BsMLJdX3XoNkt76oDo93ia/TahKnu1DFpV+ngdV1okbst89MQQ68Dme5Wmtn1tMj2irHvtPrPzR95TcvguN3VJqtuzVz39D4w7dXjrvtaK+t7/NfTodiAJezu3u0a0wVl7vV0H6feL7fCbRmGuRK7227QlnvsMWVeb7G0LEifW9qOGjiZeTsT0pl5rJtjRLtmZ1uXQsLK1VSbmM8UrYi021an14CMUa0X47PIBK+B0VwawrS5XlfUHkf59kHB/ZP1Myz/8ezC2MgNmDK7kY/ggkA36HVAx3gdY93X9elt25FojV5T2b5PUZ9FBfddscczAAAAABRWNRywj43jx4/L/Pnz7Vh+uqhbXH8ODQ3J4OCgDAwMyLlz5+Ts2bOycOFCMx/QL/XmZhsxArTS0VBAg9wY1UsZzPrqDUzKrTtwmZrQ9jIhsd6Qxw94NHTR6yVOgu6uWbfvYqf7N7y5T7HncqlcmM+wSYDjGQAAAEBMR48elZkzZ8qMGTNk2rRpMn36dDsnigpNTHJh5ZR/9+mC7PXpCDNjmvD2sl2qM26gMjnYSjjCnwi9g3hYoXjhwkyMBsczAAAAgPFBhSZKR4MtvWuuHY1aJW3bk7LqQlU3aYXQMw1UVlU4DbbMtQn1JiQj9uUkqtBEWaJCEwAAAADGV9wKTQJNAAAAAAAAABccXc4BAAAAAAAATDoEmgAAAAAAAAAqBoEmAAAAAAAAgIpBoAkAAAAAAACgYhBoAgAAAAAAAKgYBJoAAAAAAAAAKgaBJgAAAAAAAICKQaAJAAAAAAAAoGIQaAIAAAAAAACoGASaAAAAAAAAACoGgSYAAAAAAACAikGgCQAAAAAAAKBiEGgCAAAAAAAAqBgEmgAAAAAAAAAqBoEmAAAAAAAAgIpBoAkAAAAAAACgYhBoAgAAAAAAAKgYBJoAAAAAAAAAKgaBJgAAAAAAAICKQaAJAAAAAAAAoGIQaAIAAAAAAACoGASawLjola01K6Wj345OMmc6V0pNa68dK0+9rTWysvOMHSvgyNYxbM8Z6VhZIzU14RD7PcuGXf9s29/fIStLvU32NbceseMTpNhjVo+fmpUdQetcZPRcmMSfXQAAAAAmBwJNOSgdVVXy0Ihhizxvn1Fyh7aMeL+OQ3YeykIlBHaV4kK0pb5n47FW2dY4y04pYNF66ZTGUQV3Zzrvk5YFndLX12eGPXHfs2zMksQC+7AkwoA0Z2BZnZCEfVjO5ibq7SPHBddbJXU0m3DWGy8hc97YkNwfxj0wn5OQzC0HAAAAgHJDoClLpGl4WO4Nht9vXybyQI95fO/w/XKDfca4+Mxe+X37vjo03WSnAxib/g65b11COvc0STHRYm1LpyTW3Vd0ZdrJZLfUJ+basfE3oQFxdZPsqciQdvzU1ydlxwRU4c5q3GND8k5ZJfXS2lOpgTkAAAAAlB6BZl5h9WaketJUV4bVm89v1nl+hWe0qlPnp6owm9rlp3Z6Xvr6mw9GlnXvn/f9TrXL7tT0Ktn9eDqVKbSeYSVQEV0MM6uS/HF9vLJDOrS7pq0o8iu1TDfOVLVR+j0zQxp/XB+v7Oz1uvWml9PX23pEu3e7eX61VLQrcKT7qO1i7K+PWU+zLTWyeF23yK7G1Lx0VZT/XpnVUv68RmmzUwsyXTzTr5lqL9uWvWb/ZHk/u64jljPbHbTREW9+atuj6++3V9jOHTna0u4TO8+0TyH52tLMix5z5vXNeuo6Bu/tt0skwMu3D4K5j7WIbF8ttXY8JaO9RoaCtbJ6u0jLY5nTs3PHTuMuke51i+3rptsseqx7bVlov46abZcR21VYbUuf9LVEW2zEuZES7p+OLOsfHiOLpSXY5W1NbvnMz5ZaWd/XJ+sX2dEYom058hzJ9XlT9DHrMYFillA8cfdaSTz1bPqzJCX3542u/9bg3Bp5PoYi25cxL5v0ueKE7x3uhwLnT8Z5EN23ARNi75GmajsOAAAAAGWIQDOvJVLfvkx+/PRBOy7y/NMb5N3td6WqN3+85CG59mRYZfmxBzbIIRsk/vTx5XIocTpVgfn7n94nX/dCRnniDvkrL4CMhKab6uT7S2315sEH5ccPp8PQHy85IB+yr5l6Pw0z5+6TGrse9w73yLubZ0deM+ty46W7RVrEdsHtWCVtO+0X7+CL9I5jrXLYVB3pEP9Lc/e6RkneHS53OCN0amvaIQlbvdS5ps1WT+kX/MXSddth+17BvAUtstj/Yr+rUbputevi1tNWpB3eXi+yJrMbsb5m+r36+g5Lw1Ouok9DhEaRDjdPq6pi0NChSaTTvk9fT6skm7wAKGjLxuTa1DxZt9sGY8H71SVlrVsueD9p8gPIbmnZKbLNzDssrcEe2W2CizBMCpfR7YxWm3Wva0ltQ7otwwBl8VMNqX1n2qeQfG0ZzFu7plu6vufe+4w8+1S3rLrbBUht0rgzYd8vaMtdO2yb5NsH6owkj9VLw0dGVrFp0JlI7Z9gyAjw1KyPNEj9ri6vHXMzIWDwOp1rROq3u+NsvQlSNaBqdOdAMGg7N/oBVLBfd8i2cH5kv5aPcPuCYyfrrm6TFnc8eOsfVhWGy6xKtfXYwzHX1q69ku4zReX4vBnVMRtLrTQEnyXh+eQU/rxpW9clDea49c/HcD13JNLLHb6tS+7zzslsZjWulVXdXfKsO+77n5Wu7lWyNlW9mev8KfS5AQAAAACVgUCzgPfefq+8f9MBW9F4UL6/6UG56fb0t/N3tz8ivzknfHzD0gfl58kTwaN+ef7J/fLz5tmpwPKvmoNxM8/K1+U8mFfvxm+6X+7taJb32lE/TL1h47Cs1nU5dUJ+/sC9qfXQIPZDD4j8/EQq5cm+nBWGEKWsyFklnS4s0uuxdSflpD7Wa+d1B1/yR1RsxbCmM1XRZUKnY8lUoFG/fVtq3WtvXSXdSX23k5KMfMEP54m3nNS3ympXJbZofdZqrAgTGnRLS52rbtJKtG5JngrmHemSNv/1Yjrzo2Sw/l41YfXN0lBvX9Pw2tLMS0pS207fT0OLVKWVVoTaeVY6HJwlTXtcRVxYyeWqs7RqLWwvy2tnvYZgOC8zbCyN2jtbRVylm7at+O1XL61b3fvVSsMa2yb59oGh+z04zrIcy7o9pmowXwVjSa7vGIaqrXemA1NzzLrzwPCOTRP8hkFobhqYp/dZuuLVP5dsWJ0lqC09b/+YNosee6XmV1rW1LVId0Zbjvy8GZ9j1tFjNxKqxvi8SX9OhdcsTf5I54Trma7wzXJOZhVWE7t/EDjzva6MquQc50+Mzw0AAAAAqAQEmgVpOGgrGg8dkB8/cEvMa2sukxtTFZN22LjEzrtYuerAbSLrwy/UI7o7lrt6v8I0HIrpOltSXtVjOBQOpc0NbCS9DaWrWhsFDWhtpZoJZG67OV74NMp9kLom4a1dYZgTo2tv+UhX1kYrXi+CrsH9ek1USV1DUis0L+BRG9IK4wVd8mwqSB+L9PUxU0OMUFpD8rAyVkNRyVqVnNUoPjcAAAAAoNwQaMZww4q9Ik9+VToe7pUbV+QKJfvl7x/eIO9fqvOr5b037JfnvhjzupljNWeevHvTQ/L37sv1qXY5tGmZ1Px6vG+pYfVTsVWTrqrnjHSsb5Eir05nKgY1mAmrlCxXzWQCjNyvaK6RmDX8CtZlZ5usulXDgLmSqE93mXbz6mOGZrOuT0SrOZWtMM3aHdRUhrkuoFoFGe8amvo+3X534yO7paV7lTRkC+h0njTIzbpb9f12NRYdCOsNbGRBwrZBr+yOdV3BsKKs7Rm7lke2FnU9wqxtaQTHwd2rgtfdGqxHIlLdFqGXKthl2yTfPjB0vxeoONNqXO2GG6nys/qDZesTwauMhbZXd+SyCHrMdq9p8CroxoOt4hzFNTRLy69ALIFTyeDzJV11a9oyfJjH2I7ZOGpvTUjLzi47NtrPG3usrB9FuG4u29AmXa3B58KCtblDSf/8GeXnBgAAAACUGwLNOObcIjWyQX4sy+WGVLfuULpb+Wzp+/TpVNfxGzaelhslz3Uy811Ds1hzmmX1wVp5bq59vbl3yLsP7vO6oJeYvf5h2O13sSTvLuJ6kamujjXm+nbbbIgVXhNOu6MH8/Qabx0Zr+jdVEavTejf6TfdXTO8hl1Yraehqd61Oj2vZUF0ubwWrTbXuTPrEwzhzTZqZb25XmC6e2jqZi9Bm2zTa3um2iTXtQczLFofXl/RvV5TUlp7/O7HXvdQvdam6xav3ZT1eoGpG68EQ4yKQ+0qq4FGuMwOSWyPtefMHcBXueX02nyZ+yefrG1pLWoIXrdN2kaEfV638jq99qBrkzz7wAgDovS1OR0Nmd3zddDrnY7s5q2Vot2pwHf0aluC/X/MO2b12rET0hW8VFx7RW/wEzcIM5cTSO2jUVxiwqfHT336PNiRaI31eTOmYzYOc1x323B19J835ljxzg8dYrfzrcFnQHD+hP+I48tx/ozycwMAAAAAyk3VcMA+No4fPy7z58+3Y/npom5x/Tk0NCSDg4MyMDAg586dk7Nnz8rChQvN/MrWL3/fFAaW/rUn9e7heuMffxpKz9zcQ2+MkyUQ0puv6A01YgeVlaS/Q1aaG3gUur5iJUvfTCndbVyn6Y1/RtkVdtTtNsb3BSZa6qZi/rHOcQwAAACgch09elRmzpwpM2bMkGnTpsn06dPtnCgqNOM49FV57onozYAAjN2Zzh2juplSXqZaNuOu4jH0tjZK0rvBFFDebLf2yM2AAAAAAODiQKCZz6l22a1duJf0yo0n7495MyAABdnLDyxel0h3oy8hvQFQ54LwhkOxBOuTeSkDoFxpZXrRl9EAAAAAgEmELucAAAAAAAAALji6nAMAAAAAAACYdAg0AQAAAAAAAFQMAk0AAAAAAAAAFYNAEwAAAAAAAEDFINAEAAAAAAAAUDEINAEAAAAAAABUDAJNAAAAAAAAABWDQBMAAAAAAABAxSDQBAAAAAAAAFAxCDQBAAAAAAAAVAwCTQAAAAAAAAAVg0Azj+HhYQaG2AMAAAAAAADGH4Gmh4AKY8HxAwAAAAAAMP4INAPZAig/mGJgiDv4sk0DAAAAAADA2Fz0gaYfOLkAioGhFIPjPwYAAAAAAMDYVA1npC3Hjx+X+fPn27H8/OBGfw4NDcng4KAMDAzIuXPn5OzZs7Jw4UIzvxz5m+5vR7bpQD5VVVX2UfjYjWdOBwAAAAAAQHZHjx6VmTNnyowZM2TatGkyffp0Oyfqog00/c3O3A5/cPzHgJMtyHSDP83xHwMAAAAAACCNQLMAf73d8M4770TG3eD4j4HMoDJzuOSSSyLj7nkAAAAAAAAYiUAzD3+T3TbourvHwFi5EHPKlCmRQFMRagIAAAAAAIwUN9C8qG8K5AJMrczUQcNYoBT0WHLHFUE5AAAAAABA6Vz0dzlXLtQk0ESpuECTIBMAAAAAAKC0LtpA01XNuSo67XL+1ltv2bnA2OixpMeUO77c8QYAAAAAAICxoULTcqEmUAouzAQAAAAAAEBpXXSBZmaVnKvS1J90OUep6LHkH1u+zHEAAAAAAADER4WmpcETFXUoFY4nAAAAAACA8UGg6aFyDqXCsQQAAAAAADA+CDTj+sk++dyHPywfdsNDR7NPN8OfiZ1rnH3yc+nnG2dl32czl/mc7PuJnR0wy2SZd/Sh6POCKfJnGe9nZF3fbO8bDJ/dF8xR+lqZr690uvd8f9uzbNef9dpRT3R70s/R6Z97Mnz3FH1dXafeP4ssYwazrvnb7+hD2eeNbDsnY/tS7aHv47etfZ63zfpe2bYXAAAAAAAA44NAM5azsm/T07L02RfkhRfCoV2a00HWyvbU9HD4kiy0szQE+9r9H5AV8pWMMG2FtPvL/PcPyMb/FgZlGvJ99MXPpec9u1SevjlLaJlTrvWdKcsftdP++wr56JbvhI8fXS4zdaknvyIvrvyAPG3XI6Qh3lekJuO1RoSQJvzbIPLAC/KlWjvJMtvTtVS+Y5d/4YV2kd8Ng8CZn/6cfKDrH2yAGDrb87R84LPhOqXW0Q12XfO1X7CUbPbW94UXviLL32dnjaDb1yzy39PP/07D0/JRE2rOlA/M/5o87fZz79PytZUrZMWep+2+OCsvHv+o1FxnRgAAAAAAADABCDRj0WDrO9L3kh0NLLx3ZHCXVe/T8uKWFfKlWz4gT/dkhoDZnJV/6PqAtN+bjkTlfcvlK5GQtJDRrG/4vp+7d4UsPe4Cu4BZ/wcjgaC+1lc+HcaKIRdmZgsO7fakgki1UL707GZ58VENDRfK0vkb5WupKsfw+UvjtG0pmO37TqRtZn76K9Ju12nhLSvkxX+z9Zr/9qKsuOVLsnTli/KihtM/+Qd5WpbKb+QMSwEAAAAAAFBqBJqBONc71BBv6QGvW7Lf1XpPc3p6ZN5Z2ffoi7K0bqZI7QpZ2vU1r8rya9LsL/O7YkPMU9InNTInfFIW35GNN3vLfbg5eKWR8q5vNr1fk43zl8pCmSnLPyvyFVuBqSHeB37JDy8zvSj7PvtR2fhdOzpCju153wfkA/ahhoZfO2DXL7Ueoe/c/1FvWz/sVYbmaj8VbaOR1aRpubZvzgc+Gj6oXWorSDVoFVONOSdYcRNOv9Qn0vAbXlA7EtfSBAAAAAAAKC0CzUBVVZV9lJ+GhKluyR/4Sjooy+xy7oI1reD7rgvXNPTzui97XabbVwZj/91VYM6RGumTU+Zx2tneoxK+W2Z36vbglbLLub5ZHD3wtXQw+7tfk+/YbuAzf+kDqQrFtKNy1G3HnqdNN/MXXvic9G1y1570Zd8e+cmL8qJ9qGHvZlsVquux4hYXTI7scp6uDM3VfiraRtFq0qjs2ydy6sXv2Ed2/b1qzJl1S0WC9tkXrGv+sDf+sQUAAAAAAIB4CDRj0essRq9hqUFYIUf/20b5gHdtxhdS3ayjFt77Hal51N2wZqb8RsOL0uxXVP5kn2z43a/IP2S9oU02Ra5v8PpfOb7Zu8blC6ku16ZC8f4Nket/Hn2oWZpdReXKz9lu5gvlS5/tk4+OqAS125O60Y4K1u/moG3sdTLdc57uPSpPB+uxosju5tH2K5LZvo9Gbuyj1/xsTq1HuG5f2fR0uhrzfb8hS+XpYF1XTFzXeAAAAAAAABgEmrHoNR9r5Cuue7MOj9bIg67yL7PLubmr9lF5ek9G4PW+5fK5yPUinZmy/IH0jX/0Go5aUZl6vZv1Bj/5bmyTqcD6ZtCb8GR2nV74e+lrXH5Jqy+9LtzN0p6uQvXVfsncMCize7vZHr3RTmp9wpvwRK5bWbdUXvzdZnkxYz0yu5xn3kE+FG2/3DK665uQVbcvvEmRm25uYORd89NUZH73O141ZniN0u94XeMBAAAAAAAwMaqGMy7yd/z4cZk/f74dy08XdYvrz6GhIRkcHJSBgQE5d+6cnD17VhYuLK/Ix19ff53Pnz8vr7/+urzvfdzhBWP3k5/8RK688kq5/PLLZerUqTJlyhTT/dx1QacrOgAAAAAAQNTRo0dl5syZMmPGDJk2bZpMnz7dzomiQhMAAAAAAABAxSDQBAAAAAAAAFAxLrpAM1dXX787MDBW+Y4njjMAAAAAAIDRu+grNP3giaAJpeIfUxxXAAAAAAAApTPmQLOSwxp/3fXxJZfQAx+locdS5vEFAAAAAACAsbtoEzwXMOlPF2YSOqFU/GPKHVccXwAAAAAAAGNXNRywj43jx4/L/Pnz7Vh+blH9qcPQ0JAZzp8/L+fOnZOXX35ZfvVXf9U8p5z46/3OO++YdX777bfljTfekFdffVXOnj1rhl/84hfy1ltvmec4bllc3PxwUoPLyy67TN71rnfJzJkzzXD11VfL9OnT5dJLL5UpU6ZEAnOCTQAAAAAAgJH+5V/+Ra699lqZMWOGXH755XLFFVfYOVHjEmgODAyYMLDcA02lYaUOGmi6IPb1118366/juj0EmsiUGWhqaKknmoaaV155ZerE00BT5+vgEGgCAAAAAACM5AJNzVemTZs2MYGmBn+Dg4Mm0NRgUKscyzHQVP6663prcKnVmLruOmjAqQNhJnLJDDU1vNRBTzgdtGqT6kwAAAAAAIB4NNDUnq9aKHbBAk2t0PyVX/kV85xy5NZf11sf67prsOl+uu1yzwOy0ZDSDRpgTp06NfVTp7nqTMJMAAAAAACA3P71X/811eV8wgNNrXR0FZqVEGgqF2rqT/fYzfefB2RyQaULNV0Xcz/MVASaAAAAAAAAuWmg6So0tefrhAWa7hqarkLzhhtuMM8pV/7mu+1w0/x5QCGZwaYfYBJmAgAAAAAA5Pf8889HKjT1/iTZlCzQVH6Fpt4x/Gc/+5l8+MMfNvPKnd8MmdsFxOEHmg5BJgAAAAAAQDwvvPCCvOc975Hp06ebCs1xDTSVPnbdtbVC880335RXX31VFixYYJ9RGQgxUQoEmQAAAAAAAMU5duyYXH311aarubvhcjbjEmjq3cHPnz8vr732mrzyyitm0Mc6TSs49TmZwWHm+HhZsWKFfQQAAAAAAACgHPT29so111wjV111lanMvPTSS8cn0FRucf2pg4aV/o2BXn/9dfnFL35hHmvQqfPccx3/MQAAAAAAAIDJJfMSfTpMnTrVBJd6zcx3vetdcuWVV6ZuCOTmZVOyQFNpmKk0tNTw0nU918pMDTh1mqvOJMQEAAAAAAAALj4u0LzkkktSlZhalem6mus0DTSnTJlil4gac6CpMkNNV6XpKjXdYx0UgSYAAAAAAABwcXKBptLg0g2uMlMHDTvHNdBU7mX0p6vCHBoaMiGmjutjneYGAAAAAAAAABcnF2rqoMGlBpgaZOpjnabjOmRT8kBT6WMXarqf7rHPXwYAAAAAAADA5OYqMx0NLV2w6R7707IpWaCp/JfSx/7gpgEAAAAAAACAcqGlCzD9INP9zFTSQNPJFmBmmwYAAAAAAADg4pQtuCwUZqpxCTRVruCSQBMAAAAAAABAzgrMPGGmGrdA00eICQAAAAAAACCXQiGmb0ICTQAAAAAAAAAohez3PgcAAAAAAACAMkSgCQAAAAAAAKBiEGgCAAAAAAAAqBgEmgAAAAAAAAAqhMj/Hzwf2vuWeoCyAAAAAElFTkSuQmCC)"
      ],
      "metadata": {
        "id": "vZFWNvTgepmh"
      }
    },
    {
      "cell_type": "markdown",
      "source": [
        "##NaN: Dados numéricos ausentes\n",
        "\n",
        "A outra representação de dados ausentes, NaN(acrônimo para Not a Number ), é diferente; é um valor de ponto flutuante especial reconhecido por todos os sistemas que usam a representação de ponto flutuante IEEE padrão."
      ],
      "metadata": {
        "id": "NVbMrB5Qe8ZT"
      }
    },
    {
      "cell_type": "code",
      "source": [
        "vals2 = np.array([1, np.nan, 3, 4]) \n",
        "vals2.dtype"
      ],
      "metadata": {
        "colab": {
          "base_uri": "https://localhost:8080/"
        },
        "id": "IHgsR_38f6ce",
        "outputId": "d304a4fa-0acd-4fc4-ef32-1285eed76d70"
      },
      "execution_count": 195,
      "outputs": [
        {
          "output_type": "execute_result",
          "data": {
            "text/plain": [
              "dtype('float64')"
            ]
          },
          "metadata": {},
          "execution_count": 195
        }
      ]
    },
    {
      "cell_type": "markdown",
      "source": [
        "Observe que NumPy escolheu um tipo de ponto flutuante nativo para esta matriz: isso significa que, ao contrário da matriz de objetos anterior, esta matriz suporta operações rápidas inseridas no código compilado. Você deve estar ciente de que NaNé um pouco como um vírus de dados – ele infecta qualquer outro objeto que toca. Independente da operação, o resultado da aritmética com NaNserá outro NaN:"
      ],
      "metadata": {
        "id": "zPlxDQcbgAEl"
      }
    },
    {
      "cell_type": "markdown",
      "source": [
        "as agregações sobre os valores são bem definidas (ou seja, não resultam em erro), mas nem sempre são úteis.\n",
        "O NumPy fornece algumas agregações especiais que irão ignorar esses valores ausentes:"
      ],
      "metadata": {
        "id": "ozDSzJvIgCIG"
      }
    },
    {
      "cell_type": "code",
      "source": [
        "np.nansum(vals2), np.nanmin(vals2), np.nanmax(vals2)"
      ],
      "metadata": {
        "colab": {
          "base_uri": "https://localhost:8080/"
        },
        "id": "UKAF9HF_gbso",
        "outputId": "926be15f-80f7-4721-f224-7f00c6367725"
      },
      "execution_count": 196,
      "outputs": [
        {
          "output_type": "execute_result",
          "data": {
            "text/plain": [
              "(8.0, 1.0, 4.0)"
            ]
          },
          "metadata": {},
          "execution_count": 196
        }
      ]
    },
    {
      "cell_type": "markdown",
      "source": [
        "## Operando em valores nulos"
      ],
      "metadata": {
        "id": "PyCdoxfIhyJ9"
      }
    },
    {
      "cell_type": "markdown",
      "source": [
        "Como vimos, o Pandas trata Nonee NaNcomo essencialmente intercambiáveis ​​para indicar valores ausentes ou nulos. Para facilitar essa convenção, existem vários métodos úteis para detectar, remover e substituir valores nulos nas estruturas de dados do Pandas. Eles são:\n",
        "\n",
        "* isnull(): Gera uma máscara booleana indicando valores ausentes\n",
        "* notnull(): Oposto deisnull()\n",
        "* dropna(): retorna uma versão filtrada dos dados\n",
        "* fillna(): Retorna uma cópia dos dados com valores ausentes preenchidos ou imputados"
      ],
      "metadata": {
        "id": "7ZxRNl0IgtWF"
      }
    },
    {
      "cell_type": "code",
      "source": [
        "data = pd.Series([1, np.nan, 'hello', None])\n",
        "print(data)\n",
        "data.isnull()"
      ],
      "metadata": {
        "colab": {
          "base_uri": "https://localhost:8080/"
        },
        "id": "1hHe2uPBiI4j",
        "outputId": "28407c77-e90e-41e4-d984-4c055061f74d"
      },
      "execution_count": 197,
      "outputs": [
        {
          "output_type": "stream",
          "name": "stdout",
          "text": [
            "0        1\n",
            "1      NaN\n",
            "2    hello\n",
            "3     None\n",
            "dtype: object\n"
          ]
        },
        {
          "output_type": "execute_result",
          "data": {
            "text/plain": [
              "0    False\n",
              "1     True\n",
              "2    False\n",
              "3     True\n",
              "dtype: bool"
            ]
          },
          "metadata": {},
          "execution_count": 197
        }
      ]
    },
    {
      "cell_type": "markdown",
      "source": [
        "Essa mascara pode ser utlizada como vetor de indices nas series ou dataframes"
      ],
      "metadata": {
        "id": "s6-M0KEViWja"
      }
    },
    {
      "cell_type": "code",
      "source": [
        "data[data.notnull()]"
      ],
      "metadata": {
        "colab": {
          "base_uri": "https://localhost:8080/"
        },
        "id": "phoLcdcUjF6v",
        "outputId": "5ec41059-d0c8-432c-ce03-320bf2660ef3"
      },
      "execution_count": 198,
      "outputs": [
        {
          "output_type": "execute_result",
          "data": {
            "text/plain": [
              "0        1\n",
              "2    hello\n",
              "dtype: object"
            ]
          },
          "metadata": {},
          "execution_count": 198
        }
      ]
    },
    {
      "cell_type": "code",
      "source": [
        "#removendo o valor de NA"
      ],
      "metadata": {
        "id": "L1FiAQvijU-W"
      },
      "execution_count": 199,
      "outputs": []
    },
    {
      "cell_type": "code",
      "source": [
        "data.dropna()"
      ],
      "metadata": {
        "colab": {
          "base_uri": "https://localhost:8080/"
        },
        "id": "NYorz1cHjX98",
        "outputId": "5b0111c5-0c03-424b-dd64-48d3a61e367a"
      },
      "execution_count": 200,
      "outputs": [
        {
          "output_type": "execute_result",
          "data": {
            "text/plain": [
              "0        1\n",
              "2    hello\n",
              "dtype: object"
            ]
          },
          "metadata": {},
          "execution_count": 200
        }
      ]
    },
    {
      "cell_type": "markdown",
      "source": [
        "\n",
        "Considerando um DataFrame, não podemos descartar valores únicos; só podemos descartar linhas completas ou colunas completas. Dependendo do aplicativo, você pode querer um ou outro, então `dropna()` oferece várias opções para um arquivo `DataFrame`.\n",
        "\n",
        "Por padrão, `dropna()` descartará todas as linhas nas quais qualquer valor nulo estiver presente:"
      ],
      "metadata": {
        "id": "_pJNjNN-jipu"
      }
    },
    {
      "cell_type": "code",
      "source": [
        "df  =  pd . DataFrame ([[ 1 ,       np . nan ,  2 ], \n",
        "                   [ 2 ,       3 ,       5 ], \n",
        "                   [ np . nan ,  4 ,       6 ]]) \n",
        "df"
      ],
      "metadata": {
        "colab": {
          "base_uri": "https://localhost:8080/",
          "height": 143
        },
        "id": "Ui9e3RkdkbNW",
        "outputId": "d4b7ea2f-b0a8-439c-9bce-34742e4054f6"
      },
      "execution_count": 201,
      "outputs": [
        {
          "output_type": "execute_result",
          "data": {
            "text/plain": [
              "     0    1  2\n",
              "0  1.0  NaN  2\n",
              "1  2.0  3.0  5\n",
              "2  NaN  4.0  6"
            ],
            "text/html": [
              "\n",
              "  <div id=\"df-5c8ed79a-b5dd-4429-a2b6-259d55d6245a\">\n",
              "    <div class=\"colab-df-container\">\n",
              "      <div>\n",
              "<style scoped>\n",
              "    .dataframe tbody tr th:only-of-type {\n",
              "        vertical-align: middle;\n",
              "    }\n",
              "\n",
              "    .dataframe tbody tr th {\n",
              "        vertical-align: top;\n",
              "    }\n",
              "\n",
              "    .dataframe thead th {\n",
              "        text-align: right;\n",
              "    }\n",
              "</style>\n",
              "<table border=\"1\" class=\"dataframe\">\n",
              "  <thead>\n",
              "    <tr style=\"text-align: right;\">\n",
              "      <th></th>\n",
              "      <th>0</th>\n",
              "      <th>1</th>\n",
              "      <th>2</th>\n",
              "    </tr>\n",
              "  </thead>\n",
              "  <tbody>\n",
              "    <tr>\n",
              "      <th>0</th>\n",
              "      <td>1.0</td>\n",
              "      <td>NaN</td>\n",
              "      <td>2</td>\n",
              "    </tr>\n",
              "    <tr>\n",
              "      <th>1</th>\n",
              "      <td>2.0</td>\n",
              "      <td>3.0</td>\n",
              "      <td>5</td>\n",
              "    </tr>\n",
              "    <tr>\n",
              "      <th>2</th>\n",
              "      <td>NaN</td>\n",
              "      <td>4.0</td>\n",
              "      <td>6</td>\n",
              "    </tr>\n",
              "  </tbody>\n",
              "</table>\n",
              "</div>\n",
              "      <button class=\"colab-df-convert\" onclick=\"convertToInteractive('df-5c8ed79a-b5dd-4429-a2b6-259d55d6245a')\"\n",
              "              title=\"Convert this dataframe to an interactive table.\"\n",
              "              style=\"display:none;\">\n",
              "        \n",
              "  <svg xmlns=\"http://www.w3.org/2000/svg\" height=\"24px\"viewBox=\"0 0 24 24\"\n",
              "       width=\"24px\">\n",
              "    <path d=\"M0 0h24v24H0V0z\" fill=\"none\"/>\n",
              "    <path d=\"M18.56 5.44l.94 2.06.94-2.06 2.06-.94-2.06-.94-.94-2.06-.94 2.06-2.06.94zm-11 1L8.5 8.5l.94-2.06 2.06-.94-2.06-.94L8.5 2.5l-.94 2.06-2.06.94zm10 10l.94 2.06.94-2.06 2.06-.94-2.06-.94-.94-2.06-.94 2.06-2.06.94z\"/><path d=\"M17.41 7.96l-1.37-1.37c-.4-.4-.92-.59-1.43-.59-.52 0-1.04.2-1.43.59L10.3 9.45l-7.72 7.72c-.78.78-.78 2.05 0 2.83L4 21.41c.39.39.9.59 1.41.59.51 0 1.02-.2 1.41-.59l7.78-7.78 2.81-2.81c.8-.78.8-2.07 0-2.86zM5.41 20L4 18.59l7.72-7.72 1.47 1.35L5.41 20z\"/>\n",
              "  </svg>\n",
              "      </button>\n",
              "      \n",
              "  <style>\n",
              "    .colab-df-container {\n",
              "      display:flex;\n",
              "      flex-wrap:wrap;\n",
              "      gap: 12px;\n",
              "    }\n",
              "\n",
              "    .colab-df-convert {\n",
              "      background-color: #E8F0FE;\n",
              "      border: none;\n",
              "      border-radius: 50%;\n",
              "      cursor: pointer;\n",
              "      display: none;\n",
              "      fill: #1967D2;\n",
              "      height: 32px;\n",
              "      padding: 0 0 0 0;\n",
              "      width: 32px;\n",
              "    }\n",
              "\n",
              "    .colab-df-convert:hover {\n",
              "      background-color: #E2EBFA;\n",
              "      box-shadow: 0px 1px 2px rgba(60, 64, 67, 0.3), 0px 1px 3px 1px rgba(60, 64, 67, 0.15);\n",
              "      fill: #174EA6;\n",
              "    }\n",
              "\n",
              "    [theme=dark] .colab-df-convert {\n",
              "      background-color: #3B4455;\n",
              "      fill: #D2E3FC;\n",
              "    }\n",
              "\n",
              "    [theme=dark] .colab-df-convert:hover {\n",
              "      background-color: #434B5C;\n",
              "      box-shadow: 0px 1px 3px 1px rgba(0, 0, 0, 0.15);\n",
              "      filter: drop-shadow(0px 1px 2px rgba(0, 0, 0, 0.3));\n",
              "      fill: #FFFFFF;\n",
              "    }\n",
              "  </style>\n",
              "\n",
              "      <script>\n",
              "        const buttonEl =\n",
              "          document.querySelector('#df-5c8ed79a-b5dd-4429-a2b6-259d55d6245a button.colab-df-convert');\n",
              "        buttonEl.style.display =\n",
              "          google.colab.kernel.accessAllowed ? 'block' : 'none';\n",
              "\n",
              "        async function convertToInteractive(key) {\n",
              "          const element = document.querySelector('#df-5c8ed79a-b5dd-4429-a2b6-259d55d6245a');\n",
              "          const dataTable =\n",
              "            await google.colab.kernel.invokeFunction('convertToInteractive',\n",
              "                                                     [key], {});\n",
              "          if (!dataTable) return;\n",
              "\n",
              "          const docLinkHtml = 'Like what you see? Visit the ' +\n",
              "            '<a target=\"_blank\" href=https://colab.research.google.com/notebooks/data_table.ipynb>data table notebook</a>'\n",
              "            + ' to learn more about interactive tables.';\n",
              "          element.innerHTML = '';\n",
              "          dataTable['output_type'] = 'display_data';\n",
              "          await google.colab.output.renderOutput(dataTable, element);\n",
              "          const docLink = document.createElement('div');\n",
              "          docLink.innerHTML = docLinkHtml;\n",
              "          element.appendChild(docLink);\n",
              "        }\n",
              "      </script>\n",
              "    </div>\n",
              "  </div>\n",
              "  "
            ]
          },
          "metadata": {},
          "execution_count": 201
        }
      ]
    },
    {
      "cell_type": "code",
      "source": [
        "df.dropna()"
      ],
      "metadata": {
        "colab": {
          "base_uri": "https://localhost:8080/",
          "height": 81
        },
        "id": "NFaWu-44kTsd",
        "outputId": "f6a15a6c-5717-4343-d98d-4ae84e32b3c5"
      },
      "execution_count": 202,
      "outputs": [
        {
          "output_type": "execute_result",
          "data": {
            "text/plain": [
              "     0    1  2\n",
              "1  2.0  3.0  5"
            ],
            "text/html": [
              "\n",
              "  <div id=\"df-d0ea5b7b-6560-46af-8c06-1a9ee4294031\">\n",
              "    <div class=\"colab-df-container\">\n",
              "      <div>\n",
              "<style scoped>\n",
              "    .dataframe tbody tr th:only-of-type {\n",
              "        vertical-align: middle;\n",
              "    }\n",
              "\n",
              "    .dataframe tbody tr th {\n",
              "        vertical-align: top;\n",
              "    }\n",
              "\n",
              "    .dataframe thead th {\n",
              "        text-align: right;\n",
              "    }\n",
              "</style>\n",
              "<table border=\"1\" class=\"dataframe\">\n",
              "  <thead>\n",
              "    <tr style=\"text-align: right;\">\n",
              "      <th></th>\n",
              "      <th>0</th>\n",
              "      <th>1</th>\n",
              "      <th>2</th>\n",
              "    </tr>\n",
              "  </thead>\n",
              "  <tbody>\n",
              "    <tr>\n",
              "      <th>1</th>\n",
              "      <td>2.0</td>\n",
              "      <td>3.0</td>\n",
              "      <td>5</td>\n",
              "    </tr>\n",
              "  </tbody>\n",
              "</table>\n",
              "</div>\n",
              "      <button class=\"colab-df-convert\" onclick=\"convertToInteractive('df-d0ea5b7b-6560-46af-8c06-1a9ee4294031')\"\n",
              "              title=\"Convert this dataframe to an interactive table.\"\n",
              "              style=\"display:none;\">\n",
              "        \n",
              "  <svg xmlns=\"http://www.w3.org/2000/svg\" height=\"24px\"viewBox=\"0 0 24 24\"\n",
              "       width=\"24px\">\n",
              "    <path d=\"M0 0h24v24H0V0z\" fill=\"none\"/>\n",
              "    <path d=\"M18.56 5.44l.94 2.06.94-2.06 2.06-.94-2.06-.94-.94-2.06-.94 2.06-2.06.94zm-11 1L8.5 8.5l.94-2.06 2.06-.94-2.06-.94L8.5 2.5l-.94 2.06-2.06.94zm10 10l.94 2.06.94-2.06 2.06-.94-2.06-.94-.94-2.06-.94 2.06-2.06.94z\"/><path d=\"M17.41 7.96l-1.37-1.37c-.4-.4-.92-.59-1.43-.59-.52 0-1.04.2-1.43.59L10.3 9.45l-7.72 7.72c-.78.78-.78 2.05 0 2.83L4 21.41c.39.39.9.59 1.41.59.51 0 1.02-.2 1.41-.59l7.78-7.78 2.81-2.81c.8-.78.8-2.07 0-2.86zM5.41 20L4 18.59l7.72-7.72 1.47 1.35L5.41 20z\"/>\n",
              "  </svg>\n",
              "      </button>\n",
              "      \n",
              "  <style>\n",
              "    .colab-df-container {\n",
              "      display:flex;\n",
              "      flex-wrap:wrap;\n",
              "      gap: 12px;\n",
              "    }\n",
              "\n",
              "    .colab-df-convert {\n",
              "      background-color: #E8F0FE;\n",
              "      border: none;\n",
              "      border-radius: 50%;\n",
              "      cursor: pointer;\n",
              "      display: none;\n",
              "      fill: #1967D2;\n",
              "      height: 32px;\n",
              "      padding: 0 0 0 0;\n",
              "      width: 32px;\n",
              "    }\n",
              "\n",
              "    .colab-df-convert:hover {\n",
              "      background-color: #E2EBFA;\n",
              "      box-shadow: 0px 1px 2px rgba(60, 64, 67, 0.3), 0px 1px 3px 1px rgba(60, 64, 67, 0.15);\n",
              "      fill: #174EA6;\n",
              "    }\n",
              "\n",
              "    [theme=dark] .colab-df-convert {\n",
              "      background-color: #3B4455;\n",
              "      fill: #D2E3FC;\n",
              "    }\n",
              "\n",
              "    [theme=dark] .colab-df-convert:hover {\n",
              "      background-color: #434B5C;\n",
              "      box-shadow: 0px 1px 3px 1px rgba(0, 0, 0, 0.15);\n",
              "      filter: drop-shadow(0px 1px 2px rgba(0, 0, 0, 0.3));\n",
              "      fill: #FFFFFF;\n",
              "    }\n",
              "  </style>\n",
              "\n",
              "      <script>\n",
              "        const buttonEl =\n",
              "          document.querySelector('#df-d0ea5b7b-6560-46af-8c06-1a9ee4294031 button.colab-df-convert');\n",
              "        buttonEl.style.display =\n",
              "          google.colab.kernel.accessAllowed ? 'block' : 'none';\n",
              "\n",
              "        async function convertToInteractive(key) {\n",
              "          const element = document.querySelector('#df-d0ea5b7b-6560-46af-8c06-1a9ee4294031');\n",
              "          const dataTable =\n",
              "            await google.colab.kernel.invokeFunction('convertToInteractive',\n",
              "                                                     [key], {});\n",
              "          if (!dataTable) return;\n",
              "\n",
              "          const docLinkHtml = 'Like what you see? Visit the ' +\n",
              "            '<a target=\"_blank\" href=https://colab.research.google.com/notebooks/data_table.ipynb>data table notebook</a>'\n",
              "            + ' to learn more about interactive tables.';\n",
              "          element.innerHTML = '';\n",
              "          dataTable['output_type'] = 'display_data';\n",
              "          await google.colab.output.renderOutput(dataTable, element);\n",
              "          const docLink = document.createElement('div');\n",
              "          docLink.innerHTML = docLinkHtml;\n",
              "          element.appendChild(docLink);\n",
              "        }\n",
              "      </script>\n",
              "    </div>\n",
              "  </div>\n",
              "  "
            ]
          },
          "metadata": {},
          "execution_count": 202
        }
      ]
    },
    {
      "cell_type": "markdown",
      "source": [
        "Como alternativa, você pode descartar os valores de NA ao longo de um eixo diferente; axis=1descarta todas as colunas contendo um valor nulo:"
      ],
      "metadata": {
        "id": "IP4bJwMIkO_G"
      }
    },
    {
      "cell_type": "code",
      "source": [
        "df.dropna(axis='columns')"
      ],
      "metadata": {
        "colab": {
          "base_uri": "https://localhost:8080/",
          "height": 143
        },
        "id": "c0cTI-idkn90",
        "outputId": "694572d8-2639-493a-e4e7-5bf2268d7d62"
      },
      "execution_count": 203,
      "outputs": [
        {
          "output_type": "execute_result",
          "data": {
            "text/plain": [
              "   2\n",
              "0  2\n",
              "1  5\n",
              "2  6"
            ],
            "text/html": [
              "\n",
              "  <div id=\"df-6f1d7c30-6ab9-488b-8e68-bb41a1897c01\">\n",
              "    <div class=\"colab-df-container\">\n",
              "      <div>\n",
              "<style scoped>\n",
              "    .dataframe tbody tr th:only-of-type {\n",
              "        vertical-align: middle;\n",
              "    }\n",
              "\n",
              "    .dataframe tbody tr th {\n",
              "        vertical-align: top;\n",
              "    }\n",
              "\n",
              "    .dataframe thead th {\n",
              "        text-align: right;\n",
              "    }\n",
              "</style>\n",
              "<table border=\"1\" class=\"dataframe\">\n",
              "  <thead>\n",
              "    <tr style=\"text-align: right;\">\n",
              "      <th></th>\n",
              "      <th>2</th>\n",
              "    </tr>\n",
              "  </thead>\n",
              "  <tbody>\n",
              "    <tr>\n",
              "      <th>0</th>\n",
              "      <td>2</td>\n",
              "    </tr>\n",
              "    <tr>\n",
              "      <th>1</th>\n",
              "      <td>5</td>\n",
              "    </tr>\n",
              "    <tr>\n",
              "      <th>2</th>\n",
              "      <td>6</td>\n",
              "    </tr>\n",
              "  </tbody>\n",
              "</table>\n",
              "</div>\n",
              "      <button class=\"colab-df-convert\" onclick=\"convertToInteractive('df-6f1d7c30-6ab9-488b-8e68-bb41a1897c01')\"\n",
              "              title=\"Convert this dataframe to an interactive table.\"\n",
              "              style=\"display:none;\">\n",
              "        \n",
              "  <svg xmlns=\"http://www.w3.org/2000/svg\" height=\"24px\"viewBox=\"0 0 24 24\"\n",
              "       width=\"24px\">\n",
              "    <path d=\"M0 0h24v24H0V0z\" fill=\"none\"/>\n",
              "    <path d=\"M18.56 5.44l.94 2.06.94-2.06 2.06-.94-2.06-.94-.94-2.06-.94 2.06-2.06.94zm-11 1L8.5 8.5l.94-2.06 2.06-.94-2.06-.94L8.5 2.5l-.94 2.06-2.06.94zm10 10l.94 2.06.94-2.06 2.06-.94-2.06-.94-.94-2.06-.94 2.06-2.06.94z\"/><path d=\"M17.41 7.96l-1.37-1.37c-.4-.4-.92-.59-1.43-.59-.52 0-1.04.2-1.43.59L10.3 9.45l-7.72 7.72c-.78.78-.78 2.05 0 2.83L4 21.41c.39.39.9.59 1.41.59.51 0 1.02-.2 1.41-.59l7.78-7.78 2.81-2.81c.8-.78.8-2.07 0-2.86zM5.41 20L4 18.59l7.72-7.72 1.47 1.35L5.41 20z\"/>\n",
              "  </svg>\n",
              "      </button>\n",
              "      \n",
              "  <style>\n",
              "    .colab-df-container {\n",
              "      display:flex;\n",
              "      flex-wrap:wrap;\n",
              "      gap: 12px;\n",
              "    }\n",
              "\n",
              "    .colab-df-convert {\n",
              "      background-color: #E8F0FE;\n",
              "      border: none;\n",
              "      border-radius: 50%;\n",
              "      cursor: pointer;\n",
              "      display: none;\n",
              "      fill: #1967D2;\n",
              "      height: 32px;\n",
              "      padding: 0 0 0 0;\n",
              "      width: 32px;\n",
              "    }\n",
              "\n",
              "    .colab-df-convert:hover {\n",
              "      background-color: #E2EBFA;\n",
              "      box-shadow: 0px 1px 2px rgba(60, 64, 67, 0.3), 0px 1px 3px 1px rgba(60, 64, 67, 0.15);\n",
              "      fill: #174EA6;\n",
              "    }\n",
              "\n",
              "    [theme=dark] .colab-df-convert {\n",
              "      background-color: #3B4455;\n",
              "      fill: #D2E3FC;\n",
              "    }\n",
              "\n",
              "    [theme=dark] .colab-df-convert:hover {\n",
              "      background-color: #434B5C;\n",
              "      box-shadow: 0px 1px 3px 1px rgba(0, 0, 0, 0.15);\n",
              "      filter: drop-shadow(0px 1px 2px rgba(0, 0, 0, 0.3));\n",
              "      fill: #FFFFFF;\n",
              "    }\n",
              "  </style>\n",
              "\n",
              "      <script>\n",
              "        const buttonEl =\n",
              "          document.querySelector('#df-6f1d7c30-6ab9-488b-8e68-bb41a1897c01 button.colab-df-convert');\n",
              "        buttonEl.style.display =\n",
              "          google.colab.kernel.accessAllowed ? 'block' : 'none';\n",
              "\n",
              "        async function convertToInteractive(key) {\n",
              "          const element = document.querySelector('#df-6f1d7c30-6ab9-488b-8e68-bb41a1897c01');\n",
              "          const dataTable =\n",
              "            await google.colab.kernel.invokeFunction('convertToInteractive',\n",
              "                                                     [key], {});\n",
              "          if (!dataTable) return;\n",
              "\n",
              "          const docLinkHtml = 'Like what you see? Visit the ' +\n",
              "            '<a target=\"_blank\" href=https://colab.research.google.com/notebooks/data_table.ipynb>data table notebook</a>'\n",
              "            + ' to learn more about interactive tables.';\n",
              "          element.innerHTML = '';\n",
              "          dataTable['output_type'] = 'display_data';\n",
              "          await google.colab.output.renderOutput(dataTable, element);\n",
              "          const docLink = document.createElement('div');\n",
              "          docLink.innerHTML = docLinkHtml;\n",
              "          element.appendChild(docLink);\n",
              "        }\n",
              "      </script>\n",
              "    </div>\n",
              "  </div>\n",
              "  "
            ]
          },
          "metadata": {},
          "execution_count": 203
        }
      ]
    },
    {
      "cell_type": "markdown",
      "source": [
        "Mas isso também elimina alguns bons dados; você pode preferir descartar linhas ou colunas com todos os valores NA ou a maioria dos valores NA. Isso pode ser especificado por meio dos parâmetros howou thresh, que permitem um controle preciso do número de nulos a serem permitidos.\n",
        "\n",
        "O padrão é `how='any`', de modo que qualquer linha ou coluna (dependendo da `axis` palavra-chave) contendo um valor nulo será descartada. Você também pode especificar `how='all'`, que descartará apenas linhas/colunas que sejam todos valores nulos:"
      ],
      "metadata": {
        "id": "758Tr1ETk57v"
      }
    },
    {
      "cell_type": "code",
      "source": [
        "df[3] = np.nan\n",
        "df"
      ],
      "metadata": {
        "colab": {
          "base_uri": "https://localhost:8080/",
          "height": 143
        },
        "id": "3lPq_R47lE-O",
        "outputId": "6c467e6b-4899-4aa9-ed58-33e2d548da49"
      },
      "execution_count": 204,
      "outputs": [
        {
          "output_type": "execute_result",
          "data": {
            "text/plain": [
              "     0    1  2   3\n",
              "0  1.0  NaN  2 NaN\n",
              "1  2.0  3.0  5 NaN\n",
              "2  NaN  4.0  6 NaN"
            ],
            "text/html": [
              "\n",
              "  <div id=\"df-7b416dc1-29f1-40b8-a97c-d25d9ea9574f\">\n",
              "    <div class=\"colab-df-container\">\n",
              "      <div>\n",
              "<style scoped>\n",
              "    .dataframe tbody tr th:only-of-type {\n",
              "        vertical-align: middle;\n",
              "    }\n",
              "\n",
              "    .dataframe tbody tr th {\n",
              "        vertical-align: top;\n",
              "    }\n",
              "\n",
              "    .dataframe thead th {\n",
              "        text-align: right;\n",
              "    }\n",
              "</style>\n",
              "<table border=\"1\" class=\"dataframe\">\n",
              "  <thead>\n",
              "    <tr style=\"text-align: right;\">\n",
              "      <th></th>\n",
              "      <th>0</th>\n",
              "      <th>1</th>\n",
              "      <th>2</th>\n",
              "      <th>3</th>\n",
              "    </tr>\n",
              "  </thead>\n",
              "  <tbody>\n",
              "    <tr>\n",
              "      <th>0</th>\n",
              "      <td>1.0</td>\n",
              "      <td>NaN</td>\n",
              "      <td>2</td>\n",
              "      <td>NaN</td>\n",
              "    </tr>\n",
              "    <tr>\n",
              "      <th>1</th>\n",
              "      <td>2.0</td>\n",
              "      <td>3.0</td>\n",
              "      <td>5</td>\n",
              "      <td>NaN</td>\n",
              "    </tr>\n",
              "    <tr>\n",
              "      <th>2</th>\n",
              "      <td>NaN</td>\n",
              "      <td>4.0</td>\n",
              "      <td>6</td>\n",
              "      <td>NaN</td>\n",
              "    </tr>\n",
              "  </tbody>\n",
              "</table>\n",
              "</div>\n",
              "      <button class=\"colab-df-convert\" onclick=\"convertToInteractive('df-7b416dc1-29f1-40b8-a97c-d25d9ea9574f')\"\n",
              "              title=\"Convert this dataframe to an interactive table.\"\n",
              "              style=\"display:none;\">\n",
              "        \n",
              "  <svg xmlns=\"http://www.w3.org/2000/svg\" height=\"24px\"viewBox=\"0 0 24 24\"\n",
              "       width=\"24px\">\n",
              "    <path d=\"M0 0h24v24H0V0z\" fill=\"none\"/>\n",
              "    <path d=\"M18.56 5.44l.94 2.06.94-2.06 2.06-.94-2.06-.94-.94-2.06-.94 2.06-2.06.94zm-11 1L8.5 8.5l.94-2.06 2.06-.94-2.06-.94L8.5 2.5l-.94 2.06-2.06.94zm10 10l.94 2.06.94-2.06 2.06-.94-2.06-.94-.94-2.06-.94 2.06-2.06.94z\"/><path d=\"M17.41 7.96l-1.37-1.37c-.4-.4-.92-.59-1.43-.59-.52 0-1.04.2-1.43.59L10.3 9.45l-7.72 7.72c-.78.78-.78 2.05 0 2.83L4 21.41c.39.39.9.59 1.41.59.51 0 1.02-.2 1.41-.59l7.78-7.78 2.81-2.81c.8-.78.8-2.07 0-2.86zM5.41 20L4 18.59l7.72-7.72 1.47 1.35L5.41 20z\"/>\n",
              "  </svg>\n",
              "      </button>\n",
              "      \n",
              "  <style>\n",
              "    .colab-df-container {\n",
              "      display:flex;\n",
              "      flex-wrap:wrap;\n",
              "      gap: 12px;\n",
              "    }\n",
              "\n",
              "    .colab-df-convert {\n",
              "      background-color: #E8F0FE;\n",
              "      border: none;\n",
              "      border-radius: 50%;\n",
              "      cursor: pointer;\n",
              "      display: none;\n",
              "      fill: #1967D2;\n",
              "      height: 32px;\n",
              "      padding: 0 0 0 0;\n",
              "      width: 32px;\n",
              "    }\n",
              "\n",
              "    .colab-df-convert:hover {\n",
              "      background-color: #E2EBFA;\n",
              "      box-shadow: 0px 1px 2px rgba(60, 64, 67, 0.3), 0px 1px 3px 1px rgba(60, 64, 67, 0.15);\n",
              "      fill: #174EA6;\n",
              "    }\n",
              "\n",
              "    [theme=dark] .colab-df-convert {\n",
              "      background-color: #3B4455;\n",
              "      fill: #D2E3FC;\n",
              "    }\n",
              "\n",
              "    [theme=dark] .colab-df-convert:hover {\n",
              "      background-color: #434B5C;\n",
              "      box-shadow: 0px 1px 3px 1px rgba(0, 0, 0, 0.15);\n",
              "      filter: drop-shadow(0px 1px 2px rgba(0, 0, 0, 0.3));\n",
              "      fill: #FFFFFF;\n",
              "    }\n",
              "  </style>\n",
              "\n",
              "      <script>\n",
              "        const buttonEl =\n",
              "          document.querySelector('#df-7b416dc1-29f1-40b8-a97c-d25d9ea9574f button.colab-df-convert');\n",
              "        buttonEl.style.display =\n",
              "          google.colab.kernel.accessAllowed ? 'block' : 'none';\n",
              "\n",
              "        async function convertToInteractive(key) {\n",
              "          const element = document.querySelector('#df-7b416dc1-29f1-40b8-a97c-d25d9ea9574f');\n",
              "          const dataTable =\n",
              "            await google.colab.kernel.invokeFunction('convertToInteractive',\n",
              "                                                     [key], {});\n",
              "          if (!dataTable) return;\n",
              "\n",
              "          const docLinkHtml = 'Like what you see? Visit the ' +\n",
              "            '<a target=\"_blank\" href=https://colab.research.google.com/notebooks/data_table.ipynb>data table notebook</a>'\n",
              "            + ' to learn more about interactive tables.';\n",
              "          element.innerHTML = '';\n",
              "          dataTable['output_type'] = 'display_data';\n",
              "          await google.colab.output.renderOutput(dataTable, element);\n",
              "          const docLink = document.createElement('div');\n",
              "          docLink.innerHTML = docLinkHtml;\n",
              "          element.appendChild(docLink);\n",
              "        }\n",
              "      </script>\n",
              "    </div>\n",
              "  </div>\n",
              "  "
            ]
          },
          "metadata": {},
          "execution_count": 204
        }
      ]
    },
    {
      "cell_type": "code",
      "source": [
        "df.dropna(axis='columns', how='all')"
      ],
      "metadata": {
        "colab": {
          "base_uri": "https://localhost:8080/",
          "height": 143
        },
        "id": "65dEeKTtlHOj",
        "outputId": "1ac484f2-9793-49de-dc9f-987b2758d29d"
      },
      "execution_count": 205,
      "outputs": [
        {
          "output_type": "execute_result",
          "data": {
            "text/plain": [
              "     0    1  2\n",
              "0  1.0  NaN  2\n",
              "1  2.0  3.0  5\n",
              "2  NaN  4.0  6"
            ],
            "text/html": [
              "\n",
              "  <div id=\"df-46715df2-bbd3-417f-bdd8-f12de60eb30c\">\n",
              "    <div class=\"colab-df-container\">\n",
              "      <div>\n",
              "<style scoped>\n",
              "    .dataframe tbody tr th:only-of-type {\n",
              "        vertical-align: middle;\n",
              "    }\n",
              "\n",
              "    .dataframe tbody tr th {\n",
              "        vertical-align: top;\n",
              "    }\n",
              "\n",
              "    .dataframe thead th {\n",
              "        text-align: right;\n",
              "    }\n",
              "</style>\n",
              "<table border=\"1\" class=\"dataframe\">\n",
              "  <thead>\n",
              "    <tr style=\"text-align: right;\">\n",
              "      <th></th>\n",
              "      <th>0</th>\n",
              "      <th>1</th>\n",
              "      <th>2</th>\n",
              "    </tr>\n",
              "  </thead>\n",
              "  <tbody>\n",
              "    <tr>\n",
              "      <th>0</th>\n",
              "      <td>1.0</td>\n",
              "      <td>NaN</td>\n",
              "      <td>2</td>\n",
              "    </tr>\n",
              "    <tr>\n",
              "      <th>1</th>\n",
              "      <td>2.0</td>\n",
              "      <td>3.0</td>\n",
              "      <td>5</td>\n",
              "    </tr>\n",
              "    <tr>\n",
              "      <th>2</th>\n",
              "      <td>NaN</td>\n",
              "      <td>4.0</td>\n",
              "      <td>6</td>\n",
              "    </tr>\n",
              "  </tbody>\n",
              "</table>\n",
              "</div>\n",
              "      <button class=\"colab-df-convert\" onclick=\"convertToInteractive('df-46715df2-bbd3-417f-bdd8-f12de60eb30c')\"\n",
              "              title=\"Convert this dataframe to an interactive table.\"\n",
              "              style=\"display:none;\">\n",
              "        \n",
              "  <svg xmlns=\"http://www.w3.org/2000/svg\" height=\"24px\"viewBox=\"0 0 24 24\"\n",
              "       width=\"24px\">\n",
              "    <path d=\"M0 0h24v24H0V0z\" fill=\"none\"/>\n",
              "    <path d=\"M18.56 5.44l.94 2.06.94-2.06 2.06-.94-2.06-.94-.94-2.06-.94 2.06-2.06.94zm-11 1L8.5 8.5l.94-2.06 2.06-.94-2.06-.94L8.5 2.5l-.94 2.06-2.06.94zm10 10l.94 2.06.94-2.06 2.06-.94-2.06-.94-.94-2.06-.94 2.06-2.06.94z\"/><path d=\"M17.41 7.96l-1.37-1.37c-.4-.4-.92-.59-1.43-.59-.52 0-1.04.2-1.43.59L10.3 9.45l-7.72 7.72c-.78.78-.78 2.05 0 2.83L4 21.41c.39.39.9.59 1.41.59.51 0 1.02-.2 1.41-.59l7.78-7.78 2.81-2.81c.8-.78.8-2.07 0-2.86zM5.41 20L4 18.59l7.72-7.72 1.47 1.35L5.41 20z\"/>\n",
              "  </svg>\n",
              "      </button>\n",
              "      \n",
              "  <style>\n",
              "    .colab-df-container {\n",
              "      display:flex;\n",
              "      flex-wrap:wrap;\n",
              "      gap: 12px;\n",
              "    }\n",
              "\n",
              "    .colab-df-convert {\n",
              "      background-color: #E8F0FE;\n",
              "      border: none;\n",
              "      border-radius: 50%;\n",
              "      cursor: pointer;\n",
              "      display: none;\n",
              "      fill: #1967D2;\n",
              "      height: 32px;\n",
              "      padding: 0 0 0 0;\n",
              "      width: 32px;\n",
              "    }\n",
              "\n",
              "    .colab-df-convert:hover {\n",
              "      background-color: #E2EBFA;\n",
              "      box-shadow: 0px 1px 2px rgba(60, 64, 67, 0.3), 0px 1px 3px 1px rgba(60, 64, 67, 0.15);\n",
              "      fill: #174EA6;\n",
              "    }\n",
              "\n",
              "    [theme=dark] .colab-df-convert {\n",
              "      background-color: #3B4455;\n",
              "      fill: #D2E3FC;\n",
              "    }\n",
              "\n",
              "    [theme=dark] .colab-df-convert:hover {\n",
              "      background-color: #434B5C;\n",
              "      box-shadow: 0px 1px 3px 1px rgba(0, 0, 0, 0.15);\n",
              "      filter: drop-shadow(0px 1px 2px rgba(0, 0, 0, 0.3));\n",
              "      fill: #FFFFFF;\n",
              "    }\n",
              "  </style>\n",
              "\n",
              "      <script>\n",
              "        const buttonEl =\n",
              "          document.querySelector('#df-46715df2-bbd3-417f-bdd8-f12de60eb30c button.colab-df-convert');\n",
              "        buttonEl.style.display =\n",
              "          google.colab.kernel.accessAllowed ? 'block' : 'none';\n",
              "\n",
              "        async function convertToInteractive(key) {\n",
              "          const element = document.querySelector('#df-46715df2-bbd3-417f-bdd8-f12de60eb30c');\n",
              "          const dataTable =\n",
              "            await google.colab.kernel.invokeFunction('convertToInteractive',\n",
              "                                                     [key], {});\n",
              "          if (!dataTable) return;\n",
              "\n",
              "          const docLinkHtml = 'Like what you see? Visit the ' +\n",
              "            '<a target=\"_blank\" href=https://colab.research.google.com/notebooks/data_table.ipynb>data table notebook</a>'\n",
              "            + ' to learn more about interactive tables.';\n",
              "          element.innerHTML = '';\n",
              "          dataTable['output_type'] = 'display_data';\n",
              "          await google.colab.output.renderOutput(dataTable, element);\n",
              "          const docLink = document.createElement('div');\n",
              "          docLink.innerHTML = docLinkHtml;\n",
              "          element.appendChild(docLink);\n",
              "        }\n",
              "      </script>\n",
              "    </div>\n",
              "  </div>\n",
              "  "
            ]
          },
          "metadata": {},
          "execution_count": 205
        }
      ]
    },
    {
      "cell_type": "markdown",
      "source": [
        "Para um controle mais refinado, o threshparâmetro permite especificar um número mínimo de valores não nulos para a linha/coluna a ser mantida:"
      ],
      "metadata": {
        "id": "_VO-eSk7lOsj"
      }
    },
    {
      "cell_type": "code",
      "source": [
        "df.dropna(axis='rows', thresh=3)"
      ],
      "metadata": {
        "colab": {
          "base_uri": "https://localhost:8080/",
          "height": 81
        },
        "id": "8ahUnQIplPqg",
        "outputId": "e4617df9-12b4-4b56-f5b6-0efe91ca9bce"
      },
      "execution_count": 206,
      "outputs": [
        {
          "output_type": "execute_result",
          "data": {
            "text/plain": [
              "     0    1  2   3\n",
              "1  2.0  3.0  5 NaN"
            ],
            "text/html": [
              "\n",
              "  <div id=\"df-96b9b00f-7e45-4ebf-87a0-15d0f53c0d12\">\n",
              "    <div class=\"colab-df-container\">\n",
              "      <div>\n",
              "<style scoped>\n",
              "    .dataframe tbody tr th:only-of-type {\n",
              "        vertical-align: middle;\n",
              "    }\n",
              "\n",
              "    .dataframe tbody tr th {\n",
              "        vertical-align: top;\n",
              "    }\n",
              "\n",
              "    .dataframe thead th {\n",
              "        text-align: right;\n",
              "    }\n",
              "</style>\n",
              "<table border=\"1\" class=\"dataframe\">\n",
              "  <thead>\n",
              "    <tr style=\"text-align: right;\">\n",
              "      <th></th>\n",
              "      <th>0</th>\n",
              "      <th>1</th>\n",
              "      <th>2</th>\n",
              "      <th>3</th>\n",
              "    </tr>\n",
              "  </thead>\n",
              "  <tbody>\n",
              "    <tr>\n",
              "      <th>1</th>\n",
              "      <td>2.0</td>\n",
              "      <td>3.0</td>\n",
              "      <td>5</td>\n",
              "      <td>NaN</td>\n",
              "    </tr>\n",
              "  </tbody>\n",
              "</table>\n",
              "</div>\n",
              "      <button class=\"colab-df-convert\" onclick=\"convertToInteractive('df-96b9b00f-7e45-4ebf-87a0-15d0f53c0d12')\"\n",
              "              title=\"Convert this dataframe to an interactive table.\"\n",
              "              style=\"display:none;\">\n",
              "        \n",
              "  <svg xmlns=\"http://www.w3.org/2000/svg\" height=\"24px\"viewBox=\"0 0 24 24\"\n",
              "       width=\"24px\">\n",
              "    <path d=\"M0 0h24v24H0V0z\" fill=\"none\"/>\n",
              "    <path d=\"M18.56 5.44l.94 2.06.94-2.06 2.06-.94-2.06-.94-.94-2.06-.94 2.06-2.06.94zm-11 1L8.5 8.5l.94-2.06 2.06-.94-2.06-.94L8.5 2.5l-.94 2.06-2.06.94zm10 10l.94 2.06.94-2.06 2.06-.94-2.06-.94-.94-2.06-.94 2.06-2.06.94z\"/><path d=\"M17.41 7.96l-1.37-1.37c-.4-.4-.92-.59-1.43-.59-.52 0-1.04.2-1.43.59L10.3 9.45l-7.72 7.72c-.78.78-.78 2.05 0 2.83L4 21.41c.39.39.9.59 1.41.59.51 0 1.02-.2 1.41-.59l7.78-7.78 2.81-2.81c.8-.78.8-2.07 0-2.86zM5.41 20L4 18.59l7.72-7.72 1.47 1.35L5.41 20z\"/>\n",
              "  </svg>\n",
              "      </button>\n",
              "      \n",
              "  <style>\n",
              "    .colab-df-container {\n",
              "      display:flex;\n",
              "      flex-wrap:wrap;\n",
              "      gap: 12px;\n",
              "    }\n",
              "\n",
              "    .colab-df-convert {\n",
              "      background-color: #E8F0FE;\n",
              "      border: none;\n",
              "      border-radius: 50%;\n",
              "      cursor: pointer;\n",
              "      display: none;\n",
              "      fill: #1967D2;\n",
              "      height: 32px;\n",
              "      padding: 0 0 0 0;\n",
              "      width: 32px;\n",
              "    }\n",
              "\n",
              "    .colab-df-convert:hover {\n",
              "      background-color: #E2EBFA;\n",
              "      box-shadow: 0px 1px 2px rgba(60, 64, 67, 0.3), 0px 1px 3px 1px rgba(60, 64, 67, 0.15);\n",
              "      fill: #174EA6;\n",
              "    }\n",
              "\n",
              "    [theme=dark] .colab-df-convert {\n",
              "      background-color: #3B4455;\n",
              "      fill: #D2E3FC;\n",
              "    }\n",
              "\n",
              "    [theme=dark] .colab-df-convert:hover {\n",
              "      background-color: #434B5C;\n",
              "      box-shadow: 0px 1px 3px 1px rgba(0, 0, 0, 0.15);\n",
              "      filter: drop-shadow(0px 1px 2px rgba(0, 0, 0, 0.3));\n",
              "      fill: #FFFFFF;\n",
              "    }\n",
              "  </style>\n",
              "\n",
              "      <script>\n",
              "        const buttonEl =\n",
              "          document.querySelector('#df-96b9b00f-7e45-4ebf-87a0-15d0f53c0d12 button.colab-df-convert');\n",
              "        buttonEl.style.display =\n",
              "          google.colab.kernel.accessAllowed ? 'block' : 'none';\n",
              "\n",
              "        async function convertToInteractive(key) {\n",
              "          const element = document.querySelector('#df-96b9b00f-7e45-4ebf-87a0-15d0f53c0d12');\n",
              "          const dataTable =\n",
              "            await google.colab.kernel.invokeFunction('convertToInteractive',\n",
              "                                                     [key], {});\n",
              "          if (!dataTable) return;\n",
              "\n",
              "          const docLinkHtml = 'Like what you see? Visit the ' +\n",
              "            '<a target=\"_blank\" href=https://colab.research.google.com/notebooks/data_table.ipynb>data table notebook</a>'\n",
              "            + ' to learn more about interactive tables.';\n",
              "          element.innerHTML = '';\n",
              "          dataTable['output_type'] = 'display_data';\n",
              "          await google.colab.output.renderOutput(dataTable, element);\n",
              "          const docLink = document.createElement('div');\n",
              "          docLink.innerHTML = docLinkHtml;\n",
              "          element.appendChild(docLink);\n",
              "        }\n",
              "      </script>\n",
              "    </div>\n",
              "  </div>\n",
              "  "
            ]
          },
          "metadata": {},
          "execution_count": 206
        }
      ]
    },
    {
      "cell_type": "markdown",
      "source": [
        "# Indexação Hierárquica\n"
      ],
      "metadata": {
        "id": "vrby6Vbbnz3f"
      }
    },
    {
      "cell_type": "markdown",
      "source": [
        "odemos criar um multi-índice a partir das tuplas da seguinte maneira:"
      ],
      "metadata": {
        "id": "P84HdvhZesro"
      }
    },
    {
      "cell_type": "code",
      "source": [
        "index = [('California', 2000), ('California', 2010),\n",
        "         ('New York', 2000), ('New York', 2010),\n",
        "         ('Texas', 2000), ('Texas', 2010)]\n",
        "\n",
        "\n",
        "index = pd.MultiIndex.from_tuples(index)\n",
        "index    "
      ],
      "metadata": {
        "colab": {
          "base_uri": "https://localhost:8080/"
        },
        "id": "r7CG9eHDetuo",
        "outputId": "dcaea7e0-859e-4354-b04e-25682b7def90"
      },
      "execution_count": 207,
      "outputs": [
        {
          "output_type": "execute_result",
          "data": {
            "text/plain": [
              "MultiIndex([('California', 2000),\n",
              "            ('California', 2010),\n",
              "            (  'New York', 2000),\n",
              "            (  'New York', 2010),\n",
              "            (     'Texas', 2000),\n",
              "            (     'Texas', 2010)],\n",
              "           )"
            ]
          },
          "metadata": {},
          "execution_count": 207
        }
      ]
    },
    {
      "cell_type": "markdown",
      "source": [
        "Observe que `MultiIndex` contém vários níveis de indexação – neste caso, os nomes dos estados e os anos, bem como vários rótulos para cada ponto de dados que codificam esses níveis"
      ],
      "metadata": {
        "id": "dKaR2bA2fIg5"
      }
    },
    {
      "cell_type": "code",
      "source": [
        "populations = [33871648, 37253956,\n",
        "               18976457, 19378102,\n",
        "               20851820, 25145561]\n",
        "pop = pd.Series(populations, index=index)\n",
        "pop"
      ],
      "metadata": {
        "colab": {
          "base_uri": "https://localhost:8080/"
        },
        "id": "kF1ZQnT0fVdG",
        "outputId": "08c9e052-1c50-461f-f1cb-ee769f9c50f0"
      },
      "execution_count": 208,
      "outputs": [
        {
          "output_type": "execute_result",
          "data": {
            "text/plain": [
              "California  2000    33871648\n",
              "            2010    37253956\n",
              "New York    2000    18976457\n",
              "            2010    19378102\n",
              "Texas       2000    20851820\n",
              "            2010    25145561\n",
              "dtype: int64"
            ]
          },
          "metadata": {},
          "execution_count": 208
        }
      ]
    },
    {
      "cell_type": "markdown",
      "source": [
        "Aqui, as duas primeiras colunas da Seriesrepresentação mostram os vários valores de índice, enquanto a terceira coluna mostra os dados. Observe que algumas entradas estão faltando na primeira coluna: nessa representação de vários índices, qualquer entrada em branco indica o mesmo valor da linha acima dela.\n",
        "O exemplo acima é uma suposição para rastrear dados sobre estados de dois anos diferentes em que indices multiplos torna uma aplicação interessante.\n",
        "\n",
        "Dessa forma, por exemplo, podemos acessar todos os dados para os quais o segundo índice é 2010, podemos simplesmente usar a notação de corte Pandas:"
      ],
      "metadata": {
        "id": "SZBRjTI8flF4"
      }
    },
    {
      "cell_type": "code",
      "source": [
        "pop[:, 2010]"
      ],
      "metadata": {
        "colab": {
          "base_uri": "https://localhost:8080/"
        },
        "id": "uDVyvmlXgQos",
        "outputId": "5babf2aa-c43f-435b-8d65-833a60cc6d7d"
      },
      "execution_count": 209,
      "outputs": [
        {
          "output_type": "execute_result",
          "data": {
            "text/plain": [
              "California    37253956\n",
              "New York      19378102\n",
              "Texas         25145561\n",
              "dtype: int64"
            ]
          },
          "metadata": {},
          "execution_count": 209
        }
      ]
    },
    {
      "cell_type": "markdown",
      "source": [
        "Você pode notar algo mais aqui: poderíamos facilmente ter armazenado os mesmos dados usando um simples `DataFrame` com rótulos de índice e coluna. Na verdade, o Pandas é construído com essa equivalência em mente. O `unstack()`método converterá rapidamente uma multiplicação indexada Seriesem uma indexada convencionalmente `DataFrame`:"
      ],
      "metadata": {
        "id": "L_jaJkcWgidw"
      }
    },
    {
      "cell_type": "code",
      "source": [
        "pop_df = pop.unstack()\n",
        "pop_df"
      ],
      "metadata": {
        "colab": {
          "base_uri": "https://localhost:8080/",
          "height": 143
        },
        "id": "4nb2zBhCq056",
        "outputId": "913287ea-27aa-403c-805e-c83f83bd9c60"
      },
      "execution_count": 210,
      "outputs": [
        {
          "output_type": "execute_result",
          "data": {
            "text/plain": [
              "                2000      2010\n",
              "California  33871648  37253956\n",
              "New York    18976457  19378102\n",
              "Texas       20851820  25145561"
            ],
            "text/html": [
              "\n",
              "  <div id=\"df-6fce06b6-5f22-4709-b5c6-23c38f0be677\">\n",
              "    <div class=\"colab-df-container\">\n",
              "      <div>\n",
              "<style scoped>\n",
              "    .dataframe tbody tr th:only-of-type {\n",
              "        vertical-align: middle;\n",
              "    }\n",
              "\n",
              "    .dataframe tbody tr th {\n",
              "        vertical-align: top;\n",
              "    }\n",
              "\n",
              "    .dataframe thead th {\n",
              "        text-align: right;\n",
              "    }\n",
              "</style>\n",
              "<table border=\"1\" class=\"dataframe\">\n",
              "  <thead>\n",
              "    <tr style=\"text-align: right;\">\n",
              "      <th></th>\n",
              "      <th>2000</th>\n",
              "      <th>2010</th>\n",
              "    </tr>\n",
              "  </thead>\n",
              "  <tbody>\n",
              "    <tr>\n",
              "      <th>California</th>\n",
              "      <td>33871648</td>\n",
              "      <td>37253956</td>\n",
              "    </tr>\n",
              "    <tr>\n",
              "      <th>New York</th>\n",
              "      <td>18976457</td>\n",
              "      <td>19378102</td>\n",
              "    </tr>\n",
              "    <tr>\n",
              "      <th>Texas</th>\n",
              "      <td>20851820</td>\n",
              "      <td>25145561</td>\n",
              "    </tr>\n",
              "  </tbody>\n",
              "</table>\n",
              "</div>\n",
              "      <button class=\"colab-df-convert\" onclick=\"convertToInteractive('df-6fce06b6-5f22-4709-b5c6-23c38f0be677')\"\n",
              "              title=\"Convert this dataframe to an interactive table.\"\n",
              "              style=\"display:none;\">\n",
              "        \n",
              "  <svg xmlns=\"http://www.w3.org/2000/svg\" height=\"24px\"viewBox=\"0 0 24 24\"\n",
              "       width=\"24px\">\n",
              "    <path d=\"M0 0h24v24H0V0z\" fill=\"none\"/>\n",
              "    <path d=\"M18.56 5.44l.94 2.06.94-2.06 2.06-.94-2.06-.94-.94-2.06-.94 2.06-2.06.94zm-11 1L8.5 8.5l.94-2.06 2.06-.94-2.06-.94L8.5 2.5l-.94 2.06-2.06.94zm10 10l.94 2.06.94-2.06 2.06-.94-2.06-.94-.94-2.06-.94 2.06-2.06.94z\"/><path d=\"M17.41 7.96l-1.37-1.37c-.4-.4-.92-.59-1.43-.59-.52 0-1.04.2-1.43.59L10.3 9.45l-7.72 7.72c-.78.78-.78 2.05 0 2.83L4 21.41c.39.39.9.59 1.41.59.51 0 1.02-.2 1.41-.59l7.78-7.78 2.81-2.81c.8-.78.8-2.07 0-2.86zM5.41 20L4 18.59l7.72-7.72 1.47 1.35L5.41 20z\"/>\n",
              "  </svg>\n",
              "      </button>\n",
              "      \n",
              "  <style>\n",
              "    .colab-df-container {\n",
              "      display:flex;\n",
              "      flex-wrap:wrap;\n",
              "      gap: 12px;\n",
              "    }\n",
              "\n",
              "    .colab-df-convert {\n",
              "      background-color: #E8F0FE;\n",
              "      border: none;\n",
              "      border-radius: 50%;\n",
              "      cursor: pointer;\n",
              "      display: none;\n",
              "      fill: #1967D2;\n",
              "      height: 32px;\n",
              "      padding: 0 0 0 0;\n",
              "      width: 32px;\n",
              "    }\n",
              "\n",
              "    .colab-df-convert:hover {\n",
              "      background-color: #E2EBFA;\n",
              "      box-shadow: 0px 1px 2px rgba(60, 64, 67, 0.3), 0px 1px 3px 1px rgba(60, 64, 67, 0.15);\n",
              "      fill: #174EA6;\n",
              "    }\n",
              "\n",
              "    [theme=dark] .colab-df-convert {\n",
              "      background-color: #3B4455;\n",
              "      fill: #D2E3FC;\n",
              "    }\n",
              "\n",
              "    [theme=dark] .colab-df-convert:hover {\n",
              "      background-color: #434B5C;\n",
              "      box-shadow: 0px 1px 3px 1px rgba(0, 0, 0, 0.15);\n",
              "      filter: drop-shadow(0px 1px 2px rgba(0, 0, 0, 0.3));\n",
              "      fill: #FFFFFF;\n",
              "    }\n",
              "  </style>\n",
              "\n",
              "      <script>\n",
              "        const buttonEl =\n",
              "          document.querySelector('#df-6fce06b6-5f22-4709-b5c6-23c38f0be677 button.colab-df-convert');\n",
              "        buttonEl.style.display =\n",
              "          google.colab.kernel.accessAllowed ? 'block' : 'none';\n",
              "\n",
              "        async function convertToInteractive(key) {\n",
              "          const element = document.querySelector('#df-6fce06b6-5f22-4709-b5c6-23c38f0be677');\n",
              "          const dataTable =\n",
              "            await google.colab.kernel.invokeFunction('convertToInteractive',\n",
              "                                                     [key], {});\n",
              "          if (!dataTable) return;\n",
              "\n",
              "          const docLinkHtml = 'Like what you see? Visit the ' +\n",
              "            '<a target=\"_blank\" href=https://colab.research.google.com/notebooks/data_table.ipynb>data table notebook</a>'\n",
              "            + ' to learn more about interactive tables.';\n",
              "          element.innerHTML = '';\n",
              "          dataTable['output_type'] = 'display_data';\n",
              "          await google.colab.output.renderOutput(dataTable, element);\n",
              "          const docLink = document.createElement('div');\n",
              "          docLink.innerHTML = docLinkHtml;\n",
              "          element.appendChild(docLink);\n",
              "        }\n",
              "      </script>\n",
              "    </div>\n",
              "  </div>\n",
              "  "
            ]
          },
          "metadata": {},
          "execution_count": 210
        }
      ]
    },
    {
      "cell_type": "markdown",
      "source": [
        "assim como pudemos usar a indexação múltipla para representar dados bidimensionais em um `Series`, também podemos usá-la para representar dados de três ou mais dimensões em um Seriesou DataFrame. Cada nível extra em um índice múltiplo representa uma dimensão extra de dados; aproveitar essa propriedade nos dá muito mais flexibilidade nos tipos de dados que podemos representar. Concretamente, podemos querer adicionar outra coluna de dados demográficos para cada estado a cada ano (digamos, população com menos de 18 anos); com MultiIndexisso é tão fácil quanto adicionar outra coluna ao `DataFrame`:"
      ],
      "metadata": {
        "id": "LiQxTGdMrXNE"
      }
    },
    {
      "cell_type": "code",
      "source": [
        "pop_df = pd.DataFrame({'total': pop,\n",
        "                       'under18': [9267089, 9284094,\n",
        "                                   4687374, 4318033,\n",
        "                                   5906301, 6879014]})\n",
        "pop_df"
      ],
      "metadata": {
        "colab": {
          "base_uri": "https://localhost:8080/",
          "height": 237
        },
        "id": "TWkC-i5j2Asd",
        "outputId": "44b10103-4e7f-4a74-d254-e33c429ea3b2"
      },
      "execution_count": 211,
      "outputs": [
        {
          "output_type": "execute_result",
          "data": {
            "text/plain": [
              "                    total  under18\n",
              "California 2000  33871648  9267089\n",
              "           2010  37253956  9284094\n",
              "New York   2000  18976457  4687374\n",
              "           2010  19378102  4318033\n",
              "Texas      2000  20851820  5906301\n",
              "           2010  25145561  6879014"
            ],
            "text/html": [
              "\n",
              "  <div id=\"df-eb232434-c10d-44a2-87dd-26b01ab8a3dc\">\n",
              "    <div class=\"colab-df-container\">\n",
              "      <div>\n",
              "<style scoped>\n",
              "    .dataframe tbody tr th:only-of-type {\n",
              "        vertical-align: middle;\n",
              "    }\n",
              "\n",
              "    .dataframe tbody tr th {\n",
              "        vertical-align: top;\n",
              "    }\n",
              "\n",
              "    .dataframe thead th {\n",
              "        text-align: right;\n",
              "    }\n",
              "</style>\n",
              "<table border=\"1\" class=\"dataframe\">\n",
              "  <thead>\n",
              "    <tr style=\"text-align: right;\">\n",
              "      <th></th>\n",
              "      <th></th>\n",
              "      <th>total</th>\n",
              "      <th>under18</th>\n",
              "    </tr>\n",
              "  </thead>\n",
              "  <tbody>\n",
              "    <tr>\n",
              "      <th rowspan=\"2\" valign=\"top\">California</th>\n",
              "      <th>2000</th>\n",
              "      <td>33871648</td>\n",
              "      <td>9267089</td>\n",
              "    </tr>\n",
              "    <tr>\n",
              "      <th>2010</th>\n",
              "      <td>37253956</td>\n",
              "      <td>9284094</td>\n",
              "    </tr>\n",
              "    <tr>\n",
              "      <th rowspan=\"2\" valign=\"top\">New York</th>\n",
              "      <th>2000</th>\n",
              "      <td>18976457</td>\n",
              "      <td>4687374</td>\n",
              "    </tr>\n",
              "    <tr>\n",
              "      <th>2010</th>\n",
              "      <td>19378102</td>\n",
              "      <td>4318033</td>\n",
              "    </tr>\n",
              "    <tr>\n",
              "      <th rowspan=\"2\" valign=\"top\">Texas</th>\n",
              "      <th>2000</th>\n",
              "      <td>20851820</td>\n",
              "      <td>5906301</td>\n",
              "    </tr>\n",
              "    <tr>\n",
              "      <th>2010</th>\n",
              "      <td>25145561</td>\n",
              "      <td>6879014</td>\n",
              "    </tr>\n",
              "  </tbody>\n",
              "</table>\n",
              "</div>\n",
              "      <button class=\"colab-df-convert\" onclick=\"convertToInteractive('df-eb232434-c10d-44a2-87dd-26b01ab8a3dc')\"\n",
              "              title=\"Convert this dataframe to an interactive table.\"\n",
              "              style=\"display:none;\">\n",
              "        \n",
              "  <svg xmlns=\"http://www.w3.org/2000/svg\" height=\"24px\"viewBox=\"0 0 24 24\"\n",
              "       width=\"24px\">\n",
              "    <path d=\"M0 0h24v24H0V0z\" fill=\"none\"/>\n",
              "    <path d=\"M18.56 5.44l.94 2.06.94-2.06 2.06-.94-2.06-.94-.94-2.06-.94 2.06-2.06.94zm-11 1L8.5 8.5l.94-2.06 2.06-.94-2.06-.94L8.5 2.5l-.94 2.06-2.06.94zm10 10l.94 2.06.94-2.06 2.06-.94-2.06-.94-.94-2.06-.94 2.06-2.06.94z\"/><path d=\"M17.41 7.96l-1.37-1.37c-.4-.4-.92-.59-1.43-.59-.52 0-1.04.2-1.43.59L10.3 9.45l-7.72 7.72c-.78.78-.78 2.05 0 2.83L4 21.41c.39.39.9.59 1.41.59.51 0 1.02-.2 1.41-.59l7.78-7.78 2.81-2.81c.8-.78.8-2.07 0-2.86zM5.41 20L4 18.59l7.72-7.72 1.47 1.35L5.41 20z\"/>\n",
              "  </svg>\n",
              "      </button>\n",
              "      \n",
              "  <style>\n",
              "    .colab-df-container {\n",
              "      display:flex;\n",
              "      flex-wrap:wrap;\n",
              "      gap: 12px;\n",
              "    }\n",
              "\n",
              "    .colab-df-convert {\n",
              "      background-color: #E8F0FE;\n",
              "      border: none;\n",
              "      border-radius: 50%;\n",
              "      cursor: pointer;\n",
              "      display: none;\n",
              "      fill: #1967D2;\n",
              "      height: 32px;\n",
              "      padding: 0 0 0 0;\n",
              "      width: 32px;\n",
              "    }\n",
              "\n",
              "    .colab-df-convert:hover {\n",
              "      background-color: #E2EBFA;\n",
              "      box-shadow: 0px 1px 2px rgba(60, 64, 67, 0.3), 0px 1px 3px 1px rgba(60, 64, 67, 0.15);\n",
              "      fill: #174EA6;\n",
              "    }\n",
              "\n",
              "    [theme=dark] .colab-df-convert {\n",
              "      background-color: #3B4455;\n",
              "      fill: #D2E3FC;\n",
              "    }\n",
              "\n",
              "    [theme=dark] .colab-df-convert:hover {\n",
              "      background-color: #434B5C;\n",
              "      box-shadow: 0px 1px 3px 1px rgba(0, 0, 0, 0.15);\n",
              "      filter: drop-shadow(0px 1px 2px rgba(0, 0, 0, 0.3));\n",
              "      fill: #FFFFFF;\n",
              "    }\n",
              "  </style>\n",
              "\n",
              "      <script>\n",
              "        const buttonEl =\n",
              "          document.querySelector('#df-eb232434-c10d-44a2-87dd-26b01ab8a3dc button.colab-df-convert');\n",
              "        buttonEl.style.display =\n",
              "          google.colab.kernel.accessAllowed ? 'block' : 'none';\n",
              "\n",
              "        async function convertToInteractive(key) {\n",
              "          const element = document.querySelector('#df-eb232434-c10d-44a2-87dd-26b01ab8a3dc');\n",
              "          const dataTable =\n",
              "            await google.colab.kernel.invokeFunction('convertToInteractive',\n",
              "                                                     [key], {});\n",
              "          if (!dataTable) return;\n",
              "\n",
              "          const docLinkHtml = 'Like what you see? Visit the ' +\n",
              "            '<a target=\"_blank\" href=https://colab.research.google.com/notebooks/data_table.ipynb>data table notebook</a>'\n",
              "            + ' to learn more about interactive tables.';\n",
              "          element.innerHTML = '';\n",
              "          dataTable['output_type'] = 'display_data';\n",
              "          await google.colab.output.renderOutput(dataTable, element);\n",
              "          const docLink = document.createElement('div');\n",
              "          docLink.innerHTML = docLinkHtml;\n",
              "          element.appendChild(docLink);\n",
              "        }\n",
              "      </script>\n",
              "    </div>\n",
              "  </div>\n",
              "  "
            ]
          },
          "metadata": {},
          "execution_count": 211
        }
      ]
    },
    {
      "cell_type": "markdown",
      "source": [
        "A maneira mais direta de construir um índice múltiplo Seriesou DataFrameé simplesmente passar uma lista de dois ou mais arrays de índice para o construtor. Por exemplo:"
      ],
      "metadata": {
        "id": "nYJb_FIt3oIL"
      }
    },
    {
      "cell_type": "code",
      "source": [
        "df = pd.DataFrame(np.random.rand(4, 2),\n",
        "                  index=[['a', 'a', 'b', 'b'], [1, 2, 1, 2]],\n",
        "                  columns=['data1', 'data2'])\n",
        "df"
      ],
      "metadata": {
        "colab": {
          "base_uri": "https://localhost:8080/",
          "height": 175
        },
        "id": "tdEVo87p3o9s",
        "outputId": "5d2afd4d-936e-4b24-940c-cac5eca6b8c3"
      },
      "execution_count": 212,
      "outputs": [
        {
          "output_type": "execute_result",
          "data": {
            "text/plain": [
              "        data1     data2\n",
              "a 1  0.853077  0.097323\n",
              "  2  0.755397  0.522298\n",
              "b 1  0.711056  0.975888\n",
              "  2  0.776063  0.857907"
            ],
            "text/html": [
              "\n",
              "  <div id=\"df-085b2db2-0b1f-4326-8dc9-6e895cacb969\">\n",
              "    <div class=\"colab-df-container\">\n",
              "      <div>\n",
              "<style scoped>\n",
              "    .dataframe tbody tr th:only-of-type {\n",
              "        vertical-align: middle;\n",
              "    }\n",
              "\n",
              "    .dataframe tbody tr th {\n",
              "        vertical-align: top;\n",
              "    }\n",
              "\n",
              "    .dataframe thead th {\n",
              "        text-align: right;\n",
              "    }\n",
              "</style>\n",
              "<table border=\"1\" class=\"dataframe\">\n",
              "  <thead>\n",
              "    <tr style=\"text-align: right;\">\n",
              "      <th></th>\n",
              "      <th></th>\n",
              "      <th>data1</th>\n",
              "      <th>data2</th>\n",
              "    </tr>\n",
              "  </thead>\n",
              "  <tbody>\n",
              "    <tr>\n",
              "      <th rowspan=\"2\" valign=\"top\">a</th>\n",
              "      <th>1</th>\n",
              "      <td>0.853077</td>\n",
              "      <td>0.097323</td>\n",
              "    </tr>\n",
              "    <tr>\n",
              "      <th>2</th>\n",
              "      <td>0.755397</td>\n",
              "      <td>0.522298</td>\n",
              "    </tr>\n",
              "    <tr>\n",
              "      <th rowspan=\"2\" valign=\"top\">b</th>\n",
              "      <th>1</th>\n",
              "      <td>0.711056</td>\n",
              "      <td>0.975888</td>\n",
              "    </tr>\n",
              "    <tr>\n",
              "      <th>2</th>\n",
              "      <td>0.776063</td>\n",
              "      <td>0.857907</td>\n",
              "    </tr>\n",
              "  </tbody>\n",
              "</table>\n",
              "</div>\n",
              "      <button class=\"colab-df-convert\" onclick=\"convertToInteractive('df-085b2db2-0b1f-4326-8dc9-6e895cacb969')\"\n",
              "              title=\"Convert this dataframe to an interactive table.\"\n",
              "              style=\"display:none;\">\n",
              "        \n",
              "  <svg xmlns=\"http://www.w3.org/2000/svg\" height=\"24px\"viewBox=\"0 0 24 24\"\n",
              "       width=\"24px\">\n",
              "    <path d=\"M0 0h24v24H0V0z\" fill=\"none\"/>\n",
              "    <path d=\"M18.56 5.44l.94 2.06.94-2.06 2.06-.94-2.06-.94-.94-2.06-.94 2.06-2.06.94zm-11 1L8.5 8.5l.94-2.06 2.06-.94-2.06-.94L8.5 2.5l-.94 2.06-2.06.94zm10 10l.94 2.06.94-2.06 2.06-.94-2.06-.94-.94-2.06-.94 2.06-2.06.94z\"/><path d=\"M17.41 7.96l-1.37-1.37c-.4-.4-.92-.59-1.43-.59-.52 0-1.04.2-1.43.59L10.3 9.45l-7.72 7.72c-.78.78-.78 2.05 0 2.83L4 21.41c.39.39.9.59 1.41.59.51 0 1.02-.2 1.41-.59l7.78-7.78 2.81-2.81c.8-.78.8-2.07 0-2.86zM5.41 20L4 18.59l7.72-7.72 1.47 1.35L5.41 20z\"/>\n",
              "  </svg>\n",
              "      </button>\n",
              "      \n",
              "  <style>\n",
              "    .colab-df-container {\n",
              "      display:flex;\n",
              "      flex-wrap:wrap;\n",
              "      gap: 12px;\n",
              "    }\n",
              "\n",
              "    .colab-df-convert {\n",
              "      background-color: #E8F0FE;\n",
              "      border: none;\n",
              "      border-radius: 50%;\n",
              "      cursor: pointer;\n",
              "      display: none;\n",
              "      fill: #1967D2;\n",
              "      height: 32px;\n",
              "      padding: 0 0 0 0;\n",
              "      width: 32px;\n",
              "    }\n",
              "\n",
              "    .colab-df-convert:hover {\n",
              "      background-color: #E2EBFA;\n",
              "      box-shadow: 0px 1px 2px rgba(60, 64, 67, 0.3), 0px 1px 3px 1px rgba(60, 64, 67, 0.15);\n",
              "      fill: #174EA6;\n",
              "    }\n",
              "\n",
              "    [theme=dark] .colab-df-convert {\n",
              "      background-color: #3B4455;\n",
              "      fill: #D2E3FC;\n",
              "    }\n",
              "\n",
              "    [theme=dark] .colab-df-convert:hover {\n",
              "      background-color: #434B5C;\n",
              "      box-shadow: 0px 1px 3px 1px rgba(0, 0, 0, 0.15);\n",
              "      filter: drop-shadow(0px 1px 2px rgba(0, 0, 0, 0.3));\n",
              "      fill: #FFFFFF;\n",
              "    }\n",
              "  </style>\n",
              "\n",
              "      <script>\n",
              "        const buttonEl =\n",
              "          document.querySelector('#df-085b2db2-0b1f-4326-8dc9-6e895cacb969 button.colab-df-convert');\n",
              "        buttonEl.style.display =\n",
              "          google.colab.kernel.accessAllowed ? 'block' : 'none';\n",
              "\n",
              "        async function convertToInteractive(key) {\n",
              "          const element = document.querySelector('#df-085b2db2-0b1f-4326-8dc9-6e895cacb969');\n",
              "          const dataTable =\n",
              "            await google.colab.kernel.invokeFunction('convertToInteractive',\n",
              "                                                     [key], {});\n",
              "          if (!dataTable) return;\n",
              "\n",
              "          const docLinkHtml = 'Like what you see? Visit the ' +\n",
              "            '<a target=\"_blank\" href=https://colab.research.google.com/notebooks/data_table.ipynb>data table notebook</a>'\n",
              "            + ' to learn more about interactive tables.';\n",
              "          element.innerHTML = '';\n",
              "          dataTable['output_type'] = 'display_data';\n",
              "          await google.colab.output.renderOutput(dataTable, element);\n",
              "          const docLink = document.createElement('div');\n",
              "          docLink.innerHTML = docLinkHtml;\n",
              "          element.appendChild(docLink);\n",
              "        }\n",
              "      </script>\n",
              "    </div>\n",
              "  </div>\n",
              "  "
            ]
          },
          "metadata": {},
          "execution_count": 212
        }
      ]
    },
    {
      "cell_type": "markdown",
      "source": [
        "Da mesma forma, se você passar um dicionário com tuplas apropriadas como chaves, o Pandas reconhecerá isso automaticamente e usará a MultiIndexpor padrão:"
      ],
      "metadata": {
        "id": "e7cBhv3M329d"
      }
    },
    {
      "cell_type": "code",
      "source": [
        "data = {('California', 2000): 33871648,\n",
        "        ('California', 2010): 37253956,\n",
        "        ('Texas', 2000): 20851820,\n",
        "        ('Texas', 2010): 25145561,\n",
        "        ('New York', 2000): 18976457,\n",
        "        ('New York', 2010): 19378102}\n",
        "pd.Series(data)"
      ],
      "metadata": {
        "colab": {
          "base_uri": "https://localhost:8080/"
        },
        "id": "tDxrK2ll331O",
        "outputId": "20dbb2fe-afec-4b15-cbe6-abc5700bb68f"
      },
      "execution_count": 213,
      "outputs": [
        {
          "output_type": "execute_result",
          "data": {
            "text/plain": [
              "California  2000    33871648\n",
              "            2010    37253956\n",
              "Texas       2000    20851820\n",
              "            2010    25145561\n",
              "New York    2000    18976457\n",
              "            2010    19378102\n",
              "dtype: int64"
            ]
          },
          "metadata": {},
          "execution_count": 213
        }
      ]
    },
    {
      "cell_type": "markdown",
      "source": [
        "Para obter mais flexibilidade em como o índice é construído, você pode usar os construtores de método de classe disponíveis no arquivo pd.MultiIndex. Por exemplo, como fizemos antes, você pode construir a MultiIndexpartir de uma lista simples de arrays fornecendo os valores de índice dentro de cada nível:"
      ],
      "metadata": {
        "id": "VHz_vi_o4nHH"
      }
    },
    {
      "cell_type": "code",
      "source": [
        "pd.MultiIndex.from_arrays([['a', 'a', 'b', 'b'], [1, 2, 1, 2]])"
      ],
      "metadata": {
        "colab": {
          "base_uri": "https://localhost:8080/"
        },
        "id": "yvbow4mM4oG_",
        "outputId": "413d405e-cc9c-436c-c49b-83ff080b286b"
      },
      "execution_count": 214,
      "outputs": [
        {
          "output_type": "execute_result",
          "data": {
            "text/plain": [
              "MultiIndex([('a', 1),\n",
              "            ('a', 2),\n",
              "            ('b', 1),\n",
              "            ('b', 2)],\n",
              "           )"
            ]
          },
          "metadata": {},
          "execution_count": 214
        }
      ]
    },
    {
      "cell_type": "markdown",
      "source": [
        "Às vezes é conveniente nomear os níveis do arquivo `MultiIndex`. Isso pode ser feito passando o namesargumento para qualquer um dos `MultiIndex` construtores acima ou definindo o `names` atributo do índice após o fato:"
      ],
      "metadata": {
        "id": "-mGF6E0y5bNV"
      }
    },
    {
      "cell_type": "code",
      "source": [
        "pop.index.names = ['state', 'year']\n",
        "pop"
      ],
      "metadata": {
        "colab": {
          "base_uri": "https://localhost:8080/"
        },
        "id": "x2o-Rm045Xye",
        "outputId": "b07d8e2a-1417-4d0f-be5f-702095fddf00"
      },
      "execution_count": 215,
      "outputs": [
        {
          "output_type": "execute_result",
          "data": {
            "text/plain": [
              "state       year\n",
              "California  2000    33871648\n",
              "            2010    37253956\n",
              "New York    2000    18976457\n",
              "            2010    19378102\n",
              "Texas       2000    20851820\n",
              "            2010    25145561\n",
              "dtype: int64"
            ]
          },
          "metadata": {},
          "execution_count": 215
        }
      ]
    },
    {
      "cell_type": "markdown",
      "source": [
        "Em um DataFrame, as linhas e colunas são completamente simétricas e, assim como as linhas podem ter vários níveis de índices, as colunas também podem ter vários níveis. Considere o seguinte, que é um modelo de alguns dados médicos (um tanto realistas)"
      ],
      "metadata": {
        "id": "Lol4OjXF6vZz"
      }
    },
    {
      "cell_type": "code",
      "source": [
        "# hierarchical indices and columns\n",
        "index = pd.MultiIndex.from_product([[2013, 2014], [1, 2]], #produto cartesiano\n",
        "                                   names=['year', 'visit'])\n",
        "columns = pd.MultiIndex.from_product([['Bob', 'Guido', 'Sue'], ['HR', 'Temp']],\n",
        "                                     names=['subject', 'type'])\n",
        "\n",
        "# mock some data\n",
        "data = np.round(np.random.randn(4, 6), 1)\n",
        "data[:, ::2] *= 10\n",
        "data += 37\n",
        "\n",
        "# create the DataFrame\n",
        "health_data = pd.DataFrame(data, index=index, columns=columns)\n",
        "health_data"
      ],
      "metadata": {
        "colab": {
          "base_uri": "https://localhost:8080/",
          "height": 237
        },
        "id": "1dO25Nz86y52",
        "outputId": "37852088-0918-4194-b861-3c43394c3de7"
      },
      "execution_count": 216,
      "outputs": [
        {
          "output_type": "execute_result",
          "data": {
            "text/plain": [
              "subject      Bob       Guido         Sue      \n",
              "type          HR  Temp    HR  Temp    HR  Temp\n",
              "year visit                                    \n",
              "2013 1      26.0  37.8  38.0  38.2  51.0  37.6\n",
              "     2      18.0  36.8  26.0  37.5  16.0  34.6\n",
              "2014 1      29.0  35.2  50.0  37.9  34.0  34.5\n",
              "     2      40.0  36.1  42.0  35.2  34.0  36.9"
            ],
            "text/html": [
              "\n",
              "  <div id=\"df-3edf59c6-d0b8-4378-9386-67e0df353d10\">\n",
              "    <div class=\"colab-df-container\">\n",
              "      <div>\n",
              "<style scoped>\n",
              "    .dataframe tbody tr th:only-of-type {\n",
              "        vertical-align: middle;\n",
              "    }\n",
              "\n",
              "    .dataframe tbody tr th {\n",
              "        vertical-align: top;\n",
              "    }\n",
              "\n",
              "    .dataframe thead tr th {\n",
              "        text-align: left;\n",
              "    }\n",
              "\n",
              "    .dataframe thead tr:last-of-type th {\n",
              "        text-align: right;\n",
              "    }\n",
              "</style>\n",
              "<table border=\"1\" class=\"dataframe\">\n",
              "  <thead>\n",
              "    <tr>\n",
              "      <th></th>\n",
              "      <th>subject</th>\n",
              "      <th colspan=\"2\" halign=\"left\">Bob</th>\n",
              "      <th colspan=\"2\" halign=\"left\">Guido</th>\n",
              "      <th colspan=\"2\" halign=\"left\">Sue</th>\n",
              "    </tr>\n",
              "    <tr>\n",
              "      <th></th>\n",
              "      <th>type</th>\n",
              "      <th>HR</th>\n",
              "      <th>Temp</th>\n",
              "      <th>HR</th>\n",
              "      <th>Temp</th>\n",
              "      <th>HR</th>\n",
              "      <th>Temp</th>\n",
              "    </tr>\n",
              "    <tr>\n",
              "      <th>year</th>\n",
              "      <th>visit</th>\n",
              "      <th></th>\n",
              "      <th></th>\n",
              "      <th></th>\n",
              "      <th></th>\n",
              "      <th></th>\n",
              "      <th></th>\n",
              "    </tr>\n",
              "  </thead>\n",
              "  <tbody>\n",
              "    <tr>\n",
              "      <th rowspan=\"2\" valign=\"top\">2013</th>\n",
              "      <th>1</th>\n",
              "      <td>26.0</td>\n",
              "      <td>37.8</td>\n",
              "      <td>38.0</td>\n",
              "      <td>38.2</td>\n",
              "      <td>51.0</td>\n",
              "      <td>37.6</td>\n",
              "    </tr>\n",
              "    <tr>\n",
              "      <th>2</th>\n",
              "      <td>18.0</td>\n",
              "      <td>36.8</td>\n",
              "      <td>26.0</td>\n",
              "      <td>37.5</td>\n",
              "      <td>16.0</td>\n",
              "      <td>34.6</td>\n",
              "    </tr>\n",
              "    <tr>\n",
              "      <th rowspan=\"2\" valign=\"top\">2014</th>\n",
              "      <th>1</th>\n",
              "      <td>29.0</td>\n",
              "      <td>35.2</td>\n",
              "      <td>50.0</td>\n",
              "      <td>37.9</td>\n",
              "      <td>34.0</td>\n",
              "      <td>34.5</td>\n",
              "    </tr>\n",
              "    <tr>\n",
              "      <th>2</th>\n",
              "      <td>40.0</td>\n",
              "      <td>36.1</td>\n",
              "      <td>42.0</td>\n",
              "      <td>35.2</td>\n",
              "      <td>34.0</td>\n",
              "      <td>36.9</td>\n",
              "    </tr>\n",
              "  </tbody>\n",
              "</table>\n",
              "</div>\n",
              "      <button class=\"colab-df-convert\" onclick=\"convertToInteractive('df-3edf59c6-d0b8-4378-9386-67e0df353d10')\"\n",
              "              title=\"Convert this dataframe to an interactive table.\"\n",
              "              style=\"display:none;\">\n",
              "        \n",
              "  <svg xmlns=\"http://www.w3.org/2000/svg\" height=\"24px\"viewBox=\"0 0 24 24\"\n",
              "       width=\"24px\">\n",
              "    <path d=\"M0 0h24v24H0V0z\" fill=\"none\"/>\n",
              "    <path d=\"M18.56 5.44l.94 2.06.94-2.06 2.06-.94-2.06-.94-.94-2.06-.94 2.06-2.06.94zm-11 1L8.5 8.5l.94-2.06 2.06-.94-2.06-.94L8.5 2.5l-.94 2.06-2.06.94zm10 10l.94 2.06.94-2.06 2.06-.94-2.06-.94-.94-2.06-.94 2.06-2.06.94z\"/><path d=\"M17.41 7.96l-1.37-1.37c-.4-.4-.92-.59-1.43-.59-.52 0-1.04.2-1.43.59L10.3 9.45l-7.72 7.72c-.78.78-.78 2.05 0 2.83L4 21.41c.39.39.9.59 1.41.59.51 0 1.02-.2 1.41-.59l7.78-7.78 2.81-2.81c.8-.78.8-2.07 0-2.86zM5.41 20L4 18.59l7.72-7.72 1.47 1.35L5.41 20z\"/>\n",
              "  </svg>\n",
              "      </button>\n",
              "      \n",
              "  <style>\n",
              "    .colab-df-container {\n",
              "      display:flex;\n",
              "      flex-wrap:wrap;\n",
              "      gap: 12px;\n",
              "    }\n",
              "\n",
              "    .colab-df-convert {\n",
              "      background-color: #E8F0FE;\n",
              "      border: none;\n",
              "      border-radius: 50%;\n",
              "      cursor: pointer;\n",
              "      display: none;\n",
              "      fill: #1967D2;\n",
              "      height: 32px;\n",
              "      padding: 0 0 0 0;\n",
              "      width: 32px;\n",
              "    }\n",
              "\n",
              "    .colab-df-convert:hover {\n",
              "      background-color: #E2EBFA;\n",
              "      box-shadow: 0px 1px 2px rgba(60, 64, 67, 0.3), 0px 1px 3px 1px rgba(60, 64, 67, 0.15);\n",
              "      fill: #174EA6;\n",
              "    }\n",
              "\n",
              "    [theme=dark] .colab-df-convert {\n",
              "      background-color: #3B4455;\n",
              "      fill: #D2E3FC;\n",
              "    }\n",
              "\n",
              "    [theme=dark] .colab-df-convert:hover {\n",
              "      background-color: #434B5C;\n",
              "      box-shadow: 0px 1px 3px 1px rgba(0, 0, 0, 0.15);\n",
              "      filter: drop-shadow(0px 1px 2px rgba(0, 0, 0, 0.3));\n",
              "      fill: #FFFFFF;\n",
              "    }\n",
              "  </style>\n",
              "\n",
              "      <script>\n",
              "        const buttonEl =\n",
              "          document.querySelector('#df-3edf59c6-d0b8-4378-9386-67e0df353d10 button.colab-df-convert');\n",
              "        buttonEl.style.display =\n",
              "          google.colab.kernel.accessAllowed ? 'block' : 'none';\n",
              "\n",
              "        async function convertToInteractive(key) {\n",
              "          const element = document.querySelector('#df-3edf59c6-d0b8-4378-9386-67e0df353d10');\n",
              "          const dataTable =\n",
              "            await google.colab.kernel.invokeFunction('convertToInteractive',\n",
              "                                                     [key], {});\n",
              "          if (!dataTable) return;\n",
              "\n",
              "          const docLinkHtml = 'Like what you see? Visit the ' +\n",
              "            '<a target=\"_blank\" href=https://colab.research.google.com/notebooks/data_table.ipynb>data table notebook</a>'\n",
              "            + ' to learn more about interactive tables.';\n",
              "          element.innerHTML = '';\n",
              "          dataTable['output_type'] = 'display_data';\n",
              "          await google.colab.output.renderOutput(dataTable, element);\n",
              "          const docLink = document.createElement('div');\n",
              "          docLink.innerHTML = docLinkHtml;\n",
              "          element.appendChild(docLink);\n",
              "        }\n",
              "      </script>\n",
              "    </div>\n",
              "  </div>\n",
              "  "
            ]
          },
          "metadata": {},
          "execution_count": 216
        }
      ]
    },
    {
      "cell_type": "markdown",
      "source": [
        "Aqui vemos onde a indexação múltipla para linhas e colunas pode ser muito útil. São dados fundamentalmente quadridimensionais, onde as dimensões são o assunto, o tipo de medição, o ano e o número da visita. Com isso, podemos, por exemplo, indexar a coluna de nível superior pelo nome da pessoa e obter um full DataFramecontendo apenas as informações dessa pessoa:"
      ],
      "metadata": {
        "id": "iFh2tYFK7NQh"
      }
    },
    {
      "cell_type": "code",
      "source": [
        "health_data['Guido']"
      ],
      "metadata": {
        "colab": {
          "base_uri": "https://localhost:8080/",
          "height": 206
        },
        "id": "y7YPhgbY7P2y",
        "outputId": "317498e0-b6e0-4edd-ce84-76948edbc36c"
      },
      "execution_count": 217,
      "outputs": [
        {
          "output_type": "execute_result",
          "data": {
            "text/plain": [
              "type          HR  Temp\n",
              "year visit            \n",
              "2013 1      38.0  38.2\n",
              "     2      26.0  37.5\n",
              "2014 1      50.0  37.9\n",
              "     2      42.0  35.2"
            ],
            "text/html": [
              "\n",
              "  <div id=\"df-d5cd5648-082a-4481-9e4c-da25d380534a\">\n",
              "    <div class=\"colab-df-container\">\n",
              "      <div>\n",
              "<style scoped>\n",
              "    .dataframe tbody tr th:only-of-type {\n",
              "        vertical-align: middle;\n",
              "    }\n",
              "\n",
              "    .dataframe tbody tr th {\n",
              "        vertical-align: top;\n",
              "    }\n",
              "\n",
              "    .dataframe thead th {\n",
              "        text-align: right;\n",
              "    }\n",
              "</style>\n",
              "<table border=\"1\" class=\"dataframe\">\n",
              "  <thead>\n",
              "    <tr style=\"text-align: right;\">\n",
              "      <th></th>\n",
              "      <th>type</th>\n",
              "      <th>HR</th>\n",
              "      <th>Temp</th>\n",
              "    </tr>\n",
              "    <tr>\n",
              "      <th>year</th>\n",
              "      <th>visit</th>\n",
              "      <th></th>\n",
              "      <th></th>\n",
              "    </tr>\n",
              "  </thead>\n",
              "  <tbody>\n",
              "    <tr>\n",
              "      <th rowspan=\"2\" valign=\"top\">2013</th>\n",
              "      <th>1</th>\n",
              "      <td>38.0</td>\n",
              "      <td>38.2</td>\n",
              "    </tr>\n",
              "    <tr>\n",
              "      <th>2</th>\n",
              "      <td>26.0</td>\n",
              "      <td>37.5</td>\n",
              "    </tr>\n",
              "    <tr>\n",
              "      <th rowspan=\"2\" valign=\"top\">2014</th>\n",
              "      <th>1</th>\n",
              "      <td>50.0</td>\n",
              "      <td>37.9</td>\n",
              "    </tr>\n",
              "    <tr>\n",
              "      <th>2</th>\n",
              "      <td>42.0</td>\n",
              "      <td>35.2</td>\n",
              "    </tr>\n",
              "  </tbody>\n",
              "</table>\n",
              "</div>\n",
              "      <button class=\"colab-df-convert\" onclick=\"convertToInteractive('df-d5cd5648-082a-4481-9e4c-da25d380534a')\"\n",
              "              title=\"Convert this dataframe to an interactive table.\"\n",
              "              style=\"display:none;\">\n",
              "        \n",
              "  <svg xmlns=\"http://www.w3.org/2000/svg\" height=\"24px\"viewBox=\"0 0 24 24\"\n",
              "       width=\"24px\">\n",
              "    <path d=\"M0 0h24v24H0V0z\" fill=\"none\"/>\n",
              "    <path d=\"M18.56 5.44l.94 2.06.94-2.06 2.06-.94-2.06-.94-.94-2.06-.94 2.06-2.06.94zm-11 1L8.5 8.5l.94-2.06 2.06-.94-2.06-.94L8.5 2.5l-.94 2.06-2.06.94zm10 10l.94 2.06.94-2.06 2.06-.94-2.06-.94-.94-2.06-.94 2.06-2.06.94z\"/><path d=\"M17.41 7.96l-1.37-1.37c-.4-.4-.92-.59-1.43-.59-.52 0-1.04.2-1.43.59L10.3 9.45l-7.72 7.72c-.78.78-.78 2.05 0 2.83L4 21.41c.39.39.9.59 1.41.59.51 0 1.02-.2 1.41-.59l7.78-7.78 2.81-2.81c.8-.78.8-2.07 0-2.86zM5.41 20L4 18.59l7.72-7.72 1.47 1.35L5.41 20z\"/>\n",
              "  </svg>\n",
              "      </button>\n",
              "      \n",
              "  <style>\n",
              "    .colab-df-container {\n",
              "      display:flex;\n",
              "      flex-wrap:wrap;\n",
              "      gap: 12px;\n",
              "    }\n",
              "\n",
              "    .colab-df-convert {\n",
              "      background-color: #E8F0FE;\n",
              "      border: none;\n",
              "      border-radius: 50%;\n",
              "      cursor: pointer;\n",
              "      display: none;\n",
              "      fill: #1967D2;\n",
              "      height: 32px;\n",
              "      padding: 0 0 0 0;\n",
              "      width: 32px;\n",
              "    }\n",
              "\n",
              "    .colab-df-convert:hover {\n",
              "      background-color: #E2EBFA;\n",
              "      box-shadow: 0px 1px 2px rgba(60, 64, 67, 0.3), 0px 1px 3px 1px rgba(60, 64, 67, 0.15);\n",
              "      fill: #174EA6;\n",
              "    }\n",
              "\n",
              "    [theme=dark] .colab-df-convert {\n",
              "      background-color: #3B4455;\n",
              "      fill: #D2E3FC;\n",
              "    }\n",
              "\n",
              "    [theme=dark] .colab-df-convert:hover {\n",
              "      background-color: #434B5C;\n",
              "      box-shadow: 0px 1px 3px 1px rgba(0, 0, 0, 0.15);\n",
              "      filter: drop-shadow(0px 1px 2px rgba(0, 0, 0, 0.3));\n",
              "      fill: #FFFFFF;\n",
              "    }\n",
              "  </style>\n",
              "\n",
              "      <script>\n",
              "        const buttonEl =\n",
              "          document.querySelector('#df-d5cd5648-082a-4481-9e4c-da25d380534a button.colab-df-convert');\n",
              "        buttonEl.style.display =\n",
              "          google.colab.kernel.accessAllowed ? 'block' : 'none';\n",
              "\n",
              "        async function convertToInteractive(key) {\n",
              "          const element = document.querySelector('#df-d5cd5648-082a-4481-9e4c-da25d380534a');\n",
              "          const dataTable =\n",
              "            await google.colab.kernel.invokeFunction('convertToInteractive',\n",
              "                                                     [key], {});\n",
              "          if (!dataTable) return;\n",
              "\n",
              "          const docLinkHtml = 'Like what you see? Visit the ' +\n",
              "            '<a target=\"_blank\" href=https://colab.research.google.com/notebooks/data_table.ipynb>data table notebook</a>'\n",
              "            + ' to learn more about interactive tables.';\n",
              "          element.innerHTML = '';\n",
              "          dataTable['output_type'] = 'display_data';\n",
              "          await google.colab.output.renderOutput(dataTable, element);\n",
              "          const docLink = document.createElement('div');\n",
              "          docLink.innerHTML = docLinkHtml;\n",
              "          element.appendChild(docLink);\n",
              "        }\n",
              "      </script>\n",
              "    </div>\n",
              "  </div>\n",
              "  "
            ]
          },
          "metadata": {},
          "execution_count": 217
        }
      ]
    },
    {
      "cell_type": "markdown",
      "source": [
        "O MultiIndextambém oferece suporte à indexação parcial ou à indexação de apenas um dos níveis no índice. O resultado é outro Series, com os índices de nível inferior mantidos:"
      ],
      "metadata": {
        "id": "kbMAmx2a8aFp"
      }
    },
    {
      "cell_type": "code",
      "source": [
        "pop"
      ],
      "metadata": {
        "colab": {
          "base_uri": "https://localhost:8080/"
        },
        "id": "m_btck188dlM",
        "outputId": "af499618-053d-436a-c7a3-f2fc21b44a15"
      },
      "execution_count": 218,
      "outputs": [
        {
          "output_type": "execute_result",
          "data": {
            "text/plain": [
              "state       year\n",
              "California  2000    33871648\n",
              "            2010    37253956\n",
              "New York    2000    18976457\n",
              "            2010    19378102\n",
              "Texas       2000    20851820\n",
              "            2010    25145561\n",
              "dtype: int64"
            ]
          },
          "metadata": {},
          "execution_count": 218
        }
      ]
    },
    {
      "cell_type": "code",
      "source": [
        "pop['California']"
      ],
      "metadata": {
        "colab": {
          "base_uri": "https://localhost:8080/"
        },
        "id": "7QygAxcL8pVl",
        "outputId": "7ca8b701-92fb-47bd-f63e-5200849cbfd2"
      },
      "execution_count": 219,
      "outputs": [
        {
          "output_type": "execute_result",
          "data": {
            "text/plain": [
              "year\n",
              "2000    33871648\n",
              "2010    37253956\n",
              "dtype: int64"
            ]
          },
          "metadata": {},
          "execution_count": 219
        }
      ]
    },
    {
      "cell_type": "code",
      "source": [
        "pop.loc['California':'New York']"
      ],
      "metadata": {
        "colab": {
          "base_uri": "https://localhost:8080/"
        },
        "id": "DGVnVb9M872-",
        "outputId": "295449a7-60b3-4526-d476-19e17fc60a8e"
      },
      "execution_count": 220,
      "outputs": [
        {
          "output_type": "execute_result",
          "data": {
            "text/plain": [
              "state       year\n",
              "California  2000    33871648\n",
              "            2010    37253956\n",
              "New York    2000    18976457\n",
              "            2010    19378102\n",
              "dtype: int64"
            ]
          },
          "metadata": {},
          "execution_count": 220
        }
      ]
    },
    {
      "cell_type": "markdown",
      "source": [
        "Com índices classificados, a indexação parcial pode ser realizada em níveis inferiores passando uma fatia vazia no primeiro índice:"
      ],
      "metadata": {
        "id": "v9UhgRxJ85cR"
      }
    },
    {
      "cell_type": "code",
      "source": [
        "pop[:,  2000 ]"
      ],
      "metadata": {
        "colab": {
          "base_uri": "https://localhost:8080/"
        },
        "id": "KFyH25sR9BiD",
        "outputId": "5247459d-b2a8-46dc-f84f-bd95f93bfacd"
      },
      "execution_count": 221,
      "outputs": [
        {
          "output_type": "execute_result",
          "data": {
            "text/plain": [
              "state\n",
              "California    33871648\n",
              "New York      18976457\n",
              "Texas         20851820\n",
              "dtype: int64"
            ]
          },
          "metadata": {},
          "execution_count": 221
        }
      ]
    },
    {
      "cell_type": "markdown",
      "source": [
        "É possível converter um conjunto de dados de um multi-índice empilhado em uma representação bidimensional simples, especificando opcionalmente o nível a ser usado"
      ],
      "metadata": {
        "id": "yVVqEyql_YJi"
      }
    },
    {
      "cell_type": "code",
      "source": [
        "pop"
      ],
      "metadata": {
        "colab": {
          "base_uri": "https://localhost:8080/"
        },
        "id": "8myKKVxr_llY",
        "outputId": "449eed14-cfa3-4aa2-f88c-d5a276ff2ecc"
      },
      "execution_count": 222,
      "outputs": [
        {
          "output_type": "execute_result",
          "data": {
            "text/plain": [
              "state       year\n",
              "California  2000    33871648\n",
              "            2010    37253956\n",
              "New York    2000    18976457\n",
              "            2010    19378102\n",
              "Texas       2000    20851820\n",
              "            2010    25145561\n",
              "dtype: int64"
            ]
          },
          "metadata": {},
          "execution_count": 222
        }
      ]
    },
    {
      "cell_type": "code",
      "source": [
        "pop.unstack(level=0)"
      ],
      "metadata": {
        "colab": {
          "base_uri": "https://localhost:8080/",
          "height": 143
        },
        "id": "ocwj5xEK_V2y",
        "outputId": "424afa0f-8d6b-47f4-d83f-6101fae9d686"
      },
      "execution_count": 223,
      "outputs": [
        {
          "output_type": "execute_result",
          "data": {
            "text/plain": [
              "state  California  New York     Texas\n",
              "year                                 \n",
              "2000     33871648  18976457  20851820\n",
              "2010     37253956  19378102  25145561"
            ],
            "text/html": [
              "\n",
              "  <div id=\"df-930caada-c0c3-4eb9-bf6b-2676a73272ea\">\n",
              "    <div class=\"colab-df-container\">\n",
              "      <div>\n",
              "<style scoped>\n",
              "    .dataframe tbody tr th:only-of-type {\n",
              "        vertical-align: middle;\n",
              "    }\n",
              "\n",
              "    .dataframe tbody tr th {\n",
              "        vertical-align: top;\n",
              "    }\n",
              "\n",
              "    .dataframe thead th {\n",
              "        text-align: right;\n",
              "    }\n",
              "</style>\n",
              "<table border=\"1\" class=\"dataframe\">\n",
              "  <thead>\n",
              "    <tr style=\"text-align: right;\">\n",
              "      <th>state</th>\n",
              "      <th>California</th>\n",
              "      <th>New York</th>\n",
              "      <th>Texas</th>\n",
              "    </tr>\n",
              "    <tr>\n",
              "      <th>year</th>\n",
              "      <th></th>\n",
              "      <th></th>\n",
              "      <th></th>\n",
              "    </tr>\n",
              "  </thead>\n",
              "  <tbody>\n",
              "    <tr>\n",
              "      <th>2000</th>\n",
              "      <td>33871648</td>\n",
              "      <td>18976457</td>\n",
              "      <td>20851820</td>\n",
              "    </tr>\n",
              "    <tr>\n",
              "      <th>2010</th>\n",
              "      <td>37253956</td>\n",
              "      <td>19378102</td>\n",
              "      <td>25145561</td>\n",
              "    </tr>\n",
              "  </tbody>\n",
              "</table>\n",
              "</div>\n",
              "      <button class=\"colab-df-convert\" onclick=\"convertToInteractive('df-930caada-c0c3-4eb9-bf6b-2676a73272ea')\"\n",
              "              title=\"Convert this dataframe to an interactive table.\"\n",
              "              style=\"display:none;\">\n",
              "        \n",
              "  <svg xmlns=\"http://www.w3.org/2000/svg\" height=\"24px\"viewBox=\"0 0 24 24\"\n",
              "       width=\"24px\">\n",
              "    <path d=\"M0 0h24v24H0V0z\" fill=\"none\"/>\n",
              "    <path d=\"M18.56 5.44l.94 2.06.94-2.06 2.06-.94-2.06-.94-.94-2.06-.94 2.06-2.06.94zm-11 1L8.5 8.5l.94-2.06 2.06-.94-2.06-.94L8.5 2.5l-.94 2.06-2.06.94zm10 10l.94 2.06.94-2.06 2.06-.94-2.06-.94-.94-2.06-.94 2.06-2.06.94z\"/><path d=\"M17.41 7.96l-1.37-1.37c-.4-.4-.92-.59-1.43-.59-.52 0-1.04.2-1.43.59L10.3 9.45l-7.72 7.72c-.78.78-.78 2.05 0 2.83L4 21.41c.39.39.9.59 1.41.59.51 0 1.02-.2 1.41-.59l7.78-7.78 2.81-2.81c.8-.78.8-2.07 0-2.86zM5.41 20L4 18.59l7.72-7.72 1.47 1.35L5.41 20z\"/>\n",
              "  </svg>\n",
              "      </button>\n",
              "      \n",
              "  <style>\n",
              "    .colab-df-container {\n",
              "      display:flex;\n",
              "      flex-wrap:wrap;\n",
              "      gap: 12px;\n",
              "    }\n",
              "\n",
              "    .colab-df-convert {\n",
              "      background-color: #E8F0FE;\n",
              "      border: none;\n",
              "      border-radius: 50%;\n",
              "      cursor: pointer;\n",
              "      display: none;\n",
              "      fill: #1967D2;\n",
              "      height: 32px;\n",
              "      padding: 0 0 0 0;\n",
              "      width: 32px;\n",
              "    }\n",
              "\n",
              "    .colab-df-convert:hover {\n",
              "      background-color: #E2EBFA;\n",
              "      box-shadow: 0px 1px 2px rgba(60, 64, 67, 0.3), 0px 1px 3px 1px rgba(60, 64, 67, 0.15);\n",
              "      fill: #174EA6;\n",
              "    }\n",
              "\n",
              "    [theme=dark] .colab-df-convert {\n",
              "      background-color: #3B4455;\n",
              "      fill: #D2E3FC;\n",
              "    }\n",
              "\n",
              "    [theme=dark] .colab-df-convert:hover {\n",
              "      background-color: #434B5C;\n",
              "      box-shadow: 0px 1px 3px 1px rgba(0, 0, 0, 0.15);\n",
              "      filter: drop-shadow(0px 1px 2px rgba(0, 0, 0, 0.3));\n",
              "      fill: #FFFFFF;\n",
              "    }\n",
              "  </style>\n",
              "\n",
              "      <script>\n",
              "        const buttonEl =\n",
              "          document.querySelector('#df-930caada-c0c3-4eb9-bf6b-2676a73272ea button.colab-df-convert');\n",
              "        buttonEl.style.display =\n",
              "          google.colab.kernel.accessAllowed ? 'block' : 'none';\n",
              "\n",
              "        async function convertToInteractive(key) {\n",
              "          const element = document.querySelector('#df-930caada-c0c3-4eb9-bf6b-2676a73272ea');\n",
              "          const dataTable =\n",
              "            await google.colab.kernel.invokeFunction('convertToInteractive',\n",
              "                                                     [key], {});\n",
              "          if (!dataTable) return;\n",
              "\n",
              "          const docLinkHtml = 'Like what you see? Visit the ' +\n",
              "            '<a target=\"_blank\" href=https://colab.research.google.com/notebooks/data_table.ipynb>data table notebook</a>'\n",
              "            + ' to learn more about interactive tables.';\n",
              "          element.innerHTML = '';\n",
              "          dataTable['output_type'] = 'display_data';\n",
              "          await google.colab.output.renderOutput(dataTable, element);\n",
              "          const docLink = document.createElement('div');\n",
              "          docLink.innerHTML = docLinkHtml;\n",
              "          element.appendChild(docLink);\n",
              "        }\n",
              "      </script>\n",
              "    </div>\n",
              "  </div>\n",
              "  "
            ]
          },
          "metadata": {},
          "execution_count": 223
        }
      ]
    },
    {
      "cell_type": "code",
      "source": [
        "pop.unstack(level=1)"
      ],
      "metadata": {
        "colab": {
          "base_uri": "https://localhost:8080/",
          "height": 175
        },
        "id": "R2JDg4uS_dFX",
        "outputId": "e5c26b0b-b406-44ad-e9e7-2e905c62f9c9"
      },
      "execution_count": 224,
      "outputs": [
        {
          "output_type": "execute_result",
          "data": {
            "text/plain": [
              "year            2000      2010\n",
              "state                         \n",
              "California  33871648  37253956\n",
              "New York    18976457  19378102\n",
              "Texas       20851820  25145561"
            ],
            "text/html": [
              "\n",
              "  <div id=\"df-95165a61-b20b-446d-8eea-e8436480746e\">\n",
              "    <div class=\"colab-df-container\">\n",
              "      <div>\n",
              "<style scoped>\n",
              "    .dataframe tbody tr th:only-of-type {\n",
              "        vertical-align: middle;\n",
              "    }\n",
              "\n",
              "    .dataframe tbody tr th {\n",
              "        vertical-align: top;\n",
              "    }\n",
              "\n",
              "    .dataframe thead th {\n",
              "        text-align: right;\n",
              "    }\n",
              "</style>\n",
              "<table border=\"1\" class=\"dataframe\">\n",
              "  <thead>\n",
              "    <tr style=\"text-align: right;\">\n",
              "      <th>year</th>\n",
              "      <th>2000</th>\n",
              "      <th>2010</th>\n",
              "    </tr>\n",
              "    <tr>\n",
              "      <th>state</th>\n",
              "      <th></th>\n",
              "      <th></th>\n",
              "    </tr>\n",
              "  </thead>\n",
              "  <tbody>\n",
              "    <tr>\n",
              "      <th>California</th>\n",
              "      <td>33871648</td>\n",
              "      <td>37253956</td>\n",
              "    </tr>\n",
              "    <tr>\n",
              "      <th>New York</th>\n",
              "      <td>18976457</td>\n",
              "      <td>19378102</td>\n",
              "    </tr>\n",
              "    <tr>\n",
              "      <th>Texas</th>\n",
              "      <td>20851820</td>\n",
              "      <td>25145561</td>\n",
              "    </tr>\n",
              "  </tbody>\n",
              "</table>\n",
              "</div>\n",
              "      <button class=\"colab-df-convert\" onclick=\"convertToInteractive('df-95165a61-b20b-446d-8eea-e8436480746e')\"\n",
              "              title=\"Convert this dataframe to an interactive table.\"\n",
              "              style=\"display:none;\">\n",
              "        \n",
              "  <svg xmlns=\"http://www.w3.org/2000/svg\" height=\"24px\"viewBox=\"0 0 24 24\"\n",
              "       width=\"24px\">\n",
              "    <path d=\"M0 0h24v24H0V0z\" fill=\"none\"/>\n",
              "    <path d=\"M18.56 5.44l.94 2.06.94-2.06 2.06-.94-2.06-.94-.94-2.06-.94 2.06-2.06.94zm-11 1L8.5 8.5l.94-2.06 2.06-.94-2.06-.94L8.5 2.5l-.94 2.06-2.06.94zm10 10l.94 2.06.94-2.06 2.06-.94-2.06-.94-.94-2.06-.94 2.06-2.06.94z\"/><path d=\"M17.41 7.96l-1.37-1.37c-.4-.4-.92-.59-1.43-.59-.52 0-1.04.2-1.43.59L10.3 9.45l-7.72 7.72c-.78.78-.78 2.05 0 2.83L4 21.41c.39.39.9.59 1.41.59.51 0 1.02-.2 1.41-.59l7.78-7.78 2.81-2.81c.8-.78.8-2.07 0-2.86zM5.41 20L4 18.59l7.72-7.72 1.47 1.35L5.41 20z\"/>\n",
              "  </svg>\n",
              "      </button>\n",
              "      \n",
              "  <style>\n",
              "    .colab-df-container {\n",
              "      display:flex;\n",
              "      flex-wrap:wrap;\n",
              "      gap: 12px;\n",
              "    }\n",
              "\n",
              "    .colab-df-convert {\n",
              "      background-color: #E8F0FE;\n",
              "      border: none;\n",
              "      border-radius: 50%;\n",
              "      cursor: pointer;\n",
              "      display: none;\n",
              "      fill: #1967D2;\n",
              "      height: 32px;\n",
              "      padding: 0 0 0 0;\n",
              "      width: 32px;\n",
              "    }\n",
              "\n",
              "    .colab-df-convert:hover {\n",
              "      background-color: #E2EBFA;\n",
              "      box-shadow: 0px 1px 2px rgba(60, 64, 67, 0.3), 0px 1px 3px 1px rgba(60, 64, 67, 0.15);\n",
              "      fill: #174EA6;\n",
              "    }\n",
              "\n",
              "    [theme=dark] .colab-df-convert {\n",
              "      background-color: #3B4455;\n",
              "      fill: #D2E3FC;\n",
              "    }\n",
              "\n",
              "    [theme=dark] .colab-df-convert:hover {\n",
              "      background-color: #434B5C;\n",
              "      box-shadow: 0px 1px 3px 1px rgba(0, 0, 0, 0.15);\n",
              "      filter: drop-shadow(0px 1px 2px rgba(0, 0, 0, 0.3));\n",
              "      fill: #FFFFFF;\n",
              "    }\n",
              "  </style>\n",
              "\n",
              "      <script>\n",
              "        const buttonEl =\n",
              "          document.querySelector('#df-95165a61-b20b-446d-8eea-e8436480746e button.colab-df-convert');\n",
              "        buttonEl.style.display =\n",
              "          google.colab.kernel.accessAllowed ? 'block' : 'none';\n",
              "\n",
              "        async function convertToInteractive(key) {\n",
              "          const element = document.querySelector('#df-95165a61-b20b-446d-8eea-e8436480746e');\n",
              "          const dataTable =\n",
              "            await google.colab.kernel.invokeFunction('convertToInteractive',\n",
              "                                                     [key], {});\n",
              "          if (!dataTable) return;\n",
              "\n",
              "          const docLinkHtml = 'Like what you see? Visit the ' +\n",
              "            '<a target=\"_blank\" href=https://colab.research.google.com/notebooks/data_table.ipynb>data table notebook</a>'\n",
              "            + ' to learn more about interactive tables.';\n",
              "          element.innerHTML = '';\n",
              "          dataTable['output_type'] = 'display_data';\n",
              "          await google.colab.output.renderOutput(dataTable, element);\n",
              "          const docLink = document.createElement('div');\n",
              "          docLink.innerHTML = docLinkHtml;\n",
              "          element.appendChild(docLink);\n",
              "        }\n",
              "      </script>\n",
              "    </div>\n",
              "  </div>\n",
              "  "
            ]
          },
          "metadata": {},
          "execution_count": 224
        }
      ]
    },
    {
      "cell_type": "markdown",
      "source": [
        "# Combinando conjuntos de dados: concatenar e anexar\n",
        "Alguns dos estudos de dados mais interessantes vêm da combinação de diferentes fontes de dados. Essas operações podem envolver qualquer coisa, desde uma concatenação muito direta de dois conjuntos de dados diferentes até junções e mesclagens mais complicadas no estilo de banco de dados que lidam corretamente com quaisquer sobreposições entre os conjuntos de dados. Seriese DataFrames são construídos com esse tipo de operação em mente, e o Pandas inclui funções e métodos que tornam esse tipo de disputa de dados rápida e direta.\n",
        "Aqui veremos uma concatenação simples de Seriese DataFrames com a pd.concatfunção; mais tarde, vamos mergulhar em fusões e junções na memória mais sofisticadas implementadas no Pandas."
      ],
      "metadata": {
        "id": "JMhKM8NyAQUb"
      }
    },
    {
      "cell_type": "code",
      "source": [
        "def make_df(cols, ind):\n",
        "    \"\"\"Quickly make a DataFrame\"\"\"\n",
        "    data = {c: [str(c) + str(i) for i in ind]\n",
        "            for c in cols}\n",
        "    return pd.DataFrame(data, ind)\n",
        "\n",
        "# example DataFrame\n",
        "make_df('ABC', range(3))"
      ],
      "metadata": {
        "colab": {
          "base_uri": "https://localhost:8080/",
          "height": 143
        },
        "id": "azQcsgceCWc7",
        "outputId": "2cd31136-b897-4023-dbb4-5f3907bbb8ed"
      },
      "execution_count": 225,
      "outputs": [
        {
          "output_type": "execute_result",
          "data": {
            "text/plain": [
              "    A   B   C\n",
              "0  A0  B0  C0\n",
              "1  A1  B1  C1\n",
              "2  A2  B2  C2"
            ],
            "text/html": [
              "\n",
              "  <div id=\"df-2a494cf4-877f-4b81-a3af-9487918875e8\">\n",
              "    <div class=\"colab-df-container\">\n",
              "      <div>\n",
              "<style scoped>\n",
              "    .dataframe tbody tr th:only-of-type {\n",
              "        vertical-align: middle;\n",
              "    }\n",
              "\n",
              "    .dataframe tbody tr th {\n",
              "        vertical-align: top;\n",
              "    }\n",
              "\n",
              "    .dataframe thead th {\n",
              "        text-align: right;\n",
              "    }\n",
              "</style>\n",
              "<table border=\"1\" class=\"dataframe\">\n",
              "  <thead>\n",
              "    <tr style=\"text-align: right;\">\n",
              "      <th></th>\n",
              "      <th>A</th>\n",
              "      <th>B</th>\n",
              "      <th>C</th>\n",
              "    </tr>\n",
              "  </thead>\n",
              "  <tbody>\n",
              "    <tr>\n",
              "      <th>0</th>\n",
              "      <td>A0</td>\n",
              "      <td>B0</td>\n",
              "      <td>C0</td>\n",
              "    </tr>\n",
              "    <tr>\n",
              "      <th>1</th>\n",
              "      <td>A1</td>\n",
              "      <td>B1</td>\n",
              "      <td>C1</td>\n",
              "    </tr>\n",
              "    <tr>\n",
              "      <th>2</th>\n",
              "      <td>A2</td>\n",
              "      <td>B2</td>\n",
              "      <td>C2</td>\n",
              "    </tr>\n",
              "  </tbody>\n",
              "</table>\n",
              "</div>\n",
              "      <button class=\"colab-df-convert\" onclick=\"convertToInteractive('df-2a494cf4-877f-4b81-a3af-9487918875e8')\"\n",
              "              title=\"Convert this dataframe to an interactive table.\"\n",
              "              style=\"display:none;\">\n",
              "        \n",
              "  <svg xmlns=\"http://www.w3.org/2000/svg\" height=\"24px\"viewBox=\"0 0 24 24\"\n",
              "       width=\"24px\">\n",
              "    <path d=\"M0 0h24v24H0V0z\" fill=\"none\"/>\n",
              "    <path d=\"M18.56 5.44l.94 2.06.94-2.06 2.06-.94-2.06-.94-.94-2.06-.94 2.06-2.06.94zm-11 1L8.5 8.5l.94-2.06 2.06-.94-2.06-.94L8.5 2.5l-.94 2.06-2.06.94zm10 10l.94 2.06.94-2.06 2.06-.94-2.06-.94-.94-2.06-.94 2.06-2.06.94z\"/><path d=\"M17.41 7.96l-1.37-1.37c-.4-.4-.92-.59-1.43-.59-.52 0-1.04.2-1.43.59L10.3 9.45l-7.72 7.72c-.78.78-.78 2.05 0 2.83L4 21.41c.39.39.9.59 1.41.59.51 0 1.02-.2 1.41-.59l7.78-7.78 2.81-2.81c.8-.78.8-2.07 0-2.86zM5.41 20L4 18.59l7.72-7.72 1.47 1.35L5.41 20z\"/>\n",
              "  </svg>\n",
              "      </button>\n",
              "      \n",
              "  <style>\n",
              "    .colab-df-container {\n",
              "      display:flex;\n",
              "      flex-wrap:wrap;\n",
              "      gap: 12px;\n",
              "    }\n",
              "\n",
              "    .colab-df-convert {\n",
              "      background-color: #E8F0FE;\n",
              "      border: none;\n",
              "      border-radius: 50%;\n",
              "      cursor: pointer;\n",
              "      display: none;\n",
              "      fill: #1967D2;\n",
              "      height: 32px;\n",
              "      padding: 0 0 0 0;\n",
              "      width: 32px;\n",
              "    }\n",
              "\n",
              "    .colab-df-convert:hover {\n",
              "      background-color: #E2EBFA;\n",
              "      box-shadow: 0px 1px 2px rgba(60, 64, 67, 0.3), 0px 1px 3px 1px rgba(60, 64, 67, 0.15);\n",
              "      fill: #174EA6;\n",
              "    }\n",
              "\n",
              "    [theme=dark] .colab-df-convert {\n",
              "      background-color: #3B4455;\n",
              "      fill: #D2E3FC;\n",
              "    }\n",
              "\n",
              "    [theme=dark] .colab-df-convert:hover {\n",
              "      background-color: #434B5C;\n",
              "      box-shadow: 0px 1px 3px 1px rgba(0, 0, 0, 0.15);\n",
              "      filter: drop-shadow(0px 1px 2px rgba(0, 0, 0, 0.3));\n",
              "      fill: #FFFFFF;\n",
              "    }\n",
              "  </style>\n",
              "\n",
              "      <script>\n",
              "        const buttonEl =\n",
              "          document.querySelector('#df-2a494cf4-877f-4b81-a3af-9487918875e8 button.colab-df-convert');\n",
              "        buttonEl.style.display =\n",
              "          google.colab.kernel.accessAllowed ? 'block' : 'none';\n",
              "\n",
              "        async function convertToInteractive(key) {\n",
              "          const element = document.querySelector('#df-2a494cf4-877f-4b81-a3af-9487918875e8');\n",
              "          const dataTable =\n",
              "            await google.colab.kernel.invokeFunction('convertToInteractive',\n",
              "                                                     [key], {});\n",
              "          if (!dataTable) return;\n",
              "\n",
              "          const docLinkHtml = 'Like what you see? Visit the ' +\n",
              "            '<a target=\"_blank\" href=https://colab.research.google.com/notebooks/data_table.ipynb>data table notebook</a>'\n",
              "            + ' to learn more about interactive tables.';\n",
              "          element.innerHTML = '';\n",
              "          dataTable['output_type'] = 'display_data';\n",
              "          await google.colab.output.renderOutput(dataTable, element);\n",
              "          const docLink = document.createElement('div');\n",
              "          docLink.innerHTML = docLinkHtml;\n",
              "          element.appendChild(docLink);\n",
              "        }\n",
              "      </script>\n",
              "    </div>\n",
              "  </div>\n",
              "  "
            ]
          },
          "metadata": {},
          "execution_count": 225
        }
      ]
    },
    {
      "cell_type": "markdown",
      "source": [
        "O Pandas tem uma função, pd.concat(), que possui uma sintaxe semelhante, `np.concatenate`."
      ],
      "metadata": {
        "id": "yVkHeh0gDAQ0"
      }
    },
    {
      "cell_type": "code",
      "source": [
        "ser1 = pd.Series(['A', 'B', 'C'], index=[1, 2, 3])\n",
        "ser2 = pd.Series(['D', 'E', 'F'], index=[4, 5, 6])\n",
        "pd.concat([ser1, ser2])"
      ],
      "metadata": {
        "colab": {
          "base_uri": "https://localhost:8080/"
        },
        "id": "b2MGqIwODXZL",
        "outputId": "602f0d87-8131-4fd7-df18-4bb447140220"
      },
      "execution_count": 226,
      "outputs": [
        {
          "output_type": "execute_result",
          "data": {
            "text/plain": [
              "1    A\n",
              "2    B\n",
              "3    C\n",
              "4    D\n",
              "5    E\n",
              "6    F\n",
              "dtype: object"
            ]
          },
          "metadata": {},
          "execution_count": 226
        }
      ]
    },
    {
      "cell_type": "code",
      "source": [
        "#classe para imprimir dataframes lado a lado\n",
        "class display(object):\n",
        "    \"\"\"Display HTML representation of multiple objects\"\"\"\n",
        "    template = \"\"\"<div style=\"float: left; padding: 10px;\">\n",
        "    <p style='font-family:\"Courier New\", Courier, monospace'>{0}</p>{1}\n",
        "    </div>\"\"\"\n",
        "    def __init__(self, *args):\n",
        "        self.args = args\n",
        "        \n",
        "    def _repr_html_(self):\n",
        "        return '\\n'.join(self.template.format(a, eval(a)._repr_html_())\n",
        "                         for a in self.args)\n",
        "    \n",
        "    def __repr__(self):\n",
        "        return '\\n\\n'.join(a + '\\n' + repr(eval(a))\n",
        "                           for a in self.args)\n",
        "    "
      ],
      "metadata": {
        "id": "1Kt3GHULDigX"
      },
      "execution_count": 227,
      "outputs": []
    },
    {
      "cell_type": "code",
      "source": [
        "df1 = make_df('AB', [1, 2])\n",
        "df2 = make_df('AB', [3, 4])\n",
        "display('df1', 'df2', 'pd.concat([df1, df2])')"
      ],
      "metadata": {
        "colab": {
          "base_uri": "https://localhost:8080/",
          "height": 224
        },
        "id": "r4IC_vUzDotQ",
        "outputId": "6e9bd045-127f-4104-93e4-875673d4a8e1"
      },
      "execution_count": 228,
      "outputs": [
        {
          "output_type": "execute_result",
          "data": {
            "text/plain": [
              "df1\n",
              "    A   B\n",
              "1  A1  B1\n",
              "2  A2  B2\n",
              "\n",
              "df2\n",
              "    A   B\n",
              "3  A3  B3\n",
              "4  A4  B4\n",
              "\n",
              "pd.concat([df1, df2])\n",
              "    A   B\n",
              "1  A1  B1\n",
              "2  A2  B2\n",
              "3  A3  B3\n",
              "4  A4  B4"
            ],
            "text/html": [
              "<div style=\"float: left; padding: 10px;\">\n",
              "    <p style='font-family:\"Courier New\", Courier, monospace'>df1</p><div>\n",
              "<style scoped>\n",
              "    .dataframe tbody tr th:only-of-type {\n",
              "        vertical-align: middle;\n",
              "    }\n",
              "\n",
              "    .dataframe tbody tr th {\n",
              "        vertical-align: top;\n",
              "    }\n",
              "\n",
              "    .dataframe thead th {\n",
              "        text-align: right;\n",
              "    }\n",
              "</style>\n",
              "<table border=\"1\" class=\"dataframe\">\n",
              "  <thead>\n",
              "    <tr style=\"text-align: right;\">\n",
              "      <th></th>\n",
              "      <th>A</th>\n",
              "      <th>B</th>\n",
              "    </tr>\n",
              "  </thead>\n",
              "  <tbody>\n",
              "    <tr>\n",
              "      <th>1</th>\n",
              "      <td>A1</td>\n",
              "      <td>B1</td>\n",
              "    </tr>\n",
              "    <tr>\n",
              "      <th>2</th>\n",
              "      <td>A2</td>\n",
              "      <td>B2</td>\n",
              "    </tr>\n",
              "  </tbody>\n",
              "</table>\n",
              "</div>\n",
              "    </div>\n",
              "<div style=\"float: left; padding: 10px;\">\n",
              "    <p style='font-family:\"Courier New\", Courier, monospace'>df2</p><div>\n",
              "<style scoped>\n",
              "    .dataframe tbody tr th:only-of-type {\n",
              "        vertical-align: middle;\n",
              "    }\n",
              "\n",
              "    .dataframe tbody tr th {\n",
              "        vertical-align: top;\n",
              "    }\n",
              "\n",
              "    .dataframe thead th {\n",
              "        text-align: right;\n",
              "    }\n",
              "</style>\n",
              "<table border=\"1\" class=\"dataframe\">\n",
              "  <thead>\n",
              "    <tr style=\"text-align: right;\">\n",
              "      <th></th>\n",
              "      <th>A</th>\n",
              "      <th>B</th>\n",
              "    </tr>\n",
              "  </thead>\n",
              "  <tbody>\n",
              "    <tr>\n",
              "      <th>3</th>\n",
              "      <td>A3</td>\n",
              "      <td>B3</td>\n",
              "    </tr>\n",
              "    <tr>\n",
              "      <th>4</th>\n",
              "      <td>A4</td>\n",
              "      <td>B4</td>\n",
              "    </tr>\n",
              "  </tbody>\n",
              "</table>\n",
              "</div>\n",
              "    </div>\n",
              "<div style=\"float: left; padding: 10px;\">\n",
              "    <p style='font-family:\"Courier New\", Courier, monospace'>pd.concat([df1, df2])</p><div>\n",
              "<style scoped>\n",
              "    .dataframe tbody tr th:only-of-type {\n",
              "        vertical-align: middle;\n",
              "    }\n",
              "\n",
              "    .dataframe tbody tr th {\n",
              "        vertical-align: top;\n",
              "    }\n",
              "\n",
              "    .dataframe thead th {\n",
              "        text-align: right;\n",
              "    }\n",
              "</style>\n",
              "<table border=\"1\" class=\"dataframe\">\n",
              "  <thead>\n",
              "    <tr style=\"text-align: right;\">\n",
              "      <th></th>\n",
              "      <th>A</th>\n",
              "      <th>B</th>\n",
              "    </tr>\n",
              "  </thead>\n",
              "  <tbody>\n",
              "    <tr>\n",
              "      <th>1</th>\n",
              "      <td>A1</td>\n",
              "      <td>B1</td>\n",
              "    </tr>\n",
              "    <tr>\n",
              "      <th>2</th>\n",
              "      <td>A2</td>\n",
              "      <td>B2</td>\n",
              "    </tr>\n",
              "    <tr>\n",
              "      <th>3</th>\n",
              "      <td>A3</td>\n",
              "      <td>B3</td>\n",
              "    </tr>\n",
              "    <tr>\n",
              "      <th>4</th>\n",
              "      <td>A4</td>\n",
              "      <td>B4</td>\n",
              "    </tr>\n",
              "  </tbody>\n",
              "</table>\n",
              "</div>\n",
              "    </div>"
            ]
          },
          "metadata": {},
          "execution_count": 228
        }
      ]
    },
    {
      "cell_type": "markdown",
      "source": [
        "Por padrão, a concatenação ocorre por linha dentro do `DataFrame`(ou seja, `axis=0`). Como np.concatenate, `pd.concat` permite a especificação de um eixo ao longo do qual a concatenação ocorrerá. Considere o seguinte exemplo:"
      ],
      "metadata": {
        "id": "T571WDitD4k4"
      }
    },
    {
      "cell_type": "code",
      "source": [
        "df3 = make_df('AB', [0, 1])\n",
        "df4 = make_df('CD', [0, 1])\n",
        "display('df3', 'df4', \"pd.concat([df3, df4], axis=1)\")"
      ],
      "metadata": {
        "colab": {
          "base_uri": "https://localhost:8080/",
          "height": 161
        },
        "id": "eNfHt_7TEGgb",
        "outputId": "78be1dc6-0042-435f-f300-6dbff08e354c"
      },
      "execution_count": 229,
      "outputs": [
        {
          "output_type": "execute_result",
          "data": {
            "text/plain": [
              "df3\n",
              "    A   B\n",
              "0  A0  B0\n",
              "1  A1  B1\n",
              "\n",
              "df4\n",
              "    C   D\n",
              "0  C0  D0\n",
              "1  C1  D1\n",
              "\n",
              "pd.concat([df3, df4], axis=1)\n",
              "    A   B   C   D\n",
              "0  A0  B0  C0  D0\n",
              "1  A1  B1  C1  D1"
            ],
            "text/html": [
              "<div style=\"float: left; padding: 10px;\">\n",
              "    <p style='font-family:\"Courier New\", Courier, monospace'>df3</p><div>\n",
              "<style scoped>\n",
              "    .dataframe tbody tr th:only-of-type {\n",
              "        vertical-align: middle;\n",
              "    }\n",
              "\n",
              "    .dataframe tbody tr th {\n",
              "        vertical-align: top;\n",
              "    }\n",
              "\n",
              "    .dataframe thead th {\n",
              "        text-align: right;\n",
              "    }\n",
              "</style>\n",
              "<table border=\"1\" class=\"dataframe\">\n",
              "  <thead>\n",
              "    <tr style=\"text-align: right;\">\n",
              "      <th></th>\n",
              "      <th>A</th>\n",
              "      <th>B</th>\n",
              "    </tr>\n",
              "  </thead>\n",
              "  <tbody>\n",
              "    <tr>\n",
              "      <th>0</th>\n",
              "      <td>A0</td>\n",
              "      <td>B0</td>\n",
              "    </tr>\n",
              "    <tr>\n",
              "      <th>1</th>\n",
              "      <td>A1</td>\n",
              "      <td>B1</td>\n",
              "    </tr>\n",
              "  </tbody>\n",
              "</table>\n",
              "</div>\n",
              "    </div>\n",
              "<div style=\"float: left; padding: 10px;\">\n",
              "    <p style='font-family:\"Courier New\", Courier, monospace'>df4</p><div>\n",
              "<style scoped>\n",
              "    .dataframe tbody tr th:only-of-type {\n",
              "        vertical-align: middle;\n",
              "    }\n",
              "\n",
              "    .dataframe tbody tr th {\n",
              "        vertical-align: top;\n",
              "    }\n",
              "\n",
              "    .dataframe thead th {\n",
              "        text-align: right;\n",
              "    }\n",
              "</style>\n",
              "<table border=\"1\" class=\"dataframe\">\n",
              "  <thead>\n",
              "    <tr style=\"text-align: right;\">\n",
              "      <th></th>\n",
              "      <th>C</th>\n",
              "      <th>D</th>\n",
              "    </tr>\n",
              "  </thead>\n",
              "  <tbody>\n",
              "    <tr>\n",
              "      <th>0</th>\n",
              "      <td>C0</td>\n",
              "      <td>D0</td>\n",
              "    </tr>\n",
              "    <tr>\n",
              "      <th>1</th>\n",
              "      <td>C1</td>\n",
              "      <td>D1</td>\n",
              "    </tr>\n",
              "  </tbody>\n",
              "</table>\n",
              "</div>\n",
              "    </div>\n",
              "<div style=\"float: left; padding: 10px;\">\n",
              "    <p style='font-family:\"Courier New\", Courier, monospace'>pd.concat([df3, df4], axis=1)</p><div>\n",
              "<style scoped>\n",
              "    .dataframe tbody tr th:only-of-type {\n",
              "        vertical-align: middle;\n",
              "    }\n",
              "\n",
              "    .dataframe tbody tr th {\n",
              "        vertical-align: top;\n",
              "    }\n",
              "\n",
              "    .dataframe thead th {\n",
              "        text-align: right;\n",
              "    }\n",
              "</style>\n",
              "<table border=\"1\" class=\"dataframe\">\n",
              "  <thead>\n",
              "    <tr style=\"text-align: right;\">\n",
              "      <th></th>\n",
              "      <th>A</th>\n",
              "      <th>B</th>\n",
              "      <th>C</th>\n",
              "      <th>D</th>\n",
              "    </tr>\n",
              "  </thead>\n",
              "  <tbody>\n",
              "    <tr>\n",
              "      <th>0</th>\n",
              "      <td>A0</td>\n",
              "      <td>B0</td>\n",
              "      <td>C0</td>\n",
              "      <td>D0</td>\n",
              "    </tr>\n",
              "    <tr>\n",
              "      <th>1</th>\n",
              "      <td>A1</td>\n",
              "      <td>B1</td>\n",
              "      <td>C1</td>\n",
              "      <td>D1</td>\n",
              "    </tr>\n",
              "  </tbody>\n",
              "</table>\n",
              "</div>\n",
              "    </div>"
            ]
          },
          "metadata": {},
          "execution_count": 229
        }
      ]
    },
    {
      "cell_type": "markdown",
      "source": [
        "Uma diferença importante entre np.concatenatee pd.concaté que a concatenação do Pandas preserva os índices , mesmo que o resultado tenha índices duplicados! Considere este exemplo simples:"
      ],
      "metadata": {
        "id": "UtiRfP_zEjjw"
      }
    },
    {
      "cell_type": "code",
      "source": [
        "x = make_df('AB', [0, 1])\n",
        "y = make_df('AB', [2, 3])\n",
        "y.index = x.index  # make duplicate indices!\n",
        "display('x', 'y', 'pd.concat([x, y])')"
      ],
      "metadata": {
        "colab": {
          "base_uri": "https://localhost:8080/",
          "height": 224
        },
        "id": "_Kvo5EYjEiii",
        "outputId": "96790d54-3978-415b-cff1-b259ee73dddc"
      },
      "execution_count": 230,
      "outputs": [
        {
          "output_type": "execute_result",
          "data": {
            "text/plain": [
              "x\n",
              "    A   B\n",
              "0  A0  B0\n",
              "1  A1  B1\n",
              "\n",
              "y\n",
              "    A   B\n",
              "0  A2  B2\n",
              "1  A3  B3\n",
              "\n",
              "pd.concat([x, y])\n",
              "    A   B\n",
              "0  A0  B0\n",
              "1  A1  B1\n",
              "0  A2  B2\n",
              "1  A3  B3"
            ],
            "text/html": [
              "<div style=\"float: left; padding: 10px;\">\n",
              "    <p style='font-family:\"Courier New\", Courier, monospace'>x</p><div>\n",
              "<style scoped>\n",
              "    .dataframe tbody tr th:only-of-type {\n",
              "        vertical-align: middle;\n",
              "    }\n",
              "\n",
              "    .dataframe tbody tr th {\n",
              "        vertical-align: top;\n",
              "    }\n",
              "\n",
              "    .dataframe thead th {\n",
              "        text-align: right;\n",
              "    }\n",
              "</style>\n",
              "<table border=\"1\" class=\"dataframe\">\n",
              "  <thead>\n",
              "    <tr style=\"text-align: right;\">\n",
              "      <th></th>\n",
              "      <th>A</th>\n",
              "      <th>B</th>\n",
              "    </tr>\n",
              "  </thead>\n",
              "  <tbody>\n",
              "    <tr>\n",
              "      <th>0</th>\n",
              "      <td>A0</td>\n",
              "      <td>B0</td>\n",
              "    </tr>\n",
              "    <tr>\n",
              "      <th>1</th>\n",
              "      <td>A1</td>\n",
              "      <td>B1</td>\n",
              "    </tr>\n",
              "  </tbody>\n",
              "</table>\n",
              "</div>\n",
              "    </div>\n",
              "<div style=\"float: left; padding: 10px;\">\n",
              "    <p style='font-family:\"Courier New\", Courier, monospace'>y</p><div>\n",
              "<style scoped>\n",
              "    .dataframe tbody tr th:only-of-type {\n",
              "        vertical-align: middle;\n",
              "    }\n",
              "\n",
              "    .dataframe tbody tr th {\n",
              "        vertical-align: top;\n",
              "    }\n",
              "\n",
              "    .dataframe thead th {\n",
              "        text-align: right;\n",
              "    }\n",
              "</style>\n",
              "<table border=\"1\" class=\"dataframe\">\n",
              "  <thead>\n",
              "    <tr style=\"text-align: right;\">\n",
              "      <th></th>\n",
              "      <th>A</th>\n",
              "      <th>B</th>\n",
              "    </tr>\n",
              "  </thead>\n",
              "  <tbody>\n",
              "    <tr>\n",
              "      <th>0</th>\n",
              "      <td>A2</td>\n",
              "      <td>B2</td>\n",
              "    </tr>\n",
              "    <tr>\n",
              "      <th>1</th>\n",
              "      <td>A3</td>\n",
              "      <td>B3</td>\n",
              "    </tr>\n",
              "  </tbody>\n",
              "</table>\n",
              "</div>\n",
              "    </div>\n",
              "<div style=\"float: left; padding: 10px;\">\n",
              "    <p style='font-family:\"Courier New\", Courier, monospace'>pd.concat([x, y])</p><div>\n",
              "<style scoped>\n",
              "    .dataframe tbody tr th:only-of-type {\n",
              "        vertical-align: middle;\n",
              "    }\n",
              "\n",
              "    .dataframe tbody tr th {\n",
              "        vertical-align: top;\n",
              "    }\n",
              "\n",
              "    .dataframe thead th {\n",
              "        text-align: right;\n",
              "    }\n",
              "</style>\n",
              "<table border=\"1\" class=\"dataframe\">\n",
              "  <thead>\n",
              "    <tr style=\"text-align: right;\">\n",
              "      <th></th>\n",
              "      <th>A</th>\n",
              "      <th>B</th>\n",
              "    </tr>\n",
              "  </thead>\n",
              "  <tbody>\n",
              "    <tr>\n",
              "      <th>0</th>\n",
              "      <td>A0</td>\n",
              "      <td>B0</td>\n",
              "    </tr>\n",
              "    <tr>\n",
              "      <th>1</th>\n",
              "      <td>A1</td>\n",
              "      <td>B1</td>\n",
              "    </tr>\n",
              "    <tr>\n",
              "      <th>0</th>\n",
              "      <td>A2</td>\n",
              "      <td>B2</td>\n",
              "    </tr>\n",
              "    <tr>\n",
              "      <th>1</th>\n",
              "      <td>A3</td>\n",
              "      <td>B3</td>\n",
              "    </tr>\n",
              "  </tbody>\n",
              "</table>\n",
              "</div>\n",
              "    </div>"
            ]
          },
          "metadata": {},
          "execution_count": 230
        }
      ]
    },
    {
      "cell_type": "markdown",
      "source": [
        "Se você quiser simplesmente verificar se os índices no resultado de `pd.concat()`não se sobrepõem, especifique o `verify_integrity` sinalizador. Com isso definido como True, a concatenação gerará uma exceção se houver índices duplicados. Aqui está um exemplo, onde para maior clareza, vamos capturar e imprimir a mensagem de erro:"
      ],
      "metadata": {
        "id": "AgUYq3EKE3e8"
      }
    },
    {
      "cell_type": "code",
      "source": [
        "try:\n",
        "    pd.concat([x, y], verify_integrity=True)\n",
        "except ValueError as e:\n",
        "    print(\"ValueError:\", e)"
      ],
      "metadata": {
        "colab": {
          "base_uri": "https://localhost:8080/"
        },
        "id": "iXHXpPZTG61O",
        "outputId": "852c4e40-a486-46e5-f319-0bc9888b1826"
      },
      "execution_count": 231,
      "outputs": [
        {
          "output_type": "stream",
          "name": "stdout",
          "text": [
            "ValueError: Indexes have overlapping values: Int64Index([0, 1], dtype='int64')\n"
          ]
        }
      ]
    },
    {
      "cell_type": "markdown",
      "source": [
        "Às vezes, o próprio índice não importa e você prefere que ele seja simplesmente ignorado. Esta opção pode ser especificada usando o ignore_indexsinalizador. Com isso definido como verdadeiro, a concatenação criará um novo índice inteiro para o resultado Series"
      ],
      "metadata": {
        "id": "AyZj_4MnHF71"
      }
    },
    {
      "cell_type": "code",
      "source": [
        "display ( 'x' ,  'y' ,  'pd.concat([x, y], ignore_index=True)' )"
      ],
      "metadata": {
        "colab": {
          "base_uri": "https://localhost:8080/",
          "height": 224
        },
        "id": "EF7bjSchHG75",
        "outputId": "77751e66-81df-430f-a718-10ef16fc1466"
      },
      "execution_count": 232,
      "outputs": [
        {
          "output_type": "execute_result",
          "data": {
            "text/plain": [
              "x\n",
              "    A   B\n",
              "0  A0  B0\n",
              "1  A1  B1\n",
              "\n",
              "y\n",
              "    A   B\n",
              "0  A2  B2\n",
              "1  A3  B3\n",
              "\n",
              "pd.concat([x, y], ignore_index=True)\n",
              "    A   B\n",
              "0  A0  B0\n",
              "1  A1  B1\n",
              "2  A2  B2\n",
              "3  A3  B3"
            ],
            "text/html": [
              "<div style=\"float: left; padding: 10px;\">\n",
              "    <p style='font-family:\"Courier New\", Courier, monospace'>x</p><div>\n",
              "<style scoped>\n",
              "    .dataframe tbody tr th:only-of-type {\n",
              "        vertical-align: middle;\n",
              "    }\n",
              "\n",
              "    .dataframe tbody tr th {\n",
              "        vertical-align: top;\n",
              "    }\n",
              "\n",
              "    .dataframe thead th {\n",
              "        text-align: right;\n",
              "    }\n",
              "</style>\n",
              "<table border=\"1\" class=\"dataframe\">\n",
              "  <thead>\n",
              "    <tr style=\"text-align: right;\">\n",
              "      <th></th>\n",
              "      <th>A</th>\n",
              "      <th>B</th>\n",
              "    </tr>\n",
              "  </thead>\n",
              "  <tbody>\n",
              "    <tr>\n",
              "      <th>0</th>\n",
              "      <td>A0</td>\n",
              "      <td>B0</td>\n",
              "    </tr>\n",
              "    <tr>\n",
              "      <th>1</th>\n",
              "      <td>A1</td>\n",
              "      <td>B1</td>\n",
              "    </tr>\n",
              "  </tbody>\n",
              "</table>\n",
              "</div>\n",
              "    </div>\n",
              "<div style=\"float: left; padding: 10px;\">\n",
              "    <p style='font-family:\"Courier New\", Courier, monospace'>y</p><div>\n",
              "<style scoped>\n",
              "    .dataframe tbody tr th:only-of-type {\n",
              "        vertical-align: middle;\n",
              "    }\n",
              "\n",
              "    .dataframe tbody tr th {\n",
              "        vertical-align: top;\n",
              "    }\n",
              "\n",
              "    .dataframe thead th {\n",
              "        text-align: right;\n",
              "    }\n",
              "</style>\n",
              "<table border=\"1\" class=\"dataframe\">\n",
              "  <thead>\n",
              "    <tr style=\"text-align: right;\">\n",
              "      <th></th>\n",
              "      <th>A</th>\n",
              "      <th>B</th>\n",
              "    </tr>\n",
              "  </thead>\n",
              "  <tbody>\n",
              "    <tr>\n",
              "      <th>0</th>\n",
              "      <td>A2</td>\n",
              "      <td>B2</td>\n",
              "    </tr>\n",
              "    <tr>\n",
              "      <th>1</th>\n",
              "      <td>A3</td>\n",
              "      <td>B3</td>\n",
              "    </tr>\n",
              "  </tbody>\n",
              "</table>\n",
              "</div>\n",
              "    </div>\n",
              "<div style=\"float: left; padding: 10px;\">\n",
              "    <p style='font-family:\"Courier New\", Courier, monospace'>pd.concat([x, y], ignore_index=True)</p><div>\n",
              "<style scoped>\n",
              "    .dataframe tbody tr th:only-of-type {\n",
              "        vertical-align: middle;\n",
              "    }\n",
              "\n",
              "    .dataframe tbody tr th {\n",
              "        vertical-align: top;\n",
              "    }\n",
              "\n",
              "    .dataframe thead th {\n",
              "        text-align: right;\n",
              "    }\n",
              "</style>\n",
              "<table border=\"1\" class=\"dataframe\">\n",
              "  <thead>\n",
              "    <tr style=\"text-align: right;\">\n",
              "      <th></th>\n",
              "      <th>A</th>\n",
              "      <th>B</th>\n",
              "    </tr>\n",
              "  </thead>\n",
              "  <tbody>\n",
              "    <tr>\n",
              "      <th>0</th>\n",
              "      <td>A0</td>\n",
              "      <td>B0</td>\n",
              "    </tr>\n",
              "    <tr>\n",
              "      <th>1</th>\n",
              "      <td>A1</td>\n",
              "      <td>B1</td>\n",
              "    </tr>\n",
              "    <tr>\n",
              "      <th>2</th>\n",
              "      <td>A2</td>\n",
              "      <td>B2</td>\n",
              "    </tr>\n",
              "    <tr>\n",
              "      <th>3</th>\n",
              "      <td>A3</td>\n",
              "      <td>B3</td>\n",
              "    </tr>\n",
              "  </tbody>\n",
              "</table>\n",
              "</div>\n",
              "    </div>"
            ]
          },
          "metadata": {},
          "execution_count": 232
        }
      ]
    },
    {
      "cell_type": "markdown",
      "source": [
        "Outra opção é usar a keysopção de especificar um rótulo para as fontes de dados; o resultado será uma série indexada hierarquicamente contendo os dados:"
      ],
      "metadata": {
        "id": "dC3FFVlMHjBt"
      }
    },
    {
      "cell_type": "code",
      "source": [
        "display ( 'x' ,  'y' ,  \"pd.concat([x, y], keys=['x', 'y'])\" )"
      ],
      "metadata": {
        "colab": {
          "base_uri": "https://localhost:8080/",
          "height": 224
        },
        "id": "WkHz6OPLHm3J",
        "outputId": "fceea721-70f8-4732-d828-50847de50b9a"
      },
      "execution_count": 233,
      "outputs": [
        {
          "output_type": "execute_result",
          "data": {
            "text/plain": [
              "x\n",
              "    A   B\n",
              "0  A0  B0\n",
              "1  A1  B1\n",
              "\n",
              "y\n",
              "    A   B\n",
              "0  A2  B2\n",
              "1  A3  B3\n",
              "\n",
              "pd.concat([x, y], keys=['x', 'y'])\n",
              "      A   B\n",
              "x 0  A0  B0\n",
              "  1  A1  B1\n",
              "y 0  A2  B2\n",
              "  1  A3  B3"
            ],
            "text/html": [
              "<div style=\"float: left; padding: 10px;\">\n",
              "    <p style='font-family:\"Courier New\", Courier, monospace'>x</p><div>\n",
              "<style scoped>\n",
              "    .dataframe tbody tr th:only-of-type {\n",
              "        vertical-align: middle;\n",
              "    }\n",
              "\n",
              "    .dataframe tbody tr th {\n",
              "        vertical-align: top;\n",
              "    }\n",
              "\n",
              "    .dataframe thead th {\n",
              "        text-align: right;\n",
              "    }\n",
              "</style>\n",
              "<table border=\"1\" class=\"dataframe\">\n",
              "  <thead>\n",
              "    <tr style=\"text-align: right;\">\n",
              "      <th></th>\n",
              "      <th>A</th>\n",
              "      <th>B</th>\n",
              "    </tr>\n",
              "  </thead>\n",
              "  <tbody>\n",
              "    <tr>\n",
              "      <th>0</th>\n",
              "      <td>A0</td>\n",
              "      <td>B0</td>\n",
              "    </tr>\n",
              "    <tr>\n",
              "      <th>1</th>\n",
              "      <td>A1</td>\n",
              "      <td>B1</td>\n",
              "    </tr>\n",
              "  </tbody>\n",
              "</table>\n",
              "</div>\n",
              "    </div>\n",
              "<div style=\"float: left; padding: 10px;\">\n",
              "    <p style='font-family:\"Courier New\", Courier, monospace'>y</p><div>\n",
              "<style scoped>\n",
              "    .dataframe tbody tr th:only-of-type {\n",
              "        vertical-align: middle;\n",
              "    }\n",
              "\n",
              "    .dataframe tbody tr th {\n",
              "        vertical-align: top;\n",
              "    }\n",
              "\n",
              "    .dataframe thead th {\n",
              "        text-align: right;\n",
              "    }\n",
              "</style>\n",
              "<table border=\"1\" class=\"dataframe\">\n",
              "  <thead>\n",
              "    <tr style=\"text-align: right;\">\n",
              "      <th></th>\n",
              "      <th>A</th>\n",
              "      <th>B</th>\n",
              "    </tr>\n",
              "  </thead>\n",
              "  <tbody>\n",
              "    <tr>\n",
              "      <th>0</th>\n",
              "      <td>A2</td>\n",
              "      <td>B2</td>\n",
              "    </tr>\n",
              "    <tr>\n",
              "      <th>1</th>\n",
              "      <td>A3</td>\n",
              "      <td>B3</td>\n",
              "    </tr>\n",
              "  </tbody>\n",
              "</table>\n",
              "</div>\n",
              "    </div>\n",
              "<div style=\"float: left; padding: 10px;\">\n",
              "    <p style='font-family:\"Courier New\", Courier, monospace'>pd.concat([x, y], keys=['x', 'y'])</p><div>\n",
              "<style scoped>\n",
              "    .dataframe tbody tr th:only-of-type {\n",
              "        vertical-align: middle;\n",
              "    }\n",
              "\n",
              "    .dataframe tbody tr th {\n",
              "        vertical-align: top;\n",
              "    }\n",
              "\n",
              "    .dataframe thead th {\n",
              "        text-align: right;\n",
              "    }\n",
              "</style>\n",
              "<table border=\"1\" class=\"dataframe\">\n",
              "  <thead>\n",
              "    <tr style=\"text-align: right;\">\n",
              "      <th></th>\n",
              "      <th></th>\n",
              "      <th>A</th>\n",
              "      <th>B</th>\n",
              "    </tr>\n",
              "  </thead>\n",
              "  <tbody>\n",
              "    <tr>\n",
              "      <th rowspan=\"2\" valign=\"top\">x</th>\n",
              "      <th>0</th>\n",
              "      <td>A0</td>\n",
              "      <td>B0</td>\n",
              "    </tr>\n",
              "    <tr>\n",
              "      <th>1</th>\n",
              "      <td>A1</td>\n",
              "      <td>B1</td>\n",
              "    </tr>\n",
              "    <tr>\n",
              "      <th rowspan=\"2\" valign=\"top\">y</th>\n",
              "      <th>0</th>\n",
              "      <td>A2</td>\n",
              "      <td>B2</td>\n",
              "    </tr>\n",
              "    <tr>\n",
              "      <th>1</th>\n",
              "      <td>A3</td>\n",
              "      <td>B3</td>\n",
              "    </tr>\n",
              "  </tbody>\n",
              "</table>\n",
              "</div>\n",
              "    </div>"
            ]
          },
          "metadata": {},
          "execution_count": 233
        }
      ]
    },
    {
      "cell_type": "markdown",
      "source": [
        "# Combinando conjuntos de dados: mesclar e unir\n",
        "Um recurso essencial oferecido pelo Pandas são suas operações de junção e mesclagem de alto desempenho na memória. Se você já trabalhou com bancos de dados, deve estar familiarizado com esse tipo de interação de dados. A principal interface para isso é a pd.mergefunção, e veremos alguns exemplos de como isso pode funcionar na prática."
      ],
      "metadata": {
        "id": "o8j2Ty09NeQl"
      }
    },
    {
      "cell_type": "markdown",
      "source": [
        "A pd.merge()função implementa vários tipos de junções: as junções um-para-um , muitos-para-um e muitos-para-muitos . Todos os três tipos de junções são acessados ​​por meio de uma chamada idêntica à pd.merge()interface; o tipo de junção realizada depende da forma dos dados de entrada."
      ],
      "metadata": {
        "id": "Fx2sw2EAOIFY"
      }
    },
    {
      "cell_type": "markdown",
      "source": [
        "##Junções um-para-um "
      ],
      "metadata": {
        "id": "OS97Tbu4OKuz"
      }
    },
    {
      "cell_type": "code",
      "source": [
        "df1 = pd.DataFrame({'employee': ['Bob', 'Jake', 'Lisa', 'Sue'],\n",
        "                    'group': ['Accounting', 'Engineering', 'Engineering', 'HR']})\n",
        "df2 = pd.DataFrame({'employee': ['Lisa', 'Bob', 'Jake', 'Sue'],\n",
        "                    'hire_date': [2004, 2008, 2012, 2014]})\n",
        "display('df1', 'df2')"
      ],
      "metadata": {
        "colab": {
          "base_uri": "https://localhost:8080/",
          "height": 224
        },
        "id": "Co7Ug0UtOdTQ",
        "outputId": "6e9f5775-ef99-4ef7-b289-be98d06c7d12"
      },
      "execution_count": 234,
      "outputs": [
        {
          "output_type": "execute_result",
          "data": {
            "text/plain": [
              "df1\n",
              "  employee        group\n",
              "0      Bob   Accounting\n",
              "1     Jake  Engineering\n",
              "2     Lisa  Engineering\n",
              "3      Sue           HR\n",
              "\n",
              "df2\n",
              "  employee  hire_date\n",
              "0     Lisa       2004\n",
              "1      Bob       2008\n",
              "2     Jake       2012\n",
              "3      Sue       2014"
            ],
            "text/html": [
              "<div style=\"float: left; padding: 10px;\">\n",
              "    <p style='font-family:\"Courier New\", Courier, monospace'>df1</p><div>\n",
              "<style scoped>\n",
              "    .dataframe tbody tr th:only-of-type {\n",
              "        vertical-align: middle;\n",
              "    }\n",
              "\n",
              "    .dataframe tbody tr th {\n",
              "        vertical-align: top;\n",
              "    }\n",
              "\n",
              "    .dataframe thead th {\n",
              "        text-align: right;\n",
              "    }\n",
              "</style>\n",
              "<table border=\"1\" class=\"dataframe\">\n",
              "  <thead>\n",
              "    <tr style=\"text-align: right;\">\n",
              "      <th></th>\n",
              "      <th>employee</th>\n",
              "      <th>group</th>\n",
              "    </tr>\n",
              "  </thead>\n",
              "  <tbody>\n",
              "    <tr>\n",
              "      <th>0</th>\n",
              "      <td>Bob</td>\n",
              "      <td>Accounting</td>\n",
              "    </tr>\n",
              "    <tr>\n",
              "      <th>1</th>\n",
              "      <td>Jake</td>\n",
              "      <td>Engineering</td>\n",
              "    </tr>\n",
              "    <tr>\n",
              "      <th>2</th>\n",
              "      <td>Lisa</td>\n",
              "      <td>Engineering</td>\n",
              "    </tr>\n",
              "    <tr>\n",
              "      <th>3</th>\n",
              "      <td>Sue</td>\n",
              "      <td>HR</td>\n",
              "    </tr>\n",
              "  </tbody>\n",
              "</table>\n",
              "</div>\n",
              "    </div>\n",
              "<div style=\"float: left; padding: 10px;\">\n",
              "    <p style='font-family:\"Courier New\", Courier, monospace'>df2</p><div>\n",
              "<style scoped>\n",
              "    .dataframe tbody tr th:only-of-type {\n",
              "        vertical-align: middle;\n",
              "    }\n",
              "\n",
              "    .dataframe tbody tr th {\n",
              "        vertical-align: top;\n",
              "    }\n",
              "\n",
              "    .dataframe thead th {\n",
              "        text-align: right;\n",
              "    }\n",
              "</style>\n",
              "<table border=\"1\" class=\"dataframe\">\n",
              "  <thead>\n",
              "    <tr style=\"text-align: right;\">\n",
              "      <th></th>\n",
              "      <th>employee</th>\n",
              "      <th>hire_date</th>\n",
              "    </tr>\n",
              "  </thead>\n",
              "  <tbody>\n",
              "    <tr>\n",
              "      <th>0</th>\n",
              "      <td>Lisa</td>\n",
              "      <td>2004</td>\n",
              "    </tr>\n",
              "    <tr>\n",
              "      <th>1</th>\n",
              "      <td>Bob</td>\n",
              "      <td>2008</td>\n",
              "    </tr>\n",
              "    <tr>\n",
              "      <th>2</th>\n",
              "      <td>Jake</td>\n",
              "      <td>2012</td>\n",
              "    </tr>\n",
              "    <tr>\n",
              "      <th>3</th>\n",
              "      <td>Sue</td>\n",
              "      <td>2014</td>\n",
              "    </tr>\n",
              "  </tbody>\n",
              "</table>\n",
              "</div>\n",
              "    </div>"
            ]
          },
          "metadata": {},
          "execution_count": 234
        }
      ]
    },
    {
      "cell_type": "markdown",
      "source": [
        "Para combinar essas informações em um único DataFrame, podemos usar a pd.merge()função:"
      ],
      "metadata": {
        "id": "3x2daWjTOkXe"
      }
    },
    {
      "cell_type": "code",
      "source": [
        "df3 = pd.merge(df1, df2)\n",
        "df3"
      ],
      "metadata": {
        "colab": {
          "base_uri": "https://localhost:8080/",
          "height": 175
        },
        "id": "XFs_G_KPOlYW",
        "outputId": "49224f41-5ead-4a00-dc6b-853878bba7c2"
      },
      "execution_count": 235,
      "outputs": [
        {
          "output_type": "execute_result",
          "data": {
            "text/plain": [
              "  employee        group  hire_date\n",
              "0      Bob   Accounting       2008\n",
              "1     Jake  Engineering       2012\n",
              "2     Lisa  Engineering       2004\n",
              "3      Sue           HR       2014"
            ],
            "text/html": [
              "\n",
              "  <div id=\"df-766d77a9-0be0-445e-b002-2cf0934d31ab\">\n",
              "    <div class=\"colab-df-container\">\n",
              "      <div>\n",
              "<style scoped>\n",
              "    .dataframe tbody tr th:only-of-type {\n",
              "        vertical-align: middle;\n",
              "    }\n",
              "\n",
              "    .dataframe tbody tr th {\n",
              "        vertical-align: top;\n",
              "    }\n",
              "\n",
              "    .dataframe thead th {\n",
              "        text-align: right;\n",
              "    }\n",
              "</style>\n",
              "<table border=\"1\" class=\"dataframe\">\n",
              "  <thead>\n",
              "    <tr style=\"text-align: right;\">\n",
              "      <th></th>\n",
              "      <th>employee</th>\n",
              "      <th>group</th>\n",
              "      <th>hire_date</th>\n",
              "    </tr>\n",
              "  </thead>\n",
              "  <tbody>\n",
              "    <tr>\n",
              "      <th>0</th>\n",
              "      <td>Bob</td>\n",
              "      <td>Accounting</td>\n",
              "      <td>2008</td>\n",
              "    </tr>\n",
              "    <tr>\n",
              "      <th>1</th>\n",
              "      <td>Jake</td>\n",
              "      <td>Engineering</td>\n",
              "      <td>2012</td>\n",
              "    </tr>\n",
              "    <tr>\n",
              "      <th>2</th>\n",
              "      <td>Lisa</td>\n",
              "      <td>Engineering</td>\n",
              "      <td>2004</td>\n",
              "    </tr>\n",
              "    <tr>\n",
              "      <th>3</th>\n",
              "      <td>Sue</td>\n",
              "      <td>HR</td>\n",
              "      <td>2014</td>\n",
              "    </tr>\n",
              "  </tbody>\n",
              "</table>\n",
              "</div>\n",
              "      <button class=\"colab-df-convert\" onclick=\"convertToInteractive('df-766d77a9-0be0-445e-b002-2cf0934d31ab')\"\n",
              "              title=\"Convert this dataframe to an interactive table.\"\n",
              "              style=\"display:none;\">\n",
              "        \n",
              "  <svg xmlns=\"http://www.w3.org/2000/svg\" height=\"24px\"viewBox=\"0 0 24 24\"\n",
              "       width=\"24px\">\n",
              "    <path d=\"M0 0h24v24H0V0z\" fill=\"none\"/>\n",
              "    <path d=\"M18.56 5.44l.94 2.06.94-2.06 2.06-.94-2.06-.94-.94-2.06-.94 2.06-2.06.94zm-11 1L8.5 8.5l.94-2.06 2.06-.94-2.06-.94L8.5 2.5l-.94 2.06-2.06.94zm10 10l.94 2.06.94-2.06 2.06-.94-2.06-.94-.94-2.06-.94 2.06-2.06.94z\"/><path d=\"M17.41 7.96l-1.37-1.37c-.4-.4-.92-.59-1.43-.59-.52 0-1.04.2-1.43.59L10.3 9.45l-7.72 7.72c-.78.78-.78 2.05 0 2.83L4 21.41c.39.39.9.59 1.41.59.51 0 1.02-.2 1.41-.59l7.78-7.78 2.81-2.81c.8-.78.8-2.07 0-2.86zM5.41 20L4 18.59l7.72-7.72 1.47 1.35L5.41 20z\"/>\n",
              "  </svg>\n",
              "      </button>\n",
              "      \n",
              "  <style>\n",
              "    .colab-df-container {\n",
              "      display:flex;\n",
              "      flex-wrap:wrap;\n",
              "      gap: 12px;\n",
              "    }\n",
              "\n",
              "    .colab-df-convert {\n",
              "      background-color: #E8F0FE;\n",
              "      border: none;\n",
              "      border-radius: 50%;\n",
              "      cursor: pointer;\n",
              "      display: none;\n",
              "      fill: #1967D2;\n",
              "      height: 32px;\n",
              "      padding: 0 0 0 0;\n",
              "      width: 32px;\n",
              "    }\n",
              "\n",
              "    .colab-df-convert:hover {\n",
              "      background-color: #E2EBFA;\n",
              "      box-shadow: 0px 1px 2px rgba(60, 64, 67, 0.3), 0px 1px 3px 1px rgba(60, 64, 67, 0.15);\n",
              "      fill: #174EA6;\n",
              "    }\n",
              "\n",
              "    [theme=dark] .colab-df-convert {\n",
              "      background-color: #3B4455;\n",
              "      fill: #D2E3FC;\n",
              "    }\n",
              "\n",
              "    [theme=dark] .colab-df-convert:hover {\n",
              "      background-color: #434B5C;\n",
              "      box-shadow: 0px 1px 3px 1px rgba(0, 0, 0, 0.15);\n",
              "      filter: drop-shadow(0px 1px 2px rgba(0, 0, 0, 0.3));\n",
              "      fill: #FFFFFF;\n",
              "    }\n",
              "  </style>\n",
              "\n",
              "      <script>\n",
              "        const buttonEl =\n",
              "          document.querySelector('#df-766d77a9-0be0-445e-b002-2cf0934d31ab button.colab-df-convert');\n",
              "        buttonEl.style.display =\n",
              "          google.colab.kernel.accessAllowed ? 'block' : 'none';\n",
              "\n",
              "        async function convertToInteractive(key) {\n",
              "          const element = document.querySelector('#df-766d77a9-0be0-445e-b002-2cf0934d31ab');\n",
              "          const dataTable =\n",
              "            await google.colab.kernel.invokeFunction('convertToInteractive',\n",
              "                                                     [key], {});\n",
              "          if (!dataTable) return;\n",
              "\n",
              "          const docLinkHtml = 'Like what you see? Visit the ' +\n",
              "            '<a target=\"_blank\" href=https://colab.research.google.com/notebooks/data_table.ipynb>data table notebook</a>'\n",
              "            + ' to learn more about interactive tables.';\n",
              "          element.innerHTML = '';\n",
              "          dataTable['output_type'] = 'display_data';\n",
              "          await google.colab.output.renderOutput(dataTable, element);\n",
              "          const docLink = document.createElement('div');\n",
              "          docLink.innerHTML = docLinkHtml;\n",
              "          element.appendChild(docLink);\n",
              "        }\n",
              "      </script>\n",
              "    </div>\n",
              "  </div>\n",
              "  "
            ]
          },
          "metadata": {},
          "execution_count": 235
        }
      ]
    },
    {
      "cell_type": "markdown",
      "source": [
        "A `pd.merge()` função reconhece que cada um DataFrame tem uma coluna \"funcionário\" e junta-se automaticamente usando esta coluna como uma chave. O resultado da fusão é um novo DataFrameque combina as informações das duas entradas. Observe que a ordem das entradas em cada coluna não é necessariamente mantida: nesse caso, a ordem da coluna \"funcionário\" difere entre `df1` e `df2`, e a `pd.merge()` função considera isso corretamente. Além disso, lembre-se de que a mesclagem em geral descarta o índice, exceto no caso especial de mesclagens por índice"
      ],
      "metadata": {
        "id": "C1WxgwoRO60q"
      }
    },
    {
      "cell_type": "markdown",
      "source": [
        "## Junções de muitos para um\n",
        "Junções muitos-para-um são junções nas quais uma das duas colunas-chave contém entradas duplicadas. Para o caso muitos-para-um, o resultado DataFramepreservará essas entradas duplicadas conforme apropriado. Considere o seguinte exemplo de uma junção muitos-para-um:"
      ],
      "metadata": {
        "id": "mtMIuPxHPSL8"
      }
    },
    {
      "cell_type": "code",
      "source": [
        "df4 = pd.DataFrame({'group': ['Accounting', 'Engineering', 'HR'],\n",
        "                    'supervisor': ['Carly', 'Guido', 'Steve']})\n",
        "display('df3', 'df4', 'pd.merge(df3, df4)')"
      ],
      "metadata": {
        "colab": {
          "base_uri": "https://localhost:8080/",
          "height": 224
        },
        "id": "f5myJcPTPcmE",
        "outputId": "c947dba6-9049-4b17-8072-da03c187d70d"
      },
      "execution_count": 236,
      "outputs": [
        {
          "output_type": "execute_result",
          "data": {
            "text/plain": [
              "df3\n",
              "  employee        group  hire_date\n",
              "0      Bob   Accounting       2008\n",
              "1     Jake  Engineering       2012\n",
              "2     Lisa  Engineering       2004\n",
              "3      Sue           HR       2014\n",
              "\n",
              "df4\n",
              "         group supervisor\n",
              "0   Accounting      Carly\n",
              "1  Engineering      Guido\n",
              "2           HR      Steve\n",
              "\n",
              "pd.merge(df3, df4)\n",
              "  employee        group  hire_date supervisor\n",
              "0      Bob   Accounting       2008      Carly\n",
              "1     Jake  Engineering       2012      Guido\n",
              "2     Lisa  Engineering       2004      Guido\n",
              "3      Sue           HR       2014      Steve"
            ],
            "text/html": [
              "<div style=\"float: left; padding: 10px;\">\n",
              "    <p style='font-family:\"Courier New\", Courier, monospace'>df3</p><div>\n",
              "<style scoped>\n",
              "    .dataframe tbody tr th:only-of-type {\n",
              "        vertical-align: middle;\n",
              "    }\n",
              "\n",
              "    .dataframe tbody tr th {\n",
              "        vertical-align: top;\n",
              "    }\n",
              "\n",
              "    .dataframe thead th {\n",
              "        text-align: right;\n",
              "    }\n",
              "</style>\n",
              "<table border=\"1\" class=\"dataframe\">\n",
              "  <thead>\n",
              "    <tr style=\"text-align: right;\">\n",
              "      <th></th>\n",
              "      <th>employee</th>\n",
              "      <th>group</th>\n",
              "      <th>hire_date</th>\n",
              "    </tr>\n",
              "  </thead>\n",
              "  <tbody>\n",
              "    <tr>\n",
              "      <th>0</th>\n",
              "      <td>Bob</td>\n",
              "      <td>Accounting</td>\n",
              "      <td>2008</td>\n",
              "    </tr>\n",
              "    <tr>\n",
              "      <th>1</th>\n",
              "      <td>Jake</td>\n",
              "      <td>Engineering</td>\n",
              "      <td>2012</td>\n",
              "    </tr>\n",
              "    <tr>\n",
              "      <th>2</th>\n",
              "      <td>Lisa</td>\n",
              "      <td>Engineering</td>\n",
              "      <td>2004</td>\n",
              "    </tr>\n",
              "    <tr>\n",
              "      <th>3</th>\n",
              "      <td>Sue</td>\n",
              "      <td>HR</td>\n",
              "      <td>2014</td>\n",
              "    </tr>\n",
              "  </tbody>\n",
              "</table>\n",
              "</div>\n",
              "    </div>\n",
              "<div style=\"float: left; padding: 10px;\">\n",
              "    <p style='font-family:\"Courier New\", Courier, monospace'>df4</p><div>\n",
              "<style scoped>\n",
              "    .dataframe tbody tr th:only-of-type {\n",
              "        vertical-align: middle;\n",
              "    }\n",
              "\n",
              "    .dataframe tbody tr th {\n",
              "        vertical-align: top;\n",
              "    }\n",
              "\n",
              "    .dataframe thead th {\n",
              "        text-align: right;\n",
              "    }\n",
              "</style>\n",
              "<table border=\"1\" class=\"dataframe\">\n",
              "  <thead>\n",
              "    <tr style=\"text-align: right;\">\n",
              "      <th></th>\n",
              "      <th>group</th>\n",
              "      <th>supervisor</th>\n",
              "    </tr>\n",
              "  </thead>\n",
              "  <tbody>\n",
              "    <tr>\n",
              "      <th>0</th>\n",
              "      <td>Accounting</td>\n",
              "      <td>Carly</td>\n",
              "    </tr>\n",
              "    <tr>\n",
              "      <th>1</th>\n",
              "      <td>Engineering</td>\n",
              "      <td>Guido</td>\n",
              "    </tr>\n",
              "    <tr>\n",
              "      <th>2</th>\n",
              "      <td>HR</td>\n",
              "      <td>Steve</td>\n",
              "    </tr>\n",
              "  </tbody>\n",
              "</table>\n",
              "</div>\n",
              "    </div>\n",
              "<div style=\"float: left; padding: 10px;\">\n",
              "    <p style='font-family:\"Courier New\", Courier, monospace'>pd.merge(df3, df4)</p><div>\n",
              "<style scoped>\n",
              "    .dataframe tbody tr th:only-of-type {\n",
              "        vertical-align: middle;\n",
              "    }\n",
              "\n",
              "    .dataframe tbody tr th {\n",
              "        vertical-align: top;\n",
              "    }\n",
              "\n",
              "    .dataframe thead th {\n",
              "        text-align: right;\n",
              "    }\n",
              "</style>\n",
              "<table border=\"1\" class=\"dataframe\">\n",
              "  <thead>\n",
              "    <tr style=\"text-align: right;\">\n",
              "      <th></th>\n",
              "      <th>employee</th>\n",
              "      <th>group</th>\n",
              "      <th>hire_date</th>\n",
              "      <th>supervisor</th>\n",
              "    </tr>\n",
              "  </thead>\n",
              "  <tbody>\n",
              "    <tr>\n",
              "      <th>0</th>\n",
              "      <td>Bob</td>\n",
              "      <td>Accounting</td>\n",
              "      <td>2008</td>\n",
              "      <td>Carly</td>\n",
              "    </tr>\n",
              "    <tr>\n",
              "      <th>1</th>\n",
              "      <td>Jake</td>\n",
              "      <td>Engineering</td>\n",
              "      <td>2012</td>\n",
              "      <td>Guido</td>\n",
              "    </tr>\n",
              "    <tr>\n",
              "      <th>2</th>\n",
              "      <td>Lisa</td>\n",
              "      <td>Engineering</td>\n",
              "      <td>2004</td>\n",
              "      <td>Guido</td>\n",
              "    </tr>\n",
              "    <tr>\n",
              "      <th>3</th>\n",
              "      <td>Sue</td>\n",
              "      <td>HR</td>\n",
              "      <td>2014</td>\n",
              "      <td>Steve</td>\n",
              "    </tr>\n",
              "  </tbody>\n",
              "</table>\n",
              "</div>\n",
              "    </div>"
            ]
          },
          "metadata": {},
          "execution_count": 236
        }
      ]
    },
    {
      "cell_type": "markdown",
      "source": [
        "As junções muitos-para-muitos são um pouco confusas conceitualmente, mas, no entanto, são bem definidas. Se a coluna-chave na matriz esquerda e direita contiver duplicatas, o resultado será uma mesclagem de muitos para muitos. Talvez isso fique mais claro com um exemplo concreto. Considere o seguinte, onde mostramos DataFrameuma ou mais habilidades associadas a um determinado grupo. Ao realizar uma junção muitos-para-muitos, podemos recuperar as habilidades associadas a qualquer pessoa individual:"
      ],
      "metadata": {
        "id": "6eUQJI_PP6Jr"
      }
    },
    {
      "cell_type": "code",
      "source": [
        "df5 = pd.DataFrame({'group': ['Accounting', 'Accounting',\n",
        "                              'Engineering', 'Engineering', 'HR', 'HR'],\n",
        "                    'skills': ['math', 'spreadsheets', 'coding', 'linux',\n",
        "                               'spreadsheets', 'organization']})\n",
        "display('df1', 'df5', \"pd.merge(df1, df5)\")"
      ],
      "metadata": {
        "colab": {
          "base_uri": "https://localhost:8080/",
          "height": 349
        },
        "id": "ekntsIngP7Rw",
        "outputId": "717700eb-973b-4348-af90-0a2d0f96892e"
      },
      "execution_count": 237,
      "outputs": [
        {
          "output_type": "execute_result",
          "data": {
            "text/plain": [
              "df1\n",
              "  employee        group\n",
              "0      Bob   Accounting\n",
              "1     Jake  Engineering\n",
              "2     Lisa  Engineering\n",
              "3      Sue           HR\n",
              "\n",
              "df5\n",
              "         group        skills\n",
              "0   Accounting          math\n",
              "1   Accounting  spreadsheets\n",
              "2  Engineering        coding\n",
              "3  Engineering         linux\n",
              "4           HR  spreadsheets\n",
              "5           HR  organization\n",
              "\n",
              "pd.merge(df1, df5)\n",
              "  employee        group        skills\n",
              "0      Bob   Accounting          math\n",
              "1      Bob   Accounting  spreadsheets\n",
              "2     Jake  Engineering        coding\n",
              "3     Jake  Engineering         linux\n",
              "4     Lisa  Engineering        coding\n",
              "5     Lisa  Engineering         linux\n",
              "6      Sue           HR  spreadsheets\n",
              "7      Sue           HR  organization"
            ],
            "text/html": [
              "<div style=\"float: left; padding: 10px;\">\n",
              "    <p style='font-family:\"Courier New\", Courier, monospace'>df1</p><div>\n",
              "<style scoped>\n",
              "    .dataframe tbody tr th:only-of-type {\n",
              "        vertical-align: middle;\n",
              "    }\n",
              "\n",
              "    .dataframe tbody tr th {\n",
              "        vertical-align: top;\n",
              "    }\n",
              "\n",
              "    .dataframe thead th {\n",
              "        text-align: right;\n",
              "    }\n",
              "</style>\n",
              "<table border=\"1\" class=\"dataframe\">\n",
              "  <thead>\n",
              "    <tr style=\"text-align: right;\">\n",
              "      <th></th>\n",
              "      <th>employee</th>\n",
              "      <th>group</th>\n",
              "    </tr>\n",
              "  </thead>\n",
              "  <tbody>\n",
              "    <tr>\n",
              "      <th>0</th>\n",
              "      <td>Bob</td>\n",
              "      <td>Accounting</td>\n",
              "    </tr>\n",
              "    <tr>\n",
              "      <th>1</th>\n",
              "      <td>Jake</td>\n",
              "      <td>Engineering</td>\n",
              "    </tr>\n",
              "    <tr>\n",
              "      <th>2</th>\n",
              "      <td>Lisa</td>\n",
              "      <td>Engineering</td>\n",
              "    </tr>\n",
              "    <tr>\n",
              "      <th>3</th>\n",
              "      <td>Sue</td>\n",
              "      <td>HR</td>\n",
              "    </tr>\n",
              "  </tbody>\n",
              "</table>\n",
              "</div>\n",
              "    </div>\n",
              "<div style=\"float: left; padding: 10px;\">\n",
              "    <p style='font-family:\"Courier New\", Courier, monospace'>df5</p><div>\n",
              "<style scoped>\n",
              "    .dataframe tbody tr th:only-of-type {\n",
              "        vertical-align: middle;\n",
              "    }\n",
              "\n",
              "    .dataframe tbody tr th {\n",
              "        vertical-align: top;\n",
              "    }\n",
              "\n",
              "    .dataframe thead th {\n",
              "        text-align: right;\n",
              "    }\n",
              "</style>\n",
              "<table border=\"1\" class=\"dataframe\">\n",
              "  <thead>\n",
              "    <tr style=\"text-align: right;\">\n",
              "      <th></th>\n",
              "      <th>group</th>\n",
              "      <th>skills</th>\n",
              "    </tr>\n",
              "  </thead>\n",
              "  <tbody>\n",
              "    <tr>\n",
              "      <th>0</th>\n",
              "      <td>Accounting</td>\n",
              "      <td>math</td>\n",
              "    </tr>\n",
              "    <tr>\n",
              "      <th>1</th>\n",
              "      <td>Accounting</td>\n",
              "      <td>spreadsheets</td>\n",
              "    </tr>\n",
              "    <tr>\n",
              "      <th>2</th>\n",
              "      <td>Engineering</td>\n",
              "      <td>coding</td>\n",
              "    </tr>\n",
              "    <tr>\n",
              "      <th>3</th>\n",
              "      <td>Engineering</td>\n",
              "      <td>linux</td>\n",
              "    </tr>\n",
              "    <tr>\n",
              "      <th>4</th>\n",
              "      <td>HR</td>\n",
              "      <td>spreadsheets</td>\n",
              "    </tr>\n",
              "    <tr>\n",
              "      <th>5</th>\n",
              "      <td>HR</td>\n",
              "      <td>organization</td>\n",
              "    </tr>\n",
              "  </tbody>\n",
              "</table>\n",
              "</div>\n",
              "    </div>\n",
              "<div style=\"float: left; padding: 10px;\">\n",
              "    <p style='font-family:\"Courier New\", Courier, monospace'>pd.merge(df1, df5)</p><div>\n",
              "<style scoped>\n",
              "    .dataframe tbody tr th:only-of-type {\n",
              "        vertical-align: middle;\n",
              "    }\n",
              "\n",
              "    .dataframe tbody tr th {\n",
              "        vertical-align: top;\n",
              "    }\n",
              "\n",
              "    .dataframe thead th {\n",
              "        text-align: right;\n",
              "    }\n",
              "</style>\n",
              "<table border=\"1\" class=\"dataframe\">\n",
              "  <thead>\n",
              "    <tr style=\"text-align: right;\">\n",
              "      <th></th>\n",
              "      <th>employee</th>\n",
              "      <th>group</th>\n",
              "      <th>skills</th>\n",
              "    </tr>\n",
              "  </thead>\n",
              "  <tbody>\n",
              "    <tr>\n",
              "      <th>0</th>\n",
              "      <td>Bob</td>\n",
              "      <td>Accounting</td>\n",
              "      <td>math</td>\n",
              "    </tr>\n",
              "    <tr>\n",
              "      <th>1</th>\n",
              "      <td>Bob</td>\n",
              "      <td>Accounting</td>\n",
              "      <td>spreadsheets</td>\n",
              "    </tr>\n",
              "    <tr>\n",
              "      <th>2</th>\n",
              "      <td>Jake</td>\n",
              "      <td>Engineering</td>\n",
              "      <td>coding</td>\n",
              "    </tr>\n",
              "    <tr>\n",
              "      <th>3</th>\n",
              "      <td>Jake</td>\n",
              "      <td>Engineering</td>\n",
              "      <td>linux</td>\n",
              "    </tr>\n",
              "    <tr>\n",
              "      <th>4</th>\n",
              "      <td>Lisa</td>\n",
              "      <td>Engineering</td>\n",
              "      <td>coding</td>\n",
              "    </tr>\n",
              "    <tr>\n",
              "      <th>5</th>\n",
              "      <td>Lisa</td>\n",
              "      <td>Engineering</td>\n",
              "      <td>linux</td>\n",
              "    </tr>\n",
              "    <tr>\n",
              "      <th>6</th>\n",
              "      <td>Sue</td>\n",
              "      <td>HR</td>\n",
              "      <td>spreadsheets</td>\n",
              "    </tr>\n",
              "    <tr>\n",
              "      <th>7</th>\n",
              "      <td>Sue</td>\n",
              "      <td>HR</td>\n",
              "      <td>organization</td>\n",
              "    </tr>\n",
              "  </tbody>\n",
              "</table>\n",
              "</div>\n",
              "    </div>"
            ]
          },
          "metadata": {},
          "execution_count": 237
        }
      ]
    },
    {
      "cell_type": "markdown",
      "source": [
        "##Especificação da Chave de Mesclagem\n",
        "já vimos o comportamento padrão de `pd.merge()`: ele procura por um ou mais nomes de coluna correspondentes entre as duas entradas e usa isso como a chave. No entanto, muitas vezes os nomes das colunas não correspondem tão bem e `pd.merge()`fornecem uma variedade de opções para lidar com isso.\n",
        "\n",
        "\n",
        "De maneira mais simples, você pode especificar explicitamente o nome da coluna-chave usando a `on` palavra-chave, que recebe um nome de coluna ou uma lista de nomes de colunas:"
      ],
      "metadata": {
        "id": "cPnNOoo2QsL5"
      }
    },
    {
      "cell_type": "code",
      "source": [
        "display('df1', 'df2', \"pd.merge(df1, df2, on='employee')\")"
      ],
      "metadata": {
        "colab": {
          "base_uri": "https://localhost:8080/",
          "height": 224
        },
        "id": "s0yP-MDcQ5_T",
        "outputId": "231129a8-95a6-43aa-cda1-9f683dd33999"
      },
      "execution_count": 238,
      "outputs": [
        {
          "output_type": "execute_result",
          "data": {
            "text/plain": [
              "df1\n",
              "  employee        group\n",
              "0      Bob   Accounting\n",
              "1     Jake  Engineering\n",
              "2     Lisa  Engineering\n",
              "3      Sue           HR\n",
              "\n",
              "df2\n",
              "  employee  hire_date\n",
              "0     Lisa       2004\n",
              "1      Bob       2008\n",
              "2     Jake       2012\n",
              "3      Sue       2014\n",
              "\n",
              "pd.merge(df1, df2, on='employee')\n",
              "  employee        group  hire_date\n",
              "0      Bob   Accounting       2008\n",
              "1     Jake  Engineering       2012\n",
              "2     Lisa  Engineering       2004\n",
              "3      Sue           HR       2014"
            ],
            "text/html": [
              "<div style=\"float: left; padding: 10px;\">\n",
              "    <p style='font-family:\"Courier New\", Courier, monospace'>df1</p><div>\n",
              "<style scoped>\n",
              "    .dataframe tbody tr th:only-of-type {\n",
              "        vertical-align: middle;\n",
              "    }\n",
              "\n",
              "    .dataframe tbody tr th {\n",
              "        vertical-align: top;\n",
              "    }\n",
              "\n",
              "    .dataframe thead th {\n",
              "        text-align: right;\n",
              "    }\n",
              "</style>\n",
              "<table border=\"1\" class=\"dataframe\">\n",
              "  <thead>\n",
              "    <tr style=\"text-align: right;\">\n",
              "      <th></th>\n",
              "      <th>employee</th>\n",
              "      <th>group</th>\n",
              "    </tr>\n",
              "  </thead>\n",
              "  <tbody>\n",
              "    <tr>\n",
              "      <th>0</th>\n",
              "      <td>Bob</td>\n",
              "      <td>Accounting</td>\n",
              "    </tr>\n",
              "    <tr>\n",
              "      <th>1</th>\n",
              "      <td>Jake</td>\n",
              "      <td>Engineering</td>\n",
              "    </tr>\n",
              "    <tr>\n",
              "      <th>2</th>\n",
              "      <td>Lisa</td>\n",
              "      <td>Engineering</td>\n",
              "    </tr>\n",
              "    <tr>\n",
              "      <th>3</th>\n",
              "      <td>Sue</td>\n",
              "      <td>HR</td>\n",
              "    </tr>\n",
              "  </tbody>\n",
              "</table>\n",
              "</div>\n",
              "    </div>\n",
              "<div style=\"float: left; padding: 10px;\">\n",
              "    <p style='font-family:\"Courier New\", Courier, monospace'>df2</p><div>\n",
              "<style scoped>\n",
              "    .dataframe tbody tr th:only-of-type {\n",
              "        vertical-align: middle;\n",
              "    }\n",
              "\n",
              "    .dataframe tbody tr th {\n",
              "        vertical-align: top;\n",
              "    }\n",
              "\n",
              "    .dataframe thead th {\n",
              "        text-align: right;\n",
              "    }\n",
              "</style>\n",
              "<table border=\"1\" class=\"dataframe\">\n",
              "  <thead>\n",
              "    <tr style=\"text-align: right;\">\n",
              "      <th></th>\n",
              "      <th>employee</th>\n",
              "      <th>hire_date</th>\n",
              "    </tr>\n",
              "  </thead>\n",
              "  <tbody>\n",
              "    <tr>\n",
              "      <th>0</th>\n",
              "      <td>Lisa</td>\n",
              "      <td>2004</td>\n",
              "    </tr>\n",
              "    <tr>\n",
              "      <th>1</th>\n",
              "      <td>Bob</td>\n",
              "      <td>2008</td>\n",
              "    </tr>\n",
              "    <tr>\n",
              "      <th>2</th>\n",
              "      <td>Jake</td>\n",
              "      <td>2012</td>\n",
              "    </tr>\n",
              "    <tr>\n",
              "      <th>3</th>\n",
              "      <td>Sue</td>\n",
              "      <td>2014</td>\n",
              "    </tr>\n",
              "  </tbody>\n",
              "</table>\n",
              "</div>\n",
              "    </div>\n",
              "<div style=\"float: left; padding: 10px;\">\n",
              "    <p style='font-family:\"Courier New\", Courier, monospace'>pd.merge(df1, df2, on='employee')</p><div>\n",
              "<style scoped>\n",
              "    .dataframe tbody tr th:only-of-type {\n",
              "        vertical-align: middle;\n",
              "    }\n",
              "\n",
              "    .dataframe tbody tr th {\n",
              "        vertical-align: top;\n",
              "    }\n",
              "\n",
              "    .dataframe thead th {\n",
              "        text-align: right;\n",
              "    }\n",
              "</style>\n",
              "<table border=\"1\" class=\"dataframe\">\n",
              "  <thead>\n",
              "    <tr style=\"text-align: right;\">\n",
              "      <th></th>\n",
              "      <th>employee</th>\n",
              "      <th>group</th>\n",
              "      <th>hire_date</th>\n",
              "    </tr>\n",
              "  </thead>\n",
              "  <tbody>\n",
              "    <tr>\n",
              "      <th>0</th>\n",
              "      <td>Bob</td>\n",
              "      <td>Accounting</td>\n",
              "      <td>2008</td>\n",
              "    </tr>\n",
              "    <tr>\n",
              "      <th>1</th>\n",
              "      <td>Jake</td>\n",
              "      <td>Engineering</td>\n",
              "      <td>2012</td>\n",
              "    </tr>\n",
              "    <tr>\n",
              "      <th>2</th>\n",
              "      <td>Lisa</td>\n",
              "      <td>Engineering</td>\n",
              "      <td>2004</td>\n",
              "    </tr>\n",
              "    <tr>\n",
              "      <th>3</th>\n",
              "      <td>Sue</td>\n",
              "      <td>HR</td>\n",
              "      <td>2014</td>\n",
              "    </tr>\n",
              "  </tbody>\n",
              "</table>\n",
              "</div>\n",
              "    </div>"
            ]
          },
          "metadata": {},
          "execution_count": 238
        }
      ]
    },
    {
      "cell_type": "markdown",
      "source": [
        "Às vezes, você pode querer mesclar dois conjuntos de dados com nomes de colunas diferentes; por exemplo, podemos ter um conjunto de dados no qual o nome do funcionário é rotulado como \"nome\" em vez de \"funcionário\". Nesse caso, podemos usar as palavras-chave `left_one` `right_on` para especificar os nomes das duas colunas:"
      ],
      "metadata": {
        "id": "m1rAAaDiRXUM"
      }
    },
    {
      "cell_type": "code",
      "source": [
        "df3 = pd.DataFrame({'name': ['Bob', 'Jake', 'Lisa', 'Sue'],\n",
        "                    'salary': [70000, 80000, 120000, 90000]})\n",
        "display('df1', 'df3', 'pd.merge(df1, df3, left_on=\"employee\", right_on=\"name\")')"
      ],
      "metadata": {
        "colab": {
          "base_uri": "https://localhost:8080/",
          "height": 224
        },
        "id": "eXXH16H2RiIh",
        "outputId": "b1ff32b4-c2dd-4d9e-cd04-1d2872420561"
      },
      "execution_count": 239,
      "outputs": [
        {
          "output_type": "execute_result",
          "data": {
            "text/plain": [
              "df1\n",
              "  employee        group\n",
              "0      Bob   Accounting\n",
              "1     Jake  Engineering\n",
              "2     Lisa  Engineering\n",
              "3      Sue           HR\n",
              "\n",
              "df3\n",
              "   name  salary\n",
              "0   Bob   70000\n",
              "1  Jake   80000\n",
              "2  Lisa  120000\n",
              "3   Sue   90000\n",
              "\n",
              "pd.merge(df1, df3, left_on=\"employee\", right_on=\"name\")\n",
              "  employee        group  name  salary\n",
              "0      Bob   Accounting   Bob   70000\n",
              "1     Jake  Engineering  Jake   80000\n",
              "2     Lisa  Engineering  Lisa  120000\n",
              "3      Sue           HR   Sue   90000"
            ],
            "text/html": [
              "<div style=\"float: left; padding: 10px;\">\n",
              "    <p style='font-family:\"Courier New\", Courier, monospace'>df1</p><div>\n",
              "<style scoped>\n",
              "    .dataframe tbody tr th:only-of-type {\n",
              "        vertical-align: middle;\n",
              "    }\n",
              "\n",
              "    .dataframe tbody tr th {\n",
              "        vertical-align: top;\n",
              "    }\n",
              "\n",
              "    .dataframe thead th {\n",
              "        text-align: right;\n",
              "    }\n",
              "</style>\n",
              "<table border=\"1\" class=\"dataframe\">\n",
              "  <thead>\n",
              "    <tr style=\"text-align: right;\">\n",
              "      <th></th>\n",
              "      <th>employee</th>\n",
              "      <th>group</th>\n",
              "    </tr>\n",
              "  </thead>\n",
              "  <tbody>\n",
              "    <tr>\n",
              "      <th>0</th>\n",
              "      <td>Bob</td>\n",
              "      <td>Accounting</td>\n",
              "    </tr>\n",
              "    <tr>\n",
              "      <th>1</th>\n",
              "      <td>Jake</td>\n",
              "      <td>Engineering</td>\n",
              "    </tr>\n",
              "    <tr>\n",
              "      <th>2</th>\n",
              "      <td>Lisa</td>\n",
              "      <td>Engineering</td>\n",
              "    </tr>\n",
              "    <tr>\n",
              "      <th>3</th>\n",
              "      <td>Sue</td>\n",
              "      <td>HR</td>\n",
              "    </tr>\n",
              "  </tbody>\n",
              "</table>\n",
              "</div>\n",
              "    </div>\n",
              "<div style=\"float: left; padding: 10px;\">\n",
              "    <p style='font-family:\"Courier New\", Courier, monospace'>df3</p><div>\n",
              "<style scoped>\n",
              "    .dataframe tbody tr th:only-of-type {\n",
              "        vertical-align: middle;\n",
              "    }\n",
              "\n",
              "    .dataframe tbody tr th {\n",
              "        vertical-align: top;\n",
              "    }\n",
              "\n",
              "    .dataframe thead th {\n",
              "        text-align: right;\n",
              "    }\n",
              "</style>\n",
              "<table border=\"1\" class=\"dataframe\">\n",
              "  <thead>\n",
              "    <tr style=\"text-align: right;\">\n",
              "      <th></th>\n",
              "      <th>name</th>\n",
              "      <th>salary</th>\n",
              "    </tr>\n",
              "  </thead>\n",
              "  <tbody>\n",
              "    <tr>\n",
              "      <th>0</th>\n",
              "      <td>Bob</td>\n",
              "      <td>70000</td>\n",
              "    </tr>\n",
              "    <tr>\n",
              "      <th>1</th>\n",
              "      <td>Jake</td>\n",
              "      <td>80000</td>\n",
              "    </tr>\n",
              "    <tr>\n",
              "      <th>2</th>\n",
              "      <td>Lisa</td>\n",
              "      <td>120000</td>\n",
              "    </tr>\n",
              "    <tr>\n",
              "      <th>3</th>\n",
              "      <td>Sue</td>\n",
              "      <td>90000</td>\n",
              "    </tr>\n",
              "  </tbody>\n",
              "</table>\n",
              "</div>\n",
              "    </div>\n",
              "<div style=\"float: left; padding: 10px;\">\n",
              "    <p style='font-family:\"Courier New\", Courier, monospace'>pd.merge(df1, df3, left_on=\"employee\", right_on=\"name\")</p><div>\n",
              "<style scoped>\n",
              "    .dataframe tbody tr th:only-of-type {\n",
              "        vertical-align: middle;\n",
              "    }\n",
              "\n",
              "    .dataframe tbody tr th {\n",
              "        vertical-align: top;\n",
              "    }\n",
              "\n",
              "    .dataframe thead th {\n",
              "        text-align: right;\n",
              "    }\n",
              "</style>\n",
              "<table border=\"1\" class=\"dataframe\">\n",
              "  <thead>\n",
              "    <tr style=\"text-align: right;\">\n",
              "      <th></th>\n",
              "      <th>employee</th>\n",
              "      <th>group</th>\n",
              "      <th>name</th>\n",
              "      <th>salary</th>\n",
              "    </tr>\n",
              "  </thead>\n",
              "  <tbody>\n",
              "    <tr>\n",
              "      <th>0</th>\n",
              "      <td>Bob</td>\n",
              "      <td>Accounting</td>\n",
              "      <td>Bob</td>\n",
              "      <td>70000</td>\n",
              "    </tr>\n",
              "    <tr>\n",
              "      <th>1</th>\n",
              "      <td>Jake</td>\n",
              "      <td>Engineering</td>\n",
              "      <td>Jake</td>\n",
              "      <td>80000</td>\n",
              "    </tr>\n",
              "    <tr>\n",
              "      <th>2</th>\n",
              "      <td>Lisa</td>\n",
              "      <td>Engineering</td>\n",
              "      <td>Lisa</td>\n",
              "      <td>120000</td>\n",
              "    </tr>\n",
              "    <tr>\n",
              "      <th>3</th>\n",
              "      <td>Sue</td>\n",
              "      <td>HR</td>\n",
              "      <td>Sue</td>\n",
              "      <td>90000</td>\n",
              "    </tr>\n",
              "  </tbody>\n",
              "</table>\n",
              "</div>\n",
              "    </div>"
            ]
          },
          "metadata": {},
          "execution_count": 239
        }
      ]
    },
    {
      "cell_type": "markdown",
      "source": [
        "Observe a criação de uma coluna redundante com o nome `name`. É possível eliminar da seguinte forma, utilizando a função `drop` pd"
      ],
      "metadata": {
        "id": "mSw4q-QWRzK4"
      }
    },
    {
      "cell_type": "code",
      "source": [
        "pd.merge(df1, df3, left_on=\"employee\", right_on=\"name\").drop('name', axis=1)"
      ],
      "metadata": {
        "colab": {
          "base_uri": "https://localhost:8080/",
          "height": 175
        },
        "id": "nHVo0bHISFXT",
        "outputId": "02354cea-b937-45da-e3c8-ab1cd4573848"
      },
      "execution_count": 240,
      "outputs": [
        {
          "output_type": "execute_result",
          "data": {
            "text/plain": [
              "  employee        group  salary\n",
              "0      Bob   Accounting   70000\n",
              "1     Jake  Engineering   80000\n",
              "2     Lisa  Engineering  120000\n",
              "3      Sue           HR   90000"
            ],
            "text/html": [
              "\n",
              "  <div id=\"df-b46839f5-d380-4ab5-8a98-ada848ba2cc3\">\n",
              "    <div class=\"colab-df-container\">\n",
              "      <div>\n",
              "<style scoped>\n",
              "    .dataframe tbody tr th:only-of-type {\n",
              "        vertical-align: middle;\n",
              "    }\n",
              "\n",
              "    .dataframe tbody tr th {\n",
              "        vertical-align: top;\n",
              "    }\n",
              "\n",
              "    .dataframe thead th {\n",
              "        text-align: right;\n",
              "    }\n",
              "</style>\n",
              "<table border=\"1\" class=\"dataframe\">\n",
              "  <thead>\n",
              "    <tr style=\"text-align: right;\">\n",
              "      <th></th>\n",
              "      <th>employee</th>\n",
              "      <th>group</th>\n",
              "      <th>salary</th>\n",
              "    </tr>\n",
              "  </thead>\n",
              "  <tbody>\n",
              "    <tr>\n",
              "      <th>0</th>\n",
              "      <td>Bob</td>\n",
              "      <td>Accounting</td>\n",
              "      <td>70000</td>\n",
              "    </tr>\n",
              "    <tr>\n",
              "      <th>1</th>\n",
              "      <td>Jake</td>\n",
              "      <td>Engineering</td>\n",
              "      <td>80000</td>\n",
              "    </tr>\n",
              "    <tr>\n",
              "      <th>2</th>\n",
              "      <td>Lisa</td>\n",
              "      <td>Engineering</td>\n",
              "      <td>120000</td>\n",
              "    </tr>\n",
              "    <tr>\n",
              "      <th>3</th>\n",
              "      <td>Sue</td>\n",
              "      <td>HR</td>\n",
              "      <td>90000</td>\n",
              "    </tr>\n",
              "  </tbody>\n",
              "</table>\n",
              "</div>\n",
              "      <button class=\"colab-df-convert\" onclick=\"convertToInteractive('df-b46839f5-d380-4ab5-8a98-ada848ba2cc3')\"\n",
              "              title=\"Convert this dataframe to an interactive table.\"\n",
              "              style=\"display:none;\">\n",
              "        \n",
              "  <svg xmlns=\"http://www.w3.org/2000/svg\" height=\"24px\"viewBox=\"0 0 24 24\"\n",
              "       width=\"24px\">\n",
              "    <path d=\"M0 0h24v24H0V0z\" fill=\"none\"/>\n",
              "    <path d=\"M18.56 5.44l.94 2.06.94-2.06 2.06-.94-2.06-.94-.94-2.06-.94 2.06-2.06.94zm-11 1L8.5 8.5l.94-2.06 2.06-.94-2.06-.94L8.5 2.5l-.94 2.06-2.06.94zm10 10l.94 2.06.94-2.06 2.06-.94-2.06-.94-.94-2.06-.94 2.06-2.06.94z\"/><path d=\"M17.41 7.96l-1.37-1.37c-.4-.4-.92-.59-1.43-.59-.52 0-1.04.2-1.43.59L10.3 9.45l-7.72 7.72c-.78.78-.78 2.05 0 2.83L4 21.41c.39.39.9.59 1.41.59.51 0 1.02-.2 1.41-.59l7.78-7.78 2.81-2.81c.8-.78.8-2.07 0-2.86zM5.41 20L4 18.59l7.72-7.72 1.47 1.35L5.41 20z\"/>\n",
              "  </svg>\n",
              "      </button>\n",
              "      \n",
              "  <style>\n",
              "    .colab-df-container {\n",
              "      display:flex;\n",
              "      flex-wrap:wrap;\n",
              "      gap: 12px;\n",
              "    }\n",
              "\n",
              "    .colab-df-convert {\n",
              "      background-color: #E8F0FE;\n",
              "      border: none;\n",
              "      border-radius: 50%;\n",
              "      cursor: pointer;\n",
              "      display: none;\n",
              "      fill: #1967D2;\n",
              "      height: 32px;\n",
              "      padding: 0 0 0 0;\n",
              "      width: 32px;\n",
              "    }\n",
              "\n",
              "    .colab-df-convert:hover {\n",
              "      background-color: #E2EBFA;\n",
              "      box-shadow: 0px 1px 2px rgba(60, 64, 67, 0.3), 0px 1px 3px 1px rgba(60, 64, 67, 0.15);\n",
              "      fill: #174EA6;\n",
              "    }\n",
              "\n",
              "    [theme=dark] .colab-df-convert {\n",
              "      background-color: #3B4455;\n",
              "      fill: #D2E3FC;\n",
              "    }\n",
              "\n",
              "    [theme=dark] .colab-df-convert:hover {\n",
              "      background-color: #434B5C;\n",
              "      box-shadow: 0px 1px 3px 1px rgba(0, 0, 0, 0.15);\n",
              "      filter: drop-shadow(0px 1px 2px rgba(0, 0, 0, 0.3));\n",
              "      fill: #FFFFFF;\n",
              "    }\n",
              "  </style>\n",
              "\n",
              "      <script>\n",
              "        const buttonEl =\n",
              "          document.querySelector('#df-b46839f5-d380-4ab5-8a98-ada848ba2cc3 button.colab-df-convert');\n",
              "        buttonEl.style.display =\n",
              "          google.colab.kernel.accessAllowed ? 'block' : 'none';\n",
              "\n",
              "        async function convertToInteractive(key) {\n",
              "          const element = document.querySelector('#df-b46839f5-d380-4ab5-8a98-ada848ba2cc3');\n",
              "          const dataTable =\n",
              "            await google.colab.kernel.invokeFunction('convertToInteractive',\n",
              "                                                     [key], {});\n",
              "          if (!dataTable) return;\n",
              "\n",
              "          const docLinkHtml = 'Like what you see? Visit the ' +\n",
              "            '<a target=\"_blank\" href=https://colab.research.google.com/notebooks/data_table.ipynb>data table notebook</a>'\n",
              "            + ' to learn more about interactive tables.';\n",
              "          element.innerHTML = '';\n",
              "          dataTable['output_type'] = 'display_data';\n",
              "          await google.colab.output.renderOutput(dataTable, element);\n",
              "          const docLink = document.createElement('div');\n",
              "          docLink.innerHTML = docLinkHtml;\n",
              "          element.appendChild(docLink);\n",
              "        }\n",
              "      </script>\n",
              "    </div>\n",
              "  </div>\n",
              "  "
            ]
          },
          "metadata": {},
          "execution_count": 240
        }
      ]
    },
    {
      "cell_type": "code",
      "source": [
        "df1a = df1.set_index('employee')\n",
        "df2a = df2.set_index('employee')\n",
        "display('df1a', 'df2a')"
      ],
      "metadata": {
        "colab": {
          "base_uri": "https://localhost:8080/",
          "height": 255
        },
        "id": "-4stnj61SiLE",
        "outputId": "aaea0bea-bf30-4069-a192-40e3d9bd57ba"
      },
      "execution_count": 241,
      "outputs": [
        {
          "output_type": "execute_result",
          "data": {
            "text/plain": [
              "df1a\n",
              "                group\n",
              "employee             \n",
              "Bob        Accounting\n",
              "Jake      Engineering\n",
              "Lisa      Engineering\n",
              "Sue                HR\n",
              "\n",
              "df2a\n",
              "          hire_date\n",
              "employee           \n",
              "Lisa           2004\n",
              "Bob            2008\n",
              "Jake           2012\n",
              "Sue            2014"
            ],
            "text/html": [
              "<div style=\"float: left; padding: 10px;\">\n",
              "    <p style='font-family:\"Courier New\", Courier, monospace'>df1a</p><div>\n",
              "<style scoped>\n",
              "    .dataframe tbody tr th:only-of-type {\n",
              "        vertical-align: middle;\n",
              "    }\n",
              "\n",
              "    .dataframe tbody tr th {\n",
              "        vertical-align: top;\n",
              "    }\n",
              "\n",
              "    .dataframe thead th {\n",
              "        text-align: right;\n",
              "    }\n",
              "</style>\n",
              "<table border=\"1\" class=\"dataframe\">\n",
              "  <thead>\n",
              "    <tr style=\"text-align: right;\">\n",
              "      <th></th>\n",
              "      <th>group</th>\n",
              "    </tr>\n",
              "    <tr>\n",
              "      <th>employee</th>\n",
              "      <th></th>\n",
              "    </tr>\n",
              "  </thead>\n",
              "  <tbody>\n",
              "    <tr>\n",
              "      <th>Bob</th>\n",
              "      <td>Accounting</td>\n",
              "    </tr>\n",
              "    <tr>\n",
              "      <th>Jake</th>\n",
              "      <td>Engineering</td>\n",
              "    </tr>\n",
              "    <tr>\n",
              "      <th>Lisa</th>\n",
              "      <td>Engineering</td>\n",
              "    </tr>\n",
              "    <tr>\n",
              "      <th>Sue</th>\n",
              "      <td>HR</td>\n",
              "    </tr>\n",
              "  </tbody>\n",
              "</table>\n",
              "</div>\n",
              "    </div>\n",
              "<div style=\"float: left; padding: 10px;\">\n",
              "    <p style='font-family:\"Courier New\", Courier, monospace'>df2a</p><div>\n",
              "<style scoped>\n",
              "    .dataframe tbody tr th:only-of-type {\n",
              "        vertical-align: middle;\n",
              "    }\n",
              "\n",
              "    .dataframe tbody tr th {\n",
              "        vertical-align: top;\n",
              "    }\n",
              "\n",
              "    .dataframe thead th {\n",
              "        text-align: right;\n",
              "    }\n",
              "</style>\n",
              "<table border=\"1\" class=\"dataframe\">\n",
              "  <thead>\n",
              "    <tr style=\"text-align: right;\">\n",
              "      <th></th>\n",
              "      <th>hire_date</th>\n",
              "    </tr>\n",
              "    <tr>\n",
              "      <th>employee</th>\n",
              "      <th></th>\n",
              "    </tr>\n",
              "  </thead>\n",
              "  <tbody>\n",
              "    <tr>\n",
              "      <th>Lisa</th>\n",
              "      <td>2004</td>\n",
              "    </tr>\n",
              "    <tr>\n",
              "      <th>Bob</th>\n",
              "      <td>2008</td>\n",
              "    </tr>\n",
              "    <tr>\n",
              "      <th>Jake</th>\n",
              "      <td>2012</td>\n",
              "    </tr>\n",
              "    <tr>\n",
              "      <th>Sue</th>\n",
              "      <td>2014</td>\n",
              "    </tr>\n",
              "  </tbody>\n",
              "</table>\n",
              "</div>\n",
              "    </div>"
            ]
          },
          "metadata": {},
          "execution_count": 241
        }
      ]
    },
    {
      "cell_type": "markdown",
      "source": [
        "Existe a função `join`, cuja finalidade é unir indices"
      ],
      "metadata": {
        "id": "zgWjdbuAS064"
      }
    },
    {
      "cell_type": "code",
      "source": [
        "display('df1a', 'df2a',\n",
        "        \"pd.merge(df1a, df2a, left_index=True, right_index=True)\")"
      ],
      "metadata": {
        "colab": {
          "base_uri": "https://localhost:8080/",
          "height": 255
        },
        "id": "pMUi1tAUS71K",
        "outputId": "3ee6d0ed-d7c6-42ab-8bae-a38e1e0f618d"
      },
      "execution_count": 242,
      "outputs": [
        {
          "output_type": "execute_result",
          "data": {
            "text/plain": [
              "df1a\n",
              "                group\n",
              "employee             \n",
              "Bob        Accounting\n",
              "Jake      Engineering\n",
              "Lisa      Engineering\n",
              "Sue                HR\n",
              "\n",
              "df2a\n",
              "          hire_date\n",
              "employee           \n",
              "Lisa           2004\n",
              "Bob            2008\n",
              "Jake           2012\n",
              "Sue            2014\n",
              "\n",
              "pd.merge(df1a, df2a, left_index=True, right_index=True)\n",
              "                group  hire_date\n",
              "employee                        \n",
              "Bob        Accounting       2008\n",
              "Jake      Engineering       2012\n",
              "Lisa      Engineering       2004\n",
              "Sue                HR       2014"
            ],
            "text/html": [
              "<div style=\"float: left; padding: 10px;\">\n",
              "    <p style='font-family:\"Courier New\", Courier, monospace'>df1a</p><div>\n",
              "<style scoped>\n",
              "    .dataframe tbody tr th:only-of-type {\n",
              "        vertical-align: middle;\n",
              "    }\n",
              "\n",
              "    .dataframe tbody tr th {\n",
              "        vertical-align: top;\n",
              "    }\n",
              "\n",
              "    .dataframe thead th {\n",
              "        text-align: right;\n",
              "    }\n",
              "</style>\n",
              "<table border=\"1\" class=\"dataframe\">\n",
              "  <thead>\n",
              "    <tr style=\"text-align: right;\">\n",
              "      <th></th>\n",
              "      <th>group</th>\n",
              "    </tr>\n",
              "    <tr>\n",
              "      <th>employee</th>\n",
              "      <th></th>\n",
              "    </tr>\n",
              "  </thead>\n",
              "  <tbody>\n",
              "    <tr>\n",
              "      <th>Bob</th>\n",
              "      <td>Accounting</td>\n",
              "    </tr>\n",
              "    <tr>\n",
              "      <th>Jake</th>\n",
              "      <td>Engineering</td>\n",
              "    </tr>\n",
              "    <tr>\n",
              "      <th>Lisa</th>\n",
              "      <td>Engineering</td>\n",
              "    </tr>\n",
              "    <tr>\n",
              "      <th>Sue</th>\n",
              "      <td>HR</td>\n",
              "    </tr>\n",
              "  </tbody>\n",
              "</table>\n",
              "</div>\n",
              "    </div>\n",
              "<div style=\"float: left; padding: 10px;\">\n",
              "    <p style='font-family:\"Courier New\", Courier, monospace'>df2a</p><div>\n",
              "<style scoped>\n",
              "    .dataframe tbody tr th:only-of-type {\n",
              "        vertical-align: middle;\n",
              "    }\n",
              "\n",
              "    .dataframe tbody tr th {\n",
              "        vertical-align: top;\n",
              "    }\n",
              "\n",
              "    .dataframe thead th {\n",
              "        text-align: right;\n",
              "    }\n",
              "</style>\n",
              "<table border=\"1\" class=\"dataframe\">\n",
              "  <thead>\n",
              "    <tr style=\"text-align: right;\">\n",
              "      <th></th>\n",
              "      <th>hire_date</th>\n",
              "    </tr>\n",
              "    <tr>\n",
              "      <th>employee</th>\n",
              "      <th></th>\n",
              "    </tr>\n",
              "  </thead>\n",
              "  <tbody>\n",
              "    <tr>\n",
              "      <th>Lisa</th>\n",
              "      <td>2004</td>\n",
              "    </tr>\n",
              "    <tr>\n",
              "      <th>Bob</th>\n",
              "      <td>2008</td>\n",
              "    </tr>\n",
              "    <tr>\n",
              "      <th>Jake</th>\n",
              "      <td>2012</td>\n",
              "    </tr>\n",
              "    <tr>\n",
              "      <th>Sue</th>\n",
              "      <td>2014</td>\n",
              "    </tr>\n",
              "  </tbody>\n",
              "</table>\n",
              "</div>\n",
              "    </div>\n",
              "<div style=\"float: left; padding: 10px;\">\n",
              "    <p style='font-family:\"Courier New\", Courier, monospace'>pd.merge(df1a, df2a, left_index=True, right_index=True)</p><div>\n",
              "<style scoped>\n",
              "    .dataframe tbody tr th:only-of-type {\n",
              "        vertical-align: middle;\n",
              "    }\n",
              "\n",
              "    .dataframe tbody tr th {\n",
              "        vertical-align: top;\n",
              "    }\n",
              "\n",
              "    .dataframe thead th {\n",
              "        text-align: right;\n",
              "    }\n",
              "</style>\n",
              "<table border=\"1\" class=\"dataframe\">\n",
              "  <thead>\n",
              "    <tr style=\"text-align: right;\">\n",
              "      <th></th>\n",
              "      <th>group</th>\n",
              "      <th>hire_date</th>\n",
              "    </tr>\n",
              "    <tr>\n",
              "      <th>employee</th>\n",
              "      <th></th>\n",
              "      <th></th>\n",
              "    </tr>\n",
              "  </thead>\n",
              "  <tbody>\n",
              "    <tr>\n",
              "      <th>Bob</th>\n",
              "      <td>Accounting</td>\n",
              "      <td>2008</td>\n",
              "    </tr>\n",
              "    <tr>\n",
              "      <th>Jake</th>\n",
              "      <td>Engineering</td>\n",
              "      <td>2012</td>\n",
              "    </tr>\n",
              "    <tr>\n",
              "      <th>Lisa</th>\n",
              "      <td>Engineering</td>\n",
              "      <td>2004</td>\n",
              "    </tr>\n",
              "    <tr>\n",
              "      <th>Sue</th>\n",
              "      <td>HR</td>\n",
              "      <td>2014</td>\n",
              "    </tr>\n",
              "  </tbody>\n",
              "</table>\n",
              "</div>\n",
              "    </div>"
            ]
          },
          "metadata": {},
          "execution_count": 242
        }
      ]
    },
    {
      "cell_type": "code",
      "source": [
        "df6 = pd.DataFrame({'name': ['Peter', 'Paul', 'Mary'],\n",
        "                    'food': ['fish', 'beans', 'bread']},\n",
        "                   columns=['name', 'food'])\n",
        "df7 = pd.DataFrame({'name': ['Mary', 'Joseph'],\n",
        "                    'drink': ['wine', 'beer']},\n",
        "                   columns=['name', 'drink'])\n",
        "display('df6', 'df7', 'pd.merge(df6, df7)')"
      ],
      "metadata": {
        "colab": {
          "base_uri": "https://localhost:8080/",
          "height": 193
        },
        "id": "zzTIZbT0Trhe",
        "outputId": "a5386f36-9957-43fd-b943-e02b12aebbb0"
      },
      "execution_count": 243,
      "outputs": [
        {
          "output_type": "execute_result",
          "data": {
            "text/plain": [
              "df6\n",
              "    name   food\n",
              "0  Peter   fish\n",
              "1   Paul  beans\n",
              "2   Mary  bread\n",
              "\n",
              "df7\n",
              "     name drink\n",
              "0    Mary  wine\n",
              "1  Joseph  beer\n",
              "\n",
              "pd.merge(df6, df7)\n",
              "   name   food drink\n",
              "0  Mary  bread  wine"
            ],
            "text/html": [
              "<div style=\"float: left; padding: 10px;\">\n",
              "    <p style='font-family:\"Courier New\", Courier, monospace'>df6</p><div>\n",
              "<style scoped>\n",
              "    .dataframe tbody tr th:only-of-type {\n",
              "        vertical-align: middle;\n",
              "    }\n",
              "\n",
              "    .dataframe tbody tr th {\n",
              "        vertical-align: top;\n",
              "    }\n",
              "\n",
              "    .dataframe thead th {\n",
              "        text-align: right;\n",
              "    }\n",
              "</style>\n",
              "<table border=\"1\" class=\"dataframe\">\n",
              "  <thead>\n",
              "    <tr style=\"text-align: right;\">\n",
              "      <th></th>\n",
              "      <th>name</th>\n",
              "      <th>food</th>\n",
              "    </tr>\n",
              "  </thead>\n",
              "  <tbody>\n",
              "    <tr>\n",
              "      <th>0</th>\n",
              "      <td>Peter</td>\n",
              "      <td>fish</td>\n",
              "    </tr>\n",
              "    <tr>\n",
              "      <th>1</th>\n",
              "      <td>Paul</td>\n",
              "      <td>beans</td>\n",
              "    </tr>\n",
              "    <tr>\n",
              "      <th>2</th>\n",
              "      <td>Mary</td>\n",
              "      <td>bread</td>\n",
              "    </tr>\n",
              "  </tbody>\n",
              "</table>\n",
              "</div>\n",
              "    </div>\n",
              "<div style=\"float: left; padding: 10px;\">\n",
              "    <p style='font-family:\"Courier New\", Courier, monospace'>df7</p><div>\n",
              "<style scoped>\n",
              "    .dataframe tbody tr th:only-of-type {\n",
              "        vertical-align: middle;\n",
              "    }\n",
              "\n",
              "    .dataframe tbody tr th {\n",
              "        vertical-align: top;\n",
              "    }\n",
              "\n",
              "    .dataframe thead th {\n",
              "        text-align: right;\n",
              "    }\n",
              "</style>\n",
              "<table border=\"1\" class=\"dataframe\">\n",
              "  <thead>\n",
              "    <tr style=\"text-align: right;\">\n",
              "      <th></th>\n",
              "      <th>name</th>\n",
              "      <th>drink</th>\n",
              "    </tr>\n",
              "  </thead>\n",
              "  <tbody>\n",
              "    <tr>\n",
              "      <th>0</th>\n",
              "      <td>Mary</td>\n",
              "      <td>wine</td>\n",
              "    </tr>\n",
              "    <tr>\n",
              "      <th>1</th>\n",
              "      <td>Joseph</td>\n",
              "      <td>beer</td>\n",
              "    </tr>\n",
              "  </tbody>\n",
              "</table>\n",
              "</div>\n",
              "    </div>\n",
              "<div style=\"float: left; padding: 10px;\">\n",
              "    <p style='font-family:\"Courier New\", Courier, monospace'>pd.merge(df6, df7)</p><div>\n",
              "<style scoped>\n",
              "    .dataframe tbody tr th:only-of-type {\n",
              "        vertical-align: middle;\n",
              "    }\n",
              "\n",
              "    .dataframe tbody tr th {\n",
              "        vertical-align: top;\n",
              "    }\n",
              "\n",
              "    .dataframe thead th {\n",
              "        text-align: right;\n",
              "    }\n",
              "</style>\n",
              "<table border=\"1\" class=\"dataframe\">\n",
              "  <thead>\n",
              "    <tr style=\"text-align: right;\">\n",
              "      <th></th>\n",
              "      <th>name</th>\n",
              "      <th>food</th>\n",
              "      <th>drink</th>\n",
              "    </tr>\n",
              "  </thead>\n",
              "  <tbody>\n",
              "    <tr>\n",
              "      <th>0</th>\n",
              "      <td>Mary</td>\n",
              "      <td>bread</td>\n",
              "      <td>wine</td>\n",
              "    </tr>\n",
              "  </tbody>\n",
              "</table>\n",
              "</div>\n",
              "    </div>"
            ]
          },
          "metadata": {},
          "execution_count": 243
        }
      ]
    },
    {
      "cell_type": "markdown",
      "source": [
        "Alguns dados não podem ser compleatado em todos atributos, por isso, a junção uniu apenas as linhas com dados completos. Isso seria equivalente ao fazer:"
      ],
      "metadata": {
        "id": "G6BsigsMUQT9"
      }
    },
    {
      "cell_type": "code",
      "source": [
        "pd.merge(df6, df7, how='inner')"
      ],
      "metadata": {
        "colab": {
          "base_uri": "https://localhost:8080/",
          "height": 81
        },
        "id": "e094CeMpUDyd",
        "outputId": "efdca988-8c87-414f-e8a4-290a4c891c18"
      },
      "execution_count": 244,
      "outputs": [
        {
          "output_type": "execute_result",
          "data": {
            "text/plain": [
              "   name   food drink\n",
              "0  Mary  bread  wine"
            ],
            "text/html": [
              "\n",
              "  <div id=\"df-129841d8-4b75-4ca7-a329-13b31938a062\">\n",
              "    <div class=\"colab-df-container\">\n",
              "      <div>\n",
              "<style scoped>\n",
              "    .dataframe tbody tr th:only-of-type {\n",
              "        vertical-align: middle;\n",
              "    }\n",
              "\n",
              "    .dataframe tbody tr th {\n",
              "        vertical-align: top;\n",
              "    }\n",
              "\n",
              "    .dataframe thead th {\n",
              "        text-align: right;\n",
              "    }\n",
              "</style>\n",
              "<table border=\"1\" class=\"dataframe\">\n",
              "  <thead>\n",
              "    <tr style=\"text-align: right;\">\n",
              "      <th></th>\n",
              "      <th>name</th>\n",
              "      <th>food</th>\n",
              "      <th>drink</th>\n",
              "    </tr>\n",
              "  </thead>\n",
              "  <tbody>\n",
              "    <tr>\n",
              "      <th>0</th>\n",
              "      <td>Mary</td>\n",
              "      <td>bread</td>\n",
              "      <td>wine</td>\n",
              "    </tr>\n",
              "  </tbody>\n",
              "</table>\n",
              "</div>\n",
              "      <button class=\"colab-df-convert\" onclick=\"convertToInteractive('df-129841d8-4b75-4ca7-a329-13b31938a062')\"\n",
              "              title=\"Convert this dataframe to an interactive table.\"\n",
              "              style=\"display:none;\">\n",
              "        \n",
              "  <svg xmlns=\"http://www.w3.org/2000/svg\" height=\"24px\"viewBox=\"0 0 24 24\"\n",
              "       width=\"24px\">\n",
              "    <path d=\"M0 0h24v24H0V0z\" fill=\"none\"/>\n",
              "    <path d=\"M18.56 5.44l.94 2.06.94-2.06 2.06-.94-2.06-.94-.94-2.06-.94 2.06-2.06.94zm-11 1L8.5 8.5l.94-2.06 2.06-.94-2.06-.94L8.5 2.5l-.94 2.06-2.06.94zm10 10l.94 2.06.94-2.06 2.06-.94-2.06-.94-.94-2.06-.94 2.06-2.06.94z\"/><path d=\"M17.41 7.96l-1.37-1.37c-.4-.4-.92-.59-1.43-.59-.52 0-1.04.2-1.43.59L10.3 9.45l-7.72 7.72c-.78.78-.78 2.05 0 2.83L4 21.41c.39.39.9.59 1.41.59.51 0 1.02-.2 1.41-.59l7.78-7.78 2.81-2.81c.8-.78.8-2.07 0-2.86zM5.41 20L4 18.59l7.72-7.72 1.47 1.35L5.41 20z\"/>\n",
              "  </svg>\n",
              "      </button>\n",
              "      \n",
              "  <style>\n",
              "    .colab-df-container {\n",
              "      display:flex;\n",
              "      flex-wrap:wrap;\n",
              "      gap: 12px;\n",
              "    }\n",
              "\n",
              "    .colab-df-convert {\n",
              "      background-color: #E8F0FE;\n",
              "      border: none;\n",
              "      border-radius: 50%;\n",
              "      cursor: pointer;\n",
              "      display: none;\n",
              "      fill: #1967D2;\n",
              "      height: 32px;\n",
              "      padding: 0 0 0 0;\n",
              "      width: 32px;\n",
              "    }\n",
              "\n",
              "    .colab-df-convert:hover {\n",
              "      background-color: #E2EBFA;\n",
              "      box-shadow: 0px 1px 2px rgba(60, 64, 67, 0.3), 0px 1px 3px 1px rgba(60, 64, 67, 0.15);\n",
              "      fill: #174EA6;\n",
              "    }\n",
              "\n",
              "    [theme=dark] .colab-df-convert {\n",
              "      background-color: #3B4455;\n",
              "      fill: #D2E3FC;\n",
              "    }\n",
              "\n",
              "    [theme=dark] .colab-df-convert:hover {\n",
              "      background-color: #434B5C;\n",
              "      box-shadow: 0px 1px 3px 1px rgba(0, 0, 0, 0.15);\n",
              "      filter: drop-shadow(0px 1px 2px rgba(0, 0, 0, 0.3));\n",
              "      fill: #FFFFFF;\n",
              "    }\n",
              "  </style>\n",
              "\n",
              "      <script>\n",
              "        const buttonEl =\n",
              "          document.querySelector('#df-129841d8-4b75-4ca7-a329-13b31938a062 button.colab-df-convert');\n",
              "        buttonEl.style.display =\n",
              "          google.colab.kernel.accessAllowed ? 'block' : 'none';\n",
              "\n",
              "        async function convertToInteractive(key) {\n",
              "          const element = document.querySelector('#df-129841d8-4b75-4ca7-a329-13b31938a062');\n",
              "          const dataTable =\n",
              "            await google.colab.kernel.invokeFunction('convertToInteractive',\n",
              "                                                     [key], {});\n",
              "          if (!dataTable) return;\n",
              "\n",
              "          const docLinkHtml = 'Like what you see? Visit the ' +\n",
              "            '<a target=\"_blank\" href=https://colab.research.google.com/notebooks/data_table.ipynb>data table notebook</a>'\n",
              "            + ' to learn more about interactive tables.';\n",
              "          element.innerHTML = '';\n",
              "          dataTable['output_type'] = 'display_data';\n",
              "          await google.colab.output.renderOutput(dataTable, element);\n",
              "          const docLink = document.createElement('div');\n",
              "          docLink.innerHTML = docLinkHtml;\n",
              "          element.appendChild(docLink);\n",
              "        }\n",
              "      </script>\n",
              "    </div>\n",
              "  </div>\n",
              "  "
            ]
          },
          "metadata": {},
          "execution_count": 244
        }
      ]
    },
    {
      "cell_type": "markdown",
      "source": [
        "Existe uma forma de preencher os dados que estão falatando e forçar uma união com todos atributos, que seria da seguinte forma:"
      ],
      "metadata": {
        "id": "p-b6r29lUk1F"
      }
    },
    {
      "cell_type": "code",
      "source": [
        "display('df6', 'df7', \"pd.merge(df6, df7, how='outer')\")"
      ],
      "metadata": {
        "colab": {
          "base_uri": "https://localhost:8080/",
          "height": 224
        },
        "id": "H_KMgnb0Uy5h",
        "outputId": "475d0eb6-d24a-4527-a2dc-89afefa4ac47"
      },
      "execution_count": 245,
      "outputs": [
        {
          "output_type": "execute_result",
          "data": {
            "text/plain": [
              "df6\n",
              "    name   food\n",
              "0  Peter   fish\n",
              "1   Paul  beans\n",
              "2   Mary  bread\n",
              "\n",
              "df7\n",
              "     name drink\n",
              "0    Mary  wine\n",
              "1  Joseph  beer\n",
              "\n",
              "pd.merge(df6, df7, how='outer')\n",
              "     name   food drink\n",
              "0   Peter   fish   NaN\n",
              "1    Paul  beans   NaN\n",
              "2    Mary  bread  wine\n",
              "3  Joseph    NaN  beer"
            ],
            "text/html": [
              "<div style=\"float: left; padding: 10px;\">\n",
              "    <p style='font-family:\"Courier New\", Courier, monospace'>df6</p><div>\n",
              "<style scoped>\n",
              "    .dataframe tbody tr th:only-of-type {\n",
              "        vertical-align: middle;\n",
              "    }\n",
              "\n",
              "    .dataframe tbody tr th {\n",
              "        vertical-align: top;\n",
              "    }\n",
              "\n",
              "    .dataframe thead th {\n",
              "        text-align: right;\n",
              "    }\n",
              "</style>\n",
              "<table border=\"1\" class=\"dataframe\">\n",
              "  <thead>\n",
              "    <tr style=\"text-align: right;\">\n",
              "      <th></th>\n",
              "      <th>name</th>\n",
              "      <th>food</th>\n",
              "    </tr>\n",
              "  </thead>\n",
              "  <tbody>\n",
              "    <tr>\n",
              "      <th>0</th>\n",
              "      <td>Peter</td>\n",
              "      <td>fish</td>\n",
              "    </tr>\n",
              "    <tr>\n",
              "      <th>1</th>\n",
              "      <td>Paul</td>\n",
              "      <td>beans</td>\n",
              "    </tr>\n",
              "    <tr>\n",
              "      <th>2</th>\n",
              "      <td>Mary</td>\n",
              "      <td>bread</td>\n",
              "    </tr>\n",
              "  </tbody>\n",
              "</table>\n",
              "</div>\n",
              "    </div>\n",
              "<div style=\"float: left; padding: 10px;\">\n",
              "    <p style='font-family:\"Courier New\", Courier, monospace'>df7</p><div>\n",
              "<style scoped>\n",
              "    .dataframe tbody tr th:only-of-type {\n",
              "        vertical-align: middle;\n",
              "    }\n",
              "\n",
              "    .dataframe tbody tr th {\n",
              "        vertical-align: top;\n",
              "    }\n",
              "\n",
              "    .dataframe thead th {\n",
              "        text-align: right;\n",
              "    }\n",
              "</style>\n",
              "<table border=\"1\" class=\"dataframe\">\n",
              "  <thead>\n",
              "    <tr style=\"text-align: right;\">\n",
              "      <th></th>\n",
              "      <th>name</th>\n",
              "      <th>drink</th>\n",
              "    </tr>\n",
              "  </thead>\n",
              "  <tbody>\n",
              "    <tr>\n",
              "      <th>0</th>\n",
              "      <td>Mary</td>\n",
              "      <td>wine</td>\n",
              "    </tr>\n",
              "    <tr>\n",
              "      <th>1</th>\n",
              "      <td>Joseph</td>\n",
              "      <td>beer</td>\n",
              "    </tr>\n",
              "  </tbody>\n",
              "</table>\n",
              "</div>\n",
              "    </div>\n",
              "<div style=\"float: left; padding: 10px;\">\n",
              "    <p style='font-family:\"Courier New\", Courier, monospace'>pd.merge(df6, df7, how='outer')</p><div>\n",
              "<style scoped>\n",
              "    .dataframe tbody tr th:only-of-type {\n",
              "        vertical-align: middle;\n",
              "    }\n",
              "\n",
              "    .dataframe tbody tr th {\n",
              "        vertical-align: top;\n",
              "    }\n",
              "\n",
              "    .dataframe thead th {\n",
              "        text-align: right;\n",
              "    }\n",
              "</style>\n",
              "<table border=\"1\" class=\"dataframe\">\n",
              "  <thead>\n",
              "    <tr style=\"text-align: right;\">\n",
              "      <th></th>\n",
              "      <th>name</th>\n",
              "      <th>food</th>\n",
              "      <th>drink</th>\n",
              "    </tr>\n",
              "  </thead>\n",
              "  <tbody>\n",
              "    <tr>\n",
              "      <th>0</th>\n",
              "      <td>Peter</td>\n",
              "      <td>fish</td>\n",
              "      <td>NaN</td>\n",
              "    </tr>\n",
              "    <tr>\n",
              "      <th>1</th>\n",
              "      <td>Paul</td>\n",
              "      <td>beans</td>\n",
              "      <td>NaN</td>\n",
              "    </tr>\n",
              "    <tr>\n",
              "      <th>2</th>\n",
              "      <td>Mary</td>\n",
              "      <td>bread</td>\n",
              "      <td>wine</td>\n",
              "    </tr>\n",
              "    <tr>\n",
              "      <th>3</th>\n",
              "      <td>Joseph</td>\n",
              "      <td>NaN</td>\n",
              "      <td>beer</td>\n",
              "    </tr>\n",
              "  </tbody>\n",
              "</table>\n",
              "</div>\n",
              "    </div>"
            ]
          },
          "metadata": {},
          "execution_count": 245
        }
      ]
    },
    {
      "cell_type": "markdown",
      "source": [
        "Por fim, você pode acabar em um caso em que seus dois input DataFrames têm nomes de colunas conflitantes. Considere este exemplo:"
      ],
      "metadata": {
        "id": "pmH-rAspVGzx"
      }
    },
    {
      "cell_type": "code",
      "source": [
        "df8 = pd.DataFrame({'name': ['Bob', 'Jake', 'Lisa', 'Sue'],\n",
        "                    'rank': [1, 2, 3, 4]})\n",
        "df9 = pd.DataFrame({'name': ['Bob', 'Jake', 'Lisa', 'Sue'],\n",
        "                    'rank': [3, 1, 4, 2]})\n",
        "display('df8', 'df9', 'pd.merge(df8, df9, on=\"name\")')"
      ],
      "metadata": {
        "colab": {
          "base_uri": "https://localhost:8080/",
          "height": 224
        },
        "id": "1K60_9XAVH5E",
        "outputId": "3ddec5c0-82cd-46a1-db75-f13ecb3f38d0"
      },
      "execution_count": 246,
      "outputs": [
        {
          "output_type": "execute_result",
          "data": {
            "text/plain": [
              "df8\n",
              "   name  rank\n",
              "0   Bob     1\n",
              "1  Jake     2\n",
              "2  Lisa     3\n",
              "3   Sue     4\n",
              "\n",
              "df9\n",
              "   name  rank\n",
              "0   Bob     3\n",
              "1  Jake     1\n",
              "2  Lisa     4\n",
              "3   Sue     2\n",
              "\n",
              "pd.merge(df8, df9, on=\"name\")\n",
              "   name  rank_x  rank_y\n",
              "0   Bob       1       3\n",
              "1  Jake       2       1\n",
              "2  Lisa       3       4\n",
              "3   Sue       4       2"
            ],
            "text/html": [
              "<div style=\"float: left; padding: 10px;\">\n",
              "    <p style='font-family:\"Courier New\", Courier, monospace'>df8</p><div>\n",
              "<style scoped>\n",
              "    .dataframe tbody tr th:only-of-type {\n",
              "        vertical-align: middle;\n",
              "    }\n",
              "\n",
              "    .dataframe tbody tr th {\n",
              "        vertical-align: top;\n",
              "    }\n",
              "\n",
              "    .dataframe thead th {\n",
              "        text-align: right;\n",
              "    }\n",
              "</style>\n",
              "<table border=\"1\" class=\"dataframe\">\n",
              "  <thead>\n",
              "    <tr style=\"text-align: right;\">\n",
              "      <th></th>\n",
              "      <th>name</th>\n",
              "      <th>rank</th>\n",
              "    </tr>\n",
              "  </thead>\n",
              "  <tbody>\n",
              "    <tr>\n",
              "      <th>0</th>\n",
              "      <td>Bob</td>\n",
              "      <td>1</td>\n",
              "    </tr>\n",
              "    <tr>\n",
              "      <th>1</th>\n",
              "      <td>Jake</td>\n",
              "      <td>2</td>\n",
              "    </tr>\n",
              "    <tr>\n",
              "      <th>2</th>\n",
              "      <td>Lisa</td>\n",
              "      <td>3</td>\n",
              "    </tr>\n",
              "    <tr>\n",
              "      <th>3</th>\n",
              "      <td>Sue</td>\n",
              "      <td>4</td>\n",
              "    </tr>\n",
              "  </tbody>\n",
              "</table>\n",
              "</div>\n",
              "    </div>\n",
              "<div style=\"float: left; padding: 10px;\">\n",
              "    <p style='font-family:\"Courier New\", Courier, monospace'>df9</p><div>\n",
              "<style scoped>\n",
              "    .dataframe tbody tr th:only-of-type {\n",
              "        vertical-align: middle;\n",
              "    }\n",
              "\n",
              "    .dataframe tbody tr th {\n",
              "        vertical-align: top;\n",
              "    }\n",
              "\n",
              "    .dataframe thead th {\n",
              "        text-align: right;\n",
              "    }\n",
              "</style>\n",
              "<table border=\"1\" class=\"dataframe\">\n",
              "  <thead>\n",
              "    <tr style=\"text-align: right;\">\n",
              "      <th></th>\n",
              "      <th>name</th>\n",
              "      <th>rank</th>\n",
              "    </tr>\n",
              "  </thead>\n",
              "  <tbody>\n",
              "    <tr>\n",
              "      <th>0</th>\n",
              "      <td>Bob</td>\n",
              "      <td>3</td>\n",
              "    </tr>\n",
              "    <tr>\n",
              "      <th>1</th>\n",
              "      <td>Jake</td>\n",
              "      <td>1</td>\n",
              "    </tr>\n",
              "    <tr>\n",
              "      <th>2</th>\n",
              "      <td>Lisa</td>\n",
              "      <td>4</td>\n",
              "    </tr>\n",
              "    <tr>\n",
              "      <th>3</th>\n",
              "      <td>Sue</td>\n",
              "      <td>2</td>\n",
              "    </tr>\n",
              "  </tbody>\n",
              "</table>\n",
              "</div>\n",
              "    </div>\n",
              "<div style=\"float: left; padding: 10px;\">\n",
              "    <p style='font-family:\"Courier New\", Courier, monospace'>pd.merge(df8, df9, on=\"name\")</p><div>\n",
              "<style scoped>\n",
              "    .dataframe tbody tr th:only-of-type {\n",
              "        vertical-align: middle;\n",
              "    }\n",
              "\n",
              "    .dataframe tbody tr th {\n",
              "        vertical-align: top;\n",
              "    }\n",
              "\n",
              "    .dataframe thead th {\n",
              "        text-align: right;\n",
              "    }\n",
              "</style>\n",
              "<table border=\"1\" class=\"dataframe\">\n",
              "  <thead>\n",
              "    <tr style=\"text-align: right;\">\n",
              "      <th></th>\n",
              "      <th>name</th>\n",
              "      <th>rank_x</th>\n",
              "      <th>rank_y</th>\n",
              "    </tr>\n",
              "  </thead>\n",
              "  <tbody>\n",
              "    <tr>\n",
              "      <th>0</th>\n",
              "      <td>Bob</td>\n",
              "      <td>1</td>\n",
              "      <td>3</td>\n",
              "    </tr>\n",
              "    <tr>\n",
              "      <th>1</th>\n",
              "      <td>Jake</td>\n",
              "      <td>2</td>\n",
              "      <td>1</td>\n",
              "    </tr>\n",
              "    <tr>\n",
              "      <th>2</th>\n",
              "      <td>Lisa</td>\n",
              "      <td>3</td>\n",
              "      <td>4</td>\n",
              "    </tr>\n",
              "    <tr>\n",
              "      <th>3</th>\n",
              "      <td>Sue</td>\n",
              "      <td>4</td>\n",
              "      <td>2</td>\n",
              "    </tr>\n",
              "  </tbody>\n",
              "</table>\n",
              "</div>\n",
              "    </div>"
            ]
          },
          "metadata": {},
          "execution_count": 246
        }
      ]
    },
    {
      "cell_type": "markdown",
      "source": [
        "a junção anexa um sufixo, como pode ser observado em x e y"
      ],
      "metadata": {
        "id": "L_na3AhEVNrt"
      }
    },
    {
      "cell_type": "markdown",
      "source": [
        "# Agregação e Agrupamento\n",
        "\n",
        "Uma parte essencial da análise de dados grandes é a sumarização eficiente: computar agregações como `sum()`, `mean()`, , e , em que um único número fornece informações sobre a natureza de um conjunto de dados potencialmente grande."
      ],
      "metadata": {
        "id": "yUjaObJOD2dV"
      }
    },
    {
      "cell_type": "markdown",
      "source": [
        "Assim como em uma matriz NumPy unidimensional, para um Pandas, Seriesas agregações retornam um único valor:"
      ],
      "metadata": {
        "id": "8klgFu4AG8EU"
      }
    },
    {
      "cell_type": "code",
      "source": [
        "rng = np.random.RandomState(42)\n",
        "ser = pd.Series(rng.rand(5))\n",
        "ser"
      ],
      "metadata": {
        "colab": {
          "base_uri": "https://localhost:8080/"
        },
        "id": "Xqnf-XJPG9O0",
        "outputId": "a7e2ac2a-7f26-461b-9549-74c2a5f8b542"
      },
      "execution_count": 247,
      "outputs": [
        {
          "output_type": "execute_result",
          "data": {
            "text/plain": [
              "0    0.374540\n",
              "1    0.950714\n",
              "2    0.731994\n",
              "3    0.598658\n",
              "4    0.156019\n",
              "dtype: float64"
            ]
          },
          "metadata": {},
          "execution_count": 247
        }
      ]
    },
    {
      "cell_type": "code",
      "source": [
        "ser.sum()"
      ],
      "metadata": {
        "colab": {
          "base_uri": "https://localhost:8080/"
        },
        "id": "6_dcyDJaHTs2",
        "outputId": "2a876238-352b-4320-acb3-9475967f4ac4"
      },
      "execution_count": 248,
      "outputs": [
        {
          "output_type": "execute_result",
          "data": {
            "text/plain": [
              "2.811925491708157"
            ]
          },
          "metadata": {},
          "execution_count": 248
        }
      ]
    },
    {
      "cell_type": "code",
      "source": [
        "ser.mean()"
      ],
      "metadata": {
        "colab": {
          "base_uri": "https://localhost:8080/"
        },
        "id": "PrLy2zb6HUZo",
        "outputId": "b1d845c5-6d09-4e06-b6d2-715d28a5cc18"
      },
      "execution_count": 249,
      "outputs": [
        {
          "output_type": "execute_result",
          "data": {
            "text/plain": [
              "0.5623850983416314"
            ]
          },
          "metadata": {},
          "execution_count": 249
        }
      ]
    },
    {
      "cell_type": "markdown",
      "source": [
        "Para um DataFrame, por padrão, as agregações retornam resultados dentro de cada coluna:"
      ],
      "metadata": {
        "id": "3X-RyvfGFNll"
      }
    },
    {
      "cell_type": "code",
      "source": [
        "df = pd.DataFrame({'A': rng.rand(5),\n",
        "                   'B': rng.rand(5)})\n",
        "df"
      ],
      "metadata": {
        "colab": {
          "base_uri": "https://localhost:8080/",
          "height": 206
        },
        "id": "Q-c1wMD3HeVX",
        "outputId": "60efec79-6c83-4b2c-b177-75bd9303a4bb"
      },
      "execution_count": 250,
      "outputs": [
        {
          "output_type": "execute_result",
          "data": {
            "text/plain": [
              "          A         B\n",
              "0  0.155995  0.020584\n",
              "1  0.058084  0.969910\n",
              "2  0.866176  0.832443\n",
              "3  0.601115  0.212339\n",
              "4  0.708073  0.181825"
            ],
            "text/html": [
              "\n",
              "  <div id=\"df-a5331aba-ef77-40f5-8ff7-b9c9549b9682\">\n",
              "    <div class=\"colab-df-container\">\n",
              "      <div>\n",
              "<style scoped>\n",
              "    .dataframe tbody tr th:only-of-type {\n",
              "        vertical-align: middle;\n",
              "    }\n",
              "\n",
              "    .dataframe tbody tr th {\n",
              "        vertical-align: top;\n",
              "    }\n",
              "\n",
              "    .dataframe thead th {\n",
              "        text-align: right;\n",
              "    }\n",
              "</style>\n",
              "<table border=\"1\" class=\"dataframe\">\n",
              "  <thead>\n",
              "    <tr style=\"text-align: right;\">\n",
              "      <th></th>\n",
              "      <th>A</th>\n",
              "      <th>B</th>\n",
              "    </tr>\n",
              "  </thead>\n",
              "  <tbody>\n",
              "    <tr>\n",
              "      <th>0</th>\n",
              "      <td>0.155995</td>\n",
              "      <td>0.020584</td>\n",
              "    </tr>\n",
              "    <tr>\n",
              "      <th>1</th>\n",
              "      <td>0.058084</td>\n",
              "      <td>0.969910</td>\n",
              "    </tr>\n",
              "    <tr>\n",
              "      <th>2</th>\n",
              "      <td>0.866176</td>\n",
              "      <td>0.832443</td>\n",
              "    </tr>\n",
              "    <tr>\n",
              "      <th>3</th>\n",
              "      <td>0.601115</td>\n",
              "      <td>0.212339</td>\n",
              "    </tr>\n",
              "    <tr>\n",
              "      <th>4</th>\n",
              "      <td>0.708073</td>\n",
              "      <td>0.181825</td>\n",
              "    </tr>\n",
              "  </tbody>\n",
              "</table>\n",
              "</div>\n",
              "      <button class=\"colab-df-convert\" onclick=\"convertToInteractive('df-a5331aba-ef77-40f5-8ff7-b9c9549b9682')\"\n",
              "              title=\"Convert this dataframe to an interactive table.\"\n",
              "              style=\"display:none;\">\n",
              "        \n",
              "  <svg xmlns=\"http://www.w3.org/2000/svg\" height=\"24px\"viewBox=\"0 0 24 24\"\n",
              "       width=\"24px\">\n",
              "    <path d=\"M0 0h24v24H0V0z\" fill=\"none\"/>\n",
              "    <path d=\"M18.56 5.44l.94 2.06.94-2.06 2.06-.94-2.06-.94-.94-2.06-.94 2.06-2.06.94zm-11 1L8.5 8.5l.94-2.06 2.06-.94-2.06-.94L8.5 2.5l-.94 2.06-2.06.94zm10 10l.94 2.06.94-2.06 2.06-.94-2.06-.94-.94-2.06-.94 2.06-2.06.94z\"/><path d=\"M17.41 7.96l-1.37-1.37c-.4-.4-.92-.59-1.43-.59-.52 0-1.04.2-1.43.59L10.3 9.45l-7.72 7.72c-.78.78-.78 2.05 0 2.83L4 21.41c.39.39.9.59 1.41.59.51 0 1.02-.2 1.41-.59l7.78-7.78 2.81-2.81c.8-.78.8-2.07 0-2.86zM5.41 20L4 18.59l7.72-7.72 1.47 1.35L5.41 20z\"/>\n",
              "  </svg>\n",
              "      </button>\n",
              "      \n",
              "  <style>\n",
              "    .colab-df-container {\n",
              "      display:flex;\n",
              "      flex-wrap:wrap;\n",
              "      gap: 12px;\n",
              "    }\n",
              "\n",
              "    .colab-df-convert {\n",
              "      background-color: #E8F0FE;\n",
              "      border: none;\n",
              "      border-radius: 50%;\n",
              "      cursor: pointer;\n",
              "      display: none;\n",
              "      fill: #1967D2;\n",
              "      height: 32px;\n",
              "      padding: 0 0 0 0;\n",
              "      width: 32px;\n",
              "    }\n",
              "\n",
              "    .colab-df-convert:hover {\n",
              "      background-color: #E2EBFA;\n",
              "      box-shadow: 0px 1px 2px rgba(60, 64, 67, 0.3), 0px 1px 3px 1px rgba(60, 64, 67, 0.15);\n",
              "      fill: #174EA6;\n",
              "    }\n",
              "\n",
              "    [theme=dark] .colab-df-convert {\n",
              "      background-color: #3B4455;\n",
              "      fill: #D2E3FC;\n",
              "    }\n",
              "\n",
              "    [theme=dark] .colab-df-convert:hover {\n",
              "      background-color: #434B5C;\n",
              "      box-shadow: 0px 1px 3px 1px rgba(0, 0, 0, 0.15);\n",
              "      filter: drop-shadow(0px 1px 2px rgba(0, 0, 0, 0.3));\n",
              "      fill: #FFFFFF;\n",
              "    }\n",
              "  </style>\n",
              "\n",
              "      <script>\n",
              "        const buttonEl =\n",
              "          document.querySelector('#df-a5331aba-ef77-40f5-8ff7-b9c9549b9682 button.colab-df-convert');\n",
              "        buttonEl.style.display =\n",
              "          google.colab.kernel.accessAllowed ? 'block' : 'none';\n",
              "\n",
              "        async function convertToInteractive(key) {\n",
              "          const element = document.querySelector('#df-a5331aba-ef77-40f5-8ff7-b9c9549b9682');\n",
              "          const dataTable =\n",
              "            await google.colab.kernel.invokeFunction('convertToInteractive',\n",
              "                                                     [key], {});\n",
              "          if (!dataTable) return;\n",
              "\n",
              "          const docLinkHtml = 'Like what you see? Visit the ' +\n",
              "            '<a target=\"_blank\" href=https://colab.research.google.com/notebooks/data_table.ipynb>data table notebook</a>'\n",
              "            + ' to learn more about interactive tables.';\n",
              "          element.innerHTML = '';\n",
              "          dataTable['output_type'] = 'display_data';\n",
              "          await google.colab.output.renderOutput(dataTable, element);\n",
              "          const docLink = document.createElement('div');\n",
              "          docLink.innerHTML = docLinkHtml;\n",
              "          element.appendChild(docLink);\n",
              "        }\n",
              "      </script>\n",
              "    </div>\n",
              "  </div>\n",
              "  "
            ]
          },
          "metadata": {},
          "execution_count": 250
        }
      ]
    },
    {
      "cell_type": "code",
      "source": [
        "df.mean()"
      ],
      "metadata": {
        "colab": {
          "base_uri": "https://localhost:8080/"
        },
        "id": "sleqfGmbHpm0",
        "outputId": "f7dfd968-5b36-4f2d-f218-54ae481fed6e"
      },
      "execution_count": 251,
      "outputs": [
        {
          "output_type": "execute_result",
          "data": {
            "text/plain": [
              "A    0.477888\n",
              "B    0.443420\n",
              "dtype: float64"
            ]
          },
          "metadata": {},
          "execution_count": 251
        }
      ]
    },
    {
      "cell_type": "markdown",
      "source": [
        "Ao especificar o axisargumento, você pode agregar dentro de cada linha:"
      ],
      "metadata": {
        "id": "skG9QCcxIGaD"
      }
    },
    {
      "cell_type": "code",
      "source": [
        "df.mean(axis='columns')"
      ],
      "metadata": {
        "colab": {
          "base_uri": "https://localhost:8080/"
        },
        "id": "_wHsILdRIBy_",
        "outputId": "30e54837-e397-4daa-e319-ebcc5aa79720"
      },
      "execution_count": 252,
      "outputs": [
        {
          "output_type": "execute_result",
          "data": {
            "text/plain": [
              "0    0.088290\n",
              "1    0.513997\n",
              "2    0.849309\n",
              "3    0.406727\n",
              "4    0.444949\n",
              "dtype: float64"
            ]
          },
          "metadata": {},
          "execution_count": 252
        }
      ]
    },
    {
      "cell_type": "markdown",
      "source": [
        "Além de o pandas ter todas as agregações vistas anteriormente. existe um método de conveniência `describe()` que calcula várias agregações comuns para cada coluna e retorna o resultado.\n",
        "\n",
        "![image.png](data:image/png;base64,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)"
      ],
      "metadata": {
        "id": "bKAcbMBdISKW"
      }
    },
    {
      "cell_type": "markdown",
      "source": [
        "##GroupBy: Dividir, Aplicar, Combinar\n",
        "\n",
        "Agregações simples podem fornecer uma amostra do seu conjunto de dados, mas geralmente preferimos agregar condicionalmente em algum rótulo ou índice: isso é implementado na chamada groupbyoperação. O nome \"agrupar por\" vem de um comando na linguagem de banco de dados SQL, mas talvez seja mais esclarecedor pensar nisso nos termos cunhados pela primeira vez por Hadley Wickham da fama do Rstats: dividir, aplicar, combinar .\n",
        "\n",
        "![image.png](data:image/png;base64,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)\n",
        "\n",
        "Isso deixa claro o que o `groupby` realiza:\n",
        "\n",
        "* A etapa de divisão envolve dividir e agrupar um DataFramedependendo do valor da chave especificada.\n",
        "* A etapa de aplicação envolve o cálculo de alguma função, geralmente uma agregação, transformação ou filtragem, dentro dos grupos individuais.\n",
        "* A etapa de combinação mescla os resultados dessas operações em uma matriz de saída."
      ],
      "metadata": {
        "id": "CwpuoTBJJfyN"
      }
    },
    {
      "cell_type": "markdown",
      "source": [],
      "metadata": {
        "id": "C4OYE0DTT1d1"
      }
    },
    {
      "cell_type": "code",
      "source": [
        "df = pd.DataFrame({'key': ['A', 'B', 'C', 'A', 'B', 'C'],\n",
        "                   'data': range(6)}, columns=['key', 'data'])\n",
        "df"
      ],
      "metadata": {
        "colab": {
          "base_uri": "https://localhost:8080/",
          "height": 237
        },
        "id": "XsXQ8WleUWRB",
        "outputId": "cb09c97a-8153-4c4d-c965-50e848b68180"
      },
      "execution_count": 253,
      "outputs": [
        {
          "output_type": "execute_result",
          "data": {
            "text/plain": [
              "  key  data\n",
              "0   A     0\n",
              "1   B     1\n",
              "2   C     2\n",
              "3   A     3\n",
              "4   B     4\n",
              "5   C     5"
            ],
            "text/html": [
              "\n",
              "  <div id=\"df-0637795f-bbc2-4ba9-bc0b-e2dd74f7cd34\">\n",
              "    <div class=\"colab-df-container\">\n",
              "      <div>\n",
              "<style scoped>\n",
              "    .dataframe tbody tr th:only-of-type {\n",
              "        vertical-align: middle;\n",
              "    }\n",
              "\n",
              "    .dataframe tbody tr th {\n",
              "        vertical-align: top;\n",
              "    }\n",
              "\n",
              "    .dataframe thead th {\n",
              "        text-align: right;\n",
              "    }\n",
              "</style>\n",
              "<table border=\"1\" class=\"dataframe\">\n",
              "  <thead>\n",
              "    <tr style=\"text-align: right;\">\n",
              "      <th></th>\n",
              "      <th>key</th>\n",
              "      <th>data</th>\n",
              "    </tr>\n",
              "  </thead>\n",
              "  <tbody>\n",
              "    <tr>\n",
              "      <th>0</th>\n",
              "      <td>A</td>\n",
              "      <td>0</td>\n",
              "    </tr>\n",
              "    <tr>\n",
              "      <th>1</th>\n",
              "      <td>B</td>\n",
              "      <td>1</td>\n",
              "    </tr>\n",
              "    <tr>\n",
              "      <th>2</th>\n",
              "      <td>C</td>\n",
              "      <td>2</td>\n",
              "    </tr>\n",
              "    <tr>\n",
              "      <th>3</th>\n",
              "      <td>A</td>\n",
              "      <td>3</td>\n",
              "    </tr>\n",
              "    <tr>\n",
              "      <th>4</th>\n",
              "      <td>B</td>\n",
              "      <td>4</td>\n",
              "    </tr>\n",
              "    <tr>\n",
              "      <th>5</th>\n",
              "      <td>C</td>\n",
              "      <td>5</td>\n",
              "    </tr>\n",
              "  </tbody>\n",
              "</table>\n",
              "</div>\n",
              "      <button class=\"colab-df-convert\" onclick=\"convertToInteractive('df-0637795f-bbc2-4ba9-bc0b-e2dd74f7cd34')\"\n",
              "              title=\"Convert this dataframe to an interactive table.\"\n",
              "              style=\"display:none;\">\n",
              "        \n",
              "  <svg xmlns=\"http://www.w3.org/2000/svg\" height=\"24px\"viewBox=\"0 0 24 24\"\n",
              "       width=\"24px\">\n",
              "    <path d=\"M0 0h24v24H0V0z\" fill=\"none\"/>\n",
              "    <path d=\"M18.56 5.44l.94 2.06.94-2.06 2.06-.94-2.06-.94-.94-2.06-.94 2.06-2.06.94zm-11 1L8.5 8.5l.94-2.06 2.06-.94-2.06-.94L8.5 2.5l-.94 2.06-2.06.94zm10 10l.94 2.06.94-2.06 2.06-.94-2.06-.94-.94-2.06-.94 2.06-2.06.94z\"/><path d=\"M17.41 7.96l-1.37-1.37c-.4-.4-.92-.59-1.43-.59-.52 0-1.04.2-1.43.59L10.3 9.45l-7.72 7.72c-.78.78-.78 2.05 0 2.83L4 21.41c.39.39.9.59 1.41.59.51 0 1.02-.2 1.41-.59l7.78-7.78 2.81-2.81c.8-.78.8-2.07 0-2.86zM5.41 20L4 18.59l7.72-7.72 1.47 1.35L5.41 20z\"/>\n",
              "  </svg>\n",
              "      </button>\n",
              "      \n",
              "  <style>\n",
              "    .colab-df-container {\n",
              "      display:flex;\n",
              "      flex-wrap:wrap;\n",
              "      gap: 12px;\n",
              "    }\n",
              "\n",
              "    .colab-df-convert {\n",
              "      background-color: #E8F0FE;\n",
              "      border: none;\n",
              "      border-radius: 50%;\n",
              "      cursor: pointer;\n",
              "      display: none;\n",
              "      fill: #1967D2;\n",
              "      height: 32px;\n",
              "      padding: 0 0 0 0;\n",
              "      width: 32px;\n",
              "    }\n",
              "\n",
              "    .colab-df-convert:hover {\n",
              "      background-color: #E2EBFA;\n",
              "      box-shadow: 0px 1px 2px rgba(60, 64, 67, 0.3), 0px 1px 3px 1px rgba(60, 64, 67, 0.15);\n",
              "      fill: #174EA6;\n",
              "    }\n",
              "\n",
              "    [theme=dark] .colab-df-convert {\n",
              "      background-color: #3B4455;\n",
              "      fill: #D2E3FC;\n",
              "    }\n",
              "\n",
              "    [theme=dark] .colab-df-convert:hover {\n",
              "      background-color: #434B5C;\n",
              "      box-shadow: 0px 1px 3px 1px rgba(0, 0, 0, 0.15);\n",
              "      filter: drop-shadow(0px 1px 2px rgba(0, 0, 0, 0.3));\n",
              "      fill: #FFFFFF;\n",
              "    }\n",
              "  </style>\n",
              "\n",
              "      <script>\n",
              "        const buttonEl =\n",
              "          document.querySelector('#df-0637795f-bbc2-4ba9-bc0b-e2dd74f7cd34 button.colab-df-convert');\n",
              "        buttonEl.style.display =\n",
              "          google.colab.kernel.accessAllowed ? 'block' : 'none';\n",
              "\n",
              "        async function convertToInteractive(key) {\n",
              "          const element = document.querySelector('#df-0637795f-bbc2-4ba9-bc0b-e2dd74f7cd34');\n",
              "          const dataTable =\n",
              "            await google.colab.kernel.invokeFunction('convertToInteractive',\n",
              "                                                     [key], {});\n",
              "          if (!dataTable) return;\n",
              "\n",
              "          const docLinkHtml = 'Like what you see? Visit the ' +\n",
              "            '<a target=\"_blank\" href=https://colab.research.google.com/notebooks/data_table.ipynb>data table notebook</a>'\n",
              "            + ' to learn more about interactive tables.';\n",
              "          element.innerHTML = '';\n",
              "          dataTable['output_type'] = 'display_data';\n",
              "          await google.colab.output.renderOutput(dataTable, element);\n",
              "          const docLink = document.createElement('div');\n",
              "          docLink.innerHTML = docLinkHtml;\n",
              "          element.appendChild(docLink);\n",
              "        }\n",
              "      </script>\n",
              "    </div>\n",
              "  </div>\n",
              "  "
            ]
          },
          "metadata": {},
          "execution_count": 253
        }
      ]
    },
    {
      "cell_type": "code",
      "source": [
        "df.groupby('key')"
      ],
      "metadata": {
        "colab": {
          "base_uri": "https://localhost:8080/"
        },
        "id": "9MIAykE5Uess",
        "outputId": "2b03abd7-4570-4bd0-fe47-46ae43461cd5"
      },
      "execution_count": 254,
      "outputs": [
        {
          "output_type": "execute_result",
          "data": {
            "text/plain": [
              "<pandas.core.groupby.generic.DataFrameGroupBy object at 0x7fa318ef8fa0>"
            ]
          },
          "metadata": {},
          "execution_count": 254
        }
      ]
    },
    {
      "cell_type": "markdown",
      "source": [
        "Observe que o que é retornado não é um conjunto de DataFrames, mas um `DataFrameGroupBy` objeto. Este objeto é onde está a mágica: você pode pensar nele como uma visão especial do DataFrame, que está preparada para se aprofundar nos grupos, mas não faz nenhum cálculo real até que a agregação seja aplicada. Essa abordagem de \"avaliação preguiçosa\" significa que agregados comuns podem ser implementados com muita eficiência de uma forma quase transparente para o usuário.\n",
        "\n",
        "Para produzir um resultado, podemos aplicar um agregado a este `DataFrameGroupBy` objeto, que executará as etapas de aplicação/combinação apropriadas para produzir o resultado desejado:"
      ],
      "metadata": {
        "id": "vaNgbg7eUsej"
      }
    },
    {
      "cell_type": "code",
      "source": [
        "df.groupby('key').sum()"
      ],
      "metadata": {
        "colab": {
          "base_uri": "https://localhost:8080/",
          "height": 175
        },
        "id": "Q_CWfQRcU1W3",
        "outputId": "6295c5ce-786e-4299-c371-a015d62264e2"
      },
      "execution_count": 255,
      "outputs": [
        {
          "output_type": "execute_result",
          "data": {
            "text/plain": [
              "     data\n",
              "key      \n",
              "A       3\n",
              "B       5\n",
              "C       7"
            ],
            "text/html": [
              "\n",
              "  <div id=\"df-69813db3-7cc1-430d-8b7d-104c5bcba771\">\n",
              "    <div class=\"colab-df-container\">\n",
              "      <div>\n",
              "<style scoped>\n",
              "    .dataframe tbody tr th:only-of-type {\n",
              "        vertical-align: middle;\n",
              "    }\n",
              "\n",
              "    .dataframe tbody tr th {\n",
              "        vertical-align: top;\n",
              "    }\n",
              "\n",
              "    .dataframe thead th {\n",
              "        text-align: right;\n",
              "    }\n",
              "</style>\n",
              "<table border=\"1\" class=\"dataframe\">\n",
              "  <thead>\n",
              "    <tr style=\"text-align: right;\">\n",
              "      <th></th>\n",
              "      <th>data</th>\n",
              "    </tr>\n",
              "    <tr>\n",
              "      <th>key</th>\n",
              "      <th></th>\n",
              "    </tr>\n",
              "  </thead>\n",
              "  <tbody>\n",
              "    <tr>\n",
              "      <th>A</th>\n",
              "      <td>3</td>\n",
              "    </tr>\n",
              "    <tr>\n",
              "      <th>B</th>\n",
              "      <td>5</td>\n",
              "    </tr>\n",
              "    <tr>\n",
              "      <th>C</th>\n",
              "      <td>7</td>\n",
              "    </tr>\n",
              "  </tbody>\n",
              "</table>\n",
              "</div>\n",
              "      <button class=\"colab-df-convert\" onclick=\"convertToInteractive('df-69813db3-7cc1-430d-8b7d-104c5bcba771')\"\n",
              "              title=\"Convert this dataframe to an interactive table.\"\n",
              "              style=\"display:none;\">\n",
              "        \n",
              "  <svg xmlns=\"http://www.w3.org/2000/svg\" height=\"24px\"viewBox=\"0 0 24 24\"\n",
              "       width=\"24px\">\n",
              "    <path d=\"M0 0h24v24H0V0z\" fill=\"none\"/>\n",
              "    <path d=\"M18.56 5.44l.94 2.06.94-2.06 2.06-.94-2.06-.94-.94-2.06-.94 2.06-2.06.94zm-11 1L8.5 8.5l.94-2.06 2.06-.94-2.06-.94L8.5 2.5l-.94 2.06-2.06.94zm10 10l.94 2.06.94-2.06 2.06-.94-2.06-.94-.94-2.06-.94 2.06-2.06.94z\"/><path d=\"M17.41 7.96l-1.37-1.37c-.4-.4-.92-.59-1.43-.59-.52 0-1.04.2-1.43.59L10.3 9.45l-7.72 7.72c-.78.78-.78 2.05 0 2.83L4 21.41c.39.39.9.59 1.41.59.51 0 1.02-.2 1.41-.59l7.78-7.78 2.81-2.81c.8-.78.8-2.07 0-2.86zM5.41 20L4 18.59l7.72-7.72 1.47 1.35L5.41 20z\"/>\n",
              "  </svg>\n",
              "      </button>\n",
              "      \n",
              "  <style>\n",
              "    .colab-df-container {\n",
              "      display:flex;\n",
              "      flex-wrap:wrap;\n",
              "      gap: 12px;\n",
              "    }\n",
              "\n",
              "    .colab-df-convert {\n",
              "      background-color: #E8F0FE;\n",
              "      border: none;\n",
              "      border-radius: 50%;\n",
              "      cursor: pointer;\n",
              "      display: none;\n",
              "      fill: #1967D2;\n",
              "      height: 32px;\n",
              "      padding: 0 0 0 0;\n",
              "      width: 32px;\n",
              "    }\n",
              "\n",
              "    .colab-df-convert:hover {\n",
              "      background-color: #E2EBFA;\n",
              "      box-shadow: 0px 1px 2px rgba(60, 64, 67, 0.3), 0px 1px 3px 1px rgba(60, 64, 67, 0.15);\n",
              "      fill: #174EA6;\n",
              "    }\n",
              "\n",
              "    [theme=dark] .colab-df-convert {\n",
              "      background-color: #3B4455;\n",
              "      fill: #D2E3FC;\n",
              "    }\n",
              "\n",
              "    [theme=dark] .colab-df-convert:hover {\n",
              "      background-color: #434B5C;\n",
              "      box-shadow: 0px 1px 3px 1px rgba(0, 0, 0, 0.15);\n",
              "      filter: drop-shadow(0px 1px 2px rgba(0, 0, 0, 0.3));\n",
              "      fill: #FFFFFF;\n",
              "    }\n",
              "  </style>\n",
              "\n",
              "      <script>\n",
              "        const buttonEl =\n",
              "          document.querySelector('#df-69813db3-7cc1-430d-8b7d-104c5bcba771 button.colab-df-convert');\n",
              "        buttonEl.style.display =\n",
              "          google.colab.kernel.accessAllowed ? 'block' : 'none';\n",
              "\n",
              "        async function convertToInteractive(key) {\n",
              "          const element = document.querySelector('#df-69813db3-7cc1-430d-8b7d-104c5bcba771');\n",
              "          const dataTable =\n",
              "            await google.colab.kernel.invokeFunction('convertToInteractive',\n",
              "                                                     [key], {});\n",
              "          if (!dataTable) return;\n",
              "\n",
              "          const docLinkHtml = 'Like what you see? Visit the ' +\n",
              "            '<a target=\"_blank\" href=https://colab.research.google.com/notebooks/data_table.ipynb>data table notebook</a>'\n",
              "            + ' to learn more about interactive tables.';\n",
              "          element.innerHTML = '';\n",
              "          dataTable['output_type'] = 'display_data';\n",
              "          await google.colab.output.renderOutput(dataTable, element);\n",
              "          const docLink = document.createElement('div');\n",
              "          docLink.innerHTML = docLinkHtml;\n",
              "          element.appendChild(docLink);\n",
              "        }\n",
              "      </script>\n",
              "    </div>\n",
              "  </div>\n",
              "  "
            ]
          },
          "metadata": {},
          "execution_count": 255
        }
      ]
    },
    {
      "cell_type": "markdown",
      "source": [
        "Em particular, GroupByos objetos têm métodos `aggregate()`, `filter()`, transform()e `apply()` que implementam eficientemente uma variedade de operações úteis antes de combinar os dados agrupados."
      ],
      "metadata": {
        "id": "NI_D87zsXF-E"
      }
    },
    {
      "cell_type": "code",
      "source": [
        "rng = np.random.RandomState(0)\n",
        "df = pd.DataFrame({'key': ['A', 'B', 'C', 'A', 'B', 'C'],\n",
        "                   'data1': range(6),\n",
        "                   'data2': rng.randint(0, 10, 6)},\n",
        "                   columns = ['key', 'data1', 'data2'])\n",
        "df"
      ],
      "metadata": {
        "colab": {
          "base_uri": "https://localhost:8080/",
          "height": 237
        },
        "id": "Two89YzDXjMP",
        "outputId": "05e01525-8304-449c-eb83-0f63832b09ff"
      },
      "execution_count": 256,
      "outputs": [
        {
          "output_type": "execute_result",
          "data": {
            "text/plain": [
              "  key  data1  data2\n",
              "0   A      0      5\n",
              "1   B      1      0\n",
              "2   C      2      3\n",
              "3   A      3      3\n",
              "4   B      4      7\n",
              "5   C      5      9"
            ],
            "text/html": [
              "\n",
              "  <div id=\"df-9f634dd6-e1ea-451c-971b-ae8dca2a362b\">\n",
              "    <div class=\"colab-df-container\">\n",
              "      <div>\n",
              "<style scoped>\n",
              "    .dataframe tbody tr th:only-of-type {\n",
              "        vertical-align: middle;\n",
              "    }\n",
              "\n",
              "    .dataframe tbody tr th {\n",
              "        vertical-align: top;\n",
              "    }\n",
              "\n",
              "    .dataframe thead th {\n",
              "        text-align: right;\n",
              "    }\n",
              "</style>\n",
              "<table border=\"1\" class=\"dataframe\">\n",
              "  <thead>\n",
              "    <tr style=\"text-align: right;\">\n",
              "      <th></th>\n",
              "      <th>key</th>\n",
              "      <th>data1</th>\n",
              "      <th>data2</th>\n",
              "    </tr>\n",
              "  </thead>\n",
              "  <tbody>\n",
              "    <tr>\n",
              "      <th>0</th>\n",
              "      <td>A</td>\n",
              "      <td>0</td>\n",
              "      <td>5</td>\n",
              "    </tr>\n",
              "    <tr>\n",
              "      <th>1</th>\n",
              "      <td>B</td>\n",
              "      <td>1</td>\n",
              "      <td>0</td>\n",
              "    </tr>\n",
              "    <tr>\n",
              "      <th>2</th>\n",
              "      <td>C</td>\n",
              "      <td>2</td>\n",
              "      <td>3</td>\n",
              "    </tr>\n",
              "    <tr>\n",
              "      <th>3</th>\n",
              "      <td>A</td>\n",
              "      <td>3</td>\n",
              "      <td>3</td>\n",
              "    </tr>\n",
              "    <tr>\n",
              "      <th>4</th>\n",
              "      <td>B</td>\n",
              "      <td>4</td>\n",
              "      <td>7</td>\n",
              "    </tr>\n",
              "    <tr>\n",
              "      <th>5</th>\n",
              "      <td>C</td>\n",
              "      <td>5</td>\n",
              "      <td>9</td>\n",
              "    </tr>\n",
              "  </tbody>\n",
              "</table>\n",
              "</div>\n",
              "      <button class=\"colab-df-convert\" onclick=\"convertToInteractive('df-9f634dd6-e1ea-451c-971b-ae8dca2a362b')\"\n",
              "              title=\"Convert this dataframe to an interactive table.\"\n",
              "              style=\"display:none;\">\n",
              "        \n",
              "  <svg xmlns=\"http://www.w3.org/2000/svg\" height=\"24px\"viewBox=\"0 0 24 24\"\n",
              "       width=\"24px\">\n",
              "    <path d=\"M0 0h24v24H0V0z\" fill=\"none\"/>\n",
              "    <path d=\"M18.56 5.44l.94 2.06.94-2.06 2.06-.94-2.06-.94-.94-2.06-.94 2.06-2.06.94zm-11 1L8.5 8.5l.94-2.06 2.06-.94-2.06-.94L8.5 2.5l-.94 2.06-2.06.94zm10 10l.94 2.06.94-2.06 2.06-.94-2.06-.94-.94-2.06-.94 2.06-2.06.94z\"/><path d=\"M17.41 7.96l-1.37-1.37c-.4-.4-.92-.59-1.43-.59-.52 0-1.04.2-1.43.59L10.3 9.45l-7.72 7.72c-.78.78-.78 2.05 0 2.83L4 21.41c.39.39.9.59 1.41.59.51 0 1.02-.2 1.41-.59l7.78-7.78 2.81-2.81c.8-.78.8-2.07 0-2.86zM5.41 20L4 18.59l7.72-7.72 1.47 1.35L5.41 20z\"/>\n",
              "  </svg>\n",
              "      </button>\n",
              "      \n",
              "  <style>\n",
              "    .colab-df-container {\n",
              "      display:flex;\n",
              "      flex-wrap:wrap;\n",
              "      gap: 12px;\n",
              "    }\n",
              "\n",
              "    .colab-df-convert {\n",
              "      background-color: #E8F0FE;\n",
              "      border: none;\n",
              "      border-radius: 50%;\n",
              "      cursor: pointer;\n",
              "      display: none;\n",
              "      fill: #1967D2;\n",
              "      height: 32px;\n",
              "      padding: 0 0 0 0;\n",
              "      width: 32px;\n",
              "    }\n",
              "\n",
              "    .colab-df-convert:hover {\n",
              "      background-color: #E2EBFA;\n",
              "      box-shadow: 0px 1px 2px rgba(60, 64, 67, 0.3), 0px 1px 3px 1px rgba(60, 64, 67, 0.15);\n",
              "      fill: #174EA6;\n",
              "    }\n",
              "\n",
              "    [theme=dark] .colab-df-convert {\n",
              "      background-color: #3B4455;\n",
              "      fill: #D2E3FC;\n",
              "    }\n",
              "\n",
              "    [theme=dark] .colab-df-convert:hover {\n",
              "      background-color: #434B5C;\n",
              "      box-shadow: 0px 1px 3px 1px rgba(0, 0, 0, 0.15);\n",
              "      filter: drop-shadow(0px 1px 2px rgba(0, 0, 0, 0.3));\n",
              "      fill: #FFFFFF;\n",
              "    }\n",
              "  </style>\n",
              "\n",
              "      <script>\n",
              "        const buttonEl =\n",
              "          document.querySelector('#df-9f634dd6-e1ea-451c-971b-ae8dca2a362b button.colab-df-convert');\n",
              "        buttonEl.style.display =\n",
              "          google.colab.kernel.accessAllowed ? 'block' : 'none';\n",
              "\n",
              "        async function convertToInteractive(key) {\n",
              "          const element = document.querySelector('#df-9f634dd6-e1ea-451c-971b-ae8dca2a362b');\n",
              "          const dataTable =\n",
              "            await google.colab.kernel.invokeFunction('convertToInteractive',\n",
              "                                                     [key], {});\n",
              "          if (!dataTable) return;\n",
              "\n",
              "          const docLinkHtml = 'Like what you see? Visit the ' +\n",
              "            '<a target=\"_blank\" href=https://colab.research.google.com/notebooks/data_table.ipynb>data table notebook</a>'\n",
              "            + ' to learn more about interactive tables.';\n",
              "          element.innerHTML = '';\n",
              "          dataTable['output_type'] = 'display_data';\n",
              "          await google.colab.output.renderOutput(dataTable, element);\n",
              "          const docLink = document.createElement('div');\n",
              "          docLink.innerHTML = docLinkHtml;\n",
              "          element.appendChild(docLink);\n",
              "        }\n",
              "      </script>\n",
              "    </div>\n",
              "  </div>\n",
              "  "
            ]
          },
          "metadata": {},
          "execution_count": 256
        }
      ]
    },
    {
      "cell_type": "markdown",
      "source": [
        "Agora estamos familiarizados com GroupByagregações com `sum()`, `median()` e similares, mas o `aggregate()` método permite ainda mais flexibilidade. Ele pode pegar uma string, uma função ou uma lista deles e calcular todos os agregados de uma vez. Aqui está um exemplo rápido que combina tudo isso:"
      ],
      "metadata": {
        "id": "ebUCl9gBXueT"
      }
    },
    {
      "cell_type": "code",
      "source": [
        "df.groupby('key').aggregate(['min', np.median, max])"
      ],
      "metadata": {
        "colab": {
          "base_uri": "https://localhost:8080/",
          "height": 206
        },
        "id": "HjyHLrq9X6Fx",
        "outputId": "2a1644d4-aab1-49a4-a262-746278914e35"
      },
      "execution_count": 257,
      "outputs": [
        {
          "output_type": "execute_result",
          "data": {
            "text/plain": [
              "    data1            data2           \n",
              "      min median max   min median max\n",
              "key                                  \n",
              "A       0    1.5   3     3    4.0   5\n",
              "B       1    2.5   4     0    3.5   7\n",
              "C       2    3.5   5     3    6.0   9"
            ],
            "text/html": [
              "\n",
              "  <div id=\"df-56f1e061-7ef1-442a-82f3-276e159074fa\">\n",
              "    <div class=\"colab-df-container\">\n",
              "      <div>\n",
              "<style scoped>\n",
              "    .dataframe tbody tr th:only-of-type {\n",
              "        vertical-align: middle;\n",
              "    }\n",
              "\n",
              "    .dataframe tbody tr th {\n",
              "        vertical-align: top;\n",
              "    }\n",
              "\n",
              "    .dataframe thead tr th {\n",
              "        text-align: left;\n",
              "    }\n",
              "\n",
              "    .dataframe thead tr:last-of-type th {\n",
              "        text-align: right;\n",
              "    }\n",
              "</style>\n",
              "<table border=\"1\" class=\"dataframe\">\n",
              "  <thead>\n",
              "    <tr>\n",
              "      <th></th>\n",
              "      <th colspan=\"3\" halign=\"left\">data1</th>\n",
              "      <th colspan=\"3\" halign=\"left\">data2</th>\n",
              "    </tr>\n",
              "    <tr>\n",
              "      <th></th>\n",
              "      <th>min</th>\n",
              "      <th>median</th>\n",
              "      <th>max</th>\n",
              "      <th>min</th>\n",
              "      <th>median</th>\n",
              "      <th>max</th>\n",
              "    </tr>\n",
              "    <tr>\n",
              "      <th>key</th>\n",
              "      <th></th>\n",
              "      <th></th>\n",
              "      <th></th>\n",
              "      <th></th>\n",
              "      <th></th>\n",
              "      <th></th>\n",
              "    </tr>\n",
              "  </thead>\n",
              "  <tbody>\n",
              "    <tr>\n",
              "      <th>A</th>\n",
              "      <td>0</td>\n",
              "      <td>1.5</td>\n",
              "      <td>3</td>\n",
              "      <td>3</td>\n",
              "      <td>4.0</td>\n",
              "      <td>5</td>\n",
              "    </tr>\n",
              "    <tr>\n",
              "      <th>B</th>\n",
              "      <td>1</td>\n",
              "      <td>2.5</td>\n",
              "      <td>4</td>\n",
              "      <td>0</td>\n",
              "      <td>3.5</td>\n",
              "      <td>7</td>\n",
              "    </tr>\n",
              "    <tr>\n",
              "      <th>C</th>\n",
              "      <td>2</td>\n",
              "      <td>3.5</td>\n",
              "      <td>5</td>\n",
              "      <td>3</td>\n",
              "      <td>6.0</td>\n",
              "      <td>9</td>\n",
              "    </tr>\n",
              "  </tbody>\n",
              "</table>\n",
              "</div>\n",
              "      <button class=\"colab-df-convert\" onclick=\"convertToInteractive('df-56f1e061-7ef1-442a-82f3-276e159074fa')\"\n",
              "              title=\"Convert this dataframe to an interactive table.\"\n",
              "              style=\"display:none;\">\n",
              "        \n",
              "  <svg xmlns=\"http://www.w3.org/2000/svg\" height=\"24px\"viewBox=\"0 0 24 24\"\n",
              "       width=\"24px\">\n",
              "    <path d=\"M0 0h24v24H0V0z\" fill=\"none\"/>\n",
              "    <path d=\"M18.56 5.44l.94 2.06.94-2.06 2.06-.94-2.06-.94-.94-2.06-.94 2.06-2.06.94zm-11 1L8.5 8.5l.94-2.06 2.06-.94-2.06-.94L8.5 2.5l-.94 2.06-2.06.94zm10 10l.94 2.06.94-2.06 2.06-.94-2.06-.94-.94-2.06-.94 2.06-2.06.94z\"/><path d=\"M17.41 7.96l-1.37-1.37c-.4-.4-.92-.59-1.43-.59-.52 0-1.04.2-1.43.59L10.3 9.45l-7.72 7.72c-.78.78-.78 2.05 0 2.83L4 21.41c.39.39.9.59 1.41.59.51 0 1.02-.2 1.41-.59l7.78-7.78 2.81-2.81c.8-.78.8-2.07 0-2.86zM5.41 20L4 18.59l7.72-7.72 1.47 1.35L5.41 20z\"/>\n",
              "  </svg>\n",
              "      </button>\n",
              "      \n",
              "  <style>\n",
              "    .colab-df-container {\n",
              "      display:flex;\n",
              "      flex-wrap:wrap;\n",
              "      gap: 12px;\n",
              "    }\n",
              "\n",
              "    .colab-df-convert {\n",
              "      background-color: #E8F0FE;\n",
              "      border: none;\n",
              "      border-radius: 50%;\n",
              "      cursor: pointer;\n",
              "      display: none;\n",
              "      fill: #1967D2;\n",
              "      height: 32px;\n",
              "      padding: 0 0 0 0;\n",
              "      width: 32px;\n",
              "    }\n",
              "\n",
              "    .colab-df-convert:hover {\n",
              "      background-color: #E2EBFA;\n",
              "      box-shadow: 0px 1px 2px rgba(60, 64, 67, 0.3), 0px 1px 3px 1px rgba(60, 64, 67, 0.15);\n",
              "      fill: #174EA6;\n",
              "    }\n",
              "\n",
              "    [theme=dark] .colab-df-convert {\n",
              "      background-color: #3B4455;\n",
              "      fill: #D2E3FC;\n",
              "    }\n",
              "\n",
              "    [theme=dark] .colab-df-convert:hover {\n",
              "      background-color: #434B5C;\n",
              "      box-shadow: 0px 1px 3px 1px rgba(0, 0, 0, 0.15);\n",
              "      filter: drop-shadow(0px 1px 2px rgba(0, 0, 0, 0.3));\n",
              "      fill: #FFFFFF;\n",
              "    }\n",
              "  </style>\n",
              "\n",
              "      <script>\n",
              "        const buttonEl =\n",
              "          document.querySelector('#df-56f1e061-7ef1-442a-82f3-276e159074fa button.colab-df-convert');\n",
              "        buttonEl.style.display =\n",
              "          google.colab.kernel.accessAllowed ? 'block' : 'none';\n",
              "\n",
              "        async function convertToInteractive(key) {\n",
              "          const element = document.querySelector('#df-56f1e061-7ef1-442a-82f3-276e159074fa');\n",
              "          const dataTable =\n",
              "            await google.colab.kernel.invokeFunction('convertToInteractive',\n",
              "                                                     [key], {});\n",
              "          if (!dataTable) return;\n",
              "\n",
              "          const docLinkHtml = 'Like what you see? Visit the ' +\n",
              "            '<a target=\"_blank\" href=https://colab.research.google.com/notebooks/data_table.ipynb>data table notebook</a>'\n",
              "            + ' to learn more about interactive tables.';\n",
              "          element.innerHTML = '';\n",
              "          dataTable['output_type'] = 'display_data';\n",
              "          await google.colab.output.renderOutput(dataTable, element);\n",
              "          const docLink = document.createElement('div');\n",
              "          docLink.innerHTML = docLinkHtml;\n",
              "          element.appendChild(docLink);\n",
              "        }\n",
              "      </script>\n",
              "    </div>\n",
              "  </div>\n",
              "  "
            ]
          },
          "metadata": {},
          "execution_count": 257
        }
      ]
    },
    {
      "cell_type": "markdown",
      "source": [
        "Outro padrão útil é passar nomes de coluna de mapeamento de dicionário para operações a serem aplicadas nessa coluna:"
      ],
      "metadata": {
        "id": "yd1J9f1FYCPX"
      }
    },
    {
      "cell_type": "code",
      "source": [
        "df.groupby('key').aggregate({'data1': 'min',\n",
        "                             'data2': 'max'})"
      ],
      "metadata": {
        "colab": {
          "base_uri": "https://localhost:8080/",
          "height": 175
        },
        "id": "UCpTAvDuYIZ7",
        "outputId": "f707a214-8ac6-456a-c5f3-b2c1aec1a0e4"
      },
      "execution_count": 258,
      "outputs": [
        {
          "output_type": "execute_result",
          "data": {
            "text/plain": [
              "     data1  data2\n",
              "key              \n",
              "A        0      5\n",
              "B        1      7\n",
              "C        2      9"
            ],
            "text/html": [
              "\n",
              "  <div id=\"df-f67415bb-5079-4b24-8011-d3469adda10e\">\n",
              "    <div class=\"colab-df-container\">\n",
              "      <div>\n",
              "<style scoped>\n",
              "    .dataframe tbody tr th:only-of-type {\n",
              "        vertical-align: middle;\n",
              "    }\n",
              "\n",
              "    .dataframe tbody tr th {\n",
              "        vertical-align: top;\n",
              "    }\n",
              "\n",
              "    .dataframe thead th {\n",
              "        text-align: right;\n",
              "    }\n",
              "</style>\n",
              "<table border=\"1\" class=\"dataframe\">\n",
              "  <thead>\n",
              "    <tr style=\"text-align: right;\">\n",
              "      <th></th>\n",
              "      <th>data1</th>\n",
              "      <th>data2</th>\n",
              "    </tr>\n",
              "    <tr>\n",
              "      <th>key</th>\n",
              "      <th></th>\n",
              "      <th></th>\n",
              "    </tr>\n",
              "  </thead>\n",
              "  <tbody>\n",
              "    <tr>\n",
              "      <th>A</th>\n",
              "      <td>0</td>\n",
              "      <td>5</td>\n",
              "    </tr>\n",
              "    <tr>\n",
              "      <th>B</th>\n",
              "      <td>1</td>\n",
              "      <td>7</td>\n",
              "    </tr>\n",
              "    <tr>\n",
              "      <th>C</th>\n",
              "      <td>2</td>\n",
              "      <td>9</td>\n",
              "    </tr>\n",
              "  </tbody>\n",
              "</table>\n",
              "</div>\n",
              "      <button class=\"colab-df-convert\" onclick=\"convertToInteractive('df-f67415bb-5079-4b24-8011-d3469adda10e')\"\n",
              "              title=\"Convert this dataframe to an interactive table.\"\n",
              "              style=\"display:none;\">\n",
              "        \n",
              "  <svg xmlns=\"http://www.w3.org/2000/svg\" height=\"24px\"viewBox=\"0 0 24 24\"\n",
              "       width=\"24px\">\n",
              "    <path d=\"M0 0h24v24H0V0z\" fill=\"none\"/>\n",
              "    <path d=\"M18.56 5.44l.94 2.06.94-2.06 2.06-.94-2.06-.94-.94-2.06-.94 2.06-2.06.94zm-11 1L8.5 8.5l.94-2.06 2.06-.94-2.06-.94L8.5 2.5l-.94 2.06-2.06.94zm10 10l.94 2.06.94-2.06 2.06-.94-2.06-.94-.94-2.06-.94 2.06-2.06.94z\"/><path d=\"M17.41 7.96l-1.37-1.37c-.4-.4-.92-.59-1.43-.59-.52 0-1.04.2-1.43.59L10.3 9.45l-7.72 7.72c-.78.78-.78 2.05 0 2.83L4 21.41c.39.39.9.59 1.41.59.51 0 1.02-.2 1.41-.59l7.78-7.78 2.81-2.81c.8-.78.8-2.07 0-2.86zM5.41 20L4 18.59l7.72-7.72 1.47 1.35L5.41 20z\"/>\n",
              "  </svg>\n",
              "      </button>\n",
              "      \n",
              "  <style>\n",
              "    .colab-df-container {\n",
              "      display:flex;\n",
              "      flex-wrap:wrap;\n",
              "      gap: 12px;\n",
              "    }\n",
              "\n",
              "    .colab-df-convert {\n",
              "      background-color: #E8F0FE;\n",
              "      border: none;\n",
              "      border-radius: 50%;\n",
              "      cursor: pointer;\n",
              "      display: none;\n",
              "      fill: #1967D2;\n",
              "      height: 32px;\n",
              "      padding: 0 0 0 0;\n",
              "      width: 32px;\n",
              "    }\n",
              "\n",
              "    .colab-df-convert:hover {\n",
              "      background-color: #E2EBFA;\n",
              "      box-shadow: 0px 1px 2px rgba(60, 64, 67, 0.3), 0px 1px 3px 1px rgba(60, 64, 67, 0.15);\n",
              "      fill: #174EA6;\n",
              "    }\n",
              "\n",
              "    [theme=dark] .colab-df-convert {\n",
              "      background-color: #3B4455;\n",
              "      fill: #D2E3FC;\n",
              "    }\n",
              "\n",
              "    [theme=dark] .colab-df-convert:hover {\n",
              "      background-color: #434B5C;\n",
              "      box-shadow: 0px 1px 3px 1px rgba(0, 0, 0, 0.15);\n",
              "      filter: drop-shadow(0px 1px 2px rgba(0, 0, 0, 0.3));\n",
              "      fill: #FFFFFF;\n",
              "    }\n",
              "  </style>\n",
              "\n",
              "      <script>\n",
              "        const buttonEl =\n",
              "          document.querySelector('#df-f67415bb-5079-4b24-8011-d3469adda10e button.colab-df-convert');\n",
              "        buttonEl.style.display =\n",
              "          google.colab.kernel.accessAllowed ? 'block' : 'none';\n",
              "\n",
              "        async function convertToInteractive(key) {\n",
              "          const element = document.querySelector('#df-f67415bb-5079-4b24-8011-d3469adda10e');\n",
              "          const dataTable =\n",
              "            await google.colab.kernel.invokeFunction('convertToInteractive',\n",
              "                                                     [key], {});\n",
              "          if (!dataTable) return;\n",
              "\n",
              "          const docLinkHtml = 'Like what you see? Visit the ' +\n",
              "            '<a target=\"_blank\" href=https://colab.research.google.com/notebooks/data_table.ipynb>data table notebook</a>'\n",
              "            + ' to learn more about interactive tables.';\n",
              "          element.innerHTML = '';\n",
              "          dataTable['output_type'] = 'display_data';\n",
              "          await google.colab.output.renderOutput(dataTable, element);\n",
              "          const docLink = document.createElement('div');\n",
              "          docLink.innerHTML = docLinkHtml;\n",
              "          element.appendChild(docLink);\n",
              "        }\n",
              "      </script>\n",
              "    </div>\n",
              "  </div>\n",
              "  "
            ]
          },
          "metadata": {},
          "execution_count": 258
        }
      ]
    },
    {
      "cell_type": "markdown",
      "source": [
        "Uma operação de filtragem permite descartar dados com base nas propriedades do grupo. Por exemplo, podemos querer manter todos os grupos nos quais o desvio padrão é maior que algum valor crítico:"
      ],
      "metadata": {
        "id": "OAu7yOTUYRh9"
      }
    },
    {
      "cell_type": "code",
      "source": [
        "def filter_func(x):\n",
        "    return x['data2'].std() > 4\n",
        "\n",
        "display('df', \"df.groupby('key').std()\", \"df.groupby('key').filter(filter_func)\")"
      ],
      "metadata": {
        "colab": {
          "base_uri": "https://localhost:8080/",
          "height": 287
        },
        "id": "MV6QGSwYYSUX",
        "outputId": "bdd572a0-be8b-4a70-e076-f7b635eace45"
      },
      "execution_count": 259,
      "outputs": [
        {
          "output_type": "execute_result",
          "data": {
            "text/plain": [
              "df\n",
              "  key  data1  data2\n",
              "0   A      0      5\n",
              "1   B      1      0\n",
              "2   C      2      3\n",
              "3   A      3      3\n",
              "4   B      4      7\n",
              "5   C      5      9\n",
              "\n",
              "df.groupby('key').std()\n",
              "       data1     data2\n",
              "key                   \n",
              "A    2.12132  1.414214\n",
              "B    2.12132  4.949747\n",
              "C    2.12132  4.242641\n",
              "\n",
              "df.groupby('key').filter(filter_func)\n",
              "  key  data1  data2\n",
              "1   B      1      0\n",
              "2   C      2      3\n",
              "4   B      4      7\n",
              "5   C      5      9"
            ],
            "text/html": [
              "<div style=\"float: left; padding: 10px;\">\n",
              "    <p style='font-family:\"Courier New\", Courier, monospace'>df</p><div>\n",
              "<style scoped>\n",
              "    .dataframe tbody tr th:only-of-type {\n",
              "        vertical-align: middle;\n",
              "    }\n",
              "\n",
              "    .dataframe tbody tr th {\n",
              "        vertical-align: top;\n",
              "    }\n",
              "\n",
              "    .dataframe thead th {\n",
              "        text-align: right;\n",
              "    }\n",
              "</style>\n",
              "<table border=\"1\" class=\"dataframe\">\n",
              "  <thead>\n",
              "    <tr style=\"text-align: right;\">\n",
              "      <th></th>\n",
              "      <th>key</th>\n",
              "      <th>data1</th>\n",
              "      <th>data2</th>\n",
              "    </tr>\n",
              "  </thead>\n",
              "  <tbody>\n",
              "    <tr>\n",
              "      <th>0</th>\n",
              "      <td>A</td>\n",
              "      <td>0</td>\n",
              "      <td>5</td>\n",
              "    </tr>\n",
              "    <tr>\n",
              "      <th>1</th>\n",
              "      <td>B</td>\n",
              "      <td>1</td>\n",
              "      <td>0</td>\n",
              "    </tr>\n",
              "    <tr>\n",
              "      <th>2</th>\n",
              "      <td>C</td>\n",
              "      <td>2</td>\n",
              "      <td>3</td>\n",
              "    </tr>\n",
              "    <tr>\n",
              "      <th>3</th>\n",
              "      <td>A</td>\n",
              "      <td>3</td>\n",
              "      <td>3</td>\n",
              "    </tr>\n",
              "    <tr>\n",
              "      <th>4</th>\n",
              "      <td>B</td>\n",
              "      <td>4</td>\n",
              "      <td>7</td>\n",
              "    </tr>\n",
              "    <tr>\n",
              "      <th>5</th>\n",
              "      <td>C</td>\n",
              "      <td>5</td>\n",
              "      <td>9</td>\n",
              "    </tr>\n",
              "  </tbody>\n",
              "</table>\n",
              "</div>\n",
              "    </div>\n",
              "<div style=\"float: left; padding: 10px;\">\n",
              "    <p style='font-family:\"Courier New\", Courier, monospace'>df.groupby('key').std()</p><div>\n",
              "<style scoped>\n",
              "    .dataframe tbody tr th:only-of-type {\n",
              "        vertical-align: middle;\n",
              "    }\n",
              "\n",
              "    .dataframe tbody tr th {\n",
              "        vertical-align: top;\n",
              "    }\n",
              "\n",
              "    .dataframe thead th {\n",
              "        text-align: right;\n",
              "    }\n",
              "</style>\n",
              "<table border=\"1\" class=\"dataframe\">\n",
              "  <thead>\n",
              "    <tr style=\"text-align: right;\">\n",
              "      <th></th>\n",
              "      <th>data1</th>\n",
              "      <th>data2</th>\n",
              "    </tr>\n",
              "    <tr>\n",
              "      <th>key</th>\n",
              "      <th></th>\n",
              "      <th></th>\n",
              "    </tr>\n",
              "  </thead>\n",
              "  <tbody>\n",
              "    <tr>\n",
              "      <th>A</th>\n",
              "      <td>2.12132</td>\n",
              "      <td>1.414214</td>\n",
              "    </tr>\n",
              "    <tr>\n",
              "      <th>B</th>\n",
              "      <td>2.12132</td>\n",
              "      <td>4.949747</td>\n",
              "    </tr>\n",
              "    <tr>\n",
              "      <th>C</th>\n",
              "      <td>2.12132</td>\n",
              "      <td>4.242641</td>\n",
              "    </tr>\n",
              "  </tbody>\n",
              "</table>\n",
              "</div>\n",
              "    </div>\n",
              "<div style=\"float: left; padding: 10px;\">\n",
              "    <p style='font-family:\"Courier New\", Courier, monospace'>df.groupby('key').filter(filter_func)</p><div>\n",
              "<style scoped>\n",
              "    .dataframe tbody tr th:only-of-type {\n",
              "        vertical-align: middle;\n",
              "    }\n",
              "\n",
              "    .dataframe tbody tr th {\n",
              "        vertical-align: top;\n",
              "    }\n",
              "\n",
              "    .dataframe thead th {\n",
              "        text-align: right;\n",
              "    }\n",
              "</style>\n",
              "<table border=\"1\" class=\"dataframe\">\n",
              "  <thead>\n",
              "    <tr style=\"text-align: right;\">\n",
              "      <th></th>\n",
              "      <th>key</th>\n",
              "      <th>data1</th>\n",
              "      <th>data2</th>\n",
              "    </tr>\n",
              "  </thead>\n",
              "  <tbody>\n",
              "    <tr>\n",
              "      <th>1</th>\n",
              "      <td>B</td>\n",
              "      <td>1</td>\n",
              "      <td>0</td>\n",
              "    </tr>\n",
              "    <tr>\n",
              "      <th>2</th>\n",
              "      <td>C</td>\n",
              "      <td>2</td>\n",
              "      <td>3</td>\n",
              "    </tr>\n",
              "    <tr>\n",
              "      <th>4</th>\n",
              "      <td>B</td>\n",
              "      <td>4</td>\n",
              "      <td>7</td>\n",
              "    </tr>\n",
              "    <tr>\n",
              "      <th>5</th>\n",
              "      <td>C</td>\n",
              "      <td>5</td>\n",
              "      <td>9</td>\n",
              "    </tr>\n",
              "  </tbody>\n",
              "</table>\n",
              "</div>\n",
              "    </div>"
            ]
          },
          "metadata": {},
          "execution_count": 259
        }
      ]
    },
    {
      "cell_type": "markdown",
      "source": [
        "Enquanto a agregação deve retornar uma versão reduzida dos dados, a transformação pode retornar alguma versão transformada dos dados completos para recombinação. Para tal transformação, a saída tem a mesma forma que a entrada. Um exemplo comum é centralizar os dados subtraindo a média do grupo:"
      ],
      "metadata": {
        "id": "_YDv3D4_cmGh"
      }
    },
    {
      "cell_type": "code",
      "source": [
        "df.groupby('key').transform(lambda x: x - x.mean())"
      ],
      "metadata": {
        "colab": {
          "base_uri": "https://localhost:8080/",
          "height": 237
        },
        "id": "aVhuchV9cmyR",
        "outputId": "776d298d-addc-446e-92fb-8574faeb0660"
      },
      "execution_count": 260,
      "outputs": [
        {
          "output_type": "execute_result",
          "data": {
            "text/plain": [
              "   data1  data2\n",
              "0   -1.5    1.0\n",
              "1   -1.5   -3.5\n",
              "2   -1.5   -3.0\n",
              "3    1.5   -1.0\n",
              "4    1.5    3.5\n",
              "5    1.5    3.0"
            ],
            "text/html": [
              "\n",
              "  <div id=\"df-efb5f7a8-4822-483b-bb68-37c4c1fca2c2\">\n",
              "    <div class=\"colab-df-container\">\n",
              "      <div>\n",
              "<style scoped>\n",
              "    .dataframe tbody tr th:only-of-type {\n",
              "        vertical-align: middle;\n",
              "    }\n",
              "\n",
              "    .dataframe tbody tr th {\n",
              "        vertical-align: top;\n",
              "    }\n",
              "\n",
              "    .dataframe thead th {\n",
              "        text-align: right;\n",
              "    }\n",
              "</style>\n",
              "<table border=\"1\" class=\"dataframe\">\n",
              "  <thead>\n",
              "    <tr style=\"text-align: right;\">\n",
              "      <th></th>\n",
              "      <th>data1</th>\n",
              "      <th>data2</th>\n",
              "    </tr>\n",
              "  </thead>\n",
              "  <tbody>\n",
              "    <tr>\n",
              "      <th>0</th>\n",
              "      <td>-1.5</td>\n",
              "      <td>1.0</td>\n",
              "    </tr>\n",
              "    <tr>\n",
              "      <th>1</th>\n",
              "      <td>-1.5</td>\n",
              "      <td>-3.5</td>\n",
              "    </tr>\n",
              "    <tr>\n",
              "      <th>2</th>\n",
              "      <td>-1.5</td>\n",
              "      <td>-3.0</td>\n",
              "    </tr>\n",
              "    <tr>\n",
              "      <th>3</th>\n",
              "      <td>1.5</td>\n",
              "      <td>-1.0</td>\n",
              "    </tr>\n",
              "    <tr>\n",
              "      <th>4</th>\n",
              "      <td>1.5</td>\n",
              "      <td>3.5</td>\n",
              "    </tr>\n",
              "    <tr>\n",
              "      <th>5</th>\n",
              "      <td>1.5</td>\n",
              "      <td>3.0</td>\n",
              "    </tr>\n",
              "  </tbody>\n",
              "</table>\n",
              "</div>\n",
              "      <button class=\"colab-df-convert\" onclick=\"convertToInteractive('df-efb5f7a8-4822-483b-bb68-37c4c1fca2c2')\"\n",
              "              title=\"Convert this dataframe to an interactive table.\"\n",
              "              style=\"display:none;\">\n",
              "        \n",
              "  <svg xmlns=\"http://www.w3.org/2000/svg\" height=\"24px\"viewBox=\"0 0 24 24\"\n",
              "       width=\"24px\">\n",
              "    <path d=\"M0 0h24v24H0V0z\" fill=\"none\"/>\n",
              "    <path d=\"M18.56 5.44l.94 2.06.94-2.06 2.06-.94-2.06-.94-.94-2.06-.94 2.06-2.06.94zm-11 1L8.5 8.5l.94-2.06 2.06-.94-2.06-.94L8.5 2.5l-.94 2.06-2.06.94zm10 10l.94 2.06.94-2.06 2.06-.94-2.06-.94-.94-2.06-.94 2.06-2.06.94z\"/><path d=\"M17.41 7.96l-1.37-1.37c-.4-.4-.92-.59-1.43-.59-.52 0-1.04.2-1.43.59L10.3 9.45l-7.72 7.72c-.78.78-.78 2.05 0 2.83L4 21.41c.39.39.9.59 1.41.59.51 0 1.02-.2 1.41-.59l7.78-7.78 2.81-2.81c.8-.78.8-2.07 0-2.86zM5.41 20L4 18.59l7.72-7.72 1.47 1.35L5.41 20z\"/>\n",
              "  </svg>\n",
              "      </button>\n",
              "      \n",
              "  <style>\n",
              "    .colab-df-container {\n",
              "      display:flex;\n",
              "      flex-wrap:wrap;\n",
              "      gap: 12px;\n",
              "    }\n",
              "\n",
              "    .colab-df-convert {\n",
              "      background-color: #E8F0FE;\n",
              "      border: none;\n",
              "      border-radius: 50%;\n",
              "      cursor: pointer;\n",
              "      display: none;\n",
              "      fill: #1967D2;\n",
              "      height: 32px;\n",
              "      padding: 0 0 0 0;\n",
              "      width: 32px;\n",
              "    }\n",
              "\n",
              "    .colab-df-convert:hover {\n",
              "      background-color: #E2EBFA;\n",
              "      box-shadow: 0px 1px 2px rgba(60, 64, 67, 0.3), 0px 1px 3px 1px rgba(60, 64, 67, 0.15);\n",
              "      fill: #174EA6;\n",
              "    }\n",
              "\n",
              "    [theme=dark] .colab-df-convert {\n",
              "      background-color: #3B4455;\n",
              "      fill: #D2E3FC;\n",
              "    }\n",
              "\n",
              "    [theme=dark] .colab-df-convert:hover {\n",
              "      background-color: #434B5C;\n",
              "      box-shadow: 0px 1px 3px 1px rgba(0, 0, 0, 0.15);\n",
              "      filter: drop-shadow(0px 1px 2px rgba(0, 0, 0, 0.3));\n",
              "      fill: #FFFFFF;\n",
              "    }\n",
              "  </style>\n",
              "\n",
              "      <script>\n",
              "        const buttonEl =\n",
              "          document.querySelector('#df-efb5f7a8-4822-483b-bb68-37c4c1fca2c2 button.colab-df-convert');\n",
              "        buttonEl.style.display =\n",
              "          google.colab.kernel.accessAllowed ? 'block' : 'none';\n",
              "\n",
              "        async function convertToInteractive(key) {\n",
              "          const element = document.querySelector('#df-efb5f7a8-4822-483b-bb68-37c4c1fca2c2');\n",
              "          const dataTable =\n",
              "            await google.colab.kernel.invokeFunction('convertToInteractive',\n",
              "                                                     [key], {});\n",
              "          if (!dataTable) return;\n",
              "\n",
              "          const docLinkHtml = 'Like what you see? Visit the ' +\n",
              "            '<a target=\"_blank\" href=https://colab.research.google.com/notebooks/data_table.ipynb>data table notebook</a>'\n",
              "            + ' to learn more about interactive tables.';\n",
              "          element.innerHTML = '';\n",
              "          dataTable['output_type'] = 'display_data';\n",
              "          await google.colab.output.renderOutput(dataTable, element);\n",
              "          const docLink = document.createElement('div');\n",
              "          docLink.innerHTML = docLinkHtml;\n",
              "          element.appendChild(docLink);\n",
              "        }\n",
              "      </script>\n",
              "    </div>\n",
              "  </div>\n",
              "  "
            ]
          },
          "metadata": {},
          "execution_count": 260
        }
      ]
    },
    {
      "cell_type": "markdown",
      "source": [
        "O apply() método permite aplicar uma função arbitrária aos resultados do grupo. A função deve receber um `DataFrame` e retornar um objeto Pandas (por exemplo, `DataFrame`, `Series`) ou um escalar; a operação de combinação será adaptada ao tipo de saída retornada."
      ],
      "metadata": {
        "id": "4xZ75KvMcug7"
      }
    },
    {
      "cell_type": "code",
      "source": [
        "def norm_by_data2(x):\n",
        "    # x is a DataFrame of group values\n",
        "    x['data1'] /= x['data2'].sum()\n",
        "    return x\n",
        "\n",
        "display('df', \"df.groupby('key').apply(norm_by_data2)\")"
      ],
      "metadata": {
        "colab": {
          "base_uri": "https://localhost:8080/",
          "height": 602
        },
        "id": "b-BDBQBZjbfj",
        "outputId": "bfb6e462-0728-4b43-aec8-cd5e4de6e292"
      },
      "execution_count": 261,
      "outputs": [
        {
          "output_type": "stream",
          "name": "stderr",
          "text": [
            "<string>:1: FutureWarning: Not prepending group keys to the result index of transform-like apply. In the future, the group keys will be included in the index, regardless of whether the applied function returns a like-indexed object.\n",
            "To preserve the previous behavior, use\n",
            "\n",
            "\t>>> .groupby(..., group_keys=False)\n",
            "\n",
            "To adopt the future behavior and silence this warning, use \n",
            "\n",
            "\t>>> .groupby(..., group_keys=True)\n",
            "<string>:1: FutureWarning: Not prepending group keys to the result index of transform-like apply. In the future, the group keys will be included in the index, regardless of whether the applied function returns a like-indexed object.\n",
            "To preserve the previous behavior, use\n",
            "\n",
            "\t>>> .groupby(..., group_keys=False)\n",
            "\n",
            "To adopt the future behavior and silence this warning, use \n",
            "\n",
            "\t>>> .groupby(..., group_keys=True)\n"
          ]
        },
        {
          "output_type": "execute_result",
          "data": {
            "text/plain": [
              "df\n",
              "  key  data1  data2\n",
              "0   A      0      5\n",
              "1   B      1      0\n",
              "2   C      2      3\n",
              "3   A      3      3\n",
              "4   B      4      7\n",
              "5   C      5      9\n",
              "\n",
              "df.groupby('key').apply(norm_by_data2)\n",
              "  key     data1  data2\n",
              "0   A  0.000000      5\n",
              "1   B  0.142857      0\n",
              "2   C  0.166667      3\n",
              "3   A  0.375000      3\n",
              "4   B  0.571429      7\n",
              "5   C  0.416667      9"
            ],
            "text/html": [
              "<div style=\"float: left; padding: 10px;\">\n",
              "    <p style='font-family:\"Courier New\", Courier, monospace'>df</p><div>\n",
              "<style scoped>\n",
              "    .dataframe tbody tr th:only-of-type {\n",
              "        vertical-align: middle;\n",
              "    }\n",
              "\n",
              "    .dataframe tbody tr th {\n",
              "        vertical-align: top;\n",
              "    }\n",
              "\n",
              "    .dataframe thead th {\n",
              "        text-align: right;\n",
              "    }\n",
              "</style>\n",
              "<table border=\"1\" class=\"dataframe\">\n",
              "  <thead>\n",
              "    <tr style=\"text-align: right;\">\n",
              "      <th></th>\n",
              "      <th>key</th>\n",
              "      <th>data1</th>\n",
              "      <th>data2</th>\n",
              "    </tr>\n",
              "  </thead>\n",
              "  <tbody>\n",
              "    <tr>\n",
              "      <th>0</th>\n",
              "      <td>A</td>\n",
              "      <td>0</td>\n",
              "      <td>5</td>\n",
              "    </tr>\n",
              "    <tr>\n",
              "      <th>1</th>\n",
              "      <td>B</td>\n",
              "      <td>1</td>\n",
              "      <td>0</td>\n",
              "    </tr>\n",
              "    <tr>\n",
              "      <th>2</th>\n",
              "      <td>C</td>\n",
              "      <td>2</td>\n",
              "      <td>3</td>\n",
              "    </tr>\n",
              "    <tr>\n",
              "      <th>3</th>\n",
              "      <td>A</td>\n",
              "      <td>3</td>\n",
              "      <td>3</td>\n",
              "    </tr>\n",
              "    <tr>\n",
              "      <th>4</th>\n",
              "      <td>B</td>\n",
              "      <td>4</td>\n",
              "      <td>7</td>\n",
              "    </tr>\n",
              "    <tr>\n",
              "      <th>5</th>\n",
              "      <td>C</td>\n",
              "      <td>5</td>\n",
              "      <td>9</td>\n",
              "    </tr>\n",
              "  </tbody>\n",
              "</table>\n",
              "</div>\n",
              "    </div>\n",
              "<div style=\"float: left; padding: 10px;\">\n",
              "    <p style='font-family:\"Courier New\", Courier, monospace'>df.groupby('key').apply(norm_by_data2)</p><div>\n",
              "<style scoped>\n",
              "    .dataframe tbody tr th:only-of-type {\n",
              "        vertical-align: middle;\n",
              "    }\n",
              "\n",
              "    .dataframe tbody tr th {\n",
              "        vertical-align: top;\n",
              "    }\n",
              "\n",
              "    .dataframe thead th {\n",
              "        text-align: right;\n",
              "    }\n",
              "</style>\n",
              "<table border=\"1\" class=\"dataframe\">\n",
              "  <thead>\n",
              "    <tr style=\"text-align: right;\">\n",
              "      <th></th>\n",
              "      <th>key</th>\n",
              "      <th>data1</th>\n",
              "      <th>data2</th>\n",
              "    </tr>\n",
              "  </thead>\n",
              "  <tbody>\n",
              "    <tr>\n",
              "      <th>0</th>\n",
              "      <td>A</td>\n",
              "      <td>0.000000</td>\n",
              "      <td>5</td>\n",
              "    </tr>\n",
              "    <tr>\n",
              "      <th>1</th>\n",
              "      <td>B</td>\n",
              "      <td>0.142857</td>\n",
              "      <td>0</td>\n",
              "    </tr>\n",
              "    <tr>\n",
              "      <th>2</th>\n",
              "      <td>C</td>\n",
              "      <td>0.166667</td>\n",
              "      <td>3</td>\n",
              "    </tr>\n",
              "    <tr>\n",
              "      <th>3</th>\n",
              "      <td>A</td>\n",
              "      <td>0.375000</td>\n",
              "      <td>3</td>\n",
              "    </tr>\n",
              "    <tr>\n",
              "      <th>4</th>\n",
              "      <td>B</td>\n",
              "      <td>0.571429</td>\n",
              "      <td>7</td>\n",
              "    </tr>\n",
              "    <tr>\n",
              "      <th>5</th>\n",
              "      <td>C</td>\n",
              "      <td>0.416667</td>\n",
              "      <td>9</td>\n",
              "    </tr>\n",
              "  </tbody>\n",
              "</table>\n",
              "</div>\n",
              "    </div>"
            ]
          },
          "metadata": {},
          "execution_count": 261
        }
      ]
    },
    {
      "cell_type": "markdown",
      "source": [
        "`apply()` dentro de a GroupByé bastante flexível: o único critério é que a função pegue a DataFramee retorne um objeto Pandas ou escalar; o que você faz no meio é com você!"
      ],
      "metadata": {
        "id": "GKyNnetMjnqE"
      }
    },
    {
      "cell_type": "markdown",
      "source": [
        "#Tabelas Dinâmicas\n",
        "Uma tabela dinâmica é uma operação semelhante comumente vista em planilhas e outros programas que operam com dados tabulares. A tabela dinâmica usa dados simples em colunas como entrada e agrupa as entradas em uma tabela bidimensional que fornece um resumo multidimensional dos dados. A diferença entre tabelas dinâmicas e GroupByàs vezes pode causar confusão; isso me ajuda a pensar em tabelas dinâmicas como essencialmente uma versão multidimensional de GroupByagregação. Ou seja, você divide-aplica-combina, mas tanto a divisão quanto a combinação acontecem não em um índice unidimensional, mas em uma grade bidimensional."
      ],
      "metadata": {
        "id": "CMDTBshskFKa"
      }
    },
    {
      "cell_type": "code",
      "source": [
        "import seaborn as sns\n",
        "titanic = sns.load_dataset('titanic')"
      ],
      "metadata": {
        "id": "jCJkSL9YqVZ3"
      },
      "execution_count": 262,
      "outputs": []
    },
    {
      "cell_type": "code",
      "source": [
        "titanic.pivot_table('survived', index='sex', columns='class')"
      ],
      "metadata": {
        "colab": {
          "base_uri": "https://localhost:8080/",
          "height": 143
        },
        "id": "m8PgD-fjqX62",
        "outputId": "90d8fdf6-4de4-4926-8ccf-88521d404ed4"
      },
      "execution_count": 263,
      "outputs": [
        {
          "output_type": "execute_result",
          "data": {
            "text/plain": [
              "class      First    Second     Third\n",
              "sex                                 \n",
              "female  0.968085  0.921053  0.500000\n",
              "male    0.368852  0.157407  0.135447"
            ],
            "text/html": [
              "\n",
              "  <div id=\"df-5b70e098-fdcf-4f52-a3cf-e1ff47b7b47e\">\n",
              "    <div class=\"colab-df-container\">\n",
              "      <div>\n",
              "<style scoped>\n",
              "    .dataframe tbody tr th:only-of-type {\n",
              "        vertical-align: middle;\n",
              "    }\n",
              "\n",
              "    .dataframe tbody tr th {\n",
              "        vertical-align: top;\n",
              "    }\n",
              "\n",
              "    .dataframe thead th {\n",
              "        text-align: right;\n",
              "    }\n",
              "</style>\n",
              "<table border=\"1\" class=\"dataframe\">\n",
              "  <thead>\n",
              "    <tr style=\"text-align: right;\">\n",
              "      <th>class</th>\n",
              "      <th>First</th>\n",
              "      <th>Second</th>\n",
              "      <th>Third</th>\n",
              "    </tr>\n",
              "    <tr>\n",
              "      <th>sex</th>\n",
              "      <th></th>\n",
              "      <th></th>\n",
              "      <th></th>\n",
              "    </tr>\n",
              "  </thead>\n",
              "  <tbody>\n",
              "    <tr>\n",
              "      <th>female</th>\n",
              "      <td>0.968085</td>\n",
              "      <td>0.921053</td>\n",
              "      <td>0.500000</td>\n",
              "    </tr>\n",
              "    <tr>\n",
              "      <th>male</th>\n",
              "      <td>0.368852</td>\n",
              "      <td>0.157407</td>\n",
              "      <td>0.135447</td>\n",
              "    </tr>\n",
              "  </tbody>\n",
              "</table>\n",
              "</div>\n",
              "      <button class=\"colab-df-convert\" onclick=\"convertToInteractive('df-5b70e098-fdcf-4f52-a3cf-e1ff47b7b47e')\"\n",
              "              title=\"Convert this dataframe to an interactive table.\"\n",
              "              style=\"display:none;\">\n",
              "        \n",
              "  <svg xmlns=\"http://www.w3.org/2000/svg\" height=\"24px\"viewBox=\"0 0 24 24\"\n",
              "       width=\"24px\">\n",
              "    <path d=\"M0 0h24v24H0V0z\" fill=\"none\"/>\n",
              "    <path d=\"M18.56 5.44l.94 2.06.94-2.06 2.06-.94-2.06-.94-.94-2.06-.94 2.06-2.06.94zm-11 1L8.5 8.5l.94-2.06 2.06-.94-2.06-.94L8.5 2.5l-.94 2.06-2.06.94zm10 10l.94 2.06.94-2.06 2.06-.94-2.06-.94-.94-2.06-.94 2.06-2.06.94z\"/><path d=\"M17.41 7.96l-1.37-1.37c-.4-.4-.92-.59-1.43-.59-.52 0-1.04.2-1.43.59L10.3 9.45l-7.72 7.72c-.78.78-.78 2.05 0 2.83L4 21.41c.39.39.9.59 1.41.59.51 0 1.02-.2 1.41-.59l7.78-7.78 2.81-2.81c.8-.78.8-2.07 0-2.86zM5.41 20L4 18.59l7.72-7.72 1.47 1.35L5.41 20z\"/>\n",
              "  </svg>\n",
              "      </button>\n",
              "      \n",
              "  <style>\n",
              "    .colab-df-container {\n",
              "      display:flex;\n",
              "      flex-wrap:wrap;\n",
              "      gap: 12px;\n",
              "    }\n",
              "\n",
              "    .colab-df-convert {\n",
              "      background-color: #E8F0FE;\n",
              "      border: none;\n",
              "      border-radius: 50%;\n",
              "      cursor: pointer;\n",
              "      display: none;\n",
              "      fill: #1967D2;\n",
              "      height: 32px;\n",
              "      padding: 0 0 0 0;\n",
              "      width: 32px;\n",
              "    }\n",
              "\n",
              "    .colab-df-convert:hover {\n",
              "      background-color: #E2EBFA;\n",
              "      box-shadow: 0px 1px 2px rgba(60, 64, 67, 0.3), 0px 1px 3px 1px rgba(60, 64, 67, 0.15);\n",
              "      fill: #174EA6;\n",
              "    }\n",
              "\n",
              "    [theme=dark] .colab-df-convert {\n",
              "      background-color: #3B4455;\n",
              "      fill: #D2E3FC;\n",
              "    }\n",
              "\n",
              "    [theme=dark] .colab-df-convert:hover {\n",
              "      background-color: #434B5C;\n",
              "      box-shadow: 0px 1px 3px 1px rgba(0, 0, 0, 0.15);\n",
              "      filter: drop-shadow(0px 1px 2px rgba(0, 0, 0, 0.3));\n",
              "      fill: #FFFFFF;\n",
              "    }\n",
              "  </style>\n",
              "\n",
              "      <script>\n",
              "        const buttonEl =\n",
              "          document.querySelector('#df-5b70e098-fdcf-4f52-a3cf-e1ff47b7b47e button.colab-df-convert');\n",
              "        buttonEl.style.display =\n",
              "          google.colab.kernel.accessAllowed ? 'block' : 'none';\n",
              "\n",
              "        async function convertToInteractive(key) {\n",
              "          const element = document.querySelector('#df-5b70e098-fdcf-4f52-a3cf-e1ff47b7b47e');\n",
              "          const dataTable =\n",
              "            await google.colab.kernel.invokeFunction('convertToInteractive',\n",
              "                                                     [key], {});\n",
              "          if (!dataTable) return;\n",
              "\n",
              "          const docLinkHtml = 'Like what you see? Visit the ' +\n",
              "            '<a target=\"_blank\" href=https://colab.research.google.com/notebooks/data_table.ipynb>data table notebook</a>'\n",
              "            + ' to learn more about interactive tables.';\n",
              "          element.innerHTML = '';\n",
              "          dataTable['output_type'] = 'display_data';\n",
              "          await google.colab.output.renderOutput(dataTable, element);\n",
              "          const docLink = document.createElement('div');\n",
              "          docLink.innerHTML = docLinkHtml;\n",
              "          element.appendChild(docLink);\n",
              "        }\n",
              "      </script>\n",
              "    </div>\n",
              "  </div>\n",
              "  "
            ]
          },
          "metadata": {},
          "execution_count": 263
        }
      ]
    },
    {
      "cell_type": "markdown",
      "source": [
        "**Tabela dinamica em vários niveis** \n",
        "\n",
        "Assim como no `GroupBy`, o agrupamento em tabelas dinâmicas pode ser especificado com vários níveis e por meio de várias opções. Por exemplo, podemos estar interessados ​​em olhar para a idade como uma terceira dimensão. Vamos classificar a idade usando a `pd.cutfunção`:"
      ],
      "metadata": {
        "id": "J89ri4y1qi-o"
      }
    },
    {
      "cell_type": "code",
      "source": [
        "age = pd.cut(titanic['age'], [0, 18, 80])\n",
        "titanic.pivot_table('survived', ['sex', age], 'class')"
      ],
      "metadata": {
        "colab": {
          "base_uri": "https://localhost:8080/",
          "height": 206
        },
        "id": "xRWaY9WOql8r",
        "outputId": "1f731df0-473a-49b9-cb46-bfaf3d814f3f"
      },
      "execution_count": 264,
      "outputs": [
        {
          "output_type": "execute_result",
          "data": {
            "text/plain": [
              "class               First    Second     Third\n",
              "sex    age                                   \n",
              "female (0, 18]   0.909091  1.000000  0.511628\n",
              "       (18, 80]  0.972973  0.900000  0.423729\n",
              "male   (0, 18]   0.800000  0.600000  0.215686\n",
              "       (18, 80]  0.375000  0.071429  0.133663"
            ],
            "text/html": [
              "\n",
              "  <div id=\"df-7f958ef8-04b0-4b38-b395-e14953d1789c\">\n",
              "    <div class=\"colab-df-container\">\n",
              "      <div>\n",
              "<style scoped>\n",
              "    .dataframe tbody tr th:only-of-type {\n",
              "        vertical-align: middle;\n",
              "    }\n",
              "\n",
              "    .dataframe tbody tr th {\n",
              "        vertical-align: top;\n",
              "    }\n",
              "\n",
              "    .dataframe thead th {\n",
              "        text-align: right;\n",
              "    }\n",
              "</style>\n",
              "<table border=\"1\" class=\"dataframe\">\n",
              "  <thead>\n",
              "    <tr style=\"text-align: right;\">\n",
              "      <th></th>\n",
              "      <th>class</th>\n",
              "      <th>First</th>\n",
              "      <th>Second</th>\n",
              "      <th>Third</th>\n",
              "    </tr>\n",
              "    <tr>\n",
              "      <th>sex</th>\n",
              "      <th>age</th>\n",
              "      <th></th>\n",
              "      <th></th>\n",
              "      <th></th>\n",
              "    </tr>\n",
              "  </thead>\n",
              "  <tbody>\n",
              "    <tr>\n",
              "      <th rowspan=\"2\" valign=\"top\">female</th>\n",
              "      <th>(0, 18]</th>\n",
              "      <td>0.909091</td>\n",
              "      <td>1.000000</td>\n",
              "      <td>0.511628</td>\n",
              "    </tr>\n",
              "    <tr>\n",
              "      <th>(18, 80]</th>\n",
              "      <td>0.972973</td>\n",
              "      <td>0.900000</td>\n",
              "      <td>0.423729</td>\n",
              "    </tr>\n",
              "    <tr>\n",
              "      <th rowspan=\"2\" valign=\"top\">male</th>\n",
              "      <th>(0, 18]</th>\n",
              "      <td>0.800000</td>\n",
              "      <td>0.600000</td>\n",
              "      <td>0.215686</td>\n",
              "    </tr>\n",
              "    <tr>\n",
              "      <th>(18, 80]</th>\n",
              "      <td>0.375000</td>\n",
              "      <td>0.071429</td>\n",
              "      <td>0.133663</td>\n",
              "    </tr>\n",
              "  </tbody>\n",
              "</table>\n",
              "</div>\n",
              "      <button class=\"colab-df-convert\" onclick=\"convertToInteractive('df-7f958ef8-04b0-4b38-b395-e14953d1789c')\"\n",
              "              title=\"Convert this dataframe to an interactive table.\"\n",
              "              style=\"display:none;\">\n",
              "        \n",
              "  <svg xmlns=\"http://www.w3.org/2000/svg\" height=\"24px\"viewBox=\"0 0 24 24\"\n",
              "       width=\"24px\">\n",
              "    <path d=\"M0 0h24v24H0V0z\" fill=\"none\"/>\n",
              "    <path d=\"M18.56 5.44l.94 2.06.94-2.06 2.06-.94-2.06-.94-.94-2.06-.94 2.06-2.06.94zm-11 1L8.5 8.5l.94-2.06 2.06-.94-2.06-.94L8.5 2.5l-.94 2.06-2.06.94zm10 10l.94 2.06.94-2.06 2.06-.94-2.06-.94-.94-2.06-.94 2.06-2.06.94z\"/><path d=\"M17.41 7.96l-1.37-1.37c-.4-.4-.92-.59-1.43-.59-.52 0-1.04.2-1.43.59L10.3 9.45l-7.72 7.72c-.78.78-.78 2.05 0 2.83L4 21.41c.39.39.9.59 1.41.59.51 0 1.02-.2 1.41-.59l7.78-7.78 2.81-2.81c.8-.78.8-2.07 0-2.86zM5.41 20L4 18.59l7.72-7.72 1.47 1.35L5.41 20z\"/>\n",
              "  </svg>\n",
              "      </button>\n",
              "      \n",
              "  <style>\n",
              "    .colab-df-container {\n",
              "      display:flex;\n",
              "      flex-wrap:wrap;\n",
              "      gap: 12px;\n",
              "    }\n",
              "\n",
              "    .colab-df-convert {\n",
              "      background-color: #E8F0FE;\n",
              "      border: none;\n",
              "      border-radius: 50%;\n",
              "      cursor: pointer;\n",
              "      display: none;\n",
              "      fill: #1967D2;\n",
              "      height: 32px;\n",
              "      padding: 0 0 0 0;\n",
              "      width: 32px;\n",
              "    }\n",
              "\n",
              "    .colab-df-convert:hover {\n",
              "      background-color: #E2EBFA;\n",
              "      box-shadow: 0px 1px 2px rgba(60, 64, 67, 0.3), 0px 1px 3px 1px rgba(60, 64, 67, 0.15);\n",
              "      fill: #174EA6;\n",
              "    }\n",
              "\n",
              "    [theme=dark] .colab-df-convert {\n",
              "      background-color: #3B4455;\n",
              "      fill: #D2E3FC;\n",
              "    }\n",
              "\n",
              "    [theme=dark] .colab-df-convert:hover {\n",
              "      background-color: #434B5C;\n",
              "      box-shadow: 0px 1px 3px 1px rgba(0, 0, 0, 0.15);\n",
              "      filter: drop-shadow(0px 1px 2px rgba(0, 0, 0, 0.3));\n",
              "      fill: #FFFFFF;\n",
              "    }\n",
              "  </style>\n",
              "\n",
              "      <script>\n",
              "        const buttonEl =\n",
              "          document.querySelector('#df-7f958ef8-04b0-4b38-b395-e14953d1789c button.colab-df-convert');\n",
              "        buttonEl.style.display =\n",
              "          google.colab.kernel.accessAllowed ? 'block' : 'none';\n",
              "\n",
              "        async function convertToInteractive(key) {\n",
              "          const element = document.querySelector('#df-7f958ef8-04b0-4b38-b395-e14953d1789c');\n",
              "          const dataTable =\n",
              "            await google.colab.kernel.invokeFunction('convertToInteractive',\n",
              "                                                     [key], {});\n",
              "          if (!dataTable) return;\n",
              "\n",
              "          const docLinkHtml = 'Like what you see? Visit the ' +\n",
              "            '<a target=\"_blank\" href=https://colab.research.google.com/notebooks/data_table.ipynb>data table notebook</a>'\n",
              "            + ' to learn more about interactive tables.';\n",
              "          element.innerHTML = '';\n",
              "          dataTable['output_type'] = 'display_data';\n",
              "          await google.colab.output.renderOutput(dataTable, element);\n",
              "          const docLink = document.createElement('div');\n",
              "          docLink.innerHTML = docLinkHtml;\n",
              "          element.appendChild(docLink);\n",
              "        }\n",
              "      </script>\n",
              "    </div>\n",
              "  </div>\n",
              "  "
            ]
          },
          "metadata": {},
          "execution_count": 264
        }
      ]
    },
    {
      "cell_type": "markdown",
      "source": [
        "Podemos aplicar a mesma estratégia ao trabalhar com as colunas também; vamos adicionar informações sobre a tarifa paga usando `pd.qcut` para calcular quantis automaticamente:"
      ],
      "metadata": {
        "id": "eirArzlloY6U"
      }
    },
    {
      "cell_type": "code",
      "source": [
        "fare = pd.qcut(titanic['fare'], 2)\n",
        "titanic.pivot_table('survived', ['sex', age], [fare, 'class'])"
      ],
      "metadata": {
        "colab": {
          "base_uri": "https://localhost:8080/",
          "height": 237
        },
        "id": "WZh-LXDIrbxy",
        "outputId": "a5f680e2-5a9a-4269-ac91-f87de7bfb53e"
      },
      "execution_count": 265,
      "outputs": [
        {
          "output_type": "execute_result",
          "data": {
            "text/plain": [
              "fare            (-0.001, 14.454]                     (14.454, 512.329]  \\\n",
              "class                      First    Second     Third             First   \n",
              "sex    age                                                               \n",
              "female (0, 18]               NaN  1.000000  0.714286          0.909091   \n",
              "       (18, 80]              NaN  0.880000  0.444444          0.972973   \n",
              "male   (0, 18]               NaN  0.000000  0.260870          0.800000   \n",
              "       (18, 80]              0.0  0.098039  0.125000          0.391304   \n",
              "\n",
              "fare                                 \n",
              "class              Second     Third  \n",
              "sex    age                           \n",
              "female (0, 18]   1.000000  0.318182  \n",
              "       (18, 80]  0.914286  0.391304  \n",
              "male   (0, 18]   0.818182  0.178571  \n",
              "       (18, 80]  0.030303  0.192308  "
            ],
            "text/html": [
              "\n",
              "  <div id=\"df-76ea31a5-0e7e-44a4-8cc2-c50cfc96497e\">\n",
              "    <div class=\"colab-df-container\">\n",
              "      <div>\n",
              "<style scoped>\n",
              "    .dataframe tbody tr th:only-of-type {\n",
              "        vertical-align: middle;\n",
              "    }\n",
              "\n",
              "    .dataframe tbody tr th {\n",
              "        vertical-align: top;\n",
              "    }\n",
              "\n",
              "    .dataframe thead tr th {\n",
              "        text-align: left;\n",
              "    }\n",
              "\n",
              "    .dataframe thead tr:last-of-type th {\n",
              "        text-align: right;\n",
              "    }\n",
              "</style>\n",
              "<table border=\"1\" class=\"dataframe\">\n",
              "  <thead>\n",
              "    <tr>\n",
              "      <th></th>\n",
              "      <th>fare</th>\n",
              "      <th colspan=\"3\" halign=\"left\">(-0.001, 14.454]</th>\n",
              "      <th colspan=\"3\" halign=\"left\">(14.454, 512.329]</th>\n",
              "    </tr>\n",
              "    <tr>\n",
              "      <th></th>\n",
              "      <th>class</th>\n",
              "      <th>First</th>\n",
              "      <th>Second</th>\n",
              "      <th>Third</th>\n",
              "      <th>First</th>\n",
              "      <th>Second</th>\n",
              "      <th>Third</th>\n",
              "    </tr>\n",
              "    <tr>\n",
              "      <th>sex</th>\n",
              "      <th>age</th>\n",
              "      <th></th>\n",
              "      <th></th>\n",
              "      <th></th>\n",
              "      <th></th>\n",
              "      <th></th>\n",
              "      <th></th>\n",
              "    </tr>\n",
              "  </thead>\n",
              "  <tbody>\n",
              "    <tr>\n",
              "      <th rowspan=\"2\" valign=\"top\">female</th>\n",
              "      <th>(0, 18]</th>\n",
              "      <td>NaN</td>\n",
              "      <td>1.000000</td>\n",
              "      <td>0.714286</td>\n",
              "      <td>0.909091</td>\n",
              "      <td>1.000000</td>\n",
              "      <td>0.318182</td>\n",
              "    </tr>\n",
              "    <tr>\n",
              "      <th>(18, 80]</th>\n",
              "      <td>NaN</td>\n",
              "      <td>0.880000</td>\n",
              "      <td>0.444444</td>\n",
              "      <td>0.972973</td>\n",
              "      <td>0.914286</td>\n",
              "      <td>0.391304</td>\n",
              "    </tr>\n",
              "    <tr>\n",
              "      <th rowspan=\"2\" valign=\"top\">male</th>\n",
              "      <th>(0, 18]</th>\n",
              "      <td>NaN</td>\n",
              "      <td>0.000000</td>\n",
              "      <td>0.260870</td>\n",
              "      <td>0.800000</td>\n",
              "      <td>0.818182</td>\n",
              "      <td>0.178571</td>\n",
              "    </tr>\n",
              "    <tr>\n",
              "      <th>(18, 80]</th>\n",
              "      <td>0.0</td>\n",
              "      <td>0.098039</td>\n",
              "      <td>0.125000</td>\n",
              "      <td>0.391304</td>\n",
              "      <td>0.030303</td>\n",
              "      <td>0.192308</td>\n",
              "    </tr>\n",
              "  </tbody>\n",
              "</table>\n",
              "</div>\n",
              "      <button class=\"colab-df-convert\" onclick=\"convertToInteractive('df-76ea31a5-0e7e-44a4-8cc2-c50cfc96497e')\"\n",
              "              title=\"Convert this dataframe to an interactive table.\"\n",
              "              style=\"display:none;\">\n",
              "        \n",
              "  <svg xmlns=\"http://www.w3.org/2000/svg\" height=\"24px\"viewBox=\"0 0 24 24\"\n",
              "       width=\"24px\">\n",
              "    <path d=\"M0 0h24v24H0V0z\" fill=\"none\"/>\n",
              "    <path d=\"M18.56 5.44l.94 2.06.94-2.06 2.06-.94-2.06-.94-.94-2.06-.94 2.06-2.06.94zm-11 1L8.5 8.5l.94-2.06 2.06-.94-2.06-.94L8.5 2.5l-.94 2.06-2.06.94zm10 10l.94 2.06.94-2.06 2.06-.94-2.06-.94-.94-2.06-.94 2.06-2.06.94z\"/><path d=\"M17.41 7.96l-1.37-1.37c-.4-.4-.92-.59-1.43-.59-.52 0-1.04.2-1.43.59L10.3 9.45l-7.72 7.72c-.78.78-.78 2.05 0 2.83L4 21.41c.39.39.9.59 1.41.59.51 0 1.02-.2 1.41-.59l7.78-7.78 2.81-2.81c.8-.78.8-2.07 0-2.86zM5.41 20L4 18.59l7.72-7.72 1.47 1.35L5.41 20z\"/>\n",
              "  </svg>\n",
              "      </button>\n",
              "      \n",
              "  <style>\n",
              "    .colab-df-container {\n",
              "      display:flex;\n",
              "      flex-wrap:wrap;\n",
              "      gap: 12px;\n",
              "    }\n",
              "\n",
              "    .colab-df-convert {\n",
              "      background-color: #E8F0FE;\n",
              "      border: none;\n",
              "      border-radius: 50%;\n",
              "      cursor: pointer;\n",
              "      display: none;\n",
              "      fill: #1967D2;\n",
              "      height: 32px;\n",
              "      padding: 0 0 0 0;\n",
              "      width: 32px;\n",
              "    }\n",
              "\n",
              "    .colab-df-convert:hover {\n",
              "      background-color: #E2EBFA;\n",
              "      box-shadow: 0px 1px 2px rgba(60, 64, 67, 0.3), 0px 1px 3px 1px rgba(60, 64, 67, 0.15);\n",
              "      fill: #174EA6;\n",
              "    }\n",
              "\n",
              "    [theme=dark] .colab-df-convert {\n",
              "      background-color: #3B4455;\n",
              "      fill: #D2E3FC;\n",
              "    }\n",
              "\n",
              "    [theme=dark] .colab-df-convert:hover {\n",
              "      background-color: #434B5C;\n",
              "      box-shadow: 0px 1px 3px 1px rgba(0, 0, 0, 0.15);\n",
              "      filter: drop-shadow(0px 1px 2px rgba(0, 0, 0, 0.3));\n",
              "      fill: #FFFFFF;\n",
              "    }\n",
              "  </style>\n",
              "\n",
              "      <script>\n",
              "        const buttonEl =\n",
              "          document.querySelector('#df-76ea31a5-0e7e-44a4-8cc2-c50cfc96497e button.colab-df-convert');\n",
              "        buttonEl.style.display =\n",
              "          google.colab.kernel.accessAllowed ? 'block' : 'none';\n",
              "\n",
              "        async function convertToInteractive(key) {\n",
              "          const element = document.querySelector('#df-76ea31a5-0e7e-44a4-8cc2-c50cfc96497e');\n",
              "          const dataTable =\n",
              "            await google.colab.kernel.invokeFunction('convertToInteractive',\n",
              "                                                     [key], {});\n",
              "          if (!dataTable) return;\n",
              "\n",
              "          const docLinkHtml = 'Like what you see? Visit the ' +\n",
              "            '<a target=\"_blank\" href=https://colab.research.google.com/notebooks/data_table.ipynb>data table notebook</a>'\n",
              "            + ' to learn more about interactive tables.';\n",
              "          element.innerHTML = '';\n",
              "          dataTable['output_type'] = 'display_data';\n",
              "          await google.colab.output.renderOutput(dataTable, element);\n",
              "          const docLink = document.createElement('div');\n",
              "          docLink.innerHTML = docLinkHtml;\n",
              "          element.appendChild(docLink);\n",
              "        }\n",
              "      </script>\n",
              "    </div>\n",
              "  </div>\n",
              "  "
            ]
          },
          "metadata": {},
          "execution_count": 265
        }
      ]
    },
    {
      "cell_type": "code",
      "source": [],
      "metadata": {
        "id": "XQlofdECsY7n"
      },
      "execution_count": 265,
      "outputs": []
    },
    {
      "cell_type": "markdown",
      "source": [
        "Existem algumas opções no argumento do `pivot_table`\n",
        "```\n",
        "DataFrame.pivot_table(data, values=None, index=None, columns=None,\n",
        "                      aggfunc='mean', fill_value=None, margins=False,\n",
        "                      dropna=True, margins_name='All')\n",
        "```\n",
        "\n"
      ],
      "metadata": {
        "id": "n6yrl6V1sWFg"
      }
    },
    {
      "cell_type": "markdown",
      "source": [
        "A `aggfunc` palavra-chave controla que tipo de agregação é aplicada, o que é uma média por padrão. Como no GroupBy, a especificação de agregação pode ser uma string representando uma das várias opções comuns (por exemplo, 'sum', 'mean', 'count', 'min', 'max'etc.) ou uma função que implementa uma agregação (por exemplo, np.sum(), min(), sum(), etc.). Além disso, pode ser especificado como um dicionário mapeando uma coluna para qualquer uma das opções desejadas acima:"
      ],
      "metadata": {
        "id": "et68-b2-s37T"
      }
    },
    {
      "cell_type": "code",
      "source": [
        "titanic.pivot_table(index='sex', columns='class',\n",
        "                    aggfunc={'survived':sum, 'fare':'mean'})"
      ],
      "metadata": {
        "colab": {
          "base_uri": "https://localhost:8080/",
          "height": 175
        },
        "id": "-zYaAy_7tCUm",
        "outputId": "66519de3-d88a-40ff-f2e4-286aa17c834e"
      },
      "execution_count": 266,
      "outputs": [
        {
          "output_type": "execute_result",
          "data": {
            "text/plain": [
              "              fare                       survived             \n",
              "class        First     Second      Third    First Second Third\n",
              "sex                                                           \n",
              "female  106.125798  21.970121  16.118810       91     70    72\n",
              "male     67.226127  19.741782  12.661633       45     17    47"
            ],
            "text/html": [
              "\n",
              "  <div id=\"df-bedd4ec7-6032-40b2-a62b-7d1118768d50\">\n",
              "    <div class=\"colab-df-container\">\n",
              "      <div>\n",
              "<style scoped>\n",
              "    .dataframe tbody tr th:only-of-type {\n",
              "        vertical-align: middle;\n",
              "    }\n",
              "\n",
              "    .dataframe tbody tr th {\n",
              "        vertical-align: top;\n",
              "    }\n",
              "\n",
              "    .dataframe thead tr th {\n",
              "        text-align: left;\n",
              "    }\n",
              "\n",
              "    .dataframe thead tr:last-of-type th {\n",
              "        text-align: right;\n",
              "    }\n",
              "</style>\n",
              "<table border=\"1\" class=\"dataframe\">\n",
              "  <thead>\n",
              "    <tr>\n",
              "      <th></th>\n",
              "      <th colspan=\"3\" halign=\"left\">fare</th>\n",
              "      <th colspan=\"3\" halign=\"left\">survived</th>\n",
              "    </tr>\n",
              "    <tr>\n",
              "      <th>class</th>\n",
              "      <th>First</th>\n",
              "      <th>Second</th>\n",
              "      <th>Third</th>\n",
              "      <th>First</th>\n",
              "      <th>Second</th>\n",
              "      <th>Third</th>\n",
              "    </tr>\n",
              "    <tr>\n",
              "      <th>sex</th>\n",
              "      <th></th>\n",
              "      <th></th>\n",
              "      <th></th>\n",
              "      <th></th>\n",
              "      <th></th>\n",
              "      <th></th>\n",
              "    </tr>\n",
              "  </thead>\n",
              "  <tbody>\n",
              "    <tr>\n",
              "      <th>female</th>\n",
              "      <td>106.125798</td>\n",
              "      <td>21.970121</td>\n",
              "      <td>16.118810</td>\n",
              "      <td>91</td>\n",
              "      <td>70</td>\n",
              "      <td>72</td>\n",
              "    </tr>\n",
              "    <tr>\n",
              "      <th>male</th>\n",
              "      <td>67.226127</td>\n",
              "      <td>19.741782</td>\n",
              "      <td>12.661633</td>\n",
              "      <td>45</td>\n",
              "      <td>17</td>\n",
              "      <td>47</td>\n",
              "    </tr>\n",
              "  </tbody>\n",
              "</table>\n",
              "</div>\n",
              "      <button class=\"colab-df-convert\" onclick=\"convertToInteractive('df-bedd4ec7-6032-40b2-a62b-7d1118768d50')\"\n",
              "              title=\"Convert this dataframe to an interactive table.\"\n",
              "              style=\"display:none;\">\n",
              "        \n",
              "  <svg xmlns=\"http://www.w3.org/2000/svg\" height=\"24px\"viewBox=\"0 0 24 24\"\n",
              "       width=\"24px\">\n",
              "    <path d=\"M0 0h24v24H0V0z\" fill=\"none\"/>\n",
              "    <path d=\"M18.56 5.44l.94 2.06.94-2.06 2.06-.94-2.06-.94-.94-2.06-.94 2.06-2.06.94zm-11 1L8.5 8.5l.94-2.06 2.06-.94-2.06-.94L8.5 2.5l-.94 2.06-2.06.94zm10 10l.94 2.06.94-2.06 2.06-.94-2.06-.94-.94-2.06-.94 2.06-2.06.94z\"/><path d=\"M17.41 7.96l-1.37-1.37c-.4-.4-.92-.59-1.43-.59-.52 0-1.04.2-1.43.59L10.3 9.45l-7.72 7.72c-.78.78-.78 2.05 0 2.83L4 21.41c.39.39.9.59 1.41.59.51 0 1.02-.2 1.41-.59l7.78-7.78 2.81-2.81c.8-.78.8-2.07 0-2.86zM5.41 20L4 18.59l7.72-7.72 1.47 1.35L5.41 20z\"/>\n",
              "  </svg>\n",
              "      </button>\n",
              "      \n",
              "  <style>\n",
              "    .colab-df-container {\n",
              "      display:flex;\n",
              "      flex-wrap:wrap;\n",
              "      gap: 12px;\n",
              "    }\n",
              "\n",
              "    .colab-df-convert {\n",
              "      background-color: #E8F0FE;\n",
              "      border: none;\n",
              "      border-radius: 50%;\n",
              "      cursor: pointer;\n",
              "      display: none;\n",
              "      fill: #1967D2;\n",
              "      height: 32px;\n",
              "      padding: 0 0 0 0;\n",
              "      width: 32px;\n",
              "    }\n",
              "\n",
              "    .colab-df-convert:hover {\n",
              "      background-color: #E2EBFA;\n",
              "      box-shadow: 0px 1px 2px rgba(60, 64, 67, 0.3), 0px 1px 3px 1px rgba(60, 64, 67, 0.15);\n",
              "      fill: #174EA6;\n",
              "    }\n",
              "\n",
              "    [theme=dark] .colab-df-convert {\n",
              "      background-color: #3B4455;\n",
              "      fill: #D2E3FC;\n",
              "    }\n",
              "\n",
              "    [theme=dark] .colab-df-convert:hover {\n",
              "      background-color: #434B5C;\n",
              "      box-shadow: 0px 1px 3px 1px rgba(0, 0, 0, 0.15);\n",
              "      filter: drop-shadow(0px 1px 2px rgba(0, 0, 0, 0.3));\n",
              "      fill: #FFFFFF;\n",
              "    }\n",
              "  </style>\n",
              "\n",
              "      <script>\n",
              "        const buttonEl =\n",
              "          document.querySelector('#df-bedd4ec7-6032-40b2-a62b-7d1118768d50 button.colab-df-convert');\n",
              "        buttonEl.style.display =\n",
              "          google.colab.kernel.accessAllowed ? 'block' : 'none';\n",
              "\n",
              "        async function convertToInteractive(key) {\n",
              "          const element = document.querySelector('#df-bedd4ec7-6032-40b2-a62b-7d1118768d50');\n",
              "          const dataTable =\n",
              "            await google.colab.kernel.invokeFunction('convertToInteractive',\n",
              "                                                     [key], {});\n",
              "          if (!dataTable) return;\n",
              "\n",
              "          const docLinkHtml = 'Like what you see? Visit the ' +\n",
              "            '<a target=\"_blank\" href=https://colab.research.google.com/notebooks/data_table.ipynb>data table notebook</a>'\n",
              "            + ' to learn more about interactive tables.';\n",
              "          element.innerHTML = '';\n",
              "          dataTable['output_type'] = 'display_data';\n",
              "          await google.colab.output.renderOutput(dataTable, element);\n",
              "          const docLink = document.createElement('div');\n",
              "          docLink.innerHTML = docLinkHtml;\n",
              "          element.appendChild(docLink);\n",
              "        }\n",
              "      </script>\n",
              "    </div>\n",
              "  </div>\n",
              "  "
            ]
          },
          "metadata": {},
          "execution_count": 266
        }
      ]
    },
    {
      "cell_type": "markdown",
      "source": [
        "Às vezes é útil calcular totais ao longo de cada agrupamento. Isso pode ser feito através da `margins` palavra-chave:"
      ],
      "metadata": {
        "id": "bgVHgnRHs7OG"
      }
    },
    {
      "cell_type": "code",
      "source": [
        "titanic.pivot_table('survived', index='sex', columns='class', margins=True)\n"
      ],
      "metadata": {
        "colab": {
          "base_uri": "https://localhost:8080/",
          "height": 175
        },
        "id": "wGIjLz7sZrNZ",
        "outputId": "f3ecb4e5-3e36-41e5-f22b-908e5fb207dc"
      },
      "execution_count": 267,
      "outputs": [
        {
          "output_type": "execute_result",
          "data": {
            "text/plain": [
              "class      First    Second     Third       All\n",
              "sex                                           \n",
              "female  0.968085  0.921053  0.500000  0.742038\n",
              "male    0.368852  0.157407  0.135447  0.188908\n",
              "All     0.629630  0.472826  0.242363  0.383838"
            ],
            "text/html": [
              "\n",
              "  <div id=\"df-a8f2a724-4b75-4b2b-9de0-1167cf47b647\">\n",
              "    <div class=\"colab-df-container\">\n",
              "      <div>\n",
              "<style scoped>\n",
              "    .dataframe tbody tr th:only-of-type {\n",
              "        vertical-align: middle;\n",
              "    }\n",
              "\n",
              "    .dataframe tbody tr th {\n",
              "        vertical-align: top;\n",
              "    }\n",
              "\n",
              "    .dataframe thead th {\n",
              "        text-align: right;\n",
              "    }\n",
              "</style>\n",
              "<table border=\"1\" class=\"dataframe\">\n",
              "  <thead>\n",
              "    <tr style=\"text-align: right;\">\n",
              "      <th>class</th>\n",
              "      <th>First</th>\n",
              "      <th>Second</th>\n",
              "      <th>Third</th>\n",
              "      <th>All</th>\n",
              "    </tr>\n",
              "    <tr>\n",
              "      <th>sex</th>\n",
              "      <th></th>\n",
              "      <th></th>\n",
              "      <th></th>\n",
              "      <th></th>\n",
              "    </tr>\n",
              "  </thead>\n",
              "  <tbody>\n",
              "    <tr>\n",
              "      <th>female</th>\n",
              "      <td>0.968085</td>\n",
              "      <td>0.921053</td>\n",
              "      <td>0.500000</td>\n",
              "      <td>0.742038</td>\n",
              "    </tr>\n",
              "    <tr>\n",
              "      <th>male</th>\n",
              "      <td>0.368852</td>\n",
              "      <td>0.157407</td>\n",
              "      <td>0.135447</td>\n",
              "      <td>0.188908</td>\n",
              "    </tr>\n",
              "    <tr>\n",
              "      <th>All</th>\n",
              "      <td>0.629630</td>\n",
              "      <td>0.472826</td>\n",
              "      <td>0.242363</td>\n",
              "      <td>0.383838</td>\n",
              "    </tr>\n",
              "  </tbody>\n",
              "</table>\n",
              "</div>\n",
              "      <button class=\"colab-df-convert\" onclick=\"convertToInteractive('df-a8f2a724-4b75-4b2b-9de0-1167cf47b647')\"\n",
              "              title=\"Convert this dataframe to an interactive table.\"\n",
              "              style=\"display:none;\">\n",
              "        \n",
              "  <svg xmlns=\"http://www.w3.org/2000/svg\" height=\"24px\"viewBox=\"0 0 24 24\"\n",
              "       width=\"24px\">\n",
              "    <path d=\"M0 0h24v24H0V0z\" fill=\"none\"/>\n",
              "    <path d=\"M18.56 5.44l.94 2.06.94-2.06 2.06-.94-2.06-.94-.94-2.06-.94 2.06-2.06.94zm-11 1L8.5 8.5l.94-2.06 2.06-.94-2.06-.94L8.5 2.5l-.94 2.06-2.06.94zm10 10l.94 2.06.94-2.06 2.06-.94-2.06-.94-.94-2.06-.94 2.06-2.06.94z\"/><path d=\"M17.41 7.96l-1.37-1.37c-.4-.4-.92-.59-1.43-.59-.52 0-1.04.2-1.43.59L10.3 9.45l-7.72 7.72c-.78.78-.78 2.05 0 2.83L4 21.41c.39.39.9.59 1.41.59.51 0 1.02-.2 1.41-.59l7.78-7.78 2.81-2.81c.8-.78.8-2.07 0-2.86zM5.41 20L4 18.59l7.72-7.72 1.47 1.35L5.41 20z\"/>\n",
              "  </svg>\n",
              "      </button>\n",
              "      \n",
              "  <style>\n",
              "    .colab-df-container {\n",
              "      display:flex;\n",
              "      flex-wrap:wrap;\n",
              "      gap: 12px;\n",
              "    }\n",
              "\n",
              "    .colab-df-convert {\n",
              "      background-color: #E8F0FE;\n",
              "      border: none;\n",
              "      border-radius: 50%;\n",
              "      cursor: pointer;\n",
              "      display: none;\n",
              "      fill: #1967D2;\n",
              "      height: 32px;\n",
              "      padding: 0 0 0 0;\n",
              "      width: 32px;\n",
              "    }\n",
              "\n",
              "    .colab-df-convert:hover {\n",
              "      background-color: #E2EBFA;\n",
              "      box-shadow: 0px 1px 2px rgba(60, 64, 67, 0.3), 0px 1px 3px 1px rgba(60, 64, 67, 0.15);\n",
              "      fill: #174EA6;\n",
              "    }\n",
              "\n",
              "    [theme=dark] .colab-df-convert {\n",
              "      background-color: #3B4455;\n",
              "      fill: #D2E3FC;\n",
              "    }\n",
              "\n",
              "    [theme=dark] .colab-df-convert:hover {\n",
              "      background-color: #434B5C;\n",
              "      box-shadow: 0px 1px 3px 1px rgba(0, 0, 0, 0.15);\n",
              "      filter: drop-shadow(0px 1px 2px rgba(0, 0, 0, 0.3));\n",
              "      fill: #FFFFFF;\n",
              "    }\n",
              "  </style>\n",
              "\n",
              "      <script>\n",
              "        const buttonEl =\n",
              "          document.querySelector('#df-a8f2a724-4b75-4b2b-9de0-1167cf47b647 button.colab-df-convert');\n",
              "        buttonEl.style.display =\n",
              "          google.colab.kernel.accessAllowed ? 'block' : 'none';\n",
              "\n",
              "        async function convertToInteractive(key) {\n",
              "          const element = document.querySelector('#df-a8f2a724-4b75-4b2b-9de0-1167cf47b647');\n",
              "          const dataTable =\n",
              "            await google.colab.kernel.invokeFunction('convertToInteractive',\n",
              "                                                     [key], {});\n",
              "          if (!dataTable) return;\n",
              "\n",
              "          const docLinkHtml = 'Like what you see? Visit the ' +\n",
              "            '<a target=\"_blank\" href=https://colab.research.google.com/notebooks/data_table.ipynb>data table notebook</a>'\n",
              "            + ' to learn more about interactive tables.';\n",
              "          element.innerHTML = '';\n",
              "          dataTable['output_type'] = 'display_data';\n",
              "          await google.colab.output.renderOutput(dataTable, element);\n",
              "          const docLink = document.createElement('div');\n",
              "          docLink.innerHTML = docLinkHtml;\n",
              "          element.appendChild(docLink);\n",
              "        }\n",
              "      </script>\n",
              "    </div>\n",
              "  </div>\n",
              "  "
            ]
          },
          "metadata": {},
          "execution_count": 267
        }
      ]
    },
    {
      "cell_type": "markdown",
      "source": [
        "#Operações de String Vetorizadas\n",
        "Um ponto forte do Python é sua relativa facilidade em lidar e manipular dados de string. O Pandas se baseia nisso e fornece um conjunto abrangente de operações de cadeia de caracteres vetorizadas que se tornam uma peça essencial do tipo de munging necessário ao trabalhar com (leia-se: limpar) dados do mundo real."
      ],
      "metadata": {
        "id": "Yro11zGdb11q"
      }
    },
    {
      "cell_type": "markdown",
      "source": [
        "O Pandas inclui recursos para atender a essa necessidade de operações de string vetorizada e para lidar corretamente com os dados ausentes por meio do stratributo de objetos Pandas `Series` e `Index` contendo strings. Então, por exemplo, suponha que criamos uma série Pandas com esses dados:"
      ],
      "metadata": {
        "id": "2WiD47M7e6Uy"
      }
    },
    {
      "cell_type": "code",
      "source": [
        "data = ['peter', 'Paul', None, 'MARY', 'gUIDO']\n",
        "names = pd.Series(data)\n",
        "names"
      ],
      "metadata": {
        "colab": {
          "base_uri": "https://localhost:8080/"
        },
        "id": "HQyy5AIGe0wj",
        "outputId": "2d39f7aa-9aeb-449f-a743-2ebee4a99557"
      },
      "execution_count": 268,
      "outputs": [
        {
          "output_type": "execute_result",
          "data": {
            "text/plain": [
              "0    peter\n",
              "1     Paul\n",
              "2     None\n",
              "3     MARY\n",
              "4    gUIDO\n",
              "dtype: object"
            ]
          },
          "metadata": {},
          "execution_count": 268
        }
      ]
    },
    {
      "cell_type": "code",
      "source": [
        "names.str.capitalize()"
      ],
      "metadata": {
        "colab": {
          "base_uri": "https://localhost:8080/"
        },
        "id": "6PtZ3FNSfKjb",
        "outputId": "69072a93-7a18-4d5e-9bb8-5089b4b1fd37"
      },
      "execution_count": 269,
      "outputs": [
        {
          "output_type": "execute_result",
          "data": {
            "text/plain": [
              "0    Peter\n",
              "1     Paul\n",
              "2     None\n",
              "3     Mary\n",
              "4    Guido\n",
              "dtype: object"
            ]
          },
          "metadata": {},
          "execution_count": 269
        }
      ]
    },
    {
      "cell_type": "markdown",
      "source": [
        "Segue o seguinte exemplo com strings de nomes"
      ],
      "metadata": {
        "id": "HYdXcRYffecf"
      }
    },
    {
      "cell_type": "code",
      "source": [
        "monte = pd.Series(['Graham Chapman', 'John Cleese', 'Terry Gilliam',\n",
        "                   'Eric Idle', 'Terry Jones', 'Michael Palin'])"
      ],
      "metadata": {
        "id": "-1Sm3iBifiKh"
      },
      "execution_count": 270,
      "outputs": []
    },
    {
      "cell_type": "markdown",
      "source": [
        "![image.png](data:image/png;base64,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)"
      ],
      "metadata": {
        "id": "YCqxYYY2fya-"
      }
    },
    {
      "cell_type": "code",
      "source": [
        "monte.str.lower()"
      ],
      "metadata": {
        "colab": {
          "base_uri": "https://localhost:8080/"
        },
        "id": "bqhGUd2whG1_",
        "outputId": "b7130ee0-29f0-4381-fbeb-943103f09203"
      },
      "execution_count": 271,
      "outputs": [
        {
          "output_type": "execute_result",
          "data": {
            "text/plain": [
              "0    graham chapman\n",
              "1       john cleese\n",
              "2     terry gilliam\n",
              "3         eric idle\n",
              "4       terry jones\n",
              "5     michael palin\n",
              "dtype: object"
            ]
          },
          "metadata": {},
          "execution_count": 271
        }
      ]
    },
    {
      "cell_type": "code",
      "source": [
        "monte.str.len()"
      ],
      "metadata": {
        "colab": {
          "base_uri": "https://localhost:8080/"
        },
        "id": "aOPOOi3ZhVOA",
        "outputId": "72d5e714-3597-43b2-9a31-e0eb5a670a54"
      },
      "execution_count": 272,
      "outputs": [
        {
          "output_type": "execute_result",
          "data": {
            "text/plain": [
              "0    14\n",
              "1    11\n",
              "2    13\n",
              "3     9\n",
              "4    11\n",
              "5    13\n",
              "dtype: int64"
            ]
          },
          "metadata": {},
          "execution_count": 272
        }
      ]
    },
    {
      "cell_type": "code",
      "source": [
        "monte.str.startswith('T')"
      ],
      "metadata": {
        "colab": {
          "base_uri": "https://localhost:8080/"
        },
        "id": "ZBl2lCcThcie",
        "outputId": "df274d51-e188-4d37-d578-8f03a413af4d"
      },
      "execution_count": 273,
      "outputs": [
        {
          "output_type": "execute_result",
          "data": {
            "text/plain": [
              "0    False\n",
              "1    False\n",
              "2     True\n",
              "3    False\n",
              "4     True\n",
              "5    False\n",
              "dtype: bool"
            ]
          },
          "metadata": {},
          "execution_count": 273
        }
      ]
    },
    {
      "cell_type": "markdown",
      "source": [
        "![image.png](data:image/png;base64,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)"
      ],
      "metadata": {
        "id": "dMAPIVOnhsoc"
      }
    },
    {
      "cell_type": "code",
      "source": [
        "monte.str.split()"
      ],
      "metadata": {
        "colab": {
          "base_uri": "https://localhost:8080/"
        },
        "id": "5bkSnDtkhtdb",
        "outputId": "1d2be85b-303a-4ce1-da55-9dc8919cf59d"
      },
      "execution_count": 274,
      "outputs": [
        {
          "output_type": "execute_result",
          "data": {
            "text/plain": [
              "0    [Graham, Chapman]\n",
              "1       [John, Cleese]\n",
              "2     [Terry, Gilliam]\n",
              "3         [Eric, Idle]\n",
              "4       [Terry, Jones]\n",
              "5     [Michael, Palin]\n",
              "dtype: object"
            ]
          },
          "metadata": {},
          "execution_count": 274
        }
      ]
    },
    {
      "cell_type": "markdown",
      "source": [
        "Com eles, você pode fazer uma ampla gama de operações interessantes. Por exemplo, podemos extrair o primeiro nome de cada um solicitando um grupo contíguo de caracteres no início de cada elemento:"
      ],
      "metadata": {
        "id": "0Ph4wR2VjUBn"
      }
    },
    {
      "cell_type": "code",
      "source": [
        "monte.str.extract('([A-Za-z]+)', expand=False)"
      ],
      "metadata": {
        "colab": {
          "base_uri": "https://localhost:8080/"
        },
        "id": "IiilcJAIjWu7",
        "outputId": "4279e2a9-f2f5-468b-8cb6-d6f1f8b18209"
      },
      "execution_count": 275,
      "outputs": [
        {
          "output_type": "execute_result",
          "data": {
            "text/plain": [
              "0     Graham\n",
              "1       John\n",
              "2      Terry\n",
              "3       Eric\n",
              "4      Terry\n",
              "5    Michael\n",
              "dtype: object"
            ]
          },
          "metadata": {},
          "execution_count": 275
        }
      ]
    },
    {
      "cell_type": "markdown",
      "source": [
        "existem alguns métodos diversos que permitem outras operações convenientes:\n",
        "![image.png](data:image/png;base64,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)"
      ],
      "metadata": {
        "id": "OuC2AL7Yj2F_"
      }
    },
    {
      "cell_type": "markdown",
      "source": [
        "Outro método que requer um pouco de explicação extra é o `get_dummies()` método. Isso é útil quando seus dados possuem uma coluna contendo algum tipo de indicador codificado. Por exemplo, podemos ter um conjunto de dados que contém informações na forma de códigos, como A=\"nascido na América\", B=\"nascido no Reino Unido\", C=\"gosta de queijo\", D=\"gosta de spam\" :"
      ],
      "metadata": {
        "id": "Ji-bHxerk0VH"
      }
    },
    {
      "cell_type": "code",
      "source": [
        "full_monte = pd.DataFrame({'name': monte,\n",
        "                           'info': ['B|C|D', 'B|D', 'A|C',\n",
        "                                    'B|D', 'B|C', 'B|C|D']})\n",
        "full_monte"
      ],
      "metadata": {
        "colab": {
          "base_uri": "https://localhost:8080/",
          "height": 237
        },
        "id": "VnETMsdVj6lC",
        "outputId": "5dfa8708-3fb8-46a9-b84d-4bbb3e71de05"
      },
      "execution_count": 276,
      "outputs": [
        {
          "output_type": "execute_result",
          "data": {
            "text/plain": [
              "             name   info\n",
              "0  Graham Chapman  B|C|D\n",
              "1     John Cleese    B|D\n",
              "2   Terry Gilliam    A|C\n",
              "3       Eric Idle    B|D\n",
              "4     Terry Jones    B|C\n",
              "5   Michael Palin  B|C|D"
            ],
            "text/html": [
              "\n",
              "  <div id=\"df-06c7319f-27d9-4139-a54c-74c96468285a\">\n",
              "    <div class=\"colab-df-container\">\n",
              "      <div>\n",
              "<style scoped>\n",
              "    .dataframe tbody tr th:only-of-type {\n",
              "        vertical-align: middle;\n",
              "    }\n",
              "\n",
              "    .dataframe tbody tr th {\n",
              "        vertical-align: top;\n",
              "    }\n",
              "\n",
              "    .dataframe thead th {\n",
              "        text-align: right;\n",
              "    }\n",
              "</style>\n",
              "<table border=\"1\" class=\"dataframe\">\n",
              "  <thead>\n",
              "    <tr style=\"text-align: right;\">\n",
              "      <th></th>\n",
              "      <th>name</th>\n",
              "      <th>info</th>\n",
              "    </tr>\n",
              "  </thead>\n",
              "  <tbody>\n",
              "    <tr>\n",
              "      <th>0</th>\n",
              "      <td>Graham Chapman</td>\n",
              "      <td>B|C|D</td>\n",
              "    </tr>\n",
              "    <tr>\n",
              "      <th>1</th>\n",
              "      <td>John Cleese</td>\n",
              "      <td>B|D</td>\n",
              "    </tr>\n",
              "    <tr>\n",
              "      <th>2</th>\n",
              "      <td>Terry Gilliam</td>\n",
              "      <td>A|C</td>\n",
              "    </tr>\n",
              "    <tr>\n",
              "      <th>3</th>\n",
              "      <td>Eric Idle</td>\n",
              "      <td>B|D</td>\n",
              "    </tr>\n",
              "    <tr>\n",
              "      <th>4</th>\n",
              "      <td>Terry Jones</td>\n",
              "      <td>B|C</td>\n",
              "    </tr>\n",
              "    <tr>\n",
              "      <th>5</th>\n",
              "      <td>Michael Palin</td>\n",
              "      <td>B|C|D</td>\n",
              "    </tr>\n",
              "  </tbody>\n",
              "</table>\n",
              "</div>\n",
              "      <button class=\"colab-df-convert\" onclick=\"convertToInteractive('df-06c7319f-27d9-4139-a54c-74c96468285a')\"\n",
              "              title=\"Convert this dataframe to an interactive table.\"\n",
              "              style=\"display:none;\">\n",
              "        \n",
              "  <svg xmlns=\"http://www.w3.org/2000/svg\" height=\"24px\"viewBox=\"0 0 24 24\"\n",
              "       width=\"24px\">\n",
              "    <path d=\"M0 0h24v24H0V0z\" fill=\"none\"/>\n",
              "    <path d=\"M18.56 5.44l.94 2.06.94-2.06 2.06-.94-2.06-.94-.94-2.06-.94 2.06-2.06.94zm-11 1L8.5 8.5l.94-2.06 2.06-.94-2.06-.94L8.5 2.5l-.94 2.06-2.06.94zm10 10l.94 2.06.94-2.06 2.06-.94-2.06-.94-.94-2.06-.94 2.06-2.06.94z\"/><path d=\"M17.41 7.96l-1.37-1.37c-.4-.4-.92-.59-1.43-.59-.52 0-1.04.2-1.43.59L10.3 9.45l-7.72 7.72c-.78.78-.78 2.05 0 2.83L4 21.41c.39.39.9.59 1.41.59.51 0 1.02-.2 1.41-.59l7.78-7.78 2.81-2.81c.8-.78.8-2.07 0-2.86zM5.41 20L4 18.59l7.72-7.72 1.47 1.35L5.41 20z\"/>\n",
              "  </svg>\n",
              "      </button>\n",
              "      \n",
              "  <style>\n",
              "    .colab-df-container {\n",
              "      display:flex;\n",
              "      flex-wrap:wrap;\n",
              "      gap: 12px;\n",
              "    }\n",
              "\n",
              "    .colab-df-convert {\n",
              "      background-color: #E8F0FE;\n",
              "      border: none;\n",
              "      border-radius: 50%;\n",
              "      cursor: pointer;\n",
              "      display: none;\n",
              "      fill: #1967D2;\n",
              "      height: 32px;\n",
              "      padding: 0 0 0 0;\n",
              "      width: 32px;\n",
              "    }\n",
              "\n",
              "    .colab-df-convert:hover {\n",
              "      background-color: #E2EBFA;\n",
              "      box-shadow: 0px 1px 2px rgba(60, 64, 67, 0.3), 0px 1px 3px 1px rgba(60, 64, 67, 0.15);\n",
              "      fill: #174EA6;\n",
              "    }\n",
              "\n",
              "    [theme=dark] .colab-df-convert {\n",
              "      background-color: #3B4455;\n",
              "      fill: #D2E3FC;\n",
              "    }\n",
              "\n",
              "    [theme=dark] .colab-df-convert:hover {\n",
              "      background-color: #434B5C;\n",
              "      box-shadow: 0px 1px 3px 1px rgba(0, 0, 0, 0.15);\n",
              "      filter: drop-shadow(0px 1px 2px rgba(0, 0, 0, 0.3));\n",
              "      fill: #FFFFFF;\n",
              "    }\n",
              "  </style>\n",
              "\n",
              "      <script>\n",
              "        const buttonEl =\n",
              "          document.querySelector('#df-06c7319f-27d9-4139-a54c-74c96468285a button.colab-df-convert');\n",
              "        buttonEl.style.display =\n",
              "          google.colab.kernel.accessAllowed ? 'block' : 'none';\n",
              "\n",
              "        async function convertToInteractive(key) {\n",
              "          const element = document.querySelector('#df-06c7319f-27d9-4139-a54c-74c96468285a');\n",
              "          const dataTable =\n",
              "            await google.colab.kernel.invokeFunction('convertToInteractive',\n",
              "                                                     [key], {});\n",
              "          if (!dataTable) return;\n",
              "\n",
              "          const docLinkHtml = 'Like what you see? Visit the ' +\n",
              "            '<a target=\"_blank\" href=https://colab.research.google.com/notebooks/data_table.ipynb>data table notebook</a>'\n",
              "            + ' to learn more about interactive tables.';\n",
              "          element.innerHTML = '';\n",
              "          dataTable['output_type'] = 'display_data';\n",
              "          await google.colab.output.renderOutput(dataTable, element);\n",
              "          const docLink = document.createElement('div');\n",
              "          docLink.innerHTML = docLinkHtml;\n",
              "          element.appendChild(docLink);\n",
              "        }\n",
              "      </script>\n",
              "    </div>\n",
              "  </div>\n",
              "  "
            ]
          },
          "metadata": {},
          "execution_count": 276
        }
      ]
    },
    {
      "cell_type": "markdown",
      "source": [
        "A `get_dummies()` rotina permite que você divida rapidamente essas variáveis ​​de indicador em DataFrame:"
      ],
      "metadata": {
        "id": "lkX0thY5lEWt"
      }
    },
    {
      "cell_type": "code",
      "source": [
        "full_monte['info'].str.get_dummies('|')"
      ],
      "metadata": {
        "colab": {
          "base_uri": "https://localhost:8080/",
          "height": 237
        },
        "id": "kpNMX5EalBlv",
        "outputId": "f1329d21-2d4a-4a91-cd3c-86629c22defb"
      },
      "execution_count": 277,
      "outputs": [
        {
          "output_type": "execute_result",
          "data": {
            "text/plain": [
              "   A  B  C  D\n",
              "0  0  1  1  1\n",
              "1  0  1  0  1\n",
              "2  1  0  1  0\n",
              "3  0  1  0  1\n",
              "4  0  1  1  0\n",
              "5  0  1  1  1"
            ],
            "text/html": [
              "\n",
              "  <div id=\"df-6aa8ab5b-9b6f-47b9-be81-205f16815b8b\">\n",
              "    <div class=\"colab-df-container\">\n",
              "      <div>\n",
              "<style scoped>\n",
              "    .dataframe tbody tr th:only-of-type {\n",
              "        vertical-align: middle;\n",
              "    }\n",
              "\n",
              "    .dataframe tbody tr th {\n",
              "        vertical-align: top;\n",
              "    }\n",
              "\n",
              "    .dataframe thead th {\n",
              "        text-align: right;\n",
              "    }\n",
              "</style>\n",
              "<table border=\"1\" class=\"dataframe\">\n",
              "  <thead>\n",
              "    <tr style=\"text-align: right;\">\n",
              "      <th></th>\n",
              "      <th>A</th>\n",
              "      <th>B</th>\n",
              "      <th>C</th>\n",
              "      <th>D</th>\n",
              "    </tr>\n",
              "  </thead>\n",
              "  <tbody>\n",
              "    <tr>\n",
              "      <th>0</th>\n",
              "      <td>0</td>\n",
              "      <td>1</td>\n",
              "      <td>1</td>\n",
              "      <td>1</td>\n",
              "    </tr>\n",
              "    <tr>\n",
              "      <th>1</th>\n",
              "      <td>0</td>\n",
              "      <td>1</td>\n",
              "      <td>0</td>\n",
              "      <td>1</td>\n",
              "    </tr>\n",
              "    <tr>\n",
              "      <th>2</th>\n",
              "      <td>1</td>\n",
              "      <td>0</td>\n",
              "      <td>1</td>\n",
              "      <td>0</td>\n",
              "    </tr>\n",
              "    <tr>\n",
              "      <th>3</th>\n",
              "      <td>0</td>\n",
              "      <td>1</td>\n",
              "      <td>0</td>\n",
              "      <td>1</td>\n",
              "    </tr>\n",
              "    <tr>\n",
              "      <th>4</th>\n",
              "      <td>0</td>\n",
              "      <td>1</td>\n",
              "      <td>1</td>\n",
              "      <td>0</td>\n",
              "    </tr>\n",
              "    <tr>\n",
              "      <th>5</th>\n",
              "      <td>0</td>\n",
              "      <td>1</td>\n",
              "      <td>1</td>\n",
              "      <td>1</td>\n",
              "    </tr>\n",
              "  </tbody>\n",
              "</table>\n",
              "</div>\n",
              "      <button class=\"colab-df-convert\" onclick=\"convertToInteractive('df-6aa8ab5b-9b6f-47b9-be81-205f16815b8b')\"\n",
              "              title=\"Convert this dataframe to an interactive table.\"\n",
              "              style=\"display:none;\">\n",
              "        \n",
              "  <svg xmlns=\"http://www.w3.org/2000/svg\" height=\"24px\"viewBox=\"0 0 24 24\"\n",
              "       width=\"24px\">\n",
              "    <path d=\"M0 0h24v24H0V0z\" fill=\"none\"/>\n",
              "    <path d=\"M18.56 5.44l.94 2.06.94-2.06 2.06-.94-2.06-.94-.94-2.06-.94 2.06-2.06.94zm-11 1L8.5 8.5l.94-2.06 2.06-.94-2.06-.94L8.5 2.5l-.94 2.06-2.06.94zm10 10l.94 2.06.94-2.06 2.06-.94-2.06-.94-.94-2.06-.94 2.06-2.06.94z\"/><path d=\"M17.41 7.96l-1.37-1.37c-.4-.4-.92-.59-1.43-.59-.52 0-1.04.2-1.43.59L10.3 9.45l-7.72 7.72c-.78.78-.78 2.05 0 2.83L4 21.41c.39.39.9.59 1.41.59.51 0 1.02-.2 1.41-.59l7.78-7.78 2.81-2.81c.8-.78.8-2.07 0-2.86zM5.41 20L4 18.59l7.72-7.72 1.47 1.35L5.41 20z\"/>\n",
              "  </svg>\n",
              "      </button>\n",
              "      \n",
              "  <style>\n",
              "    .colab-df-container {\n",
              "      display:flex;\n",
              "      flex-wrap:wrap;\n",
              "      gap: 12px;\n",
              "    }\n",
              "\n",
              "    .colab-df-convert {\n",
              "      background-color: #E8F0FE;\n",
              "      border: none;\n",
              "      border-radius: 50%;\n",
              "      cursor: pointer;\n",
              "      display: none;\n",
              "      fill: #1967D2;\n",
              "      height: 32px;\n",
              "      padding: 0 0 0 0;\n",
              "      width: 32px;\n",
              "    }\n",
              "\n",
              "    .colab-df-convert:hover {\n",
              "      background-color: #E2EBFA;\n",
              "      box-shadow: 0px 1px 2px rgba(60, 64, 67, 0.3), 0px 1px 3px 1px rgba(60, 64, 67, 0.15);\n",
              "      fill: #174EA6;\n",
              "    }\n",
              "\n",
              "    [theme=dark] .colab-df-convert {\n",
              "      background-color: #3B4455;\n",
              "      fill: #D2E3FC;\n",
              "    }\n",
              "\n",
              "    [theme=dark] .colab-df-convert:hover {\n",
              "      background-color: #434B5C;\n",
              "      box-shadow: 0px 1px 3px 1px rgba(0, 0, 0, 0.15);\n",
              "      filter: drop-shadow(0px 1px 2px rgba(0, 0, 0, 0.3));\n",
              "      fill: #FFFFFF;\n",
              "    }\n",
              "  </style>\n",
              "\n",
              "      <script>\n",
              "        const buttonEl =\n",
              "          document.querySelector('#df-6aa8ab5b-9b6f-47b9-be81-205f16815b8b button.colab-df-convert');\n",
              "        buttonEl.style.display =\n",
              "          google.colab.kernel.accessAllowed ? 'block' : 'none';\n",
              "\n",
              "        async function convertToInteractive(key) {\n",
              "          const element = document.querySelector('#df-6aa8ab5b-9b6f-47b9-be81-205f16815b8b');\n",
              "          const dataTable =\n",
              "            await google.colab.kernel.invokeFunction('convertToInteractive',\n",
              "                                                     [key], {});\n",
              "          if (!dataTable) return;\n",
              "\n",
              "          const docLinkHtml = 'Like what you see? Visit the ' +\n",
              "            '<a target=\"_blank\" href=https://colab.research.google.com/notebooks/data_table.ipynb>data table notebook</a>'\n",
              "            + ' to learn more about interactive tables.';\n",
              "          element.innerHTML = '';\n",
              "          dataTable['output_type'] = 'display_data';\n",
              "          await google.colab.output.renderOutput(dataTable, element);\n",
              "          const docLink = document.createElement('div');\n",
              "          docLink.innerHTML = docLinkHtml;\n",
              "          element.appendChild(docLink);\n",
              "        }\n",
              "      </script>\n",
              "    </div>\n",
              "  </div>\n",
              "  "
            ]
          },
          "metadata": {},
          "execution_count": 277
        }
      ]
    },
    {
      "cell_type": "markdown",
      "source": [
        "Com essas operações como blocos de construção, você pode construir uma gama infinita de procedimentos de processamento de strings ao limpar seus dados."
      ],
      "metadata": {
        "id": "Ks5fOHv-lUsb"
      }
    },
    {
      "cell_type": "markdown",
      "source": [
        "#Trabalhando com séries temporais\n",
        "\n",
        "Pandas foi desenvolvido no contexto de modelagem financeira, então, como você pode esperar, ele contém um conjunto bastante extenso de ferramentas para trabalhar com datas, horas e dados indexados por hora. Os dados de data e hora vêm em alguns tipos, que discutiremos aqui:\n",
        "\n",
        "* Os carimbos de data/hora fazem referência a momentos específicos no tempo (por exemplo, 4 de julho de 2015 às 7h).\n",
        "* Os intervalos de tempo e os períodos referem-se a um período de tempo entre um determinado ponto inicial e final; por exemplo, o ano de 2015. Os períodos geralmente fazem referência a um caso especial de intervalos de tempo em que cada intervalo é de duração uniforme e não se sobrepõe (por exemplo, períodos de 24 horas compreendendo dias).\n",
        "* Deltas de tempo ou durações referem-se a um período de tempo exato (por exemplo, uma duração de 22,56 segundos)."
      ],
      "metadata": {
        "id": "aMgayABloNwg"
      }
    },
    {
      "cell_type": "markdown",
      "source": [
        "##Datas com o numpy\n",
        "\n",
        "O numpy oferece suporte para trabalhar com datas e pode ser da seguinte forma"
      ],
      "metadata": {
        "id": "ZZATbCVesFqJ"
      }
    },
    {
      "cell_type": "code",
      "source": [
        "date = np.array('2015-07-04', dtype=np.datetime64)\n",
        "date"
      ],
      "metadata": {
        "colab": {
          "base_uri": "https://localhost:8080/"
        },
        "id": "4z6eXg4KsQrH",
        "outputId": "cd162de5-5de3-49ad-eefc-2f0e39fb7fc7"
      },
      "execution_count": 278,
      "outputs": [
        {
          "output_type": "execute_result",
          "data": {
            "text/plain": [
              "array('2015-07-04', dtype='datetime64[D]')"
            ]
          },
          "metadata": {},
          "execution_count": 278
        }
      ]
    },
    {
      "cell_type": "markdown",
      "source": [
        "Uma vez que tenhamos esta data formatada, no entanto, podemos rapidamente fazer operações vetorizadas sobre ela:"
      ],
      "metadata": {
        "id": "VCoOdRAVsaQ1"
      }
    },
    {
      "cell_type": "code",
      "source": [
        "date + np.arange(12)"
      ],
      "metadata": {
        "colab": {
          "base_uri": "https://localhost:8080/"
        },
        "id": "2yHBntDDsb17",
        "outputId": "196ac072-102f-473c-981c-31dda18a0c4e"
      },
      "execution_count": 279,
      "outputs": [
        {
          "output_type": "execute_result",
          "data": {
            "text/plain": [
              "array(['2015-07-04', '2015-07-05', '2015-07-06', '2015-07-07',\n",
              "       '2015-07-08', '2015-07-09', '2015-07-10', '2015-07-11',\n",
              "       '2015-07-12', '2015-07-13', '2015-07-14', '2015-07-15'],\n",
              "      dtype='datetime64[D]')"
            ]
          },
          "metadata": {},
          "execution_count": 279
        }
      ]
    },
    {
      "cell_type": "markdown",
      "source": [
        "##Datas e horários em pandas\n",
        "O pandas se baseia nos recursos de datas padrão do python no `datetime64` do numpy, desta forma, podemos repetir o processo da seguinte forma:"
      ],
      "metadata": {
        "id": "O7R4eZ6it6Gb"
      }
    },
    {
      "cell_type": "code",
      "source": [
        "date = pd.to_datetime(\"4th of July, 2015\")\n",
        "date"
      ],
      "metadata": {
        "colab": {
          "base_uri": "https://localhost:8080/"
        },
        "id": "xLbXLuUpudet",
        "outputId": "dae732a6-4983-4b8f-a7b4-ddd48868ed95"
      },
      "execution_count": 280,
      "outputs": [
        {
          "output_type": "execute_result",
          "data": {
            "text/plain": [
              "Timestamp('2015-07-04 00:00:00')"
            ]
          },
          "metadata": {},
          "execution_count": 280
        }
      ]
    },
    {
      "cell_type": "code",
      "source": [
        "date.strftime('%A')"
      ],
      "metadata": {
        "colab": {
          "base_uri": "https://localhost:8080/",
          "height": 36
        },
        "id": "9NT7JnGBujvP",
        "outputId": "98baa535-aa55-4c1a-bb00-9d5ecb305463"
      },
      "execution_count": 281,
      "outputs": [
        {
          "output_type": "execute_result",
          "data": {
            "text/plain": [
              "'Saturday'"
            ],
            "application/vnd.google.colaboratory.intrinsic+json": {
              "type": "string"
            }
          },
          "metadata": {},
          "execution_count": 281
        }
      ]
    },
    {
      "cell_type": "code",
      "source": [
        "date + pd.to_timedelta(np.arange(12), 'D')"
      ],
      "metadata": {
        "colab": {
          "base_uri": "https://localhost:8080/"
        },
        "id": "63kf_radu1HT",
        "outputId": "cafe3874-d756-4c69-ea2d-14fd6f3f7b30"
      },
      "execution_count": 282,
      "outputs": [
        {
          "output_type": "execute_result",
          "data": {
            "text/plain": [
              "DatetimeIndex(['2015-07-04', '2015-07-05', '2015-07-06', '2015-07-07',\n",
              "               '2015-07-08', '2015-07-09', '2015-07-10', '2015-07-11',\n",
              "               '2015-07-12', '2015-07-13', '2015-07-14', '2015-07-15'],\n",
              "              dtype='datetime64[ns]', freq=None)"
            ]
          },
          "metadata": {},
          "execution_count": 282
        }
      ]
    },
    {
      "cell_type": "markdown",
      "source": [
        "Onde as ferramentas de séries temporais do Pandas realmente se tornam úteis é quando você começa a indexar dados por timestamps . Por exemplo, podemos construir um `Series` objeto que tenha dados indexados por tempo:"
      ],
      "metadata": {
        "id": "u4-WGQYvvICY"
      }
    },
    {
      "cell_type": "code",
      "source": [
        "index = pd.DatetimeIndex(['2014-07-04', '2014-08-04',\n",
        "                          '2015-07-04', '2015-08-04'])\n",
        "data = pd.Series([0, 1, 2, 3], index=index)\n",
        "data"
      ],
      "metadata": {
        "colab": {
          "base_uri": "https://localhost:8080/"
        },
        "id": "ZHEBxIL3vHCg",
        "outputId": "0df03ac0-f2c8-4f32-ee08-369bcfe0bff6"
      },
      "execution_count": 283,
      "outputs": [
        {
          "output_type": "execute_result",
          "data": {
            "text/plain": [
              "2014-07-04    0\n",
              "2014-08-04    1\n",
              "2015-07-04    2\n",
              "2015-08-04    3\n",
              "dtype: int64"
            ]
          },
          "metadata": {},
          "execution_count": 283
        }
      ]
    },
    {
      "cell_type": "markdown",
      "source": [
        "Agora que temos esses dados em um Series, podemos usar qualquer um dos Seriespadrões de indexação que discutimos anteriormente, passando valores que podem ser convertidos em datas:"
      ],
      "metadata": {
        "id": "J4mfBfNowq2J"
      }
    },
    {
      "cell_type": "code",
      "source": [
        "data['2014-07-04':'2015-07-04']"
      ],
      "metadata": {
        "colab": {
          "base_uri": "https://localhost:8080/"
        },
        "id": "nZvYgMjQwuYg",
        "outputId": "af1e7864-c899-414d-bdf8-74c79f609ae0"
      },
      "execution_count": 284,
      "outputs": [
        {
          "output_type": "execute_result",
          "data": {
            "text/plain": [
              "2014-07-04    0\n",
              "2014-08-04    1\n",
              "2015-07-04    2\n",
              "dtype: int64"
            ]
          },
          "metadata": {},
          "execution_count": 284
        }
      ]
    },
    {
      "cell_type": "markdown",
      "source": [
        "Existem operações especiais adicionais de indexação somente de data, como passar um ano para obter uma fatia de todos os dados desse ano:"
      ],
      "metadata": {
        "id": "ep_92VH9w5N7"
      }
    },
    {
      "cell_type": "code",
      "source": [
        "data['2015']"
      ],
      "metadata": {
        "colab": {
          "base_uri": "https://localhost:8080/"
        },
        "id": "m9VziOOWw8IZ",
        "outputId": "68699337-420e-4104-f95f-d883d5277802"
      },
      "execution_count": 285,
      "outputs": [
        {
          "output_type": "execute_result",
          "data": {
            "text/plain": [
              "2015-07-04    2\n",
              "2015-08-04    3\n",
              "dtype: int64"
            ]
          },
          "metadata": {},
          "execution_count": 285
        }
      ]
    },
    {
      "cell_type": "markdown",
      "source": [
        "##Pandas Time Series Data Structures\n",
        "Esta seção apresentará as estruturas de dados fundamentais do Pandas para trabalhar com dados de séries temporais:\n",
        "\n",
        "* Para `timestamps` , o Pandas fornece o Timestamp tipo. Como mencionado anteriormente, é essencialmente um substituto para o nativo do Python datetime, mas é baseado no numpy.datetime64tipo de dados mais eficiente. A estrutura de índice associada é DatetimeIndex.\n",
        "* Para períodos de tempo , o Pandas fornece o `Period` tipo. Isso codifica um intervalo de frequência fixa baseado em numpy.datetime64. A estrutura de índice associada é PeriodIndex.\n",
        "* Para deltas de tempo ou durações , o Pandas fornece o `Timedel` tatipo. Timedeltaé um substituto mais eficiente para datetime.timedeltao tipo nativo do Python e é baseado em numpy.timedelta64. A estrutura de índice associada é TimedeltaIndex."
      ],
      "metadata": {
        "id": "Z0hGRYac1VmU"
      }
    },
    {
      "cell_type": "markdown",
      "source": [
        " mais fundamental desses objetos de data/hora são os objetos `Timestampe` `DatetimeIndex`. Embora esses objetos de classe possam ser chamados diretamente, é mais comum usar a `pd.to_datetime()` função, que pode analisar uma ampla variedade de formatos. Passar uma única data para `pd.to_datetime()` produz um `Timestamp`; passar uma série de datas por padrão gera um DatetimeIndex:"
      ],
      "metadata": {
        "id": "h6pCoADmzFw-"
      }
    },
    {
      "cell_type": "code",
      "source": [
        "from datetime import datetime"
      ],
      "metadata": {
        "id": "k0wXKH2h0yZB"
      },
      "execution_count": 286,
      "outputs": []
    },
    {
      "cell_type": "code",
      "source": [
        "dates = pd.to_datetime([datetime(2015, 7, 3), '4th of July, 2015',\n",
        "                       '2015-Jul-6', '07-07-2015', '20150708'])\n",
        "dates"
      ],
      "metadata": {
        "colab": {
          "base_uri": "https://localhost:8080/"
        },
        "id": "V0uIhTsIzQjo",
        "outputId": "3d7ccbec-6e0d-44fd-a896-ddddd717328a"
      },
      "execution_count": 287,
      "outputs": [
        {
          "output_type": "execute_result",
          "data": {
            "text/plain": [
              "DatetimeIndex(['2015-07-03', '2015-07-04', '2015-07-06', '2015-07-07',\n",
              "               '2015-07-08'],\n",
              "              dtype='datetime64[ns]', freq=None)"
            ]
          },
          "metadata": {},
          "execution_count": 287
        }
      ]
    },
    {
      "cell_type": "markdown",
      "source": [
        "Qualquer um `DatetimeIndex` pode ser convertido em um `PeriodIndex` com a `to_period()` função com a adição de um código de frequência; aqui usaremos `'D'` para indicar a frequência diária:"
      ],
      "metadata": {
        "id": "I_SCgLD2Iqhd"
      }
    },
    {
      "cell_type": "code",
      "source": [
        "dates.to_period('D')"
      ],
      "metadata": {
        "colab": {
          "base_uri": "https://localhost:8080/"
        },
        "id": "1d2CsSb7It2L",
        "outputId": "0d7a6789-5ed2-414d-ee19-776ba8c483b3"
      },
      "execution_count": 288,
      "outputs": [
        {
          "output_type": "execute_result",
          "data": {
            "text/plain": [
              "PeriodIndex(['2015-07-03', '2015-07-04', '2015-07-06', '2015-07-07',\n",
              "             '2015-07-08'],\n",
              "            dtype='period[D]')"
            ]
          },
          "metadata": {},
          "execution_count": 288
        }
      ]
    },
    {
      "cell_type": "markdown",
      "source": [
        "## Sequência Regulares `pd.date_range()`\n",
        "\n",
        "Para tornar a criação de sequências de datas regulares mais conveniente, o Pandas oferece algumas funções para essa finalidade: `pd.date_range()` para timestamps, `pd.period_range()` para períodos e pd.timedelta_range()para deltas de tempo. Vimos que Python `range()` e NumPy `np.arange()`transformam um ponto de início, um ponto de extremidade e um tamanho de etapa opcional em uma sequência. Da mesma forma, `pd.date_range()`aceita uma data inicial, uma data final e um código de frequência opcional para criar uma sequência regular de datas. Por padrão, a frequência é de um dia."
      ],
      "metadata": {
        "id": "onRbL57zL1AD"
      }
    },
    {
      "cell_type": "code",
      "source": [
        "pd.date_range('2015-07-03', '2015-07-10')"
      ],
      "metadata": {
        "colab": {
          "base_uri": "https://localhost:8080/"
        },
        "id": "7AhTrHmKL3cK",
        "outputId": "466a3e8a-e00a-4992-b07f-97feb3141378"
      },
      "execution_count": 289,
      "outputs": [
        {
          "output_type": "execute_result",
          "data": {
            "text/plain": [
              "DatetimeIndex(['2015-07-03', '2015-07-04', '2015-07-05', '2015-07-06',\n",
              "               '2015-07-07', '2015-07-08', '2015-07-09', '2015-07-10'],\n",
              "              dtype='datetime64[ns]', freq='D')"
            ]
          },
          "metadata": {},
          "execution_count": 289
        }
      ]
    },
    {
      "cell_type": "code",
      "source": [
        "pd.date_range('2015-07-03', periods=8)"
      ],
      "metadata": {
        "colab": {
          "base_uri": "https://localhost:8080/"
        },
        "id": "_U_6APUML5kW",
        "outputId": "f7803c1c-fbb6-47bf-fc4f-e169117aaf44"
      },
      "execution_count": 290,
      "outputs": [
        {
          "output_type": "execute_result",
          "data": {
            "text/plain": [
              "DatetimeIndex(['2015-07-03', '2015-07-04', '2015-07-05', '2015-07-06',\n",
              "               '2015-07-07', '2015-07-08', '2015-07-09', '2015-07-10'],\n",
              "              dtype='datetime64[ns]', freq='D')"
            ]
          },
          "metadata": {},
          "execution_count": 290
        }
      ]
    },
    {
      "cell_type": "markdown",
      "source": [
        "O espaçamento pode ser modificado alterando o freqargumento, cujo padrão é D. Por exemplo, aqui vamos construir um intervalo de timestamps por hora:"
      ],
      "metadata": {
        "id": "zJRltqoOL_-S"
      }
    },
    {
      "cell_type": "code",
      "source": [
        "pd.date_range('2015-07-03', periods=8, freq='H')"
      ],
      "metadata": {
        "colab": {
          "base_uri": "https://localhost:8080/"
        },
        "id": "TSDEbWWZMAqW",
        "outputId": "dc9cf31b-1127-41d9-8257-aa087ad2d85c"
      },
      "execution_count": 291,
      "outputs": [
        {
          "output_type": "execute_result",
          "data": {
            "text/plain": [
              "DatetimeIndex(['2015-07-03 00:00:00', '2015-07-03 01:00:00',\n",
              "               '2015-07-03 02:00:00', '2015-07-03 03:00:00',\n",
              "               '2015-07-03 04:00:00', '2015-07-03 05:00:00',\n",
              "               '2015-07-03 06:00:00', '2015-07-03 07:00:00'],\n",
              "              dtype='datetime64[ns]', freq='H')"
            ]
          },
          "metadata": {},
          "execution_count": 291
        }
      ]
    },
    {
      "cell_type": "markdown",
      "source": [
        "Para criar sequências regulares de `Period` ou `Timedelta` valores, as funções muito semelhantes `pd.period_range()` e `pd.timedelta_range()` são úteis. Aqui estão alguns períodos mensais:"
      ],
      "metadata": {
        "id": "YeNqCed4MOjn"
      }
    },
    {
      "cell_type": "code",
      "source": [
        "pd.period_range('2015-07', periods=8, freq='M')"
      ],
      "metadata": {
        "colab": {
          "base_uri": "https://localhost:8080/"
        },
        "id": "oZpWWHx-Mgzz",
        "outputId": "ecfee970-7027-4c9c-c278-6f6becaa6357"
      },
      "execution_count": 292,
      "outputs": [
        {
          "output_type": "execute_result",
          "data": {
            "text/plain": [
              "PeriodIndex(['2015-07', '2015-08', '2015-09', '2015-10', '2015-11', '2015-12',\n",
              "             '2016-01', '2016-02'],\n",
              "            dtype='period[M]')"
            ]
          },
          "metadata": {},
          "execution_count": 292
        }
      ]
    },
    {
      "cell_type": "code",
      "source": [
        "pd.timedelta_range(0, periods=10, freq='H')"
      ],
      "metadata": {
        "colab": {
          "base_uri": "https://localhost:8080/"
        },
        "id": "g0wqyF9UMm1R",
        "outputId": "562527e6-64f9-4998-db62-2b274853b026"
      },
      "execution_count": 293,
      "outputs": [
        {
          "output_type": "execute_result",
          "data": {
            "text/plain": [
              "TimedeltaIndex(['0 days 00:00:00', '0 days 01:00:00', '0 days 02:00:00',\n",
              "                '0 days 03:00:00', '0 days 04:00:00', '0 days 05:00:00',\n",
              "                '0 days 06:00:00', '0 days 07:00:00', '0 days 08:00:00',\n",
              "                '0 days 09:00:00'],\n",
              "               dtype='timedelta64[ns]', freq='H')"
            ]
          },
          "metadata": {},
          "execution_count": 293
        }
      ]
    },
    {
      "cell_type": "markdown",
      "source": [
        "É possivel combinar os códigos com números para especificar outras frequências. Por exemplo, para uma frequência de 2 horas e 30 minutos, podemos combinar os códigos de hora `( H)` e minuto `( T)` da seguinte forma:"
      ],
      "metadata": {
        "id": "TdmdjlC4NeuA"
      }
    },
    {
      "cell_type": "code",
      "source": [
        "pd.timedelta_range(0, periods=9, freq=\"2H30T\")\n"
      ],
      "metadata": {
        "colab": {
          "base_uri": "https://localhost:8080/"
        },
        "id": "xglhOsqcNxrP",
        "outputId": "e15706c3-8f68-47ab-c510-563d6e35aa37"
      },
      "execution_count": 294,
      "outputs": [
        {
          "output_type": "execute_result",
          "data": {
            "text/plain": [
              "TimedeltaIndex(['0 days 00:00:00', '0 days 02:30:00', '0 days 05:00:00',\n",
              "                '0 days 07:30:00', '0 days 10:00:00', '0 days 12:30:00',\n",
              "                '0 days 15:00:00', '0 days 17:30:00', '0 days 20:00:00'],\n",
              "               dtype='timedelta64[ns]', freq='150T')"
            ]
          },
          "metadata": {},
          "execution_count": 294
        }
      ]
    },
    {
      "cell_type": "markdown",
      "source": [
        "#Pandas de alto desempenho: eval() e query()\n",
        "\n",
        "Como já vimos nas seções anteriores, o poder da pilha PyData é construído sobre a capacidade de NumPy e Pandas de enviar operações básicas para C por meio de uma sintaxe intuitiva: exemplos são operações vetorizadas/transmitidas em NumPy e operações do tipo agrupamento em Pandas. Embora essas abstrações sejam eficientes e eficazes para muitos casos de uso comuns, elas geralmente dependem da criação de objetos intermediários temporários, o que pode causar sobrecarga indevida no tempo computacional e no uso da memória.\n",
        "\n",
        "A partir da versão 0.13 (lançada em janeiro de 2014), o Pandas inclui algumas ferramentas experimentais que permitem acessar diretamente as operações em velocidade C sem alocação dispendiosa de arrays intermediários. Estas são as funções eval()e query(), que dependem do pacote Numexpr . "
      ],
      "metadata": {
        "id": "zd_iwgxcQjTf"
      }
    },
    {
      "cell_type": "markdown",
      "source": [
        "`pandas.eval()` para operações eficientes \n",
        "A `eval()` função em Pandas usa expressões de string para computar operações usando DataFrames de forma eficiente. Por exemplo, considere os seguintes `DataFrames`:"
      ],
      "metadata": {
        "id": "BvMqSYERTYu7"
      }
    },
    {
      "cell_type": "code",
      "source": [
        "import pandas as pd\n",
        "nrows, ncols = 100000, 100\n",
        "rng = np.random.RandomState(42)\n",
        "df1, df2, df3, df4 = (pd.DataFrame(rng.rand(nrows, ncols))\n",
        "                      for i in range(4))"
      ],
      "metadata": {
        "id": "QqGLwSIpUTm4"
      },
      "execution_count": 295,
      "outputs": []
    },
    {
      "cell_type": "markdown",
      "source": [
        "Para calcular a soma de todos os quatro DataFrames usando a abordagem típica do Pandas, podemos apenas escrever a soma:"
      ],
      "metadata": {
        "id": "d_2P8yEYUY5d"
      }
    },
    {
      "cell_type": "code",
      "source": [
        "%timeit df1 + df2 + df3 + df4"
      ],
      "metadata": {
        "colab": {
          "base_uri": "https://localhost:8080/"
        },
        "id": "tOKavGZHUZxi",
        "outputId": "228991da-9377-48da-fa6e-ebe2ca348f80"
      },
      "execution_count": 296,
      "outputs": [
        {
          "output_type": "stream",
          "name": "stdout",
          "text": [
            "108 ms ± 11.1 ms per loop (mean ± std. dev. of 7 runs, 10 loops each)\n"
          ]
        }
      ]
    },
    {
      "cell_type": "markdown",
      "source": [
        "O mesmo resultado pode ser calculado pd.evalconstruindo a expressão como uma string:"
      ],
      "metadata": {
        "id": "PlcJasnSUmFw"
      }
    },
    {
      "cell_type": "code",
      "source": [
        "%timeit pd.eval('df1 + df2 + df3 + df4')"
      ],
      "metadata": {
        "colab": {
          "base_uri": "https://localhost:8080/"
        },
        "id": "TRcsSVH3UlR0",
        "outputId": "09234c53-df1d-49d0-99af-7ec8e721f881"
      },
      "execution_count": 297,
      "outputs": [
        {
          "output_type": "stream",
          "name": "stdout",
          "text": [
            "52.7 ms ± 1.38 ms per loop (mean ± std. dev. of 7 runs, 10 loops each)\n"
          ]
        }
      ]
    },
    {
      "cell_type": "markdown",
      "source": [
        "A operação seria a mesma, a diferença no tempo é porque o método `eval()` aproveita a capacidade de avaliação rápida de expressões usando mecanismos de baixo nível, como a biblioteca Numexpr."
      ],
      "metadata": {
        "id": "m_uEED-0UuDf"
      }
    },
    {
      "cell_type": "markdown",
      "source": [
        "Assim como o Pandas tem uma `pd.eval()` função de nível superior, DataFrameos s têm um `eval()` método que funciona de maneira semelhante. O benefício do `eval()`método é que as colunas podem ser referenciadas pelo nome . Usaremos esse array rotulado como exemplo:"
      ],
      "metadata": {
        "id": "DLrQ9kBPVg-H"
      }
    },
    {
      "cell_type": "code",
      "source": [
        "df = pd.DataFrame(rng.rand(1000, 3), columns=['A', 'B', 'C'])\n",
        "df.head()"
      ],
      "metadata": {
        "colab": {
          "base_uri": "https://localhost:8080/",
          "height": 206
        },
        "id": "O-nNqVADVozH",
        "outputId": "cfb662b9-0311-412c-ca8c-9cbdc8d4495e"
      },
      "execution_count": 298,
      "outputs": [
        {
          "output_type": "execute_result",
          "data": {
            "text/plain": [
              "          A         B         C\n",
              "0  0.615875  0.525167  0.047354\n",
              "1  0.330858  0.412879  0.441564\n",
              "2  0.689047  0.559068  0.230350\n",
              "3  0.290486  0.695479  0.852587\n",
              "4  0.424280  0.534344  0.245216"
            ],
            "text/html": [
              "\n",
              "  <div id=\"df-6ef5506b-5113-4f05-8bae-e020e437b164\">\n",
              "    <div class=\"colab-df-container\">\n",
              "      <div>\n",
              "<style scoped>\n",
              "    .dataframe tbody tr th:only-of-type {\n",
              "        vertical-align: middle;\n",
              "    }\n",
              "\n",
              "    .dataframe tbody tr th {\n",
              "        vertical-align: top;\n",
              "    }\n",
              "\n",
              "    .dataframe thead th {\n",
              "        text-align: right;\n",
              "    }\n",
              "</style>\n",
              "<table border=\"1\" class=\"dataframe\">\n",
              "  <thead>\n",
              "    <tr style=\"text-align: right;\">\n",
              "      <th></th>\n",
              "      <th>A</th>\n",
              "      <th>B</th>\n",
              "      <th>C</th>\n",
              "    </tr>\n",
              "  </thead>\n",
              "  <tbody>\n",
              "    <tr>\n",
              "      <th>0</th>\n",
              "      <td>0.615875</td>\n",
              "      <td>0.525167</td>\n",
              "      <td>0.047354</td>\n",
              "    </tr>\n",
              "    <tr>\n",
              "      <th>1</th>\n",
              "      <td>0.330858</td>\n",
              "      <td>0.412879</td>\n",
              "      <td>0.441564</td>\n",
              "    </tr>\n",
              "    <tr>\n",
              "      <th>2</th>\n",
              "      <td>0.689047</td>\n",
              "      <td>0.559068</td>\n",
              "      <td>0.230350</td>\n",
              "    </tr>\n",
              "    <tr>\n",
              "      <th>3</th>\n",
              "      <td>0.290486</td>\n",
              "      <td>0.695479</td>\n",
              "      <td>0.852587</td>\n",
              "    </tr>\n",
              "    <tr>\n",
              "      <th>4</th>\n",
              "      <td>0.424280</td>\n",
              "      <td>0.534344</td>\n",
              "      <td>0.245216</td>\n",
              "    </tr>\n",
              "  </tbody>\n",
              "</table>\n",
              "</div>\n",
              "      <button class=\"colab-df-convert\" onclick=\"convertToInteractive('df-6ef5506b-5113-4f05-8bae-e020e437b164')\"\n",
              "              title=\"Convert this dataframe to an interactive table.\"\n",
              "              style=\"display:none;\">\n",
              "        \n",
              "  <svg xmlns=\"http://www.w3.org/2000/svg\" height=\"24px\"viewBox=\"0 0 24 24\"\n",
              "       width=\"24px\">\n",
              "    <path d=\"M0 0h24v24H0V0z\" fill=\"none\"/>\n",
              "    <path d=\"M18.56 5.44l.94 2.06.94-2.06 2.06-.94-2.06-.94-.94-2.06-.94 2.06-2.06.94zm-11 1L8.5 8.5l.94-2.06 2.06-.94-2.06-.94L8.5 2.5l-.94 2.06-2.06.94zm10 10l.94 2.06.94-2.06 2.06-.94-2.06-.94-.94-2.06-.94 2.06-2.06.94z\"/><path d=\"M17.41 7.96l-1.37-1.37c-.4-.4-.92-.59-1.43-.59-.52 0-1.04.2-1.43.59L10.3 9.45l-7.72 7.72c-.78.78-.78 2.05 0 2.83L4 21.41c.39.39.9.59 1.41.59.51 0 1.02-.2 1.41-.59l7.78-7.78 2.81-2.81c.8-.78.8-2.07 0-2.86zM5.41 20L4 18.59l7.72-7.72 1.47 1.35L5.41 20z\"/>\n",
              "  </svg>\n",
              "      </button>\n",
              "      \n",
              "  <style>\n",
              "    .colab-df-container {\n",
              "      display:flex;\n",
              "      flex-wrap:wrap;\n",
              "      gap: 12px;\n",
              "    }\n",
              "\n",
              "    .colab-df-convert {\n",
              "      background-color: #E8F0FE;\n",
              "      border: none;\n",
              "      border-radius: 50%;\n",
              "      cursor: pointer;\n",
              "      display: none;\n",
              "      fill: #1967D2;\n",
              "      height: 32px;\n",
              "      padding: 0 0 0 0;\n",
              "      width: 32px;\n",
              "    }\n",
              "\n",
              "    .colab-df-convert:hover {\n",
              "      background-color: #E2EBFA;\n",
              "      box-shadow: 0px 1px 2px rgba(60, 64, 67, 0.3), 0px 1px 3px 1px rgba(60, 64, 67, 0.15);\n",
              "      fill: #174EA6;\n",
              "    }\n",
              "\n",
              "    [theme=dark] .colab-df-convert {\n",
              "      background-color: #3B4455;\n",
              "      fill: #D2E3FC;\n",
              "    }\n",
              "\n",
              "    [theme=dark] .colab-df-convert:hover {\n",
              "      background-color: #434B5C;\n",
              "      box-shadow: 0px 1px 3px 1px rgba(0, 0, 0, 0.15);\n",
              "      filter: drop-shadow(0px 1px 2px rgba(0, 0, 0, 0.3));\n",
              "      fill: #FFFFFF;\n",
              "    }\n",
              "  </style>\n",
              "\n",
              "      <script>\n",
              "        const buttonEl =\n",
              "          document.querySelector('#df-6ef5506b-5113-4f05-8bae-e020e437b164 button.colab-df-convert');\n",
              "        buttonEl.style.display =\n",
              "          google.colab.kernel.accessAllowed ? 'block' : 'none';\n",
              "\n",
              "        async function convertToInteractive(key) {\n",
              "          const element = document.querySelector('#df-6ef5506b-5113-4f05-8bae-e020e437b164');\n",
              "          const dataTable =\n",
              "            await google.colab.kernel.invokeFunction('convertToInteractive',\n",
              "                                                     [key], {});\n",
              "          if (!dataTable) return;\n",
              "\n",
              "          const docLinkHtml = 'Like what you see? Visit the ' +\n",
              "            '<a target=\"_blank\" href=https://colab.research.google.com/notebooks/data_table.ipynb>data table notebook</a>'\n",
              "            + ' to learn more about interactive tables.';\n",
              "          element.innerHTML = '';\n",
              "          dataTable['output_type'] = 'display_data';\n",
              "          await google.colab.output.renderOutput(dataTable, element);\n",
              "          const docLink = document.createElement('div');\n",
              "          docLink.innerHTML = docLinkHtml;\n",
              "          element.appendChild(docLink);\n",
              "        }\n",
              "      </script>\n",
              "    </div>\n",
              "  </div>\n",
              "  "
            ]
          },
          "metadata": {},
          "execution_count": 298
        }
      ]
    },
    {
      "cell_type": "markdown",
      "source": [
        "Usando `pd.eval()` como acima, podemos calcular expressões com as três colunas como esta:"
      ],
      "metadata": {
        "id": "hrwhp9CDVwKQ"
      }
    },
    {
      "cell_type": "code",
      "source": [
        "result1 = (df['A'] + df['B']) / (df['C'] - 1)\n",
        "result2 = pd.eval(\"(df.A + df.B) / (df.C - 1)\")\n",
        "np.allclose(result1, result2)"
      ],
      "metadata": {
        "colab": {
          "base_uri": "https://localhost:8080/"
        },
        "id": "3Etwf59UVyhr",
        "outputId": "49a42ad5-fbfd-4a71-9970-3d514c85fe14"
      },
      "execution_count": 300,
      "outputs": [
        {
          "output_type": "execute_result",
          "data": {
            "text/plain": [
              "True"
            ]
          },
          "metadata": {},
          "execution_count": 300
        }
      ]
    },
    {
      "cell_type": "markdown",
      "source": [
        "O `DataFrame.eval()` método permite uma avaliação muito mais sucinta das expressões com as colunas:"
      ],
      "metadata": {
        "id": "kwF85FRfW3uT"
      }
    },
    {
      "cell_type": "code",
      "source": [
        "result3 = df.eval('(A + B) / (C - 1)')\n",
        "np.allclose(result1, result3)"
      ],
      "metadata": {
        "colab": {
          "base_uri": "https://localhost:8080/"
        },
        "id": "AiNhY5xdW8Q_",
        "outputId": "0e60ac48-eaa1-433f-8b50-e6d804055752"
      },
      "execution_count": 301,
      "outputs": [
        {
          "output_type": "execute_result",
          "data": {
            "text/plain": [
              "True"
            ]
          },
          "metadata": {},
          "execution_count": 301
        }
      ]
    },
    {
      "cell_type": "code",
      "source": [
        "df.eval('D = (A + B) / C', inplace=True)\n",
        "df.head()"
      ],
      "metadata": {
        "colab": {
          "base_uri": "https://localhost:8080/",
          "height": 206
        },
        "id": "grsYxA8EXVqn",
        "outputId": "2e61be1d-18b8-4422-dd97-f25ae2c107d0"
      },
      "execution_count": 302,
      "outputs": [
        {
          "output_type": "execute_result",
          "data": {
            "text/plain": [
              "          A         B         C          D\n",
              "0  0.615875  0.525167  0.047354  24.095868\n",
              "1  0.330858  0.412879  0.441564   1.684325\n",
              "2  0.689047  0.559068  0.230350   5.418335\n",
              "3  0.290486  0.695479  0.852587   1.156439\n",
              "4  0.424280  0.534344  0.245216   3.909296"
            ],
            "text/html": [
              "\n",
              "  <div id=\"df-d7bdf9a3-2832-4c78-88c6-c79acf63a3c1\">\n",
              "    <div class=\"colab-df-container\">\n",
              "      <div>\n",
              "<style scoped>\n",
              "    .dataframe tbody tr th:only-of-type {\n",
              "        vertical-align: middle;\n",
              "    }\n",
              "\n",
              "    .dataframe tbody tr th {\n",
              "        vertical-align: top;\n",
              "    }\n",
              "\n",
              "    .dataframe thead th {\n",
              "        text-align: right;\n",
              "    }\n",
              "</style>\n",
              "<table border=\"1\" class=\"dataframe\">\n",
              "  <thead>\n",
              "    <tr style=\"text-align: right;\">\n",
              "      <th></th>\n",
              "      <th>A</th>\n",
              "      <th>B</th>\n",
              "      <th>C</th>\n",
              "      <th>D</th>\n",
              "    </tr>\n",
              "  </thead>\n",
              "  <tbody>\n",
              "    <tr>\n",
              "      <th>0</th>\n",
              "      <td>0.615875</td>\n",
              "      <td>0.525167</td>\n",
              "      <td>0.047354</td>\n",
              "      <td>24.095868</td>\n",
              "    </tr>\n",
              "    <tr>\n",
              "      <th>1</th>\n",
              "      <td>0.330858</td>\n",
              "      <td>0.412879</td>\n",
              "      <td>0.441564</td>\n",
              "      <td>1.684325</td>\n",
              "    </tr>\n",
              "    <tr>\n",
              "      <th>2</th>\n",
              "      <td>0.689047</td>\n",
              "      <td>0.559068</td>\n",
              "      <td>0.230350</td>\n",
              "      <td>5.418335</td>\n",
              "    </tr>\n",
              "    <tr>\n",
              "      <th>3</th>\n",
              "      <td>0.290486</td>\n",
              "      <td>0.695479</td>\n",
              "      <td>0.852587</td>\n",
              "      <td>1.156439</td>\n",
              "    </tr>\n",
              "    <tr>\n",
              "      <th>4</th>\n",
              "      <td>0.424280</td>\n",
              "      <td>0.534344</td>\n",
              "      <td>0.245216</td>\n",
              "      <td>3.909296</td>\n",
              "    </tr>\n",
              "  </tbody>\n",
              "</table>\n",
              "</div>\n",
              "      <button class=\"colab-df-convert\" onclick=\"convertToInteractive('df-d7bdf9a3-2832-4c78-88c6-c79acf63a3c1')\"\n",
              "              title=\"Convert this dataframe to an interactive table.\"\n",
              "              style=\"display:none;\">\n",
              "        \n",
              "  <svg xmlns=\"http://www.w3.org/2000/svg\" height=\"24px\"viewBox=\"0 0 24 24\"\n",
              "       width=\"24px\">\n",
              "    <path d=\"M0 0h24v24H0V0z\" fill=\"none\"/>\n",
              "    <path d=\"M18.56 5.44l.94 2.06.94-2.06 2.06-.94-2.06-.94-.94-2.06-.94 2.06-2.06.94zm-11 1L8.5 8.5l.94-2.06 2.06-.94-2.06-.94L8.5 2.5l-.94 2.06-2.06.94zm10 10l.94 2.06.94-2.06 2.06-.94-2.06-.94-.94-2.06-.94 2.06-2.06.94z\"/><path d=\"M17.41 7.96l-1.37-1.37c-.4-.4-.92-.59-1.43-.59-.52 0-1.04.2-1.43.59L10.3 9.45l-7.72 7.72c-.78.78-.78 2.05 0 2.83L4 21.41c.39.39.9.59 1.41.59.51 0 1.02-.2 1.41-.59l7.78-7.78 2.81-2.81c.8-.78.8-2.07 0-2.86zM5.41 20L4 18.59l7.72-7.72 1.47 1.35L5.41 20z\"/>\n",
              "  </svg>\n",
              "      </button>\n",
              "      \n",
              "  <style>\n",
              "    .colab-df-container {\n",
              "      display:flex;\n",
              "      flex-wrap:wrap;\n",
              "      gap: 12px;\n",
              "    }\n",
              "\n",
              "    .colab-df-convert {\n",
              "      background-color: #E8F0FE;\n",
              "      border: none;\n",
              "      border-radius: 50%;\n",
              "      cursor: pointer;\n",
              "      display: none;\n",
              "      fill: #1967D2;\n",
              "      height: 32px;\n",
              "      padding: 0 0 0 0;\n",
              "      width: 32px;\n",
              "    }\n",
              "\n",
              "    .colab-df-convert:hover {\n",
              "      background-color: #E2EBFA;\n",
              "      box-shadow: 0px 1px 2px rgba(60, 64, 67, 0.3), 0px 1px 3px 1px rgba(60, 64, 67, 0.15);\n",
              "      fill: #174EA6;\n",
              "    }\n",
              "\n",
              "    [theme=dark] .colab-df-convert {\n",
              "      background-color: #3B4455;\n",
              "      fill: #D2E3FC;\n",
              "    }\n",
              "\n",
              "    [theme=dark] .colab-df-convert:hover {\n",
              "      background-color: #434B5C;\n",
              "      box-shadow: 0px 1px 3px 1px rgba(0, 0, 0, 0.15);\n",
              "      filter: drop-shadow(0px 1px 2px rgba(0, 0, 0, 0.3));\n",
              "      fill: #FFFFFF;\n",
              "    }\n",
              "  </style>\n",
              "\n",
              "      <script>\n",
              "        const buttonEl =\n",
              "          document.querySelector('#df-d7bdf9a3-2832-4c78-88c6-c79acf63a3c1 button.colab-df-convert');\n",
              "        buttonEl.style.display =\n",
              "          google.colab.kernel.accessAllowed ? 'block' : 'none';\n",
              "\n",
              "        async function convertToInteractive(key) {\n",
              "          const element = document.querySelector('#df-d7bdf9a3-2832-4c78-88c6-c79acf63a3c1');\n",
              "          const dataTable =\n",
              "            await google.colab.kernel.invokeFunction('convertToInteractive',\n",
              "                                                     [key], {});\n",
              "          if (!dataTable) return;\n",
              "\n",
              "          const docLinkHtml = 'Like what you see? Visit the ' +\n",
              "            '<a target=\"_blank\" href=https://colab.research.google.com/notebooks/data_table.ipynb>data table notebook</a>'\n",
              "            + ' to learn more about interactive tables.';\n",
              "          element.innerHTML = '';\n",
              "          dataTable['output_type'] = 'display_data';\n",
              "          await google.colab.output.renderOutput(dataTable, element);\n",
              "          const docLink = document.createElement('div');\n",
              "          docLink.innerHTML = docLinkHtml;\n",
              "          element.appendChild(docLink);\n",
              "        }\n",
              "      </script>\n",
              "    </div>\n",
              "  </div>\n",
              "  "
            ]
          },
          "metadata": {},
          "execution_count": 302
        }
      ]
    },
    {
      "cell_type": "markdown",
      "source": [
        "## Método DataFrame.query() \n",
        "O DataFrametem outro método baseado em strings avaliadas, chamado `query()`método. Considere o seguinte:"
      ],
      "metadata": {
        "id": "Aya9d8KuXmZT"
      }
    },
    {
      "cell_type": "code",
      "source": [
        "result1 = df[(df.A < 0.5) & (df.B < 0.5)]\n",
        "result2 = pd.eval('df[(df.A < 0.5) & (df.B < 0.5)]')\n",
        "np.allclose(result1, result2)"
      ],
      "metadata": {
        "colab": {
          "base_uri": "https://localhost:8080/"
        },
        "id": "dXG6vkPJXtnu",
        "outputId": "680050a8-8bdf-4277-d82a-89216d59526c"
      },
      "execution_count": 303,
      "outputs": [
        {
          "output_type": "execute_result",
          "data": {
            "text/plain": [
              "True"
            ]
          },
          "metadata": {},
          "execution_count": 303
        }
      ]
    },
    {
      "cell_type": "code",
      "source": [
        "result2 = df.query('A < 0.5 and B < 0.5')\n",
        "np.allclose(result1, result2)"
      ],
      "metadata": {
        "colab": {
          "base_uri": "https://localhost:8080/"
        },
        "id": "wLpANeSZYFgG",
        "outputId": "ae739997-d1da-49ff-9b62-64c98a4c2974"
      },
      "execution_count": 304,
      "outputs": [
        {
          "output_type": "execute_result",
          "data": {
            "text/plain": [
              "True"
            ]
          },
          "metadata": {},
          "execution_count": 304
        }
      ]
    },
    {
      "cell_type": "markdown",
      "source": [
        "A função `query()` é usada para filtrar linhas de um DataFrame com base em uma expressão booleana. Essa expressão é especificada como uma string e pode conter referências a colunas do DataFrame. A função` query()` avalia a expressão e retorna apenas as linhas que atendem à condição especificada. Aqui está um exemplo de uso do `query()`\n",
        "\n",
        "Por outro lado, a função `eval()` é usada para avaliar expressões em uma string, que são interpretadas e executadas pelo pandas. Essas expressões podem envolver operações matemáticas, operações de colunas ou funções do NumPy. A função `eval()` retorna o resultado da expressão especificada"
      ],
      "metadata": {
        "id": "LHVfil9HYXRZ"
      }
    }
  ]
}